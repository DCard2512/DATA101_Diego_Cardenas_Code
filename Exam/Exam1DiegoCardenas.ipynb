{
 "cells": [
  {
   "cell_type": "markdown",
   "id": "89478512-f5ac-483a-b125-34162d60fbca",
   "metadata": {},
   "source": [
    "## Exam 1\n",
    "## Author: Diego Cardenas\n",
    "## Special Thanks: Molly, Kiran, Garret, Emily, Colton, Elias\n",
    "\n"
   ]
  },
  {
   "cell_type": "code",
   "execution_count": 1,
   "id": "2578f98e-c931-4a3f-a84f-ce77368da6b6",
   "metadata": {},
   "outputs": [],
   "source": [
    "import numpy as np\n",
    "import pandas as pd\n",
    "\n",
    "import matplotlib.pyplot as plt\n",
    "import plotly.express as px\n",
    "from plotly.subplots import make_subplots\n",
    "import plotly.io as pio\n",
    "pio.renderers.defaule = 'colab'\n",
    "\n",
    "from itables import show"
   ]
  },
  {
   "cell_type": "code",
   "execution_count": 3,
   "id": "ac1c9ea8-0212-48db-abe9-0b3176b71c86",
   "metadata": {},
   "outputs": [],
   "source": [
    "file_location = 'https://joannabieri.com/introdatascience/data/lego_sample.csv'\n",
    "DF = pd.read_csv(file_location)"
   ]
  },
  {
   "cell_type": "code",
   "execution_count": 98,
   "id": "807ece7d-1b99-40f7-b39a-8058a66a30fe",
   "metadata": {},
   "outputs": [
    {
     "data": {
      "text/html": [
       "<!--| quarto-html-table-processing: none -->\n",
       "<table id=\"itables_437cd2e5_6055_4555_a319_e97c1756616f\"><tbody><tr>\n",
       "    <td style=\"vertical-align:middle; text-align:left\">\n",
       "    <a href=https://mwouts.github.io/itables/><svg class=\"main-svg\" xmlns=\"http://www.w3.org/2000/svg\" xmlns:xlink=\"http://www.w3.org/1999/xlink\"\n",
       "width=\"64\" viewBox=\"0 0 500 400\" style=\"font-family: 'Droid Sans', sans-serif;\">\n",
       "    <g style=\"fill:#d9d7fc\">\n",
       "        <path d=\"M100,400H500V357H100Z\" />\n",
       "        <path d=\"M100,300H400V257H100Z\" />\n",
       "        <path d=\"M0,200H400V157H0Z\" />\n",
       "        <path d=\"M100,100H500V57H100Z\" />\n",
       "        <path d=\"M100,350H500V307H100Z\" />\n",
       "        <path d=\"M100,250H400V207H100Z\" />\n",
       "        <path d=\"M0,150H400V107H0Z\" />\n",
       "        <path d=\"M100,50H500V7H100Z\" />\n",
       "    </g>\n",
       "    <g style=\"fill:#1a1366;stroke:#1a1366;\">\n",
       "   <rect x=\"100\" y=\"7\" width=\"400\" height=\"43\">\n",
       "    <animate\n",
       "      attributeName=\"width\"\n",
       "      values=\"0;400;0\"\n",
       "      dur=\"5s\"\n",
       "      repeatCount=\"indefinite\" />\n",
       "      <animate\n",
       "      attributeName=\"x\"\n",
       "      values=\"100;100;500\"\n",
       "      dur=\"5s\"\n",
       "      repeatCount=\"indefinite\" />\n",
       "  </rect>\n",
       "        <rect x=\"0\" y=\"107\" width=\"400\" height=\"43\">\n",
       "    <animate\n",
       "      attributeName=\"width\"\n",
       "      values=\"0;400;0\"\n",
       "      dur=\"3.5s\"\n",
       "      repeatCount=\"indefinite\" />\n",
       "    <animate\n",
       "      attributeName=\"x\"\n",
       "      values=\"0;0;400\"\n",
       "      dur=\"3.5s\"\n",
       "      repeatCount=\"indefinite\" />\n",
       "  </rect>\n",
       "        <rect x=\"100\" y=\"207\" width=\"300\" height=\"43\">\n",
       "    <animate\n",
       "      attributeName=\"width\"\n",
       "      values=\"0;300;0\"\n",
       "      dur=\"3s\"\n",
       "      repeatCount=\"indefinite\" />\n",
       "    <animate\n",
       "      attributeName=\"x\"\n",
       "      values=\"100;100;400\"\n",
       "      dur=\"3s\"\n",
       "      repeatCount=\"indefinite\" />\n",
       "  </rect>\n",
       "        <rect x=\"100\" y=\"307\" width=\"400\" height=\"43\">\n",
       "    <animate\n",
       "      attributeName=\"width\"\n",
       "      values=\"0;400;0\"\n",
       "      dur=\"4s\"\n",
       "      repeatCount=\"indefinite\" />\n",
       "      <animate\n",
       "      attributeName=\"x\"\n",
       "      values=\"100;100;500\"\n",
       "      dur=\"4s\"\n",
       "      repeatCount=\"indefinite\" />\n",
       "  </rect>\n",
       "        <g style=\"fill:transparent;stroke-width:8; stroke-linejoin:round\" rx=\"5\">\n",
       "            <g transform=\"translate(45 50) rotate(-45)\">\n",
       "                <circle r=\"33\" cx=\"0\" cy=\"0\" />\n",
       "                <rect x=\"-8\" y=\"32\" width=\"16\" height=\"30\" />\n",
       "            </g>\n",
       "\n",
       "            <g transform=\"translate(450 152)\">\n",
       "                <polyline points=\"-15,-20 -35,-20 -35,40 25,40 25,20\" />\n",
       "                <rect x=\"-15\" y=\"-40\" width=\"60\" height=\"60\" />\n",
       "            </g>\n",
       "\n",
       "            <g transform=\"translate(50 352)\">\n",
       "                <polygon points=\"-35,-5 0,-40 35,-5\" />\n",
       "                <polygon points=\"-35,10 0,45 35,10\" />\n",
       "            </g>\n",
       "\n",
       "            <g transform=\"translate(75 250)\">\n",
       "                <polyline points=\"-30,30 -60,0 -30,-30\" />\n",
       "                <polyline points=\"0,30 -30,0 0,-30\" />\n",
       "            </g>\n",
       "\n",
       "            <g transform=\"translate(425 250) rotate(180)\">\n",
       "                <polyline points=\"-30,30 -60,0 -30,-30\" />\n",
       "                <polyline points=\"0,30 -30,0 0,-30\" />\n",
       "            </g>\n",
       "        </g>\n",
       "    </g>\n",
       "</svg>\n",
       "</a>\n",
       "    Loading ITables v2.5.2 from the internet...\n",
       "    (need <a href=https://mwouts.github.io/itables/troubleshooting.html>help</a>?)</td>\n",
       "    </tr></tbody></table>\n",
       "<link href=\"https://www.unpkg.com/dt_for_itables@2.4.0/dt_bundle.css\" rel=\"stylesheet\">\n",
       "<script type=\"module\">\n",
       "    import { ITable, jQuery as $ } from 'https://www.unpkg.com/dt_for_itables@2.4.0/dt_bundle.js';\n",
       "\n",
       "    document.querySelectorAll(\"#itables_437cd2e5_6055_4555_a319_e97c1756616f:not(.dataTable)\").forEach(table => {\n",
       "        if (!(table instanceof HTMLTableElement))\n",
       "            return;\n",
       "\n",
       "        let dt_args = {\"layout\": {\"topStart\": \"pageLength\", \"topEnd\": \"search\", \"bottomStart\": \"info\", \"bottomEnd\": \"paging\"}, \"classes\": [\"display\", \"nowrap\"], \"order\": [], \"text_in_header_can_be_selected\": true, \"style\": {\"table-layout\": \"auto\", \"width\": \"auto\", \"margin\": \"auto\", \"caption-side\": \"bottom\"}, \"table_html\": \"<table><thead>\\n    <tr style=\\\"text-align: right;\\\">\\n      \\n      <th>item_number</th>\\n      <th>set_name</th>\\n      <th>theme</th>\\n      <th>pieces</th>\\n      <th>price</th>\\n      <th>amazon_price</th>\\n      <th>year</th>\\n      <th>ages</th>\\n      <th>pages</th>\\n      <th>minifigures</th>\\n      <th>packaging</th>\\n      <th>weight</th>\\n      <th>unique_pieces</th>\\n      <th>size</th>\\n      <th>price_diff</th>\\n    </tr>\\n  </thead></table>\", \"data_json\": \"[[10859, \\\"My First Ladybird\\\", \\\"DUPLO\\\\u00ae\\\", 6, 4.99, 16.0, 2018, \\\"Ages_1\\\\u00bd-3\\\", 9, \\\"___NaN___\\\", \\\"Box\\\", \\\"NaN\\\", 5, \\\"Large\\\", 11.01], [10860, \\\"My First Race Car\\\", \\\"DUPLO\\\\u00ae\\\", 6, 4.99, 9.45, 2018, \\\"Ages_1\\\\u00bd-3\\\", 9, \\\"___NaN___\\\", \\\"Box\\\", \\\"0.13Kg (0.29 lb)\\\", 6, \\\"Large\\\", 4.46], [10862, \\\"My First Celebration\\\", \\\"DUPLO\\\\u00ae\\\", 41, 14.99, 39.89, 2018, \\\"Ages_1\\\\u00bd-3\\\", 9, \\\"___NaN___\\\", \\\"Box\\\", \\\"NaN\\\", 18, \\\"Large\\\", 24.9], [10864, \\\"Large Playground Brick Box\\\", \\\"DUPLO\\\\u00ae\\\", 71, 49.99, 56.69, 2018, \\\"Ages_2-5\\\", 32, 2.0, \\\"Plastic box\\\", \\\"1.41Kg (3.11 lb)\\\", 49, \\\"Large\\\", 6.7], [10867, \\\"Farmers' Market\\\", \\\"DUPLO\\\\u00ae\\\", 26, 19.99, 36.99, 2018, \\\"Ages_2-5\\\", 9, 3.0, \\\"Box\\\", \\\"NaN\\\", 18, \\\"Large\\\", 17.0], [10870, \\\"Farm Animals\\\", \\\"DUPLO\\\\u00ae\\\", 16, 9.99, 9.99, 2018, \\\"Ages_2-5\\\", 8, \\\"___NaN___\\\", \\\"Box\\\", \\\"NaN\\\", 13, \\\"Large\\\", 0.0], [10872, \\\"Train Bridge and Tracks\\\", \\\"DUPLO\\\\u00ae\\\", 26, 24.99, 21.99, 2018, \\\"Ages_2-5\\\", 16, 1.0, \\\"Box\\\", \\\"0.88Kg (1.95 lb)\\\", 10, \\\"Large\\\", -3.0], [10875, \\\"Cargo Train\\\", \\\"DUPLO\\\\u00ae\\\", 105, 119.99, 128.95, 2018, \\\"Ages_2-5\\\", 64, 3.0, \\\"Box\\\", \\\"2.86Kg (6.31 lb)\\\", 68, \\\"Large\\\", 8.96], [10876, \\\"Spider-Man &amp; Hulk Adventures\\\", \\\"DUPLO\\\\u00ae\\\", 38, 29.99, 74.5, 2018, \\\"Ages_2-5\\\", 20, 3.0, \\\"Box\\\", \\\"0.54Kg (1.19 lb)\\\", 29, \\\"Large\\\", 44.51], [10878, \\\"Rapunzel's Tower\\\", \\\"DUPLO\\\\u00ae\\\", 37, 29.99, 98.99, 2018, \\\"Ages_2-5\\\", 24, 1.0, \\\"Box\\\", \\\"NaN\\\", 26, \\\"Large\\\", 69.0], [10882, \\\"Train Tracks\\\", \\\"DUPLO\\\\u00ae\\\", 23, 19.99, 17.99, 2018, \\\"Ages_2-5\\\", 16, \\\"___NaN___\\\", \\\"Box\\\", \\\"0.66Kg (1.45 lb)\\\", 9, \\\"Large\\\", -2.0], [10885, \\\"My First Fun Puzzle\\\", \\\"DUPLO\\\\u00ae\\\", 15, 19.99, 19.55, 2019, \\\"Ages_1\\\\u00bd+\\\", 9, \\\"___NaN___\\\", \\\"NaN\\\", \\\"NaN\\\", 15, \\\"Large\\\", -0.44], [10886, \\\"My First Car Creations\\\", \\\"DUPLO\\\\u00ae\\\", 34, 19.99, 16.0, 2019, \\\"Ages_1\\\\u00bd+\\\", 10, \\\"___NaN___\\\", \\\"NaN\\\", \\\"0.64Kg (1.41 lb)\\\", 31, \\\"Large\\\", -3.99], [10901, \\\"Fire Truck\\\", \\\"DUPLO\\\\u00ae\\\", 21, 19.99, 17.99, 2019, \\\"Ages_2+\\\", 10, 2.0, \\\"Box\\\", \\\"0.45Kg (0.99 lb)\\\", 16, \\\"Large\\\", -2.0], [10904, \\\"Baby Animals\\\", \\\"DUPLO\\\\u00ae\\\", 9, 9.99, 21.11, 2019, \\\"Ages_2+\\\", 8, \\\"___NaN___\\\", \\\"Box\\\", \\\"NaN\\\", 9, \\\"Large\\\", 11.12], [10906, \\\"Tropical Island\\\", \\\"DUPLO\\\\u00ae\\\", 73, 59.99, 59.99, 2019, \\\"Ages_2+\\\", 40, 3.0, \\\"Box\\\", \\\"NaN\\\", 44, \\\"Large\\\", 0.0], [10908, \\\"Plane\\\", \\\"DUPLO\\\\u00ae\\\", 12, 9.99, 23.27, 2019, \\\"Ages_2+\\\", 10, 1.0, \\\"Box\\\", \\\"NaN\\\", 11, \\\"Large\\\", 13.28], [10910, \\\"Submarine Adventure\\\", \\\"DUPLO\\\\u00ae\\\", 24, 19.99, 17.99, 2019, \\\"Ages_2+\\\", 8, 2.0, \\\"Box\\\", \\\"NaN\\\", 22, \\\"Large\\\", -2.0], [10915, \\\"Alphabet Truck\\\", \\\"DUPLO\\\\u00ae\\\", 36, 24.99, 21.99, 2020, \\\"Ages_1\\\\u00bd+\\\", 1, 2.0, \\\"Box\\\", \\\"NaN\\\", 35, \\\"Large\\\", -3.0], [10918, \\\"Tow Truck\\\", \\\"DUPLO\\\\u00ae\\\", 7, 6.99, 6.29, 2020, \\\"Ages_1\\\\u00bd+\\\", 3, \\\"___NaN___\\\", \\\"Box with backing card\\\", \\\"NaN\\\", 7, \\\"Large\\\", -0.7], [10921, \\\"Super Heroes Lab\\\", \\\"DUPLO\\\\u00ae\\\", 30, 29.99, 26.99, 2020, \\\"Ages_2+\\\", 16, 3.0, \\\"Box\\\", \\\"NaN\\\", 23, \\\"Large\\\", -3.0], [10926, \\\"Bedroom\\\", \\\"DUPLO\\\\u00ae\\\", 16, 14.99, 14.99, 2020, \\\"Ages_2+\\\", 2, 2.0, \\\"Box\\\", \\\"NaN\\\", 16, \\\"Large\\\", 0.0], [10927, \\\"Pizza Stand\\\", \\\"DUPLO\\\\u00ae\\\", 18, 9.99, 8.99, 2020, \\\"Ages_2+\\\", 12, 1.0, \\\"Box\\\", \\\"NaN\\\", 15, \\\"Large\\\", -1.0], [10928, \\\"Bakery\\\", \\\"DUPLO\\\\u00ae\\\", 46, 34.99, 29.99, 2020, \\\"Ages_2+\\\", 20, 2.0, \\\"Box\\\", \\\"NaN\\\", 33, \\\"Large\\\", -5.0], [10929, \\\"Modular Playhouse\\\", \\\"DUPLO\\\\u00ae\\\", 129, 59.99, 59.99, 2020, \\\"Ages_2+\\\", 84, 3.0, \\\"Box\\\", \\\"NaN\\\", 56, \\\"Large\\\", 0.0], [41330, \\\"Stephanie's Soccer Practice\\\", \\\"Friends\\\", 119, 14.99, 40.4, 2018, \\\"Ages_6-12\\\", 48, 1.0, \\\"Box\\\", \\\"NaN\\\", 78, \\\"Small\\\", 25.41], [41333, \\\"Olivia's Mission Vehicle\\\", \\\"Friends\\\", 223, 19.99, 45.95, 2018, \\\"Ages_6-12\\\", 84, 1.0, \\\"Box\\\", \\\"0.32Kg (0.7 lb)\\\", 106, \\\"Small\\\", 25.96], [41335, \\\"Mia's Tree House\\\", \\\"Friends\\\", 351, 29.99, 53.88, 2018, \\\"Ages_6-12\\\", 120, 2.0, \\\"Box\\\", \\\"0.61Kg (1.34 lb)\\\", 151, \\\"Small\\\", 23.89], [41340, \\\"Friendship House\\\", \\\"Friends\\\", 722, 69.99, 184.99, 2018, \\\"Ages_6-12\\\", 164, 3.0, \\\"Box\\\", \\\"1.14Kg (2.51 lb)\\\", 309, \\\"Small\\\", 115.0], [41353, \\\"Friends Advent Calendar\\\", \\\"Friends\\\", 500, 29.99, 34.0, 2018, \\\"Ages_6-12\\\", 4, \\\"___NaN___\\\", \\\"Box\\\", \\\"NaN\\\", 202, \\\"Small\\\", 4.01], [41356, \\\"Stephanie's Heart Box\\\", \\\"Friends\\\", 85, 7.99, 14.99, 2019, \\\"Ages_6+\\\", 32, 1.0, \\\"NaN\\\", \\\"0.13Kg (0.29 lb)\\\", 36, \\\"Small\\\", 7.0], [41358, \\\"Mia's Heart Box\\\", \\\"Friends\\\", 83, 7.99, 18.64, 2019, \\\"Ages_6+\\\", 32, 1.0, \\\"NaN\\\", \\\"0.14Kg (0.31 lb)\\\", 38, \\\"Small\\\", 10.65], [41363, \\\"Mia's Forest Adventures\\\", \\\"Friends\\\", 134, 14.99, 18.95, 2019, \\\"Ages_6+\\\", 44, 1.0, \\\"NaN\\\", \\\"0.15Kg (0.33 lb)\\\", 77, \\\"Small\\\", 3.96], [41367, \\\"Stephanie's Obstacle Course\\\", \\\"Friends\\\", 337, 39.99, 35.99, 2019, \\\"Ages_6+\\\", 100, 2.0, \\\"NaN\\\", \\\"0.59Kg (1.3 lb)\\\", 168, \\\"Small\\\", -4.0], [41369, \\\"Mia's House\\\", \\\"Friends\\\", 715, 69.99, 62.99, 2019, \\\"Ages_6+\\\", 192, 3.0, \\\"NaN\\\", \\\"1.12Kg (2.47 lb)\\\", 274, \\\"Small\\\", -7.0], [41374, \\\"Andrea's Pool Party\\\", \\\"Friends\\\", 468, 49.99, 40.0, 2019, \\\"Ages_6+\\\", 112, 2.0, \\\"Box\\\", \\\"NaN\\\", 221, \\\"Small\\\", -9.99], [41376, \\\"Turtles Rescue Mission\\\", \\\"Friends\\\", 225, 19.99, 31.27, 2019, \\\"Ages_6+\\\", 72, 2.0, \\\"Box\\\", \\\"NaN\\\", 125, \\\"Small\\\", 11.28], [41378, \\\"Dolphins Rescue Mission\\\", \\\"Friends\\\", 363, 39.99, 31.67, 2019, \\\"Ages_6+\\\", 116, 2.0, \\\"Box\\\", \\\"NaN\\\", 192, \\\"Small\\\", -8.32], [41384, \\\"Andrea's Summer Heart Box\\\", \\\"Friends\\\", 83, 7.99, 14.99, 2019, \\\"Ages_6+\\\", 36, 1.0, \\\"Other\\\", \\\"NaN\\\", 46, \\\"Small\\\", 7.0], [41387, \\\"Olivia's Summer Heart Box\\\", \\\"Friends\\\", 93, 7.99, 7.99, 2019, \\\"Ages_6+\\\", 40, 2.0, \\\"Other\\\", \\\"NaN\\\", 48, \\\"Small\\\", 0.0], [41394, \\\"Heartlake City Hospital\\\", \\\"Friends\\\", 379, 49.99, 48.53, 2020, \\\"Ages_6+\\\", 132, 3.0, \\\"Box\\\", \\\"NaN\\\", 154, \\\"Small\\\", -1.46], [41396, \\\"Puppy Playground\\\", \\\"Friends\\\", 57, 9.99, 8.99, 2020, \\\"Ages_4+\\\", 40, 1.0, \\\"Box\\\", \\\"NaN\\\", 41, \\\"Small\\\", -1.0], [41400, \\\"Andrea's Play Cube - Singer\\\", \\\"Friends\\\", 49, 9.99, 18.93, 2020, \\\"Ages_6+\\\", 5, 1.0, \\\"Box\\\", \\\"NaN\\\", 32, \\\"Small\\\", 8.94], [41403, \\\"Mia's Play Cube - Veterinarian\\\", \\\"Friends\\\", 40, 9.99, 17.97, 2020, \\\"Ages_6+\\\", 5, 1.0, \\\"Box\\\", \\\"NaN\\\", 32, \\\"Small\\\", 7.98], [41408, \\\"Mia's Play Cube - Cinema\\\", \\\"Friends\\\", 37, 9.99, 15.32, 2020, \\\"Ages_6+\\\", 5, 1.0, \\\"Box\\\", \\\"NaN\\\", 31, \\\"Small\\\", 5.33], [41421, \\\"Baby Elephant Jungle Rescue\\\", \\\"Friends\\\", 203, 19.99, 19.99, 2020, \\\"Ages_6+\\\", 68, 2.0, \\\"Box\\\", \\\"NaN\\\", 111, \\\"Small\\\", 0.0], [41423, \\\"Tiger Hot Air Balloon Jungle Rescue\\\", \\\"Friends\\\", 302, 39.99, 39.95, 2020, \\\"Ages_7+\\\", 116, 2.0, \\\"Box\\\", \\\"NaN\\\", 145, \\\"Small\\\", -0.04], [41424, \\\"Jungle Rescue Base\\\", \\\"Friends\\\", 648, 79.99, 79.95, 2020, \\\"Ages_8+\\\", 176, 3.0, \\\"Box\\\", \\\"NaN\\\", 251, \\\"Small\\\", -0.04], [41427, \\\"Emma's Fashion Shop\\\", \\\"Friends\\\", 343, 29.99, 29.95, 2020, \\\"Ages_6+\\\", 112, 2.0, \\\"Box\\\", \\\"NaN\\\", 152, \\\"Small\\\", -0.04], [41428, \\\"Beach House\\\", \\\"Friends\\\", 444, 49.99, 49.95, 2020, \\\"Ages_6+\\\", 160, 2.0, \\\"Box\\\", \\\"NaN\\\", 216, \\\"Small\\\", -0.04], [60170, \\\"Off-Road Chase\\\", \\\"City\\\", 37, 6.99, 30.89, 2018, \\\"Ages_5-12\\\", 20, 2.0, \\\"Box\\\", \\\"NaN\\\", 28, \\\"Small\\\", 23.9], [60171, \\\"Mountain Fugitives\\\", \\\"City\\\", 88, 9.99, 16.49, 2018, \\\"Ages_5-12\\\", 36, 4.0, \\\"Box\\\", \\\"NaN\\\", 61, \\\"Small\\\", 6.5], [60172, \\\"Dirt Road Pursuit\\\", \\\"City\\\", 297, 39.99, 64.75, 2018, \\\"Ages_5-12\\\", 116, 3.0, \\\"Box\\\", \\\"0.6Kg (1.32 lb)\\\", 140, \\\"Small\\\", 24.76], [60182, \\\"Pickup &amp; Caravan\\\", \\\"City\\\", 344, 29.99, 65.99, 2018, \\\"Ages_5-12\\\", 140, 3.0, \\\"Box\\\", \\\"0.65Kg (1.43 lb)\\\", 188, \\\"Small\\\", 36.0], [60183, \\\"Heavy Cargo Transport\\\", \\\"City\\\", 310, 29.99, 69.95, 2018, \\\"Ages_5-12\\\", 128, 2.0, \\\"Box\\\", \\\"0.59Kg (1.3 lb)\\\", 161, \\\"Small\\\", 39.96], [60184, \\\"Mining Team\\\", \\\"City\\\", 82, 9.99, 21.99, 2018, \\\"Ages_5-12\\\", 32, 4.0, \\\"Box\\\", \\\"0.13Kg (0.29 lb)\\\", 64, \\\"Small\\\", 12.0], [60202, \\\"People Pack - Outdoor Adventures\\\", \\\"City\\\", 164, 39.99, 69.99, 2018, \\\"Ages_5-12\\\", 64, 15.0, \\\"Box\\\", \\\"0.29Kg (0.64 lb)\\\", 128, \\\"Small\\\", 30.0], [60208, \\\"Parachute Arrest\\\", \\\"City\\\", 218, 39.99, 31.46, 2019, \\\"Ages_5+\\\", 120, 4.0, \\\"Box\\\", \\\"0.48Kg (1.05 lb)\\\", 139, \\\"Small\\\", -8.53], [60213, \\\"Dock Side Fire\\\", \\\"City\\\", 97, 19.99, 23.83, 2019, \\\"Ages_5+\\\", 48, 2.0, \\\"Box\\\", \\\"0.25Kg (0.54 lb)\\\", 63, \\\"Small\\\", 3.84], [60215, \\\"Fire Station\\\", \\\"City\\\", 509, 69.99, 56.0, 2019, \\\"Ages_5+\\\", 184, 4.0, \\\"Box\\\", \\\"1.17Kg (2.57 lb)\\\", 210, \\\"Small\\\", -13.99], [60217, \\\"Fire Plane\\\", \\\"City\\\", 363, 59.99, 53.99, 2019, \\\"Ages_6+\\\", 156, 3.0, \\\"Box\\\", \\\"0.76Kg (1.68 lb)\\\", 151, \\\"Small\\\", -6.0], [60219, \\\"Construction Loader\\\", \\\"City\\\", 88, 9.99, 8.99, 2019, \\\"Ages_5+\\\", 36, 1.0, \\\"Box\\\", \\\"0.16Kg (0.34 lb)\\\", 50, \\\"Small\\\", -1.0], [60221, \\\"Diving Yacht\\\", \\\"City\\\", 148, 19.99, 16.0, 2019, \\\"Ages_5+\\\", 64, 2.0, \\\"Box\\\", \\\"0.34Kg (0.74 lb)\\\", 81, \\\"Small\\\", -3.99], [60223, \\\"Harvester Transport\\\", \\\"City\\\", 358, 29.99, 54.8, 2019, \\\"Ages_5+\\\", 148, 3.0, \\\"Box\\\", \\\"0.65Kg (1.43 lb)\\\", 166, \\\"Small\\\", 24.81], [60226, \\\"Mars Research Shuttle\\\", \\\"City\\\", 273, 39.99, 31.99, 2019, \\\"Ages_5+\\\", 160, 2.0, \\\"Box\\\", \\\"0.61Kg (1.34 lb)\\\", 135, \\\"Small\\\", -8.0], [60243, \\\"Police Helicopter Chase\\\", \\\"City\\\", 212, 39.99, 35.98, 2020, \\\"Ages_5+\\\", 128, 4.0, \\\"Box\\\", \\\"0.52Kg (1.16 lb)\\\", 127, \\\"Small\\\", -4.01], [60245, \\\"Police Monster Truck Heist\\\", \\\"City\\\", 362, 59.99, 52.74, 2020, \\\"Ages_5+\\\", 200, 5.0, \\\"Box\\\", \\\"0.85Kg (1.87 lb)\\\", 198, \\\"Small\\\", -7.25], [60246, \\\"Police Station\\\", \\\"City\\\", 743, 99.99, 99.99, 2020, \\\"Ages_6+\\\", 345, 7.0, \\\"Box\\\", \\\"1.85Kg (4.06 lb)\\\", 298, \\\"Small\\\", 0.0], [60248, \\\"Fire Helicopter Response\\\", \\\"City\\\", 93, 29.99, 23.98, 2020, \\\"Ages_5+\\\", 44, 3.0, \\\"Box\\\", \\\"0.25Kg (0.55 lb)\\\", 61, \\\"Small\\\", -6.01], [60249, \\\"Street Sweeper\\\", \\\"City\\\", 89, 9.99, 8.99, 2020, \\\"Ages_5+\\\", 48, 1.0, \\\"Box\\\", \\\"0.14Kg (0.31 lb)\\\", 55, \\\"Small\\\", -1.0], [60251, \\\"Monster Truck\\\", \\\"City\\\", 55, 9.99, 8.99, 2020, \\\"Ages_5+\\\", 32, 1.0, \\\"Box\\\", \\\"0.14Kg (0.31 lb)\\\", 34, \\\"Small\\\", -1.0], [60252, \\\"Construction Bulldozer\\\", \\\"City\\\", 126, 19.99, 15.99, 2020, \\\"Ages_4+\\\", 84, 2.0, \\\"Box\\\", \\\"0.35Kg (0.78 lb)\\\", 81, \\\"Small\\\", -4.0], [60258, \\\"Tuning Workshop\\\", \\\"City\\\", 897, 99.99, 99.99, 2020, \\\"Ages_6+\\\", 389, 7.0, \\\"Box\\\", \\\"1.63Kg (3.58 lb)\\\", 411, \\\"Small\\\", 0.0], [60266, \\\"Ocean Exploration Ship\\\", \\\"City\\\", 745, 149.99, 149.99, 2020, \\\"Ages_7+\\\", 229, 8.0, \\\"Box\\\", \\\"2.28Kg (5.03 lb)\\\", 314, \\\"Small\\\", 0.0], [60267, \\\"Safari Off-Roader\\\", \\\"City\\\", 168, 19.99, 17.99, 2020, \\\"Ages_5+\\\", 76, 2.0, \\\"Box\\\", \\\"0.34Kg (0.76 lb)\\\", 86, \\\"Small\\\", -2.0]]\"};\n",
       "        new ITable(table, dt_args);\n",
       "    });\n",
       "</script>\n"
      ],
      "text/plain": [
       "<IPython.core.display.HTML object>"
      ]
     },
     "metadata": {},
     "output_type": "display_data"
    }
   ],
   "source": [
    "show(DF)"
   ]
  },
  {
   "cell_type": "markdown",
   "id": "e3ea4ead-e6e5-44a8-bfde-ed2d5fc1cdb8",
   "metadata": {},
   "source": [
    "**Problem 1**"
   ]
  },
  {
   "cell_type": "markdown",
   "id": "23ca0722-3829-4a36-9a6f-dc1f82a4babe",
   "metadata": {},
   "source": [
    "A) How many variables and observations in the data set<br>\n",
    "B) What are the names of all the variables<br>\n",
    "C) For each variable talk about whether you think that variable is Numerical or Categorical and what type of data it is<br>\n",
    "D) Use describe to get some basic statistics about the numerical data. Comment on at least four things that you learned by looking at these statistic"
   ]
  },
  {
   "cell_type": "code",
   "execution_count": 139,
   "id": "f7690d83-584e-45fe-944d-3a77e97b7e7e",
   "metadata": {},
   "outputs": [
    {
     "name": "stdout",
     "output_type": "stream",
     "text": [
      "Variables:  16\n",
      "Observations:  75\n"
     ]
    },
    {
     "data": {
      "text/plain": [
       "(75, 16)"
      ]
     },
     "execution_count": 139,
     "metadata": {},
     "output_type": "execute_result"
    }
   ],
   "source": [
    "#A\n",
    "print(\"Variables: \" , len(DF.columns))\n",
    "print(\"Observations: \", len(DF))\n",
    "DF.shape"
   ]
  },
  {
   "cell_type": "code",
   "execution_count": 13,
   "id": "c5692700-9d71-4cb4-abef-ca792ac8dc65",
   "metadata": {},
   "outputs": [
    {
     "data": {
      "text/plain": [
       "Index(['item_number', 'set_name', 'theme', 'pieces', 'price', 'amazon_price',\n",
       "       'year', 'ages', 'pages', 'minifigures', 'packaging', 'weight',\n",
       "       'unique_pieces', 'size'],\n",
       "      dtype='object')"
      ]
     },
     "execution_count": 13,
     "metadata": {},
     "output_type": "execute_result"
    }
   ],
   "source": [
    "#B\n",
    "(DF.columns)"
   ]
  },
  {
   "cell_type": "markdown",
   "id": "314af21f-a14b-4b17-b7be-ea0a29573ada",
   "metadata": {},
   "source": [
    "### C \n",
    "**Item Number** This will be a Categorical because it is not quantitative but more of a name to identify itself   \n",
    "**Set Name** This is a categorical variable because it is the name of the lego set<br>\n",
    "**Theme** A categorical variable for the theme names<br>\n",
    "**Pieces** Numerical because the amount of pieces is quantitative<br>\n",
    "**Price** Numerical because it is quantitative and continuous<br>\n",
    "**Amazon Price** Same as Price quantitative and continuous<br>\n",
    "**Year** Numerical for being continuous<br> \n",
    "**Ages** Categorical since we have different groupings of ages depending on what age range they should be in<br>\n",
    "**Pages** The amount of pages of a build booklet and that makes it continuous<br>\n",
    "**Minifigures** The amount of minifigures in a lego set which is Discrete<br>\n",
    "**Packaging** Categorical as it is a Nominal variables<br>\n",
    "**Weight** Numerical as it is a Continuous variables<br> \n",
    "**Unique Pieces** A discrete numerical variable<br>\n",
    "**Size** A categorical variable since it is a Nominal variable<br>\n"
   ]
  },
  {
   "cell_type": "code",
   "execution_count": 15,
   "id": "a90c2e10-181a-45e4-be49-caef7f3afecb",
   "metadata": {},
   "outputs": [
    {
     "data": {
      "text/html": [
       "<div>\n",
       "<style scoped>\n",
       "    .dataframe tbody tr th:only-of-type {\n",
       "        vertical-align: middle;\n",
       "    }\n",
       "\n",
       "    .dataframe tbody tr th {\n",
       "        vertical-align: top;\n",
       "    }\n",
       "\n",
       "    .dataframe thead th {\n",
       "        text-align: right;\n",
       "    }\n",
       "</style>\n",
       "<table border=\"1\" class=\"dataframe\">\n",
       "  <thead>\n",
       "    <tr style=\"text-align: right;\">\n",
       "      <th></th>\n",
       "      <th>item_number</th>\n",
       "      <th>pieces</th>\n",
       "      <th>price</th>\n",
       "      <th>amazon_price</th>\n",
       "      <th>year</th>\n",
       "      <th>pages</th>\n",
       "      <th>minifigures</th>\n",
       "      <th>unique_pieces</th>\n",
       "    </tr>\n",
       "  </thead>\n",
       "  <tbody>\n",
       "    <tr>\n",
       "      <th>count</th>\n",
       "      <td>75.000000</td>\n",
       "      <td>75.000000</td>\n",
       "      <td>75.000000</td>\n",
       "      <td>75.000000</td>\n",
       "      <td>75.000000</td>\n",
       "      <td>75.000000</td>\n",
       "      <td>65.000000</td>\n",
       "      <td>75.000000</td>\n",
       "    </tr>\n",
       "    <tr>\n",
       "      <th>mean</th>\n",
       "      <td>37498.493333</td>\n",
       "      <td>196.453333</td>\n",
       "      <td>32.136667</td>\n",
       "      <td>39.393733</td>\n",
       "      <td>2019.053333</td>\n",
       "      <td>73.213333</td>\n",
       "      <td>2.615385</td>\n",
       "      <td>96.666667</td>\n",
       "    </tr>\n",
       "    <tr>\n",
       "      <th>std</th>\n",
       "      <td>20461.267542</td>\n",
       "      <td>213.914121</td>\n",
       "      <td>27.747263</td>\n",
       "      <td>33.301259</td>\n",
       "      <td>0.820239</td>\n",
       "      <td>76.949842</td>\n",
       "      <td>2.133749</td>\n",
       "      <td>89.471018</td>\n",
       "    </tr>\n",
       "    <tr>\n",
       "      <th>min</th>\n",
       "      <td>10859.000000</td>\n",
       "      <td>6.000000</td>\n",
       "      <td>4.990000</td>\n",
       "      <td>6.290000</td>\n",
       "      <td>2018.000000</td>\n",
       "      <td>1.000000</td>\n",
       "      <td>1.000000</td>\n",
       "      <td>5.000000</td>\n",
       "    </tr>\n",
       "    <tr>\n",
       "      <th>25%</th>\n",
       "      <td>10916.500000</td>\n",
       "      <td>37.000000</td>\n",
       "      <td>9.990000</td>\n",
       "      <td>17.980000</td>\n",
       "      <td>2018.000000</td>\n",
       "      <td>14.000000</td>\n",
       "      <td>1.000000</td>\n",
       "      <td>30.000000</td>\n",
       "    </tr>\n",
       "    <tr>\n",
       "      <th>50%</th>\n",
       "      <td>41378.000000</td>\n",
       "      <td>93.000000</td>\n",
       "      <td>19.990000</td>\n",
       "      <td>29.990000</td>\n",
       "      <td>2019.000000</td>\n",
       "      <td>44.000000</td>\n",
       "      <td>2.000000</td>\n",
       "      <td>61.000000</td>\n",
       "    </tr>\n",
       "    <tr>\n",
       "      <th>75%</th>\n",
       "      <td>60193.000000</td>\n",
       "      <td>323.500000</td>\n",
       "      <td>39.990000</td>\n",
       "      <td>53.935000</td>\n",
       "      <td>2020.000000</td>\n",
       "      <td>116.000000</td>\n",
       "      <td>3.000000</td>\n",
       "      <td>151.000000</td>\n",
       "    </tr>\n",
       "    <tr>\n",
       "      <th>max</th>\n",
       "      <td>60267.000000</td>\n",
       "      <td>897.000000</td>\n",
       "      <td>149.990000</td>\n",
       "      <td>184.990000</td>\n",
       "      <td>2020.000000</td>\n",
       "      <td>389.000000</td>\n",
       "      <td>15.000000</td>\n",
       "      <td>411.000000</td>\n",
       "    </tr>\n",
       "  </tbody>\n",
       "</table>\n",
       "</div>"
      ],
      "text/plain": [
       "        item_number      pieces       price  amazon_price         year  \\\n",
       "count     75.000000   75.000000   75.000000     75.000000    75.000000   \n",
       "mean   37498.493333  196.453333   32.136667     39.393733  2019.053333   \n",
       "std    20461.267542  213.914121   27.747263     33.301259     0.820239   \n",
       "min    10859.000000    6.000000    4.990000      6.290000  2018.000000   \n",
       "25%    10916.500000   37.000000    9.990000     17.980000  2018.000000   \n",
       "50%    41378.000000   93.000000   19.990000     29.990000  2019.000000   \n",
       "75%    60193.000000  323.500000   39.990000     53.935000  2020.000000   \n",
       "max    60267.000000  897.000000  149.990000    184.990000  2020.000000   \n",
       "\n",
       "            pages  minifigures  unique_pieces  \n",
       "count   75.000000    65.000000      75.000000  \n",
       "mean    73.213333     2.615385      96.666667  \n",
       "std     76.949842     2.133749      89.471018  \n",
       "min      1.000000     1.000000       5.000000  \n",
       "25%     14.000000     1.000000      30.000000  \n",
       "50%     44.000000     2.000000      61.000000  \n",
       "75%    116.000000     3.000000     151.000000  \n",
       "max    389.000000    15.000000     411.000000  "
      ]
     },
     "execution_count": 15,
     "metadata": {},
     "output_type": "execute_result"
    }
   ],
   "source": [
    "#D\n",
    "DF.describe()"
   ]
  },
  {
   "cell_type": "markdown",
   "id": "a8f216d4-e57b-4872-bbde-0eef604cb92e",
   "metadata": {},
   "source": [
    "1. The average can be seen to be higher for the amazon price then the regular price\n",
    "2. The lego set with the most pieces is 897 pieces\n",
    "4. Almost all the variables used are numerical. Maybe my absuption of item_number being categorical may be wrong.\n",
    "5. My absuption for weight being numerical value would assume it would be part of the describe "
   ]
  },
  {
   "cell_type": "markdown",
   "id": "2e6519ce-e2c5-4c0b-a271-563ca81f5556",
   "metadata": {},
   "source": [
    "# Problem 2"
   ]
  },
  {
   "cell_type": "markdown",
   "id": "78f5cdf6-1d85-49f5-a819-57da12bed746",
   "metadata": {},
   "source": [
    "A) Display (or show) the data frame with only the columns that contain useful categorical information. If you left any columns say why.<br>\n",
    "B) For each categorical column that you chose above, find the frequencies of the categories. Talk about what you learn from the results of each calculation"
   ]
  },
  {
   "cell_type": "code",
   "execution_count": 16,
   "id": "4e30ce77-5295-40dc-8102-7341382b5b2b",
   "metadata": {},
   "outputs": [
    {
     "data": {
      "text/plain": [
       "item_number        int64\n",
       "set_name          object\n",
       "theme             object\n",
       "pieces             int64\n",
       "price            float64\n",
       "amazon_price     float64\n",
       "year               int64\n",
       "ages              object\n",
       "pages              int64\n",
       "minifigures      float64\n",
       "packaging         object\n",
       "weight            object\n",
       "unique_pieces      int64\n",
       "size              object\n",
       "dtype: object"
      ]
     },
     "execution_count": 16,
     "metadata": {},
     "output_type": "execute_result"
    }
   ],
   "source": [
    "DF.dtypes"
   ]
  },
  {
   "cell_type": "code",
   "execution_count": 133,
   "id": "ff7f37da-450f-433a-9e74-5f9e0e4aa2d4",
   "metadata": {},
   "outputs": [
    {
     "data": {
      "text/html": [
       "<!--| quarto-html-table-processing: none -->\n",
       "<table id=\"itables_67d00867_3c0c_4b9b_a092_3a5e347a53c3\"><tbody><tr>\n",
       "    <td style=\"vertical-align:middle; text-align:left\">\n",
       "    <a href=https://mwouts.github.io/itables/><svg class=\"main-svg\" xmlns=\"http://www.w3.org/2000/svg\" xmlns:xlink=\"http://www.w3.org/1999/xlink\"\n",
       "width=\"64\" viewBox=\"0 0 500 400\" style=\"font-family: 'Droid Sans', sans-serif;\">\n",
       "    <g style=\"fill:#d9d7fc\">\n",
       "        <path d=\"M100,400H500V357H100Z\" />\n",
       "        <path d=\"M100,300H400V257H100Z\" />\n",
       "        <path d=\"M0,200H400V157H0Z\" />\n",
       "        <path d=\"M100,100H500V57H100Z\" />\n",
       "        <path d=\"M100,350H500V307H100Z\" />\n",
       "        <path d=\"M100,250H400V207H100Z\" />\n",
       "        <path d=\"M0,150H400V107H0Z\" />\n",
       "        <path d=\"M100,50H500V7H100Z\" />\n",
       "    </g>\n",
       "    <g style=\"fill:#1a1366;stroke:#1a1366;\">\n",
       "   <rect x=\"100\" y=\"7\" width=\"400\" height=\"43\">\n",
       "    <animate\n",
       "      attributeName=\"width\"\n",
       "      values=\"0;400;0\"\n",
       "      dur=\"5s\"\n",
       "      repeatCount=\"indefinite\" />\n",
       "      <animate\n",
       "      attributeName=\"x\"\n",
       "      values=\"100;100;500\"\n",
       "      dur=\"5s\"\n",
       "      repeatCount=\"indefinite\" />\n",
       "  </rect>\n",
       "        <rect x=\"0\" y=\"107\" width=\"400\" height=\"43\">\n",
       "    <animate\n",
       "      attributeName=\"width\"\n",
       "      values=\"0;400;0\"\n",
       "      dur=\"3.5s\"\n",
       "      repeatCount=\"indefinite\" />\n",
       "    <animate\n",
       "      attributeName=\"x\"\n",
       "      values=\"0;0;400\"\n",
       "      dur=\"3.5s\"\n",
       "      repeatCount=\"indefinite\" />\n",
       "  </rect>\n",
       "        <rect x=\"100\" y=\"207\" width=\"300\" height=\"43\">\n",
       "    <animate\n",
       "      attributeName=\"width\"\n",
       "      values=\"0;300;0\"\n",
       "      dur=\"3s\"\n",
       "      repeatCount=\"indefinite\" />\n",
       "    <animate\n",
       "      attributeName=\"x\"\n",
       "      values=\"100;100;400\"\n",
       "      dur=\"3s\"\n",
       "      repeatCount=\"indefinite\" />\n",
       "  </rect>\n",
       "        <rect x=\"100\" y=\"307\" width=\"400\" height=\"43\">\n",
       "    <animate\n",
       "      attributeName=\"width\"\n",
       "      values=\"0;400;0\"\n",
       "      dur=\"4s\"\n",
       "      repeatCount=\"indefinite\" />\n",
       "      <animate\n",
       "      attributeName=\"x\"\n",
       "      values=\"100;100;500\"\n",
       "      dur=\"4s\"\n",
       "      repeatCount=\"indefinite\" />\n",
       "  </rect>\n",
       "        <g style=\"fill:transparent;stroke-width:8; stroke-linejoin:round\" rx=\"5\">\n",
       "            <g transform=\"translate(45 50) rotate(-45)\">\n",
       "                <circle r=\"33\" cx=\"0\" cy=\"0\" />\n",
       "                <rect x=\"-8\" y=\"32\" width=\"16\" height=\"30\" />\n",
       "            </g>\n",
       "\n",
       "            <g transform=\"translate(450 152)\">\n",
       "                <polyline points=\"-15,-20 -35,-20 -35,40 25,40 25,20\" />\n",
       "                <rect x=\"-15\" y=\"-40\" width=\"60\" height=\"60\" />\n",
       "            </g>\n",
       "\n",
       "            <g transform=\"translate(50 352)\">\n",
       "                <polygon points=\"-35,-5 0,-40 35,-5\" />\n",
       "                <polygon points=\"-35,10 0,45 35,10\" />\n",
       "            </g>\n",
       "\n",
       "            <g transform=\"translate(75 250)\">\n",
       "                <polyline points=\"-30,30 -60,0 -30,-30\" />\n",
       "                <polyline points=\"0,30 -30,0 0,-30\" />\n",
       "            </g>\n",
       "\n",
       "            <g transform=\"translate(425 250) rotate(180)\">\n",
       "                <polyline points=\"-30,30 -60,0 -30,-30\" />\n",
       "                <polyline points=\"0,30 -30,0 0,-30\" />\n",
       "            </g>\n",
       "        </g>\n",
       "    </g>\n",
       "</svg>\n",
       "</a>\n",
       "    Loading ITables v2.5.2 from the internet...\n",
       "    (need <a href=https://mwouts.github.io/itables/troubleshooting.html>help</a>?)</td>\n",
       "    </tr></tbody></table>\n",
       "<link href=\"https://www.unpkg.com/dt_for_itables@2.4.0/dt_bundle.css\" rel=\"stylesheet\">\n",
       "<script type=\"module\">\n",
       "    import { ITable, jQuery as $ } from 'https://www.unpkg.com/dt_for_itables@2.4.0/dt_bundle.js';\n",
       "\n",
       "    document.querySelectorAll(\"#itables_67d00867_3c0c_4b9b_a092_3a5e347a53c3:not(.dataTable)\").forEach(table => {\n",
       "        if (!(table instanceof HTMLTableElement))\n",
       "            return;\n",
       "\n",
       "        let dt_args = {\"layout\": {\"topStart\": \"pageLength\", \"topEnd\": \"search\", \"bottomStart\": \"info\", \"bottomEnd\": \"paging\"}, \"classes\": [\"display\", \"nowrap\"], \"order\": [], \"text_in_header_can_be_selected\": true, \"style\": {\"table-layout\": \"auto\", \"width\": \"auto\", \"margin\": \"auto\", \"caption-side\": \"bottom\"}, \"table_html\": \"<table><thead>\\n    <tr style=\\\"text-align: right;\\\">\\n      \\n      <th>set_name</th>\\n      <th>theme</th>\\n      <th>ages</th>\\n      <th>packaging</th>\\n      <th>weight</th>\\n      <th>size</th>\\n    </tr>\\n  </thead></table>\", \"data_json\": \"[[\\\"My First Ladybird\\\", \\\"DUPLO\\\\u00ae\\\", \\\"Ages_1\\\\u00bd-3\\\", \\\"Box\\\", \\\"NaN\\\", \\\"Large\\\"], [\\\"My First Race Car\\\", \\\"DUPLO\\\\u00ae\\\", \\\"Ages_1\\\\u00bd-3\\\", \\\"Box\\\", \\\"0.13Kg (0.29 lb)\\\", \\\"Large\\\"], [\\\"My First Celebration\\\", \\\"DUPLO\\\\u00ae\\\", \\\"Ages_1\\\\u00bd-3\\\", \\\"Box\\\", \\\"NaN\\\", \\\"Large\\\"], [\\\"Large Playground Brick Box\\\", \\\"DUPLO\\\\u00ae\\\", \\\"Ages_2-5\\\", \\\"Plastic box\\\", \\\"1.41Kg (3.11 lb)\\\", \\\"Large\\\"], [\\\"Farmers' Market\\\", \\\"DUPLO\\\\u00ae\\\", \\\"Ages_2-5\\\", \\\"Box\\\", \\\"NaN\\\", \\\"Large\\\"], [\\\"Farm Animals\\\", \\\"DUPLO\\\\u00ae\\\", \\\"Ages_2-5\\\", \\\"Box\\\", \\\"NaN\\\", \\\"Large\\\"], [\\\"Train Bridge and Tracks\\\", \\\"DUPLO\\\\u00ae\\\", \\\"Ages_2-5\\\", \\\"Box\\\", \\\"0.88Kg (1.95 lb)\\\", \\\"Large\\\"], [\\\"Cargo Train\\\", \\\"DUPLO\\\\u00ae\\\", \\\"Ages_2-5\\\", \\\"Box\\\", \\\"2.86Kg (6.31 lb)\\\", \\\"Large\\\"], [\\\"Spider-Man &amp; Hulk Adventures\\\", \\\"DUPLO\\\\u00ae\\\", \\\"Ages_2-5\\\", \\\"Box\\\", \\\"0.54Kg (1.19 lb)\\\", \\\"Large\\\"], [\\\"Rapunzel's Tower\\\", \\\"DUPLO\\\\u00ae\\\", \\\"Ages_2-5\\\", \\\"Box\\\", \\\"NaN\\\", \\\"Large\\\"], [\\\"Train Tracks\\\", \\\"DUPLO\\\\u00ae\\\", \\\"Ages_2-5\\\", \\\"Box\\\", \\\"0.66Kg (1.45 lb)\\\", \\\"Large\\\"], [\\\"My First Fun Puzzle\\\", \\\"DUPLO\\\\u00ae\\\", \\\"Ages_1\\\\u00bd+\\\", \\\"NaN\\\", \\\"NaN\\\", \\\"Large\\\"], [\\\"My First Car Creations\\\", \\\"DUPLO\\\\u00ae\\\", \\\"Ages_1\\\\u00bd+\\\", \\\"NaN\\\", \\\"0.64Kg (1.41 lb)\\\", \\\"Large\\\"], [\\\"Fire Truck\\\", \\\"DUPLO\\\\u00ae\\\", \\\"Ages_2+\\\", \\\"Box\\\", \\\"0.45Kg (0.99 lb)\\\", \\\"Large\\\"], [\\\"Baby Animals\\\", \\\"DUPLO\\\\u00ae\\\", \\\"Ages_2+\\\", \\\"Box\\\", \\\"NaN\\\", \\\"Large\\\"], [\\\"Tropical Island\\\", \\\"DUPLO\\\\u00ae\\\", \\\"Ages_2+\\\", \\\"Box\\\", \\\"NaN\\\", \\\"Large\\\"], [\\\"Plane\\\", \\\"DUPLO\\\\u00ae\\\", \\\"Ages_2+\\\", \\\"Box\\\", \\\"NaN\\\", \\\"Large\\\"], [\\\"Submarine Adventure\\\", \\\"DUPLO\\\\u00ae\\\", \\\"Ages_2+\\\", \\\"Box\\\", \\\"NaN\\\", \\\"Large\\\"], [\\\"Alphabet Truck\\\", \\\"DUPLO\\\\u00ae\\\", \\\"Ages_1\\\\u00bd+\\\", \\\"Box\\\", \\\"NaN\\\", \\\"Large\\\"], [\\\"Tow Truck\\\", \\\"DUPLO\\\\u00ae\\\", \\\"Ages_1\\\\u00bd+\\\", \\\"Box with backing card\\\", \\\"NaN\\\", \\\"Large\\\"], [\\\"Super Heroes Lab\\\", \\\"DUPLO\\\\u00ae\\\", \\\"Ages_2+\\\", \\\"Box\\\", \\\"NaN\\\", \\\"Large\\\"], [\\\"Bedroom\\\", \\\"DUPLO\\\\u00ae\\\", \\\"Ages_2+\\\", \\\"Box\\\", \\\"NaN\\\", \\\"Large\\\"], [\\\"Pizza Stand\\\", \\\"DUPLO\\\\u00ae\\\", \\\"Ages_2+\\\", \\\"Box\\\", \\\"NaN\\\", \\\"Large\\\"], [\\\"Bakery\\\", \\\"DUPLO\\\\u00ae\\\", \\\"Ages_2+\\\", \\\"Box\\\", \\\"NaN\\\", \\\"Large\\\"], [\\\"Modular Playhouse\\\", \\\"DUPLO\\\\u00ae\\\", \\\"Ages_2+\\\", \\\"Box\\\", \\\"NaN\\\", \\\"Large\\\"], [\\\"Stephanie's Soccer Practice\\\", \\\"Friends\\\", \\\"Ages_6-12\\\", \\\"Box\\\", \\\"NaN\\\", \\\"Small\\\"], [\\\"Olivia's Mission Vehicle\\\", \\\"Friends\\\", \\\"Ages_6-12\\\", \\\"Box\\\", \\\"0.32Kg (0.7 lb)\\\", \\\"Small\\\"], [\\\"Mia's Tree House\\\", \\\"Friends\\\", \\\"Ages_6-12\\\", \\\"Box\\\", \\\"0.61Kg (1.34 lb)\\\", \\\"Small\\\"], [\\\"Friendship House\\\", \\\"Friends\\\", \\\"Ages_6-12\\\", \\\"Box\\\", \\\"1.14Kg (2.51 lb)\\\", \\\"Small\\\"], [\\\"Friends Advent Calendar\\\", \\\"Friends\\\", \\\"Ages_6-12\\\", \\\"Box\\\", \\\"NaN\\\", \\\"Small\\\"], [\\\"Stephanie's Heart Box\\\", \\\"Friends\\\", \\\"Ages_6+\\\", \\\"NaN\\\", \\\"0.13Kg (0.29 lb)\\\", \\\"Small\\\"], [\\\"Mia's Heart Box\\\", \\\"Friends\\\", \\\"Ages_6+\\\", \\\"NaN\\\", \\\"0.14Kg (0.31 lb)\\\", \\\"Small\\\"], [\\\"Mia's Forest Adventures\\\", \\\"Friends\\\", \\\"Ages_6+\\\", \\\"NaN\\\", \\\"0.15Kg (0.33 lb)\\\", \\\"Small\\\"], [\\\"Stephanie's Obstacle Course\\\", \\\"Friends\\\", \\\"Ages_6+\\\", \\\"NaN\\\", \\\"0.59Kg (1.3 lb)\\\", \\\"Small\\\"], [\\\"Mia's House\\\", \\\"Friends\\\", \\\"Ages_6+\\\", \\\"NaN\\\", \\\"1.12Kg (2.47 lb)\\\", \\\"Small\\\"], [\\\"Andrea's Pool Party\\\", \\\"Friends\\\", \\\"Ages_6+\\\", \\\"Box\\\", \\\"NaN\\\", \\\"Small\\\"], [\\\"Turtles Rescue Mission\\\", \\\"Friends\\\", \\\"Ages_6+\\\", \\\"Box\\\", \\\"NaN\\\", \\\"Small\\\"], [\\\"Dolphins Rescue Mission\\\", \\\"Friends\\\", \\\"Ages_6+\\\", \\\"Box\\\", \\\"NaN\\\", \\\"Small\\\"], [\\\"Andrea's Summer Heart Box\\\", \\\"Friends\\\", \\\"Ages_6+\\\", \\\"Other\\\", \\\"NaN\\\", \\\"Small\\\"], [\\\"Olivia's Summer Heart Box\\\", \\\"Friends\\\", \\\"Ages_6+\\\", \\\"Other\\\", \\\"NaN\\\", \\\"Small\\\"], [\\\"Heartlake City Hospital\\\", \\\"Friends\\\", \\\"Ages_6+\\\", \\\"Box\\\", \\\"NaN\\\", \\\"Small\\\"], [\\\"Puppy Playground\\\", \\\"Friends\\\", \\\"Ages_4+\\\", \\\"Box\\\", \\\"NaN\\\", \\\"Small\\\"], [\\\"Andrea's Play Cube - Singer\\\", \\\"Friends\\\", \\\"Ages_6+\\\", \\\"Box\\\", \\\"NaN\\\", \\\"Small\\\"], [\\\"Mia's Play Cube - Veterinarian\\\", \\\"Friends\\\", \\\"Ages_6+\\\", \\\"Box\\\", \\\"NaN\\\", \\\"Small\\\"], [\\\"Mia's Play Cube - Cinema\\\", \\\"Friends\\\", \\\"Ages_6+\\\", \\\"Box\\\", \\\"NaN\\\", \\\"Small\\\"], [\\\"Baby Elephant Jungle Rescue\\\", \\\"Friends\\\", \\\"Ages_6+\\\", \\\"Box\\\", \\\"NaN\\\", \\\"Small\\\"], [\\\"Tiger Hot Air Balloon Jungle Rescue\\\", \\\"Friends\\\", \\\"Ages_7+\\\", \\\"Box\\\", \\\"NaN\\\", \\\"Small\\\"], [\\\"Jungle Rescue Base\\\", \\\"Friends\\\", \\\"Ages_8+\\\", \\\"Box\\\", \\\"NaN\\\", \\\"Small\\\"], [\\\"Emma's Fashion Shop\\\", \\\"Friends\\\", \\\"Ages_6+\\\", \\\"Box\\\", \\\"NaN\\\", \\\"Small\\\"], [\\\"Beach House\\\", \\\"Friends\\\", \\\"Ages_6+\\\", \\\"Box\\\", \\\"NaN\\\", \\\"Small\\\"], [\\\"Off-Road Chase\\\", \\\"City\\\", \\\"Ages_5-12\\\", \\\"Box\\\", \\\"NaN\\\", \\\"Small\\\"], [\\\"Mountain Fugitives\\\", \\\"City\\\", \\\"Ages_5-12\\\", \\\"Box\\\", \\\"NaN\\\", \\\"Small\\\"], [\\\"Dirt Road Pursuit\\\", \\\"City\\\", \\\"Ages_5-12\\\", \\\"Box\\\", \\\"0.6Kg (1.32 lb)\\\", \\\"Small\\\"], [\\\"Pickup &amp; Caravan\\\", \\\"City\\\", \\\"Ages_5-12\\\", \\\"Box\\\", \\\"0.65Kg (1.43 lb)\\\", \\\"Small\\\"], [\\\"Heavy Cargo Transport\\\", \\\"City\\\", \\\"Ages_5-12\\\", \\\"Box\\\", \\\"0.59Kg (1.3 lb)\\\", \\\"Small\\\"], [\\\"Mining Team\\\", \\\"City\\\", \\\"Ages_5-12\\\", \\\"Box\\\", \\\"0.13Kg (0.29 lb)\\\", \\\"Small\\\"], [\\\"People Pack - Outdoor Adventures\\\", \\\"City\\\", \\\"Ages_5-12\\\", \\\"Box\\\", \\\"0.29Kg (0.64 lb)\\\", \\\"Small\\\"], [\\\"Parachute Arrest\\\", \\\"City\\\", \\\"Ages_5+\\\", \\\"Box\\\", \\\"0.48Kg (1.05 lb)\\\", \\\"Small\\\"], [\\\"Dock Side Fire\\\", \\\"City\\\", \\\"Ages_5+\\\", \\\"Box\\\", \\\"0.25Kg (0.54 lb)\\\", \\\"Small\\\"], [\\\"Fire Station\\\", \\\"City\\\", \\\"Ages_5+\\\", \\\"Box\\\", \\\"1.17Kg (2.57 lb)\\\", \\\"Small\\\"], [\\\"Fire Plane\\\", \\\"City\\\", \\\"Ages_6+\\\", \\\"Box\\\", \\\"0.76Kg (1.68 lb)\\\", \\\"Small\\\"], [\\\"Construction Loader\\\", \\\"City\\\", \\\"Ages_5+\\\", \\\"Box\\\", \\\"0.16Kg (0.34 lb)\\\", \\\"Small\\\"], [\\\"Diving Yacht\\\", \\\"City\\\", \\\"Ages_5+\\\", \\\"Box\\\", \\\"0.34Kg (0.74 lb)\\\", \\\"Small\\\"], [\\\"Harvester Transport\\\", \\\"City\\\", \\\"Ages_5+\\\", \\\"Box\\\", \\\"0.65Kg (1.43 lb)\\\", \\\"Small\\\"], [\\\"Mars Research Shuttle\\\", \\\"City\\\", \\\"Ages_5+\\\", \\\"Box\\\", \\\"0.61Kg (1.34 lb)\\\", \\\"Small\\\"], [\\\"Police Helicopter Chase\\\", \\\"City\\\", \\\"Ages_5+\\\", \\\"Box\\\", \\\"0.52Kg (1.16 lb)\\\", \\\"Small\\\"], [\\\"Police Monster Truck Heist\\\", \\\"City\\\", \\\"Ages_5+\\\", \\\"Box\\\", \\\"0.85Kg (1.87 lb)\\\", \\\"Small\\\"], [\\\"Police Station\\\", \\\"City\\\", \\\"Ages_6+\\\", \\\"Box\\\", \\\"1.85Kg (4.06 lb)\\\", \\\"Small\\\"], [\\\"Fire Helicopter Response\\\", \\\"City\\\", \\\"Ages_5+\\\", \\\"Box\\\", \\\"0.25Kg (0.55 lb)\\\", \\\"Small\\\"], [\\\"Street Sweeper\\\", \\\"City\\\", \\\"Ages_5+\\\", \\\"Box\\\", \\\"0.14Kg (0.31 lb)\\\", \\\"Small\\\"], [\\\"Monster Truck\\\", \\\"City\\\", \\\"Ages_5+\\\", \\\"Box\\\", \\\"0.14Kg (0.31 lb)\\\", \\\"Small\\\"], [\\\"Construction Bulldozer\\\", \\\"City\\\", \\\"Ages_4+\\\", \\\"Box\\\", \\\"0.35Kg (0.78 lb)\\\", \\\"Small\\\"], [\\\"Tuning Workshop\\\", \\\"City\\\", \\\"Ages_6+\\\", \\\"Box\\\", \\\"1.63Kg (3.58 lb)\\\", \\\"Small\\\"], [\\\"Ocean Exploration Ship\\\", \\\"City\\\", \\\"Ages_7+\\\", \\\"Box\\\", \\\"2.28Kg (5.03 lb)\\\", \\\"Small\\\"], [\\\"Safari Off-Roader\\\", \\\"City\\\", \\\"Ages_5+\\\", \\\"Box\\\", \\\"0.34Kg (0.76 lb)\\\", \\\"Small\\\"]]\"};\n",
       "        new ITable(table, dt_args);\n",
       "    });\n",
       "</script>\n"
      ],
      "text/plain": [
       "<IPython.core.display.HTML object>"
      ]
     },
     "metadata": {},
     "output_type": "display_data"
    }
   ],
   "source": [
    "cat_DF = DF.select_dtypes(include=['object', 'category'])\n",
    "show(cat_DF)"
   ]
  },
  {
   "cell_type": "markdown",
   "id": "b434d5c1-8d19-4f02-9ad0-d11779426e1a",
   "metadata": {},
   "source": [
    "These are all entries that use no numerical only input. Like Item_number which may show its item number for its lego set is not considered as an object "
   ]
  },
  {
   "cell_type": "markdown",
   "id": "0a11d681-54b1-46ce-9837-f4bd10fa768c",
   "metadata": {},
   "source": [
    "# 2B"
   ]
  },
  {
   "cell_type": "code",
   "execution_count": 34,
   "id": "fb82cd09-c3b1-4e84-b7da-6acea0c24d70",
   "metadata": {},
   "outputs": [
    {
     "data": {
      "text/html": [
       "<!--| quarto-html-table-processing: none -->\n",
       "<table id=\"itables_b7adec2e_7066_4879_9773_5f65076a43ec\"><tbody><tr>\n",
       "    <td style=\"vertical-align:middle; text-align:left\">\n",
       "    <a href=https://mwouts.github.io/itables/><svg class=\"main-svg\" xmlns=\"http://www.w3.org/2000/svg\" xmlns:xlink=\"http://www.w3.org/1999/xlink\"\n",
       "width=\"64\" viewBox=\"0 0 500 400\" style=\"font-family: 'Droid Sans', sans-serif;\">\n",
       "    <g style=\"fill:#d9d7fc\">\n",
       "        <path d=\"M100,400H500V357H100Z\" />\n",
       "        <path d=\"M100,300H400V257H100Z\" />\n",
       "        <path d=\"M0,200H400V157H0Z\" />\n",
       "        <path d=\"M100,100H500V57H100Z\" />\n",
       "        <path d=\"M100,350H500V307H100Z\" />\n",
       "        <path d=\"M100,250H400V207H100Z\" />\n",
       "        <path d=\"M0,150H400V107H0Z\" />\n",
       "        <path d=\"M100,50H500V7H100Z\" />\n",
       "    </g>\n",
       "    <g style=\"fill:#1a1366;stroke:#1a1366;\">\n",
       "   <rect x=\"100\" y=\"7\" width=\"400\" height=\"43\">\n",
       "    <animate\n",
       "      attributeName=\"width\"\n",
       "      values=\"0;400;0\"\n",
       "      dur=\"5s\"\n",
       "      repeatCount=\"indefinite\" />\n",
       "      <animate\n",
       "      attributeName=\"x\"\n",
       "      values=\"100;100;500\"\n",
       "      dur=\"5s\"\n",
       "      repeatCount=\"indefinite\" />\n",
       "  </rect>\n",
       "        <rect x=\"0\" y=\"107\" width=\"400\" height=\"43\">\n",
       "    <animate\n",
       "      attributeName=\"width\"\n",
       "      values=\"0;400;0\"\n",
       "      dur=\"3.5s\"\n",
       "      repeatCount=\"indefinite\" />\n",
       "    <animate\n",
       "      attributeName=\"x\"\n",
       "      values=\"0;0;400\"\n",
       "      dur=\"3.5s\"\n",
       "      repeatCount=\"indefinite\" />\n",
       "  </rect>\n",
       "        <rect x=\"100\" y=\"207\" width=\"300\" height=\"43\">\n",
       "    <animate\n",
       "      attributeName=\"width\"\n",
       "      values=\"0;300;0\"\n",
       "      dur=\"3s\"\n",
       "      repeatCount=\"indefinite\" />\n",
       "    <animate\n",
       "      attributeName=\"x\"\n",
       "      values=\"100;100;400\"\n",
       "      dur=\"3s\"\n",
       "      repeatCount=\"indefinite\" />\n",
       "  </rect>\n",
       "        <rect x=\"100\" y=\"307\" width=\"400\" height=\"43\">\n",
       "    <animate\n",
       "      attributeName=\"width\"\n",
       "      values=\"0;400;0\"\n",
       "      dur=\"4s\"\n",
       "      repeatCount=\"indefinite\" />\n",
       "      <animate\n",
       "      attributeName=\"x\"\n",
       "      values=\"100;100;500\"\n",
       "      dur=\"4s\"\n",
       "      repeatCount=\"indefinite\" />\n",
       "  </rect>\n",
       "        <g style=\"fill:transparent;stroke-width:8; stroke-linejoin:round\" rx=\"5\">\n",
       "            <g transform=\"translate(45 50) rotate(-45)\">\n",
       "                <circle r=\"33\" cx=\"0\" cy=\"0\" />\n",
       "                <rect x=\"-8\" y=\"32\" width=\"16\" height=\"30\" />\n",
       "            </g>\n",
       "\n",
       "            <g transform=\"translate(450 152)\">\n",
       "                <polyline points=\"-15,-20 -35,-20 -35,40 25,40 25,20\" />\n",
       "                <rect x=\"-15\" y=\"-40\" width=\"60\" height=\"60\" />\n",
       "            </g>\n",
       "\n",
       "            <g transform=\"translate(50 352)\">\n",
       "                <polygon points=\"-35,-5 0,-40 35,-5\" />\n",
       "                <polygon points=\"-35,10 0,45 35,10\" />\n",
       "            </g>\n",
       "\n",
       "            <g transform=\"translate(75 250)\">\n",
       "                <polyline points=\"-30,30 -60,0 -30,-30\" />\n",
       "                <polyline points=\"0,30 -30,0 0,-30\" />\n",
       "            </g>\n",
       "\n",
       "            <g transform=\"translate(425 250) rotate(180)\">\n",
       "                <polyline points=\"-30,30 -60,0 -30,-30\" />\n",
       "                <polyline points=\"0,30 -30,0 0,-30\" />\n",
       "            </g>\n",
       "        </g>\n",
       "    </g>\n",
       "</svg>\n",
       "</a>\n",
       "    Loading ITables v2.5.2 from the internet...\n",
       "    (need <a href=https://mwouts.github.io/itables/troubleshooting.html>help</a>?)</td>\n",
       "    </tr></tbody></table>\n",
       "<link href=\"https://www.unpkg.com/dt_for_itables@2.4.0/dt_bundle.css\" rel=\"stylesheet\">\n",
       "<script type=\"module\">\n",
       "    import { ITable, jQuery as $ } from 'https://www.unpkg.com/dt_for_itables@2.4.0/dt_bundle.js';\n",
       "\n",
       "    document.querySelectorAll(\"#itables_b7adec2e_7066_4879_9773_5f65076a43ec:not(.dataTable)\").forEach(table => {\n",
       "        if (!(table instanceof HTMLTableElement))\n",
       "            return;\n",
       "\n",
       "        let dt_args = {\"layout\": {\"topStart\": \"pageLength\", \"topEnd\": \"search\", \"bottomStart\": \"info\", \"bottomEnd\": \"paging\"}, \"classes\": [\"display\", \"nowrap\"], \"order\": [], \"text_in_header_can_be_selected\": true, \"style\": {\"table-layout\": \"auto\", \"width\": \"auto\", \"margin\": \"auto\", \"caption-side\": \"bottom\"}, \"table_html\": \"<table><thead>\\n    <tr style=\\\"text-align: right;\\\">\\n      <th></th>\\n      <th>count</th>\\n    </tr>\\n    <tr>\\n      <th>set_name</th>\\n      <th></th>\\n    </tr>\\n  </thead></table>\", \"data_json\": \"[[\\\"My First Ladybird\\\", 1], [\\\"People Pack - Outdoor Adventures\\\", 1], [\\\"Heavy Cargo Transport\\\", 1], [\\\"Pickup &amp; Caravan\\\", 1], [\\\"Dirt Road Pursuit\\\", 1], [\\\"Mountain Fugitives\\\", 1], [\\\"Off-Road Chase\\\", 1], [\\\"Beach House\\\", 1], [\\\"Emma's Fashion Shop\\\", 1], [\\\"Jungle Rescue Base\\\", 1], [\\\"Tiger Hot Air Balloon Jungle Rescue\\\", 1], [\\\"Baby Elephant Jungle Rescue\\\", 1], [\\\"Mia's Play Cube - Cinema\\\", 1], [\\\"Mia's Play Cube - Veterinarian\\\", 1], [\\\"Andrea's Play Cube - Singer\\\", 1], [\\\"Puppy Playground\\\", 1], [\\\"Heartlake City Hospital\\\", 1], [\\\"Mining Team\\\", 1], [\\\"Parachute Arrest\\\", 1], [\\\"Andrea's Summer Heart Box\\\", 1], [\\\"Dock Side Fire\\\", 1], [\\\"Ocean Exploration Ship\\\", 1], [\\\"Tuning Workshop\\\", 1], [\\\"Construction Bulldozer\\\", 1], [\\\"Monster Truck\\\", 1], [\\\"Street Sweeper\\\", 1], [\\\"Fire Helicopter Response\\\", 1], [\\\"Police Station\\\", 1], [\\\"Police Monster Truck Heist\\\", 1], [\\\"Police Helicopter Chase\\\", 1], [\\\"Mars Research Shuttle\\\", 1], [\\\"Harvester Transport\\\", 1], [\\\"Diving Yacht\\\", 1], [\\\"Construction Loader\\\", 1], [\\\"Fire Plane\\\", 1], [\\\"Fire Station\\\", 1], [\\\"Olivia's Summer Heart Box\\\", 1], [\\\"Dolphins Rescue Mission\\\", 1], [\\\"My First Race Car\\\", 1], [\\\"Alphabet Truck\\\", 1], [\\\"Plane\\\", 1], [\\\"Tropical Island\\\", 1], [\\\"Baby Animals\\\", 1], [\\\"Fire Truck\\\", 1], [\\\"My First Car Creations\\\", 1], [\\\"My First Fun Puzzle\\\", 1], [\\\"Train Tracks\\\", 1], [\\\"Rapunzel's Tower\\\", 1], [\\\"Spider-Man &amp; Hulk Adventures\\\", 1], [\\\"Cargo Train\\\", 1], [\\\"Train Bridge and Tracks\\\", 1], [\\\"Farm Animals\\\", 1], [\\\"Farmers' Market\\\", 1], [\\\"Large Playground Brick Box\\\", 1], [\\\"My First Celebration\\\", 1], [\\\"Submarine Adventure\\\", 1], [\\\"Tow Truck\\\", 1], [\\\"Turtles Rescue Mission\\\", 1], [\\\"Super Heroes Lab\\\", 1], [\\\"Andrea's Pool Party\\\", 1], [\\\"Mia's House\\\", 1], [\\\"Stephanie's Obstacle Course\\\", 1], [\\\"Mia's Forest Adventures\\\", 1], [\\\"Mia's Heart Box\\\", 1], [\\\"Stephanie's Heart Box\\\", 1], [\\\"Friends Advent Calendar\\\", 1], [\\\"Friendship House\\\", 1], [\\\"Mia's Tree House\\\", 1], [\\\"Olivia's Mission Vehicle\\\", 1], [\\\"Stephanie's Soccer Practice\\\", 1], [\\\"Modular Playhouse\\\", 1], [\\\"Bakery\\\", 1], [\\\"Pizza Stand\\\", 1], [\\\"Bedroom\\\", 1], [\\\"Safari Off-Roader\\\", 1]]\"};\n",
       "        new ITable(table, dt_args);\n",
       "    });\n",
       "</script>\n"
      ],
      "text/plain": [
       "<IPython.core.display.HTML object>"
      ]
     },
     "metadata": {},
     "output_type": "display_data"
    }
   ],
   "source": [
    "setName_DF = DF['set_name'].value_counts()\n",
    "show(setName_DF)\n",
    "#The frequency is not needed since there won't be a lego set name that is the same "
   ]
  },
  {
   "cell_type": "code",
   "execution_count": 41,
   "id": "f9908d92-edad-4581-ae23-748fb96de9f3",
   "metadata": {},
   "outputs": [
    {
     "data": {
      "text/html": [
       "<!--| quarto-html-table-processing: none -->\n",
       "<table id=\"itables_b13323e0_95b4_485b_9f46_97d460f72581\"><tbody><tr>\n",
       "    <td style=\"vertical-align:middle; text-align:left\">\n",
       "    <a href=https://mwouts.github.io/itables/><svg class=\"main-svg\" xmlns=\"http://www.w3.org/2000/svg\" xmlns:xlink=\"http://www.w3.org/1999/xlink\"\n",
       "width=\"64\" viewBox=\"0 0 500 400\" style=\"font-family: 'Droid Sans', sans-serif;\">\n",
       "    <g style=\"fill:#d9d7fc\">\n",
       "        <path d=\"M100,400H500V357H100Z\" />\n",
       "        <path d=\"M100,300H400V257H100Z\" />\n",
       "        <path d=\"M0,200H400V157H0Z\" />\n",
       "        <path d=\"M100,100H500V57H100Z\" />\n",
       "        <path d=\"M100,350H500V307H100Z\" />\n",
       "        <path d=\"M100,250H400V207H100Z\" />\n",
       "        <path d=\"M0,150H400V107H0Z\" />\n",
       "        <path d=\"M100,50H500V7H100Z\" />\n",
       "    </g>\n",
       "    <g style=\"fill:#1a1366;stroke:#1a1366;\">\n",
       "   <rect x=\"100\" y=\"7\" width=\"400\" height=\"43\">\n",
       "    <animate\n",
       "      attributeName=\"width\"\n",
       "      values=\"0;400;0\"\n",
       "      dur=\"5s\"\n",
       "      repeatCount=\"indefinite\" />\n",
       "      <animate\n",
       "      attributeName=\"x\"\n",
       "      values=\"100;100;500\"\n",
       "      dur=\"5s\"\n",
       "      repeatCount=\"indefinite\" />\n",
       "  </rect>\n",
       "        <rect x=\"0\" y=\"107\" width=\"400\" height=\"43\">\n",
       "    <animate\n",
       "      attributeName=\"width\"\n",
       "      values=\"0;400;0\"\n",
       "      dur=\"3.5s\"\n",
       "      repeatCount=\"indefinite\" />\n",
       "    <animate\n",
       "      attributeName=\"x\"\n",
       "      values=\"0;0;400\"\n",
       "      dur=\"3.5s\"\n",
       "      repeatCount=\"indefinite\" />\n",
       "  </rect>\n",
       "        <rect x=\"100\" y=\"207\" width=\"300\" height=\"43\">\n",
       "    <animate\n",
       "      attributeName=\"width\"\n",
       "      values=\"0;300;0\"\n",
       "      dur=\"3s\"\n",
       "      repeatCount=\"indefinite\" />\n",
       "    <animate\n",
       "      attributeName=\"x\"\n",
       "      values=\"100;100;400\"\n",
       "      dur=\"3s\"\n",
       "      repeatCount=\"indefinite\" />\n",
       "  </rect>\n",
       "        <rect x=\"100\" y=\"307\" width=\"400\" height=\"43\">\n",
       "    <animate\n",
       "      attributeName=\"width\"\n",
       "      values=\"0;400;0\"\n",
       "      dur=\"4s\"\n",
       "      repeatCount=\"indefinite\" />\n",
       "      <animate\n",
       "      attributeName=\"x\"\n",
       "      values=\"100;100;500\"\n",
       "      dur=\"4s\"\n",
       "      repeatCount=\"indefinite\" />\n",
       "  </rect>\n",
       "        <g style=\"fill:transparent;stroke-width:8; stroke-linejoin:round\" rx=\"5\">\n",
       "            <g transform=\"translate(45 50) rotate(-45)\">\n",
       "                <circle r=\"33\" cx=\"0\" cy=\"0\" />\n",
       "                <rect x=\"-8\" y=\"32\" width=\"16\" height=\"30\" />\n",
       "            </g>\n",
       "\n",
       "            <g transform=\"translate(450 152)\">\n",
       "                <polyline points=\"-15,-20 -35,-20 -35,40 25,40 25,20\" />\n",
       "                <rect x=\"-15\" y=\"-40\" width=\"60\" height=\"60\" />\n",
       "            </g>\n",
       "\n",
       "            <g transform=\"translate(50 352)\">\n",
       "                <polygon points=\"-35,-5 0,-40 35,-5\" />\n",
       "                <polygon points=\"-35,10 0,45 35,10\" />\n",
       "            </g>\n",
       "\n",
       "            <g transform=\"translate(75 250)\">\n",
       "                <polyline points=\"-30,30 -60,0 -30,-30\" />\n",
       "                <polyline points=\"0,30 -30,0 0,-30\" />\n",
       "            </g>\n",
       "\n",
       "            <g transform=\"translate(425 250) rotate(180)\">\n",
       "                <polyline points=\"-30,30 -60,0 -30,-30\" />\n",
       "                <polyline points=\"0,30 -30,0 0,-30\" />\n",
       "            </g>\n",
       "        </g>\n",
       "    </g>\n",
       "</svg>\n",
       "</a>\n",
       "    Loading ITables v2.5.2 from the internet...\n",
       "    (need <a href=https://mwouts.github.io/itables/troubleshooting.html>help</a>?)</td>\n",
       "    </tr></tbody></table>\n",
       "<link href=\"https://www.unpkg.com/dt_for_itables@2.4.0/dt_bundle.css\" rel=\"stylesheet\">\n",
       "<script type=\"module\">\n",
       "    import { ITable, jQuery as $ } from 'https://www.unpkg.com/dt_for_itables@2.4.0/dt_bundle.js';\n",
       "\n",
       "    document.querySelectorAll(\"#itables_b13323e0_95b4_485b_9f46_97d460f72581:not(.dataTable)\").forEach(table => {\n",
       "        if (!(table instanceof HTMLTableElement))\n",
       "            return;\n",
       "\n",
       "        let dt_args = {\"layout\": {\"topStart\": null, \"topEnd\": null, \"bottomStart\": null, \"bottomEnd\": null}, \"classes\": [\"display\", \"nowrap\"], \"order\": [], \"text_in_header_can_be_selected\": true, \"style\": {\"table-layout\": \"auto\", \"width\": \"auto\", \"margin\": \"auto\", \"caption-side\": \"bottom\"}, \"table_html\": \"<table><thead>\\n    <tr style=\\\"text-align: right;\\\">\\n      <th></th>\\n      <th>count</th>\\n    </tr>\\n    <tr>\\n      <th>theme</th>\\n      <th></th>\\n    </tr>\\n  </thead></table>\", \"data_json\": \"[[\\\"DUPLO\\\\u00ae\\\", 25], [\\\"Friends\\\", 25], [\\\"City\\\", 25]]\"};\n",
       "        new ITable(table, dt_args);\n",
       "    });\n",
       "</script>\n"
      ],
      "text/plain": [
       "<IPython.core.display.HTML object>"
      ]
     },
     "metadata": {},
     "output_type": "display_data"
    }
   ],
   "source": [
    "theme_DF = DF['theme'].value_counts()\n",
    "show(theme_DF)\n",
    "#We see 3 different themes with each coming 25 times each"
   ]
  },
  {
   "cell_type": "code",
   "execution_count": 40,
   "id": "741fd47b-c147-42e7-a228-ad8c6eed5588",
   "metadata": {},
   "outputs": [
    {
     "data": {
      "text/html": [
       "<!--| quarto-html-table-processing: none -->\n",
       "<table id=\"itables_f9202a74_44ec_4303_8389_598f52c9d202\"><tbody><tr>\n",
       "    <td style=\"vertical-align:middle; text-align:left\">\n",
       "    <a href=https://mwouts.github.io/itables/><svg class=\"main-svg\" xmlns=\"http://www.w3.org/2000/svg\" xmlns:xlink=\"http://www.w3.org/1999/xlink\"\n",
       "width=\"64\" viewBox=\"0 0 500 400\" style=\"font-family: 'Droid Sans', sans-serif;\">\n",
       "    <g style=\"fill:#d9d7fc\">\n",
       "        <path d=\"M100,400H500V357H100Z\" />\n",
       "        <path d=\"M100,300H400V257H100Z\" />\n",
       "        <path d=\"M0,200H400V157H0Z\" />\n",
       "        <path d=\"M100,100H500V57H100Z\" />\n",
       "        <path d=\"M100,350H500V307H100Z\" />\n",
       "        <path d=\"M100,250H400V207H100Z\" />\n",
       "        <path d=\"M0,150H400V107H0Z\" />\n",
       "        <path d=\"M100,50H500V7H100Z\" />\n",
       "    </g>\n",
       "    <g style=\"fill:#1a1366;stroke:#1a1366;\">\n",
       "   <rect x=\"100\" y=\"7\" width=\"400\" height=\"43\">\n",
       "    <animate\n",
       "      attributeName=\"width\"\n",
       "      values=\"0;400;0\"\n",
       "      dur=\"5s\"\n",
       "      repeatCount=\"indefinite\" />\n",
       "      <animate\n",
       "      attributeName=\"x\"\n",
       "      values=\"100;100;500\"\n",
       "      dur=\"5s\"\n",
       "      repeatCount=\"indefinite\" />\n",
       "  </rect>\n",
       "        <rect x=\"0\" y=\"107\" width=\"400\" height=\"43\">\n",
       "    <animate\n",
       "      attributeName=\"width\"\n",
       "      values=\"0;400;0\"\n",
       "      dur=\"3.5s\"\n",
       "      repeatCount=\"indefinite\" />\n",
       "    <animate\n",
       "      attributeName=\"x\"\n",
       "      values=\"0;0;400\"\n",
       "      dur=\"3.5s\"\n",
       "      repeatCount=\"indefinite\" />\n",
       "  </rect>\n",
       "        <rect x=\"100\" y=\"207\" width=\"300\" height=\"43\">\n",
       "    <animate\n",
       "      attributeName=\"width\"\n",
       "      values=\"0;300;0\"\n",
       "      dur=\"3s\"\n",
       "      repeatCount=\"indefinite\" />\n",
       "    <animate\n",
       "      attributeName=\"x\"\n",
       "      values=\"100;100;400\"\n",
       "      dur=\"3s\"\n",
       "      repeatCount=\"indefinite\" />\n",
       "  </rect>\n",
       "        <rect x=\"100\" y=\"307\" width=\"400\" height=\"43\">\n",
       "    <animate\n",
       "      attributeName=\"width\"\n",
       "      values=\"0;400;0\"\n",
       "      dur=\"4s\"\n",
       "      repeatCount=\"indefinite\" />\n",
       "      <animate\n",
       "      attributeName=\"x\"\n",
       "      values=\"100;100;500\"\n",
       "      dur=\"4s\"\n",
       "      repeatCount=\"indefinite\" />\n",
       "  </rect>\n",
       "        <g style=\"fill:transparent;stroke-width:8; stroke-linejoin:round\" rx=\"5\">\n",
       "            <g transform=\"translate(45 50) rotate(-45)\">\n",
       "                <circle r=\"33\" cx=\"0\" cy=\"0\" />\n",
       "                <rect x=\"-8\" y=\"32\" width=\"16\" height=\"30\" />\n",
       "            </g>\n",
       "\n",
       "            <g transform=\"translate(450 152)\">\n",
       "                <polyline points=\"-15,-20 -35,-20 -35,40 25,40 25,20\" />\n",
       "                <rect x=\"-15\" y=\"-40\" width=\"60\" height=\"60\" />\n",
       "            </g>\n",
       "\n",
       "            <g transform=\"translate(50 352)\">\n",
       "                <polygon points=\"-35,-5 0,-40 35,-5\" />\n",
       "                <polygon points=\"-35,10 0,45 35,10\" />\n",
       "            </g>\n",
       "\n",
       "            <g transform=\"translate(75 250)\">\n",
       "                <polyline points=\"-30,30 -60,0 -30,-30\" />\n",
       "                <polyline points=\"0,30 -30,0 0,-30\" />\n",
       "            </g>\n",
       "\n",
       "            <g transform=\"translate(425 250) rotate(180)\">\n",
       "                <polyline points=\"-30,30 -60,0 -30,-30\" />\n",
       "                <polyline points=\"0,30 -30,0 0,-30\" />\n",
       "            </g>\n",
       "        </g>\n",
       "    </g>\n",
       "</svg>\n",
       "</a>\n",
       "    Loading ITables v2.5.2 from the internet...\n",
       "    (need <a href=https://mwouts.github.io/itables/troubleshooting.html>help</a>?)</td>\n",
       "    </tr></tbody></table>\n",
       "<link href=\"https://www.unpkg.com/dt_for_itables@2.4.0/dt_bundle.css\" rel=\"stylesheet\">\n",
       "<script type=\"module\">\n",
       "    import { ITable, jQuery as $ } from 'https://www.unpkg.com/dt_for_itables@2.4.0/dt_bundle.js';\n",
       "\n",
       "    document.querySelectorAll(\"#itables_f9202a74_44ec_4303_8389_598f52c9d202:not(.dataTable)\").forEach(table => {\n",
       "        if (!(table instanceof HTMLTableElement))\n",
       "            return;\n",
       "\n",
       "        let dt_args = {\"layout\": {\"topStart\": \"pageLength\", \"topEnd\": \"search\", \"bottomStart\": \"info\", \"bottomEnd\": \"paging\"}, \"classes\": [\"display\", \"nowrap\"], \"order\": [], \"text_in_header_can_be_selected\": true, \"style\": {\"table-layout\": \"auto\", \"width\": \"auto\", \"margin\": \"auto\", \"caption-side\": \"bottom\"}, \"table_html\": \"<table><thead>\\n    <tr style=\\\"text-align: right;\\\">\\n      <th></th>\\n      <th>count</th>\\n    </tr>\\n    <tr>\\n      <th>ages</th>\\n      <th></th>\\n    </tr>\\n  </thead></table>\", \"data_json\": \"[[\\\"Ages_6+\\\", 20], [\\\"Ages_5+\\\", 13], [\\\"Ages_2+\\\", 10], [\\\"Ages_2-5\\\", 8], [\\\"Ages_5-12\\\", 7], [\\\"Ages_6-12\\\", 5], [\\\"Ages_1\\\\u00bd+\\\", 4], [\\\"Ages_1\\\\u00bd-3\\\", 3], [\\\"Ages_4+\\\", 2], [\\\"Ages_7+\\\", 2], [\\\"Ages_8+\\\", 1]]\"};\n",
       "        new ITable(table, dt_args);\n",
       "    });\n",
       "</script>\n"
      ],
      "text/plain": [
       "<IPython.core.display.HTML object>"
      ]
     },
     "metadata": {},
     "output_type": "display_data"
    }
   ],
   "source": [
    "ages_DF = DF['ages'].value_counts()\n",
    "show(ages_DF)\n",
    "#We have 10 different age groupings and how many times they come up"
   ]
  },
  {
   "cell_type": "code",
   "execution_count": 134,
   "id": "9173cba0-c025-4079-a7e9-db27f969deb0",
   "metadata": {},
   "outputs": [
    {
     "data": {
      "text/html": [
       "<!--| quarto-html-table-processing: none -->\n",
       "<table id=\"itables_cee7a6fe_bf75_4bc8_90c1_a993aea22ef7\"><tbody><tr>\n",
       "    <td style=\"vertical-align:middle; text-align:left\">\n",
       "    <a href=https://mwouts.github.io/itables/><svg class=\"main-svg\" xmlns=\"http://www.w3.org/2000/svg\" xmlns:xlink=\"http://www.w3.org/1999/xlink\"\n",
       "width=\"64\" viewBox=\"0 0 500 400\" style=\"font-family: 'Droid Sans', sans-serif;\">\n",
       "    <g style=\"fill:#d9d7fc\">\n",
       "        <path d=\"M100,400H500V357H100Z\" />\n",
       "        <path d=\"M100,300H400V257H100Z\" />\n",
       "        <path d=\"M0,200H400V157H0Z\" />\n",
       "        <path d=\"M100,100H500V57H100Z\" />\n",
       "        <path d=\"M100,350H500V307H100Z\" />\n",
       "        <path d=\"M100,250H400V207H100Z\" />\n",
       "        <path d=\"M0,150H400V107H0Z\" />\n",
       "        <path d=\"M100,50H500V7H100Z\" />\n",
       "    </g>\n",
       "    <g style=\"fill:#1a1366;stroke:#1a1366;\">\n",
       "   <rect x=\"100\" y=\"7\" width=\"400\" height=\"43\">\n",
       "    <animate\n",
       "      attributeName=\"width\"\n",
       "      values=\"0;400;0\"\n",
       "      dur=\"5s\"\n",
       "      repeatCount=\"indefinite\" />\n",
       "      <animate\n",
       "      attributeName=\"x\"\n",
       "      values=\"100;100;500\"\n",
       "      dur=\"5s\"\n",
       "      repeatCount=\"indefinite\" />\n",
       "  </rect>\n",
       "        <rect x=\"0\" y=\"107\" width=\"400\" height=\"43\">\n",
       "    <animate\n",
       "      attributeName=\"width\"\n",
       "      values=\"0;400;0\"\n",
       "      dur=\"3.5s\"\n",
       "      repeatCount=\"indefinite\" />\n",
       "    <animate\n",
       "      attributeName=\"x\"\n",
       "      values=\"0;0;400\"\n",
       "      dur=\"3.5s\"\n",
       "      repeatCount=\"indefinite\" />\n",
       "  </rect>\n",
       "        <rect x=\"100\" y=\"207\" width=\"300\" height=\"43\">\n",
       "    <animate\n",
       "      attributeName=\"width\"\n",
       "      values=\"0;300;0\"\n",
       "      dur=\"3s\"\n",
       "      repeatCount=\"indefinite\" />\n",
       "    <animate\n",
       "      attributeName=\"x\"\n",
       "      values=\"100;100;400\"\n",
       "      dur=\"3s\"\n",
       "      repeatCount=\"indefinite\" />\n",
       "  </rect>\n",
       "        <rect x=\"100\" y=\"307\" width=\"400\" height=\"43\">\n",
       "    <animate\n",
       "      attributeName=\"width\"\n",
       "      values=\"0;400;0\"\n",
       "      dur=\"4s\"\n",
       "      repeatCount=\"indefinite\" />\n",
       "      <animate\n",
       "      attributeName=\"x\"\n",
       "      values=\"100;100;500\"\n",
       "      dur=\"4s\"\n",
       "      repeatCount=\"indefinite\" />\n",
       "  </rect>\n",
       "        <g style=\"fill:transparent;stroke-width:8; stroke-linejoin:round\" rx=\"5\">\n",
       "            <g transform=\"translate(45 50) rotate(-45)\">\n",
       "                <circle r=\"33\" cx=\"0\" cy=\"0\" />\n",
       "                <rect x=\"-8\" y=\"32\" width=\"16\" height=\"30\" />\n",
       "            </g>\n",
       "\n",
       "            <g transform=\"translate(450 152)\">\n",
       "                <polyline points=\"-15,-20 -35,-20 -35,40 25,40 25,20\" />\n",
       "                <rect x=\"-15\" y=\"-40\" width=\"60\" height=\"60\" />\n",
       "            </g>\n",
       "\n",
       "            <g transform=\"translate(50 352)\">\n",
       "                <polygon points=\"-35,-5 0,-40 35,-5\" />\n",
       "                <polygon points=\"-35,10 0,45 35,10\" />\n",
       "            </g>\n",
       "\n",
       "            <g transform=\"translate(75 250)\">\n",
       "                <polyline points=\"-30,30 -60,0 -30,-30\" />\n",
       "                <polyline points=\"0,30 -30,0 0,-30\" />\n",
       "            </g>\n",
       "\n",
       "            <g transform=\"translate(425 250) rotate(180)\">\n",
       "                <polyline points=\"-30,30 -60,0 -30,-30\" />\n",
       "                <polyline points=\"0,30 -30,0 0,-30\" />\n",
       "            </g>\n",
       "        </g>\n",
       "    </g>\n",
       "</svg>\n",
       "</a>\n",
       "    Loading ITables v2.5.2 from the internet...\n",
       "    (need <a href=https://mwouts.github.io/itables/troubleshooting.html>help</a>?)</td>\n",
       "    </tr></tbody></table>\n",
       "<link href=\"https://www.unpkg.com/dt_for_itables@2.4.0/dt_bundle.css\" rel=\"stylesheet\">\n",
       "<script type=\"module\">\n",
       "    import { ITable, jQuery as $ } from 'https://www.unpkg.com/dt_for_itables@2.4.0/dt_bundle.js';\n",
       "\n",
       "    document.querySelectorAll(\"#itables_cee7a6fe_bf75_4bc8_90c1_a993aea22ef7:not(.dataTable)\").forEach(table => {\n",
       "        if (!(table instanceof HTMLTableElement))\n",
       "            return;\n",
       "\n",
       "        let dt_args = {\"layout\": {\"topStart\": null, \"topEnd\": null, \"bottomStart\": null, \"bottomEnd\": null}, \"classes\": [\"display\", \"nowrap\"], \"order\": [], \"text_in_header_can_be_selected\": true, \"style\": {\"table-layout\": \"auto\", \"width\": \"auto\", \"margin\": \"auto\", \"caption-side\": \"bottom\"}, \"table_html\": \"<table><thead>\\n    <tr style=\\\"text-align: right;\\\">\\n      <th></th>\\n      <th>count</th>\\n    </tr>\\n    <tr>\\n      <th>packaging</th>\\n      <th></th>\\n    </tr>\\n  </thead></table>\", \"data_json\": \"[[\\\"Box\\\", 64], [\\\"Other\\\", 2], [\\\"Plastic box\\\", 1], [\\\"Box with backing card\\\", 1]]\"};\n",
       "        new ITable(table, dt_args);\n",
       "    });\n",
       "</script>\n"
      ],
      "text/plain": [
       "<IPython.core.display.HTML object>"
      ]
     },
     "metadata": {},
     "output_type": "display_data"
    }
   ],
   "source": [
    "pack_DF = DF['packaging'].value_counts()\n",
    "show(pack_DF)\n",
    "#We have 4 different types of packaging "
   ]
  },
  {
   "cell_type": "code",
   "execution_count": 35,
   "id": "73ac3784-d5e3-425d-bfab-c611fd7cf866",
   "metadata": {},
   "outputs": [
    {
     "data": {
      "text/html": [
       "<!--| quarto-html-table-processing: none -->\n",
       "<table id=\"itables_f0a79e71_8abb_4584_b936_1207319b1148\"><tbody><tr>\n",
       "    <td style=\"vertical-align:middle; text-align:left\">\n",
       "    <a href=https://mwouts.github.io/itables/><svg class=\"main-svg\" xmlns=\"http://www.w3.org/2000/svg\" xmlns:xlink=\"http://www.w3.org/1999/xlink\"\n",
       "width=\"64\" viewBox=\"0 0 500 400\" style=\"font-family: 'Droid Sans', sans-serif;\">\n",
       "    <g style=\"fill:#d9d7fc\">\n",
       "        <path d=\"M100,400H500V357H100Z\" />\n",
       "        <path d=\"M100,300H400V257H100Z\" />\n",
       "        <path d=\"M0,200H400V157H0Z\" />\n",
       "        <path d=\"M100,100H500V57H100Z\" />\n",
       "        <path d=\"M100,350H500V307H100Z\" />\n",
       "        <path d=\"M100,250H400V207H100Z\" />\n",
       "        <path d=\"M0,150H400V107H0Z\" />\n",
       "        <path d=\"M100,50H500V7H100Z\" />\n",
       "    </g>\n",
       "    <g style=\"fill:#1a1366;stroke:#1a1366;\">\n",
       "   <rect x=\"100\" y=\"7\" width=\"400\" height=\"43\">\n",
       "    <animate\n",
       "      attributeName=\"width\"\n",
       "      values=\"0;400;0\"\n",
       "      dur=\"5s\"\n",
       "      repeatCount=\"indefinite\" />\n",
       "      <animate\n",
       "      attributeName=\"x\"\n",
       "      values=\"100;100;500\"\n",
       "      dur=\"5s\"\n",
       "      repeatCount=\"indefinite\" />\n",
       "  </rect>\n",
       "        <rect x=\"0\" y=\"107\" width=\"400\" height=\"43\">\n",
       "    <animate\n",
       "      attributeName=\"width\"\n",
       "      values=\"0;400;0\"\n",
       "      dur=\"3.5s\"\n",
       "      repeatCount=\"indefinite\" />\n",
       "    <animate\n",
       "      attributeName=\"x\"\n",
       "      values=\"0;0;400\"\n",
       "      dur=\"3.5s\"\n",
       "      repeatCount=\"indefinite\" />\n",
       "  </rect>\n",
       "        <rect x=\"100\" y=\"207\" width=\"300\" height=\"43\">\n",
       "    <animate\n",
       "      attributeName=\"width\"\n",
       "      values=\"0;300;0\"\n",
       "      dur=\"3s\"\n",
       "      repeatCount=\"indefinite\" />\n",
       "    <animate\n",
       "      attributeName=\"x\"\n",
       "      values=\"100;100;400\"\n",
       "      dur=\"3s\"\n",
       "      repeatCount=\"indefinite\" />\n",
       "  </rect>\n",
       "        <rect x=\"100\" y=\"307\" width=\"400\" height=\"43\">\n",
       "    <animate\n",
       "      attributeName=\"width\"\n",
       "      values=\"0;400;0\"\n",
       "      dur=\"4s\"\n",
       "      repeatCount=\"indefinite\" />\n",
       "      <animate\n",
       "      attributeName=\"x\"\n",
       "      values=\"100;100;500\"\n",
       "      dur=\"4s\"\n",
       "      repeatCount=\"indefinite\" />\n",
       "  </rect>\n",
       "        <g style=\"fill:transparent;stroke-width:8; stroke-linejoin:round\" rx=\"5\">\n",
       "            <g transform=\"translate(45 50) rotate(-45)\">\n",
       "                <circle r=\"33\" cx=\"0\" cy=\"0\" />\n",
       "                <rect x=\"-8\" y=\"32\" width=\"16\" height=\"30\" />\n",
       "            </g>\n",
       "\n",
       "            <g transform=\"translate(450 152)\">\n",
       "                <polyline points=\"-15,-20 -35,-20 -35,40 25,40 25,20\" />\n",
       "                <rect x=\"-15\" y=\"-40\" width=\"60\" height=\"60\" />\n",
       "            </g>\n",
       "\n",
       "            <g transform=\"translate(50 352)\">\n",
       "                <polygon points=\"-35,-5 0,-40 35,-5\" />\n",
       "                <polygon points=\"-35,10 0,45 35,10\" />\n",
       "            </g>\n",
       "\n",
       "            <g transform=\"translate(75 250)\">\n",
       "                <polyline points=\"-30,30 -60,0 -30,-30\" />\n",
       "                <polyline points=\"0,30 -30,0 0,-30\" />\n",
       "            </g>\n",
       "\n",
       "            <g transform=\"translate(425 250) rotate(180)\">\n",
       "                <polyline points=\"-30,30 -60,0 -30,-30\" />\n",
       "                <polyline points=\"0,30 -30,0 0,-30\" />\n",
       "            </g>\n",
       "        </g>\n",
       "    </g>\n",
       "</svg>\n",
       "</a>\n",
       "    Loading ITables v2.5.2 from the internet...\n",
       "    (need <a href=https://mwouts.github.io/itables/troubleshooting.html>help</a>?)</td>\n",
       "    </tr></tbody></table>\n",
       "<link href=\"https://www.unpkg.com/dt_for_itables@2.4.0/dt_bundle.css\" rel=\"stylesheet\">\n",
       "<script type=\"module\">\n",
       "    import { ITable, jQuery as $ } from 'https://www.unpkg.com/dt_for_itables@2.4.0/dt_bundle.js';\n",
       "\n",
       "    document.querySelectorAll(\"#itables_f0a79e71_8abb_4584_b936_1207319b1148:not(.dataTable)\").forEach(table => {\n",
       "        if (!(table instanceof HTMLTableElement))\n",
       "            return;\n",
       "\n",
       "        let dt_args = {\"layout\": {\"topStart\": \"pageLength\", \"topEnd\": \"search\", \"bottomStart\": \"info\", \"bottomEnd\": \"paging\"}, \"classes\": [\"display\", \"nowrap\"], \"order\": [], \"text_in_header_can_be_selected\": true, \"style\": {\"table-layout\": \"auto\", \"width\": \"auto\", \"margin\": \"auto\", \"caption-side\": \"bottom\"}, \"table_html\": \"<table><thead>\\n    <tr style=\\\"text-align: right;\\\">\\n      <th></th>\\n      <th>count</th>\\n    </tr>\\n    <tr>\\n      <th>weight</th>\\n      <th></th>\\n    </tr>\\n  </thead></table>\", \"data_json\": \"[[\\\"0.13Kg (0.29 lb)\\\", 3], [\\\"0.14Kg (0.31 lb)\\\", 3], [\\\"0.61Kg (1.34 lb)\\\", 2], [\\\"0.59Kg (1.3 lb)\\\", 2], [\\\"0.65Kg (1.43 lb)\\\", 2], [\\\"0.66Kg (1.45 lb)\\\", 1], [\\\"0.25Kg (0.54 lb)\\\", 1], [\\\"2.28Kg (5.03 lb)\\\", 1], [\\\"1.63Kg (3.58 lb)\\\", 1], [\\\"0.35Kg (0.78 lb)\\\", 1], [\\\"0.25Kg (0.55 lb)\\\", 1], [\\\"1.85Kg (4.06 lb)\\\", 1], [\\\"0.85Kg (1.87 lb)\\\", 1], [\\\"0.52Kg (1.16 lb)\\\", 1], [\\\"0.34Kg (0.74 lb)\\\", 1], [\\\"0.16Kg (0.34 lb)\\\", 1], [\\\"0.76Kg (1.68 lb)\\\", 1], [\\\"1.17Kg (2.57 lb)\\\", 1], [\\\"0.48Kg (1.05 lb)\\\", 1], [\\\"0.64Kg (1.41 lb)\\\", 1], [\\\"0.29Kg (0.64 lb)\\\", 1], [\\\"1.41Kg (3.11 lb)\\\", 1], [\\\"0.6Kg (1.32 lb)\\\", 1], [\\\"1.12Kg (2.47 lb)\\\", 1], [\\\"0.88Kg (1.95 lb)\\\", 1], [\\\"0.15Kg (0.33 lb)\\\", 1], [\\\"2.86Kg (6.31 lb)\\\", 1], [\\\"1.14Kg (2.51 lb)\\\", 1], [\\\"0.54Kg (1.19 lb)\\\", 1], [\\\"0.32Kg (0.7 lb)\\\", 1], [\\\"0.45Kg (0.99 lb)\\\", 1], [\\\"0.34Kg (0.76 lb)\\\", 1]]\"};\n",
       "        new ITable(table, dt_args);\n",
       "    });\n",
       "</script>\n"
      ],
      "text/plain": [
       "<IPython.core.display.HTML object>"
      ]
     },
     "metadata": {},
     "output_type": "display_data"
    }
   ],
   "source": [
    "weight_DF = DF['weight'].value_counts()\n",
    "show(weight_DF)\n",
    "# There is 32 different packages that come up so most boxes tend to be different"
   ]
  },
  {
   "cell_type": "code",
   "execution_count": 36,
   "id": "344a82c4-355c-4e4c-9b91-938c6bf02745",
   "metadata": {},
   "outputs": [
    {
     "data": {
      "text/html": [
       "<!--| quarto-html-table-processing: none -->\n",
       "<table id=\"itables_43195d4d_2c6d_4dd3_b1a1_fbb688d9fd0c\"><tbody><tr>\n",
       "    <td style=\"vertical-align:middle; text-align:left\">\n",
       "    <a href=https://mwouts.github.io/itables/><svg class=\"main-svg\" xmlns=\"http://www.w3.org/2000/svg\" xmlns:xlink=\"http://www.w3.org/1999/xlink\"\n",
       "width=\"64\" viewBox=\"0 0 500 400\" style=\"font-family: 'Droid Sans', sans-serif;\">\n",
       "    <g style=\"fill:#d9d7fc\">\n",
       "        <path d=\"M100,400H500V357H100Z\" />\n",
       "        <path d=\"M100,300H400V257H100Z\" />\n",
       "        <path d=\"M0,200H400V157H0Z\" />\n",
       "        <path d=\"M100,100H500V57H100Z\" />\n",
       "        <path d=\"M100,350H500V307H100Z\" />\n",
       "        <path d=\"M100,250H400V207H100Z\" />\n",
       "        <path d=\"M0,150H400V107H0Z\" />\n",
       "        <path d=\"M100,50H500V7H100Z\" />\n",
       "    </g>\n",
       "    <g style=\"fill:#1a1366;stroke:#1a1366;\">\n",
       "   <rect x=\"100\" y=\"7\" width=\"400\" height=\"43\">\n",
       "    <animate\n",
       "      attributeName=\"width\"\n",
       "      values=\"0;400;0\"\n",
       "      dur=\"5s\"\n",
       "      repeatCount=\"indefinite\" />\n",
       "      <animate\n",
       "      attributeName=\"x\"\n",
       "      values=\"100;100;500\"\n",
       "      dur=\"5s\"\n",
       "      repeatCount=\"indefinite\" />\n",
       "  </rect>\n",
       "        <rect x=\"0\" y=\"107\" width=\"400\" height=\"43\">\n",
       "    <animate\n",
       "      attributeName=\"width\"\n",
       "      values=\"0;400;0\"\n",
       "      dur=\"3.5s\"\n",
       "      repeatCount=\"indefinite\" />\n",
       "    <animate\n",
       "      attributeName=\"x\"\n",
       "      values=\"0;0;400\"\n",
       "      dur=\"3.5s\"\n",
       "      repeatCount=\"indefinite\" />\n",
       "  </rect>\n",
       "        <rect x=\"100\" y=\"207\" width=\"300\" height=\"43\">\n",
       "    <animate\n",
       "      attributeName=\"width\"\n",
       "      values=\"0;300;0\"\n",
       "      dur=\"3s\"\n",
       "      repeatCount=\"indefinite\" />\n",
       "    <animate\n",
       "      attributeName=\"x\"\n",
       "      values=\"100;100;400\"\n",
       "      dur=\"3s\"\n",
       "      repeatCount=\"indefinite\" />\n",
       "  </rect>\n",
       "        <rect x=\"100\" y=\"307\" width=\"400\" height=\"43\">\n",
       "    <animate\n",
       "      attributeName=\"width\"\n",
       "      values=\"0;400;0\"\n",
       "      dur=\"4s\"\n",
       "      repeatCount=\"indefinite\" />\n",
       "      <animate\n",
       "      attributeName=\"x\"\n",
       "      values=\"100;100;500\"\n",
       "      dur=\"4s\"\n",
       "      repeatCount=\"indefinite\" />\n",
       "  </rect>\n",
       "        <g style=\"fill:transparent;stroke-width:8; stroke-linejoin:round\" rx=\"5\">\n",
       "            <g transform=\"translate(45 50) rotate(-45)\">\n",
       "                <circle r=\"33\" cx=\"0\" cy=\"0\" />\n",
       "                <rect x=\"-8\" y=\"32\" width=\"16\" height=\"30\" />\n",
       "            </g>\n",
       "\n",
       "            <g transform=\"translate(450 152)\">\n",
       "                <polyline points=\"-15,-20 -35,-20 -35,40 25,40 25,20\" />\n",
       "                <rect x=\"-15\" y=\"-40\" width=\"60\" height=\"60\" />\n",
       "            </g>\n",
       "\n",
       "            <g transform=\"translate(50 352)\">\n",
       "                <polygon points=\"-35,-5 0,-40 35,-5\" />\n",
       "                <polygon points=\"-35,10 0,45 35,10\" />\n",
       "            </g>\n",
       "\n",
       "            <g transform=\"translate(75 250)\">\n",
       "                <polyline points=\"-30,30 -60,0 -30,-30\" />\n",
       "                <polyline points=\"0,30 -30,0 0,-30\" />\n",
       "            </g>\n",
       "\n",
       "            <g transform=\"translate(425 250) rotate(180)\">\n",
       "                <polyline points=\"-30,30 -60,0 -30,-30\" />\n",
       "                <polyline points=\"0,30 -30,0 0,-30\" />\n",
       "            </g>\n",
       "        </g>\n",
       "    </g>\n",
       "</svg>\n",
       "</a>\n",
       "    Loading ITables v2.5.2 from the internet...\n",
       "    (need <a href=https://mwouts.github.io/itables/troubleshooting.html>help</a>?)</td>\n",
       "    </tr></tbody></table>\n",
       "<link href=\"https://www.unpkg.com/dt_for_itables@2.4.0/dt_bundle.css\" rel=\"stylesheet\">\n",
       "<script type=\"module\">\n",
       "    import { ITable, jQuery as $ } from 'https://www.unpkg.com/dt_for_itables@2.4.0/dt_bundle.js';\n",
       "\n",
       "    document.querySelectorAll(\"#itables_43195d4d_2c6d_4dd3_b1a1_fbb688d9fd0c:not(.dataTable)\").forEach(table => {\n",
       "        if (!(table instanceof HTMLTableElement))\n",
       "            return;\n",
       "\n",
       "        let dt_args = {\"layout\": {\"topStart\": null, \"topEnd\": null, \"bottomStart\": null, \"bottomEnd\": null}, \"classes\": [\"display\", \"nowrap\"], \"order\": [], \"text_in_header_can_be_selected\": true, \"style\": {\"table-layout\": \"auto\", \"width\": \"auto\", \"margin\": \"auto\", \"caption-side\": \"bottom\"}, \"table_html\": \"<table><thead>\\n    <tr style=\\\"text-align: right;\\\">\\n      <th></th>\\n      <th>count</th>\\n    </tr>\\n    <tr>\\n      <th>size</th>\\n      <th></th>\\n    </tr>\\n  </thead></table>\", \"data_json\": \"[[\\\"Small\\\", 50], [\\\"Large\\\", 25]]\"};\n",
       "        new ITable(table, dt_args);\n",
       "    });\n",
       "</script>\n"
      ],
      "text/plain": [
       "<IPython.core.display.HTML object>"
      ]
     },
     "metadata": {},
     "output_type": "display_data"
    }
   ],
   "source": [
    "size_DF = DF['size'].value_counts()\n",
    "show(size_DF)\n",
    "# Two types of sizes"
   ]
  },
  {
   "cell_type": "markdown",
   "id": "b88298db-6ed2-4c3a-9a64-b7f0e4d17fd7",
   "metadata": {},
   "source": [
    "# Problem 3"
   ]
  },
  {
   "cell_type": "markdown",
   "id": "73efe94a-6ce5-4eae-9dc1-d38259b9a90c",
   "metadata": {},
   "source": [
    "A) Make a scatter plot of the numer of pieces vs the price. Color the data by the lego them and add teh set name as your hover data<br>\n",
    "B) Answer the three questions by describing what you see in the graph."
   ]
  },
  {
   "cell_type": "code",
   "execution_count": 122,
   "id": "bf169a5a-6f43-4138-a8c4-6cb5fc769526",
   "metadata": {},
   "outputs": [
    {
     "data": {
      "application/vnd.plotly.v1+json": {
       "config": {
        "plotlyServerURL": "https://plot.ly"
       },
       "data": [
        {
         "customdata": [
          [
           "My First Ladybird"
          ],
          [
           "My First Race Car"
          ],
          [
           "My First Celebration"
          ],
          [
           "Large Playground Brick Box"
          ],
          [
           "Farmers' Market"
          ],
          [
           "Farm Animals"
          ],
          [
           "Train Bridge and Tracks"
          ],
          [
           "Cargo Train"
          ],
          [
           "Spider-Man & Hulk Adventures"
          ],
          [
           "Rapunzel's Tower"
          ],
          [
           "Train Tracks"
          ],
          [
           "My First Fun Puzzle"
          ],
          [
           "My First Car Creations"
          ],
          [
           "Fire Truck"
          ],
          [
           "Baby Animals"
          ],
          [
           "Tropical Island"
          ],
          [
           "Plane"
          ],
          [
           "Submarine Adventure"
          ],
          [
           "Alphabet Truck"
          ],
          [
           "Tow Truck"
          ],
          [
           "Super Heroes Lab"
          ],
          [
           "Bedroom"
          ],
          [
           "Pizza Stand"
          ],
          [
           "Bakery"
          ],
          [
           "Modular Playhouse"
          ]
         ],
         "hovertemplate": "theme=DUPLO®<br>pieces=%{x}<br>price=%{y}<br>set_name=%{customdata[0]}<extra></extra>",
         "legendgroup": "DUPLO®",
         "marker": {
          "color": "#636efa",
          "symbol": "circle"
         },
         "mode": "markers",
         "name": "DUPLO®",
         "orientation": "v",
         "showlegend": true,
         "type": "scatter",
         "x": {
          "bdata": "BgAGACkARwAaABAAGgBpACYAJQAXAA8AIgAVAAkASQAMABgAJAAHAB4AEAASAC4AgQA=",
          "dtype": "i2"
         },
         "xaxis": "x",
         "y": {
          "bdata": "9ihcj8L1E0D2KFyPwvUTQHsUrkfh+i1AH4XrUbj+SEA9CtejcP0zQHsUrkfh+iNAPQrXo3D9OECPwvUoXP9dQD0K16Nw/T1APQrXo3D9PUA9CtejcP0zQD0K16Nw/TNAPQrXo3D9M0A9CtejcP0zQHsUrkfh+iNAH4XrUbj+TUB7FK5H4fojQD0K16Nw/TNAPQrXo3D9OED2KFyPwvUbQD0K16Nw/T1AexSuR+H6LUB7FK5H4fojQB+F61G4fkFAH4XrUbj+TUA=",
          "dtype": "f8"
         },
         "yaxis": "y"
        },
        {
         "customdata": [
          [
           "Stephanie's Soccer Practice"
          ],
          [
           "Olivia's Mission Vehicle"
          ],
          [
           "Mia's Tree House"
          ],
          [
           "Friendship House"
          ],
          [
           "Friends Advent Calendar"
          ],
          [
           "Stephanie's Heart Box"
          ],
          [
           "Mia's Heart Box"
          ],
          [
           "Mia's Forest Adventures"
          ],
          [
           "Stephanie's Obstacle Course"
          ],
          [
           "Mia's House"
          ],
          [
           "Andrea's Pool Party"
          ],
          [
           "Turtles Rescue Mission"
          ],
          [
           "Dolphins Rescue Mission"
          ],
          [
           "Andrea's Summer Heart Box"
          ],
          [
           "Olivia's Summer Heart Box"
          ],
          [
           "Heartlake City Hospital"
          ],
          [
           "Puppy Playground"
          ],
          [
           "Andrea's Play Cube - Singer"
          ],
          [
           "Mia's Play Cube - Veterinarian"
          ],
          [
           "Mia's Play Cube - Cinema"
          ],
          [
           "Baby Elephant Jungle Rescue"
          ],
          [
           "Tiger Hot Air Balloon Jungle Rescue"
          ],
          [
           "Jungle Rescue Base"
          ],
          [
           "Emma's Fashion Shop"
          ],
          [
           "Beach House"
          ]
         ],
         "hovertemplate": "theme=Friends<br>pieces=%{x}<br>price=%{y}<br>set_name=%{customdata[0]}<extra></extra>",
         "legendgroup": "Friends",
         "marker": {
          "color": "#EF553B",
          "symbol": "circle"
         },
         "mode": "markers",
         "name": "Friends",
         "orientation": "v",
         "showlegend": true,
         "type": "scatter",
         "x": {
          "bdata": "dwDfAF8B0gL0AVUAUwCGAFEBywLUAeEAawFTAF0AewE5ADEAKAAlAMsALgGIAlcBvAE=",
          "dtype": "i2"
         },
         "xaxis": "x",
         "y": {
          "bdata": "exSuR+H6LUA9CtejcP0zQD0K16Nw/T1Aj8L1KFx/UUA9CtejcP09QPYoXI/C9R9A9ihcj8L1H0B7FK5H4fotQB+F61G4/kNAj8L1KFx/UUAfhetRuP5IQD0K16Nw/TNAH4XrUbj+Q0D2KFyPwvUfQPYoXI/C9R9AH4XrUbj+SEB7FK5H4fojQHsUrkfh+iNAexSuR+H6I0B7FK5H4fojQD0K16Nw/TNAH4XrUbj+Q0CPwvUoXP9TQD0K16Nw/T1AH4XrUbj+SEA=",
          "dtype": "f8"
         },
         "yaxis": "y"
        },
        {
         "customdata": [
          [
           "Off-Road Chase"
          ],
          [
           "Mountain Fugitives"
          ],
          [
           "Dirt Road Pursuit"
          ],
          [
           "Pickup & Caravan"
          ],
          [
           "Heavy Cargo Transport"
          ],
          [
           "Mining Team"
          ],
          [
           "People Pack - Outdoor Adventures"
          ],
          [
           "Parachute Arrest"
          ],
          [
           "Dock Side Fire"
          ],
          [
           "Fire Station"
          ],
          [
           "Fire Plane"
          ],
          [
           "Construction Loader"
          ],
          [
           "Diving Yacht"
          ],
          [
           "Harvester Transport"
          ],
          [
           "Mars Research Shuttle"
          ],
          [
           "Police Helicopter Chase"
          ],
          [
           "Police Monster Truck Heist"
          ],
          [
           "Police Station"
          ],
          [
           "Fire Helicopter Response"
          ],
          [
           "Street Sweeper"
          ],
          [
           "Monster Truck"
          ],
          [
           "Construction Bulldozer"
          ],
          [
           "Tuning Workshop"
          ],
          [
           "Ocean Exploration Ship"
          ],
          [
           "Safari Off-Roader"
          ]
         ],
         "hovertemplate": "theme=City<br>pieces=%{x}<br>price=%{y}<br>set_name=%{customdata[0]}<extra></extra>",
         "legendgroup": "City",
         "marker": {
          "color": "#00cc96",
          "symbol": "circle"
         },
         "mode": "markers",
         "name": "City",
         "orientation": "v",
         "showlegend": true,
         "type": "scatter",
         "x": {
          "bdata": "JQBYACkBWAE2AVIApADaAGEA/QFrAVgAlABmAREB1ABqAecCXQBZADcAfgCBA+kCqAA=",
          "dtype": "i2"
         },
         "xaxis": "x",
         "y": {
          "bdata": "9ihcj8L1G0B7FK5H4fojQB+F61G4/kNAPQrXo3D9PUA9CtejcP09QHsUrkfh+iNAH4XrUbj+Q0AfhetRuP5DQD0K16Nw/TNAj8L1KFx/UUAfhetRuP5NQHsUrkfh+iNAPQrXo3D9M0A9CtejcP09QB+F61G4/kNAH4XrUbj+Q0AfhetRuP5NQI/C9Shc/1hAPQrXo3D9PUB7FK5H4fojQHsUrkfh+iNAPQrXo3D9M0CPwvUoXP9YQEjhehSuv2JAPQrXo3D9M0A=",
          "dtype": "f8"
         },
         "yaxis": "y"
        }
       ],
       "layout": {
        "legend": {
         "title": {
          "text": "theme"
         },
         "tracegroupgap": 0
        },
        "template": {
         "data": {
          "bar": [
           {
            "error_x": {
             "color": "#2a3f5f"
            },
            "error_y": {
             "color": "#2a3f5f"
            },
            "marker": {
             "line": {
              "color": "#E5ECF6",
              "width": 0.5
             },
             "pattern": {
              "fillmode": "overlay",
              "size": 10,
              "solidity": 0.2
             }
            },
            "type": "bar"
           }
          ],
          "barpolar": [
           {
            "marker": {
             "line": {
              "color": "#E5ECF6",
              "width": 0.5
             },
             "pattern": {
              "fillmode": "overlay",
              "size": 10,
              "solidity": 0.2
             }
            },
            "type": "barpolar"
           }
          ],
          "carpet": [
           {
            "aaxis": {
             "endlinecolor": "#2a3f5f",
             "gridcolor": "white",
             "linecolor": "white",
             "minorgridcolor": "white",
             "startlinecolor": "#2a3f5f"
            },
            "baxis": {
             "endlinecolor": "#2a3f5f",
             "gridcolor": "white",
             "linecolor": "white",
             "minorgridcolor": "white",
             "startlinecolor": "#2a3f5f"
            },
            "type": "carpet"
           }
          ],
          "choropleth": [
           {
            "colorbar": {
             "outlinewidth": 0,
             "ticks": ""
            },
            "type": "choropleth"
           }
          ],
          "contour": [
           {
            "colorbar": {
             "outlinewidth": 0,
             "ticks": ""
            },
            "colorscale": [
             [
              0,
              "#0d0887"
             ],
             [
              0.1111111111111111,
              "#46039f"
             ],
             [
              0.2222222222222222,
              "#7201a8"
             ],
             [
              0.3333333333333333,
              "#9c179e"
             ],
             [
              0.4444444444444444,
              "#bd3786"
             ],
             [
              0.5555555555555556,
              "#d8576b"
             ],
             [
              0.6666666666666666,
              "#ed7953"
             ],
             [
              0.7777777777777778,
              "#fb9f3a"
             ],
             [
              0.8888888888888888,
              "#fdca26"
             ],
             [
              1,
              "#f0f921"
             ]
            ],
            "type": "contour"
           }
          ],
          "contourcarpet": [
           {
            "colorbar": {
             "outlinewidth": 0,
             "ticks": ""
            },
            "type": "contourcarpet"
           }
          ],
          "heatmap": [
           {
            "colorbar": {
             "outlinewidth": 0,
             "ticks": ""
            },
            "colorscale": [
             [
              0,
              "#0d0887"
             ],
             [
              0.1111111111111111,
              "#46039f"
             ],
             [
              0.2222222222222222,
              "#7201a8"
             ],
             [
              0.3333333333333333,
              "#9c179e"
             ],
             [
              0.4444444444444444,
              "#bd3786"
             ],
             [
              0.5555555555555556,
              "#d8576b"
             ],
             [
              0.6666666666666666,
              "#ed7953"
             ],
             [
              0.7777777777777778,
              "#fb9f3a"
             ],
             [
              0.8888888888888888,
              "#fdca26"
             ],
             [
              1,
              "#f0f921"
             ]
            ],
            "type": "heatmap"
           }
          ],
          "histogram": [
           {
            "marker": {
             "pattern": {
              "fillmode": "overlay",
              "size": 10,
              "solidity": 0.2
             }
            },
            "type": "histogram"
           }
          ],
          "histogram2d": [
           {
            "colorbar": {
             "outlinewidth": 0,
             "ticks": ""
            },
            "colorscale": [
             [
              0,
              "#0d0887"
             ],
             [
              0.1111111111111111,
              "#46039f"
             ],
             [
              0.2222222222222222,
              "#7201a8"
             ],
             [
              0.3333333333333333,
              "#9c179e"
             ],
             [
              0.4444444444444444,
              "#bd3786"
             ],
             [
              0.5555555555555556,
              "#d8576b"
             ],
             [
              0.6666666666666666,
              "#ed7953"
             ],
             [
              0.7777777777777778,
              "#fb9f3a"
             ],
             [
              0.8888888888888888,
              "#fdca26"
             ],
             [
              1,
              "#f0f921"
             ]
            ],
            "type": "histogram2d"
           }
          ],
          "histogram2dcontour": [
           {
            "colorbar": {
             "outlinewidth": 0,
             "ticks": ""
            },
            "colorscale": [
             [
              0,
              "#0d0887"
             ],
             [
              0.1111111111111111,
              "#46039f"
             ],
             [
              0.2222222222222222,
              "#7201a8"
             ],
             [
              0.3333333333333333,
              "#9c179e"
             ],
             [
              0.4444444444444444,
              "#bd3786"
             ],
             [
              0.5555555555555556,
              "#d8576b"
             ],
             [
              0.6666666666666666,
              "#ed7953"
             ],
             [
              0.7777777777777778,
              "#fb9f3a"
             ],
             [
              0.8888888888888888,
              "#fdca26"
             ],
             [
              1,
              "#f0f921"
             ]
            ],
            "type": "histogram2dcontour"
           }
          ],
          "mesh3d": [
           {
            "colorbar": {
             "outlinewidth": 0,
             "ticks": ""
            },
            "type": "mesh3d"
           }
          ],
          "parcoords": [
           {
            "line": {
             "colorbar": {
              "outlinewidth": 0,
              "ticks": ""
             }
            },
            "type": "parcoords"
           }
          ],
          "pie": [
           {
            "automargin": true,
            "type": "pie"
           }
          ],
          "scatter": [
           {
            "fillpattern": {
             "fillmode": "overlay",
             "size": 10,
             "solidity": 0.2
            },
            "type": "scatter"
           }
          ],
          "scatter3d": [
           {
            "line": {
             "colorbar": {
              "outlinewidth": 0,
              "ticks": ""
             }
            },
            "marker": {
             "colorbar": {
              "outlinewidth": 0,
              "ticks": ""
             }
            },
            "type": "scatter3d"
           }
          ],
          "scattercarpet": [
           {
            "marker": {
             "colorbar": {
              "outlinewidth": 0,
              "ticks": ""
             }
            },
            "type": "scattercarpet"
           }
          ],
          "scattergeo": [
           {
            "marker": {
             "colorbar": {
              "outlinewidth": 0,
              "ticks": ""
             }
            },
            "type": "scattergeo"
           }
          ],
          "scattergl": [
           {
            "marker": {
             "colorbar": {
              "outlinewidth": 0,
              "ticks": ""
             }
            },
            "type": "scattergl"
           }
          ],
          "scattermap": [
           {
            "marker": {
             "colorbar": {
              "outlinewidth": 0,
              "ticks": ""
             }
            },
            "type": "scattermap"
           }
          ],
          "scattermapbox": [
           {
            "marker": {
             "colorbar": {
              "outlinewidth": 0,
              "ticks": ""
             }
            },
            "type": "scattermapbox"
           }
          ],
          "scatterpolar": [
           {
            "marker": {
             "colorbar": {
              "outlinewidth": 0,
              "ticks": ""
             }
            },
            "type": "scatterpolar"
           }
          ],
          "scatterpolargl": [
           {
            "marker": {
             "colorbar": {
              "outlinewidth": 0,
              "ticks": ""
             }
            },
            "type": "scatterpolargl"
           }
          ],
          "scatterternary": [
           {
            "marker": {
             "colorbar": {
              "outlinewidth": 0,
              "ticks": ""
             }
            },
            "type": "scatterternary"
           }
          ],
          "surface": [
           {
            "colorbar": {
             "outlinewidth": 0,
             "ticks": ""
            },
            "colorscale": [
             [
              0,
              "#0d0887"
             ],
             [
              0.1111111111111111,
              "#46039f"
             ],
             [
              0.2222222222222222,
              "#7201a8"
             ],
             [
              0.3333333333333333,
              "#9c179e"
             ],
             [
              0.4444444444444444,
              "#bd3786"
             ],
             [
              0.5555555555555556,
              "#d8576b"
             ],
             [
              0.6666666666666666,
              "#ed7953"
             ],
             [
              0.7777777777777778,
              "#fb9f3a"
             ],
             [
              0.8888888888888888,
              "#fdca26"
             ],
             [
              1,
              "#f0f921"
             ]
            ],
            "type": "surface"
           }
          ],
          "table": [
           {
            "cells": {
             "fill": {
              "color": "#EBF0F8"
             },
             "line": {
              "color": "white"
             }
            },
            "header": {
             "fill": {
              "color": "#C8D4E3"
             },
             "line": {
              "color": "white"
             }
            },
            "type": "table"
           }
          ]
         },
         "layout": {
          "annotationdefaults": {
           "arrowcolor": "#2a3f5f",
           "arrowhead": 0,
           "arrowwidth": 1
          },
          "autotypenumbers": "strict",
          "coloraxis": {
           "colorbar": {
            "outlinewidth": 0,
            "ticks": ""
           }
          },
          "colorscale": {
           "diverging": [
            [
             0,
             "#8e0152"
            ],
            [
             0.1,
             "#c51b7d"
            ],
            [
             0.2,
             "#de77ae"
            ],
            [
             0.3,
             "#f1b6da"
            ],
            [
             0.4,
             "#fde0ef"
            ],
            [
             0.5,
             "#f7f7f7"
            ],
            [
             0.6,
             "#e6f5d0"
            ],
            [
             0.7,
             "#b8e186"
            ],
            [
             0.8,
             "#7fbc41"
            ],
            [
             0.9,
             "#4d9221"
            ],
            [
             1,
             "#276419"
            ]
           ],
           "sequential": [
            [
             0,
             "#0d0887"
            ],
            [
             0.1111111111111111,
             "#46039f"
            ],
            [
             0.2222222222222222,
             "#7201a8"
            ],
            [
             0.3333333333333333,
             "#9c179e"
            ],
            [
             0.4444444444444444,
             "#bd3786"
            ],
            [
             0.5555555555555556,
             "#d8576b"
            ],
            [
             0.6666666666666666,
             "#ed7953"
            ],
            [
             0.7777777777777778,
             "#fb9f3a"
            ],
            [
             0.8888888888888888,
             "#fdca26"
            ],
            [
             1,
             "#f0f921"
            ]
           ],
           "sequentialminus": [
            [
             0,
             "#0d0887"
            ],
            [
             0.1111111111111111,
             "#46039f"
            ],
            [
             0.2222222222222222,
             "#7201a8"
            ],
            [
             0.3333333333333333,
             "#9c179e"
            ],
            [
             0.4444444444444444,
             "#bd3786"
            ],
            [
             0.5555555555555556,
             "#d8576b"
            ],
            [
             0.6666666666666666,
             "#ed7953"
            ],
            [
             0.7777777777777778,
             "#fb9f3a"
            ],
            [
             0.8888888888888888,
             "#fdca26"
            ],
            [
             1,
             "#f0f921"
            ]
           ]
          },
          "colorway": [
           "#636efa",
           "#EF553B",
           "#00cc96",
           "#ab63fa",
           "#FFA15A",
           "#19d3f3",
           "#FF6692",
           "#B6E880",
           "#FF97FF",
           "#FECB52"
          ],
          "font": {
           "color": "#2a3f5f"
          },
          "geo": {
           "bgcolor": "white",
           "lakecolor": "white",
           "landcolor": "#E5ECF6",
           "showlakes": true,
           "showland": true,
           "subunitcolor": "white"
          },
          "hoverlabel": {
           "align": "left"
          },
          "hovermode": "closest",
          "mapbox": {
           "style": "light"
          },
          "paper_bgcolor": "white",
          "plot_bgcolor": "#E5ECF6",
          "polar": {
           "angularaxis": {
            "gridcolor": "white",
            "linecolor": "white",
            "ticks": ""
           },
           "bgcolor": "#E5ECF6",
           "radialaxis": {
            "gridcolor": "white",
            "linecolor": "white",
            "ticks": ""
           }
          },
          "scene": {
           "xaxis": {
            "backgroundcolor": "#E5ECF6",
            "gridcolor": "white",
            "gridwidth": 2,
            "linecolor": "white",
            "showbackground": true,
            "ticks": "",
            "zerolinecolor": "white"
           },
           "yaxis": {
            "backgroundcolor": "#E5ECF6",
            "gridcolor": "white",
            "gridwidth": 2,
            "linecolor": "white",
            "showbackground": true,
            "ticks": "",
            "zerolinecolor": "white"
           },
           "zaxis": {
            "backgroundcolor": "#E5ECF6",
            "gridcolor": "white",
            "gridwidth": 2,
            "linecolor": "white",
            "showbackground": true,
            "ticks": "",
            "zerolinecolor": "white"
           }
          },
          "shapedefaults": {
           "line": {
            "color": "#2a3f5f"
           }
          },
          "ternary": {
           "aaxis": {
            "gridcolor": "white",
            "linecolor": "white",
            "ticks": ""
           },
           "baxis": {
            "gridcolor": "white",
            "linecolor": "white",
            "ticks": ""
           },
           "bgcolor": "#E5ECF6",
           "caxis": {
            "gridcolor": "white",
            "linecolor": "white",
            "ticks": ""
           }
          },
          "title": {
           "x": 0.05
          },
          "xaxis": {
           "automargin": true,
           "gridcolor": "white",
           "linecolor": "white",
           "ticks": "",
           "title": {
            "standoff": 15
           },
           "zerolinecolor": "white",
           "zerolinewidth": 2
          },
          "yaxis": {
           "automargin": true,
           "gridcolor": "white",
           "linecolor": "white",
           "ticks": "",
           "title": {
            "standoff": 15
           },
           "zerolinecolor": "white",
           "zerolinewidth": 2
          }
         }
        },
        "title": {
         "text": "Number of Pieces vs Price"
        },
        "xaxis": {
         "anchor": "y",
         "domain": [
          0,
          1
         ],
         "title": {
          "text": "pieces"
         }
        },
        "yaxis": {
         "anchor": "x",
         "domain": [
          0,
          1
         ],
         "title": {
          "text": "price"
         }
        }
       }
      },
      "image/png": "[encoded data removed]"
     },
     "metadata": {},
     "output_type": "display_data"
    }
   ],
   "source": [
    "#A\n",
    "fig = px.scatter(DF, \n",
    "                 x = 'pieces',\n",
    "                 y = 'price',\n",
    "                 title = 'Number of Pieces vs Price', \n",
    "                 hover_data = 'set_name',\n",
    "                 color = 'theme')\n",
    "fig.show()"
   ]
  },
  {
   "cell_type": "markdown",
   "id": "91f647ed-0f7f-41b8-9833-c241dfdc1258",
   "metadata": {},
   "source": [
    "**B**"
   ]
  },
  {
   "cell_type": "markdown",
   "id": "ad1778ad-24aa-4642-9675-7d844272b3ce",
   "metadata": {},
   "source": [
    "1. Generally, the amount of pieces correlates with the price. The more expensive it is then the more peices the set will have\n",
    "2. The most expensive set is the Ocean Exploration Ship that is $149.99\n",
    "3. Duplo is typically the theme with the least amount of pieces and Friends and City theme typuically are about the same with price and pieces numbers"
   ]
  },
  {
   "cell_type": "markdown",
   "id": "cebd14f1-3430-42d5-9a2f-11a68d4f541c",
   "metadata": {},
   "source": [
    "# Problem 4"
   ]
  },
  {
   "cell_type": "markdown",
   "id": "8b551624-24f5-400e-8da1-ea19ccf4a025",
   "metadata": {},
   "source": [
    "A) Create a new column in the data frame that measures the price difference between Amazon and Retail<br>\n",
    "B) Group the data by Lego Theme and use describe to do statistics on the price difference column you created in part (a). Comment on at least four things that you learned by looking at these statistics<br>\n",
    "C) Make a histogram of the price difference and color the bars by the Lego Theme"
   ]
  },
  {
   "cell_type": "code",
   "execution_count": 123,
   "id": "88bdfed0-7192-4691-bbc9-eb60b3c7c1a9",
   "metadata": {},
   "outputs": [
    {
     "data": {
      "text/html": [
       "<!--| quarto-html-table-processing: none -->\n",
       "<table id=\"itables_819db299_266c_4b3c_8400_b5d5c28f671e\"><tbody><tr>\n",
       "    <td style=\"vertical-align:middle; text-align:left\">\n",
       "    <a href=https://mwouts.github.io/itables/><svg class=\"main-svg\" xmlns=\"http://www.w3.org/2000/svg\" xmlns:xlink=\"http://www.w3.org/1999/xlink\"\n",
       "width=\"64\" viewBox=\"0 0 500 400\" style=\"font-family: 'Droid Sans', sans-serif;\">\n",
       "    <g style=\"fill:#d9d7fc\">\n",
       "        <path d=\"M100,400H500V357H100Z\" />\n",
       "        <path d=\"M100,300H400V257H100Z\" />\n",
       "        <path d=\"M0,200H400V157H0Z\" />\n",
       "        <path d=\"M100,100H500V57H100Z\" />\n",
       "        <path d=\"M100,350H500V307H100Z\" />\n",
       "        <path d=\"M100,250H400V207H100Z\" />\n",
       "        <path d=\"M0,150H400V107H0Z\" />\n",
       "        <path d=\"M100,50H500V7H100Z\" />\n",
       "    </g>\n",
       "    <g style=\"fill:#1a1366;stroke:#1a1366;\">\n",
       "   <rect x=\"100\" y=\"7\" width=\"400\" height=\"43\">\n",
       "    <animate\n",
       "      attributeName=\"width\"\n",
       "      values=\"0;400;0\"\n",
       "      dur=\"5s\"\n",
       "      repeatCount=\"indefinite\" />\n",
       "      <animate\n",
       "      attributeName=\"x\"\n",
       "      values=\"100;100;500\"\n",
       "      dur=\"5s\"\n",
       "      repeatCount=\"indefinite\" />\n",
       "  </rect>\n",
       "        <rect x=\"0\" y=\"107\" width=\"400\" height=\"43\">\n",
       "    <animate\n",
       "      attributeName=\"width\"\n",
       "      values=\"0;400;0\"\n",
       "      dur=\"3.5s\"\n",
       "      repeatCount=\"indefinite\" />\n",
       "    <animate\n",
       "      attributeName=\"x\"\n",
       "      values=\"0;0;400\"\n",
       "      dur=\"3.5s\"\n",
       "      repeatCount=\"indefinite\" />\n",
       "  </rect>\n",
       "        <rect x=\"100\" y=\"207\" width=\"300\" height=\"43\">\n",
       "    <animate\n",
       "      attributeName=\"width\"\n",
       "      values=\"0;300;0\"\n",
       "      dur=\"3s\"\n",
       "      repeatCount=\"indefinite\" />\n",
       "    <animate\n",
       "      attributeName=\"x\"\n",
       "      values=\"100;100;400\"\n",
       "      dur=\"3s\"\n",
       "      repeatCount=\"indefinite\" />\n",
       "  </rect>\n",
       "        <rect x=\"100\" y=\"307\" width=\"400\" height=\"43\">\n",
       "    <animate\n",
       "      attributeName=\"width\"\n",
       "      values=\"0;400;0\"\n",
       "      dur=\"4s\"\n",
       "      repeatCount=\"indefinite\" />\n",
       "      <animate\n",
       "      attributeName=\"x\"\n",
       "      values=\"100;100;500\"\n",
       "      dur=\"4s\"\n",
       "      repeatCount=\"indefinite\" />\n",
       "  </rect>\n",
       "        <g style=\"fill:transparent;stroke-width:8; stroke-linejoin:round\" rx=\"5\">\n",
       "            <g transform=\"translate(45 50) rotate(-45)\">\n",
       "                <circle r=\"33\" cx=\"0\" cy=\"0\" />\n",
       "                <rect x=\"-8\" y=\"32\" width=\"16\" height=\"30\" />\n",
       "            </g>\n",
       "\n",
       "            <g transform=\"translate(450 152)\">\n",
       "                <polyline points=\"-15,-20 -35,-20 -35,40 25,40 25,20\" />\n",
       "                <rect x=\"-15\" y=\"-40\" width=\"60\" height=\"60\" />\n",
       "            </g>\n",
       "\n",
       "            <g transform=\"translate(50 352)\">\n",
       "                <polygon points=\"-35,-5 0,-40 35,-5\" />\n",
       "                <polygon points=\"-35,10 0,45 35,10\" />\n",
       "            </g>\n",
       "\n",
       "            <g transform=\"translate(75 250)\">\n",
       "                <polyline points=\"-30,30 -60,0 -30,-30\" />\n",
       "                <polyline points=\"0,30 -30,0 0,-30\" />\n",
       "            </g>\n",
       "\n",
       "            <g transform=\"translate(425 250) rotate(180)\">\n",
       "                <polyline points=\"-30,30 -60,0 -30,-30\" />\n",
       "                <polyline points=\"0,30 -30,0 0,-30\" />\n",
       "            </g>\n",
       "        </g>\n",
       "    </g>\n",
       "</svg>\n",
       "</a>\n",
       "    Loading ITables v2.5.2 from the internet...\n",
       "    (need <a href=https://mwouts.github.io/itables/troubleshooting.html>help</a>?)</td>\n",
       "    </tr></tbody></table>\n",
       "<link href=\"https://www.unpkg.com/dt_for_itables@2.4.0/dt_bundle.css\" rel=\"stylesheet\">\n",
       "<script type=\"module\">\n",
       "    import { ITable, jQuery as $ } from 'https://www.unpkg.com/dt_for_itables@2.4.0/dt_bundle.js';\n",
       "\n",
       "    document.querySelectorAll(\"#itables_819db299_266c_4b3c_8400_b5d5c28f671e:not(.dataTable)\").forEach(table => {\n",
       "        if (!(table instanceof HTMLTableElement))\n",
       "            return;\n",
       "\n",
       "        let dt_args = {\"layout\": {\"topStart\": null, \"topEnd\": null, \"bottomStart\": null, \"bottomEnd\": null}, \"classes\": [\"display\", \"nowrap\"], \"order\": [], \"text_in_header_can_be_selected\": true, \"style\": {\"table-layout\": \"auto\", \"width\": \"auto\", \"margin\": \"auto\", \"caption-side\": \"bottom\"}, \"table_html\": \"<table><thead>\\n    <tr style=\\\"text-align: right;\\\">\\n      <th></th>\\n      <th>price_diff</th>\\n    </tr>\\n  </thead></table>\", \"data_json\": \"[[\\\"count\\\", 75.0], [\\\"mean\\\", 7.257067], [\\\"std\\\", 18.941537], [\\\"min\\\", -13.99], [\\\"25%\\\", -2.0], [\\\"50%\\\", 0.0], [\\\"75%\\\", 10.83], [\\\"max\\\", 115.0]]\"};\n",
       "        new ITable(table, dt_args);\n",
       "    });\n",
       "</script>\n"
      ],
      "text/plain": [
       "<IPython.core.display.HTML object>"
      ]
     },
     "metadata": {},
     "output_type": "display_data"
    }
   ],
   "source": [
    "#A\n",
    "DF['price_diff'] = DF['amazon_price'] - DF['price']\n",
    "show(DF['price_diff'].describe())\n",
    "#If the calculation is positive then the amazon price is more expensive then retail"
   ]
  },
  {
   "cell_type": "code",
   "execution_count": 61,
   "id": "b8278b93-9578-4dc2-91c4-585d853e84b8",
   "metadata": {},
   "outputs": [
    {
     "data": {
      "text/html": [
       "<!--| quarto-html-table-processing: none -->\n",
       "<table id=\"itables_0ae98d12_e651_4036_b114_e0d7d6a7f091\"><tbody><tr>\n",
       "    <td style=\"vertical-align:middle; text-align:left\">\n",
       "    <a href=https://mwouts.github.io/itables/><svg class=\"main-svg\" xmlns=\"http://www.w3.org/2000/svg\" xmlns:xlink=\"http://www.w3.org/1999/xlink\"\n",
       "width=\"64\" viewBox=\"0 0 500 400\" style=\"font-family: 'Droid Sans', sans-serif;\">\n",
       "    <g style=\"fill:#d9d7fc\">\n",
       "        <path d=\"M100,400H500V357H100Z\" />\n",
       "        <path d=\"M100,300H400V257H100Z\" />\n",
       "        <path d=\"M0,200H400V157H0Z\" />\n",
       "        <path d=\"M100,100H500V57H100Z\" />\n",
       "        <path d=\"M100,350H500V307H100Z\" />\n",
       "        <path d=\"M100,250H400V207H100Z\" />\n",
       "        <path d=\"M0,150H400V107H0Z\" />\n",
       "        <path d=\"M100,50H500V7H100Z\" />\n",
       "    </g>\n",
       "    <g style=\"fill:#1a1366;stroke:#1a1366;\">\n",
       "   <rect x=\"100\" y=\"7\" width=\"400\" height=\"43\">\n",
       "    <animate\n",
       "      attributeName=\"width\"\n",
       "      values=\"0;400;0\"\n",
       "      dur=\"5s\"\n",
       "      repeatCount=\"indefinite\" />\n",
       "      <animate\n",
       "      attributeName=\"x\"\n",
       "      values=\"100;100;500\"\n",
       "      dur=\"5s\"\n",
       "      repeatCount=\"indefinite\" />\n",
       "  </rect>\n",
       "        <rect x=\"0\" y=\"107\" width=\"400\" height=\"43\">\n",
       "    <animate\n",
       "      attributeName=\"width\"\n",
       "      values=\"0;400;0\"\n",
       "      dur=\"3.5s\"\n",
       "      repeatCount=\"indefinite\" />\n",
       "    <animate\n",
       "      attributeName=\"x\"\n",
       "      values=\"0;0;400\"\n",
       "      dur=\"3.5s\"\n",
       "      repeatCount=\"indefinite\" />\n",
       "  </rect>\n",
       "        <rect x=\"100\" y=\"207\" width=\"300\" height=\"43\">\n",
       "    <animate\n",
       "      attributeName=\"width\"\n",
       "      values=\"0;300;0\"\n",
       "      dur=\"3s\"\n",
       "      repeatCount=\"indefinite\" />\n",
       "    <animate\n",
       "      attributeName=\"x\"\n",
       "      values=\"100;100;400\"\n",
       "      dur=\"3s\"\n",
       "      repeatCount=\"indefinite\" />\n",
       "  </rect>\n",
       "        <rect x=\"100\" y=\"307\" width=\"400\" height=\"43\">\n",
       "    <animate\n",
       "      attributeName=\"width\"\n",
       "      values=\"0;400;0\"\n",
       "      dur=\"4s\"\n",
       "      repeatCount=\"indefinite\" />\n",
       "      <animate\n",
       "      attributeName=\"x\"\n",
       "      values=\"100;100;500\"\n",
       "      dur=\"4s\"\n",
       "      repeatCount=\"indefinite\" />\n",
       "  </rect>\n",
       "        <g style=\"fill:transparent;stroke-width:8; stroke-linejoin:round\" rx=\"5\">\n",
       "            <g transform=\"translate(45 50) rotate(-45)\">\n",
       "                <circle r=\"33\" cx=\"0\" cy=\"0\" />\n",
       "                <rect x=\"-8\" y=\"32\" width=\"16\" height=\"30\" />\n",
       "            </g>\n",
       "\n",
       "            <g transform=\"translate(450 152)\">\n",
       "                <polyline points=\"-15,-20 -35,-20 -35,40 25,40 25,20\" />\n",
       "                <rect x=\"-15\" y=\"-40\" width=\"60\" height=\"60\" />\n",
       "            </g>\n",
       "\n",
       "            <g transform=\"translate(50 352)\">\n",
       "                <polygon points=\"-35,-5 0,-40 35,-5\" />\n",
       "                <polygon points=\"-35,10 0,45 35,10\" />\n",
       "            </g>\n",
       "\n",
       "            <g transform=\"translate(75 250)\">\n",
       "                <polyline points=\"-30,30 -60,0 -30,-30\" />\n",
       "                <polyline points=\"0,30 -30,0 0,-30\" />\n",
       "            </g>\n",
       "\n",
       "            <g transform=\"translate(425 250) rotate(180)\">\n",
       "                <polyline points=\"-30,30 -60,0 -30,-30\" />\n",
       "                <polyline points=\"0,30 -30,0 0,-30\" />\n",
       "            </g>\n",
       "        </g>\n",
       "    </g>\n",
       "</svg>\n",
       "</a>\n",
       "    Loading ITables v2.5.2 from the internet...\n",
       "    (need <a href=https://mwouts.github.io/itables/troubleshooting.html>help</a>?)</td>\n",
       "    </tr></tbody></table>\n",
       "<link href=\"https://www.unpkg.com/dt_for_itables@2.4.0/dt_bundle.css\" rel=\"stylesheet\">\n",
       "<script type=\"module\">\n",
       "    import { ITable, jQuery as $ } from 'https://www.unpkg.com/dt_for_itables@2.4.0/dt_bundle.js';\n",
       "\n",
       "    document.querySelectorAll(\"#itables_0ae98d12_e651_4036_b114_e0d7d6a7f091:not(.dataTable)\").forEach(table => {\n",
       "        if (!(table instanceof HTMLTableElement))\n",
       "            return;\n",
       "\n",
       "        let dt_args = {\"layout\": {\"topStart\": null, \"topEnd\": null, \"bottomStart\": null, \"bottomEnd\": null}, \"classes\": [\"display\", \"nowrap\"], \"order\": [], \"text_in_header_can_be_selected\": true, \"style\": {\"table-layout\": \"auto\", \"width\": \"auto\", \"margin\": \"auto\", \"caption-side\": \"bottom\"}, \"table_html\": \"<table><thead>\\n    <tr style=\\\"text-align: right;\\\">\\n      <th></th>\\n      <th>count</th>\\n      <th>mean</th>\\n      <th>std</th>\\n      <th>min</th>\\n      <th>25%</th>\\n      <th>50%</th>\\n      <th>75%</th>\\n      <th>max</th>\\n    </tr>\\n    <tr>\\n      <th>theme</th>\\n      <th></th>\\n      <th></th>\\n      <th></th>\\n      <th></th>\\n      <th></th>\\n      <th></th>\\n      <th></th>\\n      <th></th>\\n    </tr>\\n  </thead></table>\", \"data_json\": \"[[\\\"City\\\", 25.0, 5.3996, 15.243677, -13.99, -4.01, -1.0, 12.0, 39.96], [\\\"DUPLO\\\\u00ae\\\", 25.0, 7.3924, 16.996152, -5.0, -2.0, 0.0, 11.01, 69.0], [\\\"Friends\\\", 25.0, 8.9792, 24.047927, -9.99, -0.04, 3.96, 8.94, 115.0]]\"};\n",
       "        new ITable(table, dt_args);\n",
       "    });\n",
       "</script>\n"
      ],
      "text/plain": [
       "<IPython.core.display.HTML object>"
      ]
     },
     "metadata": {},
     "output_type": "display_data"
    }
   ],
   "source": [
    "theme_desc = DF.groupby(by=['theme'])['price_diff'].describe()\n",
    "show(theme_desc)"
   ]
  },
  {
   "cell_type": "markdown",
   "id": "9a7162b7-2d6c-41fe-abe3-279ce8fc6658",
   "metadata": {},
   "source": [
    "1. The most money saved on a lego set is 13.99 if bought on amazon.\n",
    "2. $115 is the most overpriced lego set compared from retail\n",
    "3. On average buying on amazon is not the best deal\n",
    "4. Over 50% you do not save any money when buying on amazon"
   ]
  },
  {
   "cell_type": "code",
   "execution_count": 124,
   "id": "118afcd4-6ba5-4d51-b12f-93dd86c18bf8",
   "metadata": {},
   "outputs": [
    {
     "data": {
      "application/vnd.plotly.v1+json": {
       "config": {
        "plotlyServerURL": "https://plot.ly"
       },
       "data": [
        {
         "bingroup": "x",
         "histfunc": "sum",
         "hovertemplate": "theme=DUPLO®<br>amazon_price=%{x}<br>sum of price=%{y}<extra></extra>",
         "legendgroup": "DUPLO®",
         "marker": {
          "color": "#636efa",
          "pattern": {
           "shape": ""
          }
         },
         "name": "DUPLO®",
         "orientation": "v",
         "showlegend": true,
         "type": "histogram",
         "x": {
          "bdata": "AAAAAAAAMEBmZmZmZuYiQFK4HoXr8UNAuB6F61FYTEAfhetRuH5CQHsUrkfh+iNAPQrXo3D9NUBmZmZmZh5gQAAAAAAAoFJAj8L1KFy/WEA9CtejcP0xQM3MzMzMjDNAAAAAAAAAMEA9CtejcP0xQFyPwvUoHDVAH4XrUbj+TUCF61G4HkU3QD0K16Nw/TFAPQrXo3D9NUApXI/C9SgZQD0K16Nw/TpAexSuR+H6LUB7FK5H4fohQD0K16Nw/T1AH4XrUbj+TUA=",
          "dtype": "f8"
         },
         "xaxis": "x",
         "y": {
          "bdata": "9ihcj8L1E0D2KFyPwvUTQHsUrkfh+i1AH4XrUbj+SEA9CtejcP0zQHsUrkfh+iNAPQrXo3D9OECPwvUoXP9dQD0K16Nw/T1APQrXo3D9PUA9CtejcP0zQD0K16Nw/TNAPQrXo3D9M0A9CtejcP0zQHsUrkfh+iNAH4XrUbj+TUB7FK5H4fojQD0K16Nw/TNAPQrXo3D9OED2KFyPwvUbQD0K16Nw/T1AexSuR+H6LUB7FK5H4fojQB+F61G4fkFAH4XrUbj+TUA=",
          "dtype": "f8"
         },
         "yaxis": "y"
        },
        {
         "bingroup": "x",
         "histfunc": "sum",
         "hovertemplate": "theme=Friends<br>amazon_price=%{x}<br>sum of price=%{y}<extra></extra>",
         "legendgroup": "Friends",
         "marker": {
          "color": "#EF553B",
          "pattern": {
           "shape": ""
          }
         },
         "name": "Friends",
         "orientation": "v",
         "showlegend": true,
         "type": "histogram",
         "x": {
          "bdata": "MzMzMzMzRECamZmZmflGQHE9Ctej8EpASOF6FK4fZ0AAAAAAAABBQHsUrkfh+i1ApHA9CtejMkAzMzMzM/MyQB+F61G4/kFAH4XrUbh+T0AAAAAAAABEQIXrUbgeRT9A7FG4HoWrP0B7FK5H4fotQPYoXI/C9R9ApHA9CtdDSEB7FK5H4fohQK5H4XoU7jJAuB6F61H4MUCkcD0K16MuQD0K16Nw/TNAmpmZmZn5Q0DNzMzMzPxTQDMzMzMz8z1AmpmZmZn5SEA=",
          "dtype": "f8"
         },
         "xaxis": "x",
         "y": {
          "bdata": "exSuR+H6LUA9CtejcP0zQD0K16Nw/T1Aj8L1KFx/UUA9CtejcP09QPYoXI/C9R9A9ihcj8L1H0B7FK5H4fotQB+F61G4/kNAj8L1KFx/UUAfhetRuP5IQD0K16Nw/TNAH4XrUbj+Q0D2KFyPwvUfQPYoXI/C9R9AH4XrUbj+SEB7FK5H4fojQHsUrkfh+iNAexSuR+H6I0B7FK5H4fojQD0K16Nw/TNAH4XrUbj+Q0CPwvUoXP9TQD0K16Nw/T1AH4XrUbj+SEA=",
          "dtype": "f8"
         },
         "yaxis": "y"
        },
        {
         "bingroup": "x",
         "histfunc": "sum",
         "hovertemplate": "theme=City<br>amazon_price=%{x}<br>sum of price=%{y}<extra></extra>",
         "legendgroup": "City",
         "marker": {
          "color": "#00cc96",
          "pattern": {
           "shape": ""
          }
         },
         "name": "City",
         "orientation": "v",
         "showlegend": true,
         "type": "histogram",
         "x": {
          "bdata": "pHA9CtfjPkA9CtejcH0wQAAAAAAAMFBAj8L1KFx/UEDNzMzMzHxRQD0K16Nw/TVAj8L1KFx/UUD2KFyPwnU/QBSuR+F61DdAAAAAAAAATEAfhetRuP5KQHsUrkfh+iFAAAAAAAAAMEBmZmZmZmZLQD0K16Nw/T9APQrXo3D9QUAfhetRuF5KQI/C9Shc/1hAexSuR+H6N0B7FK5H4fohQHsUrkfh+iFAexSuR+H6L0CPwvUoXP9YQEjhehSuv2JAPQrXo3D9MUA=",
          "dtype": "f8"
         },
         "xaxis": "x",
         "y": {
          "bdata": "9ihcj8L1G0B7FK5H4fojQB+F61G4/kNAPQrXo3D9PUA9CtejcP09QHsUrkfh+iNAH4XrUbj+Q0AfhetRuP5DQD0K16Nw/TNAj8L1KFx/UUAfhetRuP5NQHsUrkfh+iNAPQrXo3D9M0A9CtejcP09QB+F61G4/kNAH4XrUbj+Q0AfhetRuP5NQI/C9Shc/1hAPQrXo3D9PUB7FK5H4fojQHsUrkfh+iNAPQrXo3D9M0CPwvUoXP9YQEjhehSuv2JAPQrXo3D9M0A=",
          "dtype": "f8"
         },
         "yaxis": "y"
        }
       ],
       "layout": {
        "barmode": "relative",
        "legend": {
         "title": {
          "text": "theme"
         },
         "tracegroupgap": 0
        },
        "template": {
         "data": {
          "bar": [
           {
            "error_x": {
             "color": "#2a3f5f"
            },
            "error_y": {
             "color": "#2a3f5f"
            },
            "marker": {
             "line": {
              "color": "#E5ECF6",
              "width": 0.5
             },
             "pattern": {
              "fillmode": "overlay",
              "size": 10,
              "solidity": 0.2
             }
            },
            "type": "bar"
           }
          ],
          "barpolar": [
           {
            "marker": {
             "line": {
              "color": "#E5ECF6",
              "width": 0.5
             },
             "pattern": {
              "fillmode": "overlay",
              "size": 10,
              "solidity": 0.2
             }
            },
            "type": "barpolar"
           }
          ],
          "carpet": [
           {
            "aaxis": {
             "endlinecolor": "#2a3f5f",
             "gridcolor": "white",
             "linecolor": "white",
             "minorgridcolor": "white",
             "startlinecolor": "#2a3f5f"
            },
            "baxis": {
             "endlinecolor": "#2a3f5f",
             "gridcolor": "white",
             "linecolor": "white",
             "minorgridcolor": "white",
             "startlinecolor": "#2a3f5f"
            },
            "type": "carpet"
           }
          ],
          "choropleth": [
           {
            "colorbar": {
             "outlinewidth": 0,
             "ticks": ""
            },
            "type": "choropleth"
           }
          ],
          "contour": [
           {
            "colorbar": {
             "outlinewidth": 0,
             "ticks": ""
            },
            "colorscale": [
             [
              0,
              "#0d0887"
             ],
             [
              0.1111111111111111,
              "#46039f"
             ],
             [
              0.2222222222222222,
              "#7201a8"
             ],
             [
              0.3333333333333333,
              "#9c179e"
             ],
             [
              0.4444444444444444,
              "#bd3786"
             ],
             [
              0.5555555555555556,
              "#d8576b"
             ],
             [
              0.6666666666666666,
              "#ed7953"
             ],
             [
              0.7777777777777778,
              "#fb9f3a"
             ],
             [
              0.8888888888888888,
              "#fdca26"
             ],
             [
              1,
              "#f0f921"
             ]
            ],
            "type": "contour"
           }
          ],
          "contourcarpet": [
           {
            "colorbar": {
             "outlinewidth": 0,
             "ticks": ""
            },
            "type": "contourcarpet"
           }
          ],
          "heatmap": [
           {
            "colorbar": {
             "outlinewidth": 0,
             "ticks": ""
            },
            "colorscale": [
             [
              0,
              "#0d0887"
             ],
             [
              0.1111111111111111,
              "#46039f"
             ],
             [
              0.2222222222222222,
              "#7201a8"
             ],
             [
              0.3333333333333333,
              "#9c179e"
             ],
             [
              0.4444444444444444,
              "#bd3786"
             ],
             [
              0.5555555555555556,
              "#d8576b"
             ],
             [
              0.6666666666666666,
              "#ed7953"
             ],
             [
              0.7777777777777778,
              "#fb9f3a"
             ],
             [
              0.8888888888888888,
              "#fdca26"
             ],
             [
              1,
              "#f0f921"
             ]
            ],
            "type": "heatmap"
           }
          ],
          "histogram": [
           {
            "marker": {
             "pattern": {
              "fillmode": "overlay",
              "size": 10,
              "solidity": 0.2
             }
            },
            "type": "histogram"
           }
          ],
          "histogram2d": [
           {
            "colorbar": {
             "outlinewidth": 0,
             "ticks": ""
            },
            "colorscale": [
             [
              0,
              "#0d0887"
             ],
             [
              0.1111111111111111,
              "#46039f"
             ],
             [
              0.2222222222222222,
              "#7201a8"
             ],
             [
              0.3333333333333333,
              "#9c179e"
             ],
             [
              0.4444444444444444,
              "#bd3786"
             ],
             [
              0.5555555555555556,
              "#d8576b"
             ],
             [
              0.6666666666666666,
              "#ed7953"
             ],
             [
              0.7777777777777778,
              "#fb9f3a"
             ],
             [
              0.8888888888888888,
              "#fdca26"
             ],
             [
              1,
              "#f0f921"
             ]
            ],
            "type": "histogram2d"
           }
          ],
          "histogram2dcontour": [
           {
            "colorbar": {
             "outlinewidth": 0,
             "ticks": ""
            },
            "colorscale": [
             [
              0,
              "#0d0887"
             ],
             [
              0.1111111111111111,
              "#46039f"
             ],
             [
              0.2222222222222222,
              "#7201a8"
             ],
             [
              0.3333333333333333,
              "#9c179e"
             ],
             [
              0.4444444444444444,
              "#bd3786"
             ],
             [
              0.5555555555555556,
              "#d8576b"
             ],
             [
              0.6666666666666666,
              "#ed7953"
             ],
             [
              0.7777777777777778,
              "#fb9f3a"
             ],
             [
              0.8888888888888888,
              "#fdca26"
             ],
             [
              1,
              "#f0f921"
             ]
            ],
            "type": "histogram2dcontour"
           }
          ],
          "mesh3d": [
           {
            "colorbar": {
             "outlinewidth": 0,
             "ticks": ""
            },
            "type": "mesh3d"
           }
          ],
          "parcoords": [
           {
            "line": {
             "colorbar": {
              "outlinewidth": 0,
              "ticks": ""
             }
            },
            "type": "parcoords"
           }
          ],
          "pie": [
           {
            "automargin": true,
            "type": "pie"
           }
          ],
          "scatter": [
           {
            "fillpattern": {
             "fillmode": "overlay",
             "size": 10,
             "solidity": 0.2
            },
            "type": "scatter"
           }
          ],
          "scatter3d": [
           {
            "line": {
             "colorbar": {
              "outlinewidth": 0,
              "ticks": ""
             }
            },
            "marker": {
             "colorbar": {
              "outlinewidth": 0,
              "ticks": ""
             }
            },
            "type": "scatter3d"
           }
          ],
          "scattercarpet": [
           {
            "marker": {
             "colorbar": {
              "outlinewidth": 0,
              "ticks": ""
             }
            },
            "type": "scattercarpet"
           }
          ],
          "scattergeo": [
           {
            "marker": {
             "colorbar": {
              "outlinewidth": 0,
              "ticks": ""
             }
            },
            "type": "scattergeo"
           }
          ],
          "scattergl": [
           {
            "marker": {
             "colorbar": {
              "outlinewidth": 0,
              "ticks": ""
             }
            },
            "type": "scattergl"
           }
          ],
          "scattermap": [
           {
            "marker": {
             "colorbar": {
              "outlinewidth": 0,
              "ticks": ""
             }
            },
            "type": "scattermap"
           }
          ],
          "scattermapbox": [
           {
            "marker": {
             "colorbar": {
              "outlinewidth": 0,
              "ticks": ""
             }
            },
            "type": "scattermapbox"
           }
          ],
          "scatterpolar": [
           {
            "marker": {
             "colorbar": {
              "outlinewidth": 0,
              "ticks": ""
             }
            },
            "type": "scatterpolar"
           }
          ],
          "scatterpolargl": [
           {
            "marker": {
             "colorbar": {
              "outlinewidth": 0,
              "ticks": ""
             }
            },
            "type": "scatterpolargl"
           }
          ],
          "scatterternary": [
           {
            "marker": {
             "colorbar": {
              "outlinewidth": 0,
              "ticks": ""
             }
            },
            "type": "scatterternary"
           }
          ],
          "surface": [
           {
            "colorbar": {
             "outlinewidth": 0,
             "ticks": ""
            },
            "colorscale": [
             [
              0,
              "#0d0887"
             ],
             [
              0.1111111111111111,
              "#46039f"
             ],
             [
              0.2222222222222222,
              "#7201a8"
             ],
             [
              0.3333333333333333,
              "#9c179e"
             ],
             [
              0.4444444444444444,
              "#bd3786"
             ],
             [
              0.5555555555555556,
              "#d8576b"
             ],
             [
              0.6666666666666666,
              "#ed7953"
             ],
             [
              0.7777777777777778,
              "#fb9f3a"
             ],
             [
              0.8888888888888888,
              "#fdca26"
             ],
             [
              1,
              "#f0f921"
             ]
            ],
            "type": "surface"
           }
          ],
          "table": [
           {
            "cells": {
             "fill": {
              "color": "#EBF0F8"
             },
             "line": {
              "color": "white"
             }
            },
            "header": {
             "fill": {
              "color": "#C8D4E3"
             },
             "line": {
              "color": "white"
             }
            },
            "type": "table"
           }
          ]
         },
         "layout": {
          "annotationdefaults": {
           "arrowcolor": "#2a3f5f",
           "arrowhead": 0,
           "arrowwidth": 1
          },
          "autotypenumbers": "strict",
          "coloraxis": {
           "colorbar": {
            "outlinewidth": 0,
            "ticks": ""
           }
          },
          "colorscale": {
           "diverging": [
            [
             0,
             "#8e0152"
            ],
            [
             0.1,
             "#c51b7d"
            ],
            [
             0.2,
             "#de77ae"
            ],
            [
             0.3,
             "#f1b6da"
            ],
            [
             0.4,
             "#fde0ef"
            ],
            [
             0.5,
             "#f7f7f7"
            ],
            [
             0.6,
             "#e6f5d0"
            ],
            [
             0.7,
             "#b8e186"
            ],
            [
             0.8,
             "#7fbc41"
            ],
            [
             0.9,
             "#4d9221"
            ],
            [
             1,
             "#276419"
            ]
           ],
           "sequential": [
            [
             0,
             "#0d0887"
            ],
            [
             0.1111111111111111,
             "#46039f"
            ],
            [
             0.2222222222222222,
             "#7201a8"
            ],
            [
             0.3333333333333333,
             "#9c179e"
            ],
            [
             0.4444444444444444,
             "#bd3786"
            ],
            [
             0.5555555555555556,
             "#d8576b"
            ],
            [
             0.6666666666666666,
             "#ed7953"
            ],
            [
             0.7777777777777778,
             "#fb9f3a"
            ],
            [
             0.8888888888888888,
             "#fdca26"
            ],
            [
             1,
             "#f0f921"
            ]
           ],
           "sequentialminus": [
            [
             0,
             "#0d0887"
            ],
            [
             0.1111111111111111,
             "#46039f"
            ],
            [
             0.2222222222222222,
             "#7201a8"
            ],
            [
             0.3333333333333333,
             "#9c179e"
            ],
            [
             0.4444444444444444,
             "#bd3786"
            ],
            [
             0.5555555555555556,
             "#d8576b"
            ],
            [
             0.6666666666666666,
             "#ed7953"
            ],
            [
             0.7777777777777778,
             "#fb9f3a"
            ],
            [
             0.8888888888888888,
             "#fdca26"
            ],
            [
             1,
             "#f0f921"
            ]
           ]
          },
          "colorway": [
           "#636efa",
           "#EF553B",
           "#00cc96",
           "#ab63fa",
           "#FFA15A",
           "#19d3f3",
           "#FF6692",
           "#B6E880",
           "#FF97FF",
           "#FECB52"
          ],
          "font": {
           "color": "#2a3f5f"
          },
          "geo": {
           "bgcolor": "white",
           "lakecolor": "white",
           "landcolor": "#E5ECF6",
           "showlakes": true,
           "showland": true,
           "subunitcolor": "white"
          },
          "hoverlabel": {
           "align": "left"
          },
          "hovermode": "closest",
          "mapbox": {
           "style": "light"
          },
          "paper_bgcolor": "white",
          "plot_bgcolor": "#E5ECF6",
          "polar": {
           "angularaxis": {
            "gridcolor": "white",
            "linecolor": "white",
            "ticks": ""
           },
           "bgcolor": "#E5ECF6",
           "radialaxis": {
            "gridcolor": "white",
            "linecolor": "white",
            "ticks": ""
           }
          },
          "scene": {
           "xaxis": {
            "backgroundcolor": "#E5ECF6",
            "gridcolor": "white",
            "gridwidth": 2,
            "linecolor": "white",
            "showbackground": true,
            "ticks": "",
            "zerolinecolor": "white"
           },
           "yaxis": {
            "backgroundcolor": "#E5ECF6",
            "gridcolor": "white",
            "gridwidth": 2,
            "linecolor": "white",
            "showbackground": true,
            "ticks": "",
            "zerolinecolor": "white"
           },
           "zaxis": {
            "backgroundcolor": "#E5ECF6",
            "gridcolor": "white",
            "gridwidth": 2,
            "linecolor": "white",
            "showbackground": true,
            "ticks": "",
            "zerolinecolor": "white"
           }
          },
          "shapedefaults": {
           "line": {
            "color": "#2a3f5f"
           }
          },
          "ternary": {
           "aaxis": {
            "gridcolor": "white",
            "linecolor": "white",
            "ticks": ""
           },
           "baxis": {
            "gridcolor": "white",
            "linecolor": "white",
            "ticks": ""
           },
           "bgcolor": "#E5ECF6",
           "caxis": {
            "gridcolor": "white",
            "linecolor": "white",
            "ticks": ""
           }
          },
          "title": {
           "x": 0.05
          },
          "xaxis": {
           "automargin": true,
           "gridcolor": "white",
           "linecolor": "white",
           "ticks": "",
           "title": {
            "standoff": 15
           },
           "zerolinecolor": "white",
           "zerolinewidth": 2
          },
          "yaxis": {
           "automargin": true,
           "gridcolor": "white",
           "linecolor": "white",
           "ticks": "",
           "title": {
            "standoff": 15
           },
           "zerolinecolor": "white",
           "zerolinewidth": 2
          }
         }
        },
        "title": {
         "text": "Amazon Price vs Retail Price"
        },
        "xaxis": {
         "anchor": "y",
         "domain": [
          0,
          1
         ],
         "title": {
          "text": "amazon_price"
         }
        },
        "yaxis": {
         "anchor": "x",
         "domain": [
          0,
          1
         ],
         "title": {
          "text": "sum of price"
         }
        }
       }
      },
      "image/png": "[encoded data removed]"
     },
     "metadata": {},
     "output_type": "display_data"
    }
   ],
   "source": [
    "fig = px.histogram(DF,\n",
    "                  x = 'amazon_price',\n",
    "                   y = 'price',\n",
    "                  color = 'theme',\n",
    "                  title = 'Amazon Price vs Retail Price')\n",
    "fig.show()"
   ]
  },
  {
   "cell_type": "markdown",
   "id": "73409a34-595f-4e77-9ed9-4f5332e29df1",
   "metadata": {},
   "source": [
    "# Problem 5"
   ]
  },
  {
   "cell_type": "markdown",
   "id": "eb9dd4cc-bb2f-49df-9ba4-5c9dd0e7ebcd",
   "metadata": {},
   "source": [
    "A) What was the most expensive set based on Retail price? Show the full data frame information for this observation. Comment on your results comparing Amazon and Retail, number of pieces or minifigs, etc <br>\n",
    "B) What was the most expensive set based on Amazon price? Show the full data frame information for this observation<br>\n",
    "C) How many sets were above $100 on either Retail or Amazon? Show the full data frame information for these observations. Comment on any observations for these sets."
   ]
  },
  {
   "cell_type": "code",
   "execution_count": 130,
   "id": "ab3a907a-ca46-45ba-8f78-2915dace8ee4",
   "metadata": {},
   "outputs": [
    {
     "data": {
      "text/html": [
       "<!--| quarto-html-table-processing: none -->\n",
       "<table id=\"itables_32ed7774_2c69_4484_adbf_5e23d40d75ad\"><tbody><tr>\n",
       "    <td style=\"vertical-align:middle; text-align:left\">\n",
       "    <a href=https://mwouts.github.io/itables/><svg class=\"main-svg\" xmlns=\"http://www.w3.org/2000/svg\" xmlns:xlink=\"http://www.w3.org/1999/xlink\"\n",
       "width=\"64\" viewBox=\"0 0 500 400\" style=\"font-family: 'Droid Sans', sans-serif;\">\n",
       "    <g style=\"fill:#d9d7fc\">\n",
       "        <path d=\"M100,400H500V357H100Z\" />\n",
       "        <path d=\"M100,300H400V257H100Z\" />\n",
       "        <path d=\"M0,200H400V157H0Z\" />\n",
       "        <path d=\"M100,100H500V57H100Z\" />\n",
       "        <path d=\"M100,350H500V307H100Z\" />\n",
       "        <path d=\"M100,250H400V207H100Z\" />\n",
       "        <path d=\"M0,150H400V107H0Z\" />\n",
       "        <path d=\"M100,50H500V7H100Z\" />\n",
       "    </g>\n",
       "    <g style=\"fill:#1a1366;stroke:#1a1366;\">\n",
       "   <rect x=\"100\" y=\"7\" width=\"400\" height=\"43\">\n",
       "    <animate\n",
       "      attributeName=\"width\"\n",
       "      values=\"0;400;0\"\n",
       "      dur=\"5s\"\n",
       "      repeatCount=\"indefinite\" />\n",
       "      <animate\n",
       "      attributeName=\"x\"\n",
       "      values=\"100;100;500\"\n",
       "      dur=\"5s\"\n",
       "      repeatCount=\"indefinite\" />\n",
       "  </rect>\n",
       "        <rect x=\"0\" y=\"107\" width=\"400\" height=\"43\">\n",
       "    <animate\n",
       "      attributeName=\"width\"\n",
       "      values=\"0;400;0\"\n",
       "      dur=\"3.5s\"\n",
       "      repeatCount=\"indefinite\" />\n",
       "    <animate\n",
       "      attributeName=\"x\"\n",
       "      values=\"0;0;400\"\n",
       "      dur=\"3.5s\"\n",
       "      repeatCount=\"indefinite\" />\n",
       "  </rect>\n",
       "        <rect x=\"100\" y=\"207\" width=\"300\" height=\"43\">\n",
       "    <animate\n",
       "      attributeName=\"width\"\n",
       "      values=\"0;300;0\"\n",
       "      dur=\"3s\"\n",
       "      repeatCount=\"indefinite\" />\n",
       "    <animate\n",
       "      attributeName=\"x\"\n",
       "      values=\"100;100;400\"\n",
       "      dur=\"3s\"\n",
       "      repeatCount=\"indefinite\" />\n",
       "  </rect>\n",
       "        <rect x=\"100\" y=\"307\" width=\"400\" height=\"43\">\n",
       "    <animate\n",
       "      attributeName=\"width\"\n",
       "      values=\"0;400;0\"\n",
       "      dur=\"4s\"\n",
       "      repeatCount=\"indefinite\" />\n",
       "      <animate\n",
       "      attributeName=\"x\"\n",
       "      values=\"100;100;500\"\n",
       "      dur=\"4s\"\n",
       "      repeatCount=\"indefinite\" />\n",
       "  </rect>\n",
       "        <g style=\"fill:transparent;stroke-width:8; stroke-linejoin:round\" rx=\"5\">\n",
       "            <g transform=\"translate(45 50) rotate(-45)\">\n",
       "                <circle r=\"33\" cx=\"0\" cy=\"0\" />\n",
       "                <rect x=\"-8\" y=\"32\" width=\"16\" height=\"30\" />\n",
       "            </g>\n",
       "\n",
       "            <g transform=\"translate(450 152)\">\n",
       "                <polyline points=\"-15,-20 -35,-20 -35,40 25,40 25,20\" />\n",
       "                <rect x=\"-15\" y=\"-40\" width=\"60\" height=\"60\" />\n",
       "            </g>\n",
       "\n",
       "            <g transform=\"translate(50 352)\">\n",
       "                <polygon points=\"-35,-5 0,-40 35,-5\" />\n",
       "                <polygon points=\"-35,10 0,45 35,10\" />\n",
       "            </g>\n",
       "\n",
       "            <g transform=\"translate(75 250)\">\n",
       "                <polyline points=\"-30,30 -60,0 -30,-30\" />\n",
       "                <polyline points=\"0,30 -30,0 0,-30\" />\n",
       "            </g>\n",
       "\n",
       "            <g transform=\"translate(425 250) rotate(180)\">\n",
       "                <polyline points=\"-30,30 -60,0 -30,-30\" />\n",
       "                <polyline points=\"0,30 -30,0 0,-30\" />\n",
       "            </g>\n",
       "        </g>\n",
       "    </g>\n",
       "</svg>\n",
       "</a>\n",
       "    Loading ITables v2.5.2 from the internet...\n",
       "    (need <a href=https://mwouts.github.io/itables/troubleshooting.html>help</a>?)</td>\n",
       "    </tr></tbody></table>\n",
       "<link href=\"https://www.unpkg.com/dt_for_itables@2.4.0/dt_bundle.css\" rel=\"stylesheet\">\n",
       "<script type=\"module\">\n",
       "    import { ITable, jQuery as $ } from 'https://www.unpkg.com/dt_for_itables@2.4.0/dt_bundle.js';\n",
       "\n",
       "    document.querySelectorAll(\"#itables_32ed7774_2c69_4484_adbf_5e23d40d75ad:not(.dataTable)\").forEach(table => {\n",
       "        if (!(table instanceof HTMLTableElement))\n",
       "            return;\n",
       "\n",
       "        let dt_args = {\"layout\": {\"topStart\": \"pageLength\", \"topEnd\": \"search\", \"bottomStart\": \"info\", \"bottomEnd\": \"paging\"}, \"classes\": [\"display\", \"nowrap\"], \"order\": [], \"text_in_header_can_be_selected\": true, \"style\": {\"table-layout\": \"auto\", \"width\": \"auto\", \"margin\": \"auto\", \"caption-side\": \"bottom\"}, \"table_html\": \"<table><thead>\\n    <tr style=\\\"text-align: right;\\\">\\n      <th></th>\\n      <th>set_name</th>\\n      <th>amazon_price</th>\\n      <th>pieces</th>\\n      <th>minifigures</th>\\n    </tr>\\n    <tr>\\n      <th>price</th>\\n      <th></th>\\n      <th></th>\\n      <th></th>\\n      <th></th>\\n    </tr>\\n  </thead></table>\", \"data_json\": \"[[149.99, \\\"Ocean Exploration Ship\\\", 149.99, 745, 8.0], [119.99, \\\"Cargo Train\\\", 128.95, 105, 3.0], [99.99, \\\"Tuning Workshop\\\", 99.99, 897, 7.0], [79.99, \\\"Jungle Rescue Base\\\", 79.95, 648, 3.0], [69.99, \\\"Mia's House\\\", 184.99, 722, 4.0], [59.99, \\\"Tropical Island\\\", 59.99, 363, 5.0], [49.99, \\\"Large Playground Brick Box\\\", 56.69, 468, 3.0], [39.99, \\\"Tiger Hot Air Balloon Jungle Rescue\\\", 69.99, 363, 15.0], [34.99, \\\"Bakery\\\", 29.99, 46, 2.0], [29.99, \\\"Super Heroes Lab\\\", 98.99, 500, 3.0], [24.99, \\\"Train Bridge and Tracks\\\", 21.99, 36, 2.0], [19.99, \\\"Turtles Rescue Mission\\\", 45.95, 225, 3.0], [14.99, \\\"Stephanie's Soccer Practice\\\", 40.4, 134, 2.0], [9.99, \\\"Street Sweeper\\\", 23.27, 89, 4.0], [7.99, \\\"Stephanie's Heart Box\\\", 18.64, 93, 2.0], [6.99, \\\"Tow Truck\\\", 30.89, 37, 2.0], [4.99, \\\"My First Race Car\\\", 16.0, 6, \\\"___NaN___\\\"]]\"};\n",
       "        new ITable(table, dt_args);\n",
       "    });\n",
       "</script>\n"
      ],
      "text/plain": [
       "<IPython.core.display.HTML object>"
      ]
     },
     "metadata": {},
     "output_type": "display_data"
    }
   ],
   "source": [
    "my_col = ['set_name','price', 'amazon_price', 'pieces', 'minifigures']\n",
    "show(priceDF.sort_values(by='price',ascending=False))\n",
    "#We see that Ocean Exploration ship is the most expensive retail set"
   ]
  },
  {
   "cell_type": "code",
   "execution_count": 132,
   "id": "98e96495-6e21-44be-9572-51b988d1e152",
   "metadata": {},
   "outputs": [
    {
     "data": {
      "text/html": [
       "<!--| quarto-html-table-processing: none -->\n",
       "<table id=\"itables_2bc31a51_713c_4d0c_9d66_07a27a3c9eca\"><tbody><tr>\n",
       "    <td style=\"vertical-align:middle; text-align:left\">\n",
       "    <a href=https://mwouts.github.io/itables/><svg class=\"main-svg\" xmlns=\"http://www.w3.org/2000/svg\" xmlns:xlink=\"http://www.w3.org/1999/xlink\"\n",
       "width=\"64\" viewBox=\"0 0 500 400\" style=\"font-family: 'Droid Sans', sans-serif;\">\n",
       "    <g style=\"fill:#d9d7fc\">\n",
       "        <path d=\"M100,400H500V357H100Z\" />\n",
       "        <path d=\"M100,300H400V257H100Z\" />\n",
       "        <path d=\"M0,200H400V157H0Z\" />\n",
       "        <path d=\"M100,100H500V57H100Z\" />\n",
       "        <path d=\"M100,350H500V307H100Z\" />\n",
       "        <path d=\"M100,250H400V207H100Z\" />\n",
       "        <path d=\"M0,150H400V107H0Z\" />\n",
       "        <path d=\"M100,50H500V7H100Z\" />\n",
       "    </g>\n",
       "    <g style=\"fill:#1a1366;stroke:#1a1366;\">\n",
       "   <rect x=\"100\" y=\"7\" width=\"400\" height=\"43\">\n",
       "    <animate\n",
       "      attributeName=\"width\"\n",
       "      values=\"0;400;0\"\n",
       "      dur=\"5s\"\n",
       "      repeatCount=\"indefinite\" />\n",
       "      <animate\n",
       "      attributeName=\"x\"\n",
       "      values=\"100;100;500\"\n",
       "      dur=\"5s\"\n",
       "      repeatCount=\"indefinite\" />\n",
       "  </rect>\n",
       "        <rect x=\"0\" y=\"107\" width=\"400\" height=\"43\">\n",
       "    <animate\n",
       "      attributeName=\"width\"\n",
       "      values=\"0;400;0\"\n",
       "      dur=\"3.5s\"\n",
       "      repeatCount=\"indefinite\" />\n",
       "    <animate\n",
       "      attributeName=\"x\"\n",
       "      values=\"0;0;400\"\n",
       "      dur=\"3.5s\"\n",
       "      repeatCount=\"indefinite\" />\n",
       "  </rect>\n",
       "        <rect x=\"100\" y=\"207\" width=\"300\" height=\"43\">\n",
       "    <animate\n",
       "      attributeName=\"width\"\n",
       "      values=\"0;300;0\"\n",
       "      dur=\"3s\"\n",
       "      repeatCount=\"indefinite\" />\n",
       "    <animate\n",
       "      attributeName=\"x\"\n",
       "      values=\"100;100;400\"\n",
       "      dur=\"3s\"\n",
       "      repeatCount=\"indefinite\" />\n",
       "  </rect>\n",
       "        <rect x=\"100\" y=\"307\" width=\"400\" height=\"43\">\n",
       "    <animate\n",
       "      attributeName=\"width\"\n",
       "      values=\"0;400;0\"\n",
       "      dur=\"4s\"\n",
       "      repeatCount=\"indefinite\" />\n",
       "      <animate\n",
       "      attributeName=\"x\"\n",
       "      values=\"100;100;500\"\n",
       "      dur=\"4s\"\n",
       "      repeatCount=\"indefinite\" />\n",
       "  </rect>\n",
       "        <g style=\"fill:transparent;stroke-width:8; stroke-linejoin:round\" rx=\"5\">\n",
       "            <g transform=\"translate(45 50) rotate(-45)\">\n",
       "                <circle r=\"33\" cx=\"0\" cy=\"0\" />\n",
       "                <rect x=\"-8\" y=\"32\" width=\"16\" height=\"30\" />\n",
       "            </g>\n",
       "\n",
       "            <g transform=\"translate(450 152)\">\n",
       "                <polyline points=\"-15,-20 -35,-20 -35,40 25,40 25,20\" />\n",
       "                <rect x=\"-15\" y=\"-40\" width=\"60\" height=\"60\" />\n",
       "            </g>\n",
       "\n",
       "            <g transform=\"translate(50 352)\">\n",
       "                <polygon points=\"-35,-5 0,-40 35,-5\" />\n",
       "                <polygon points=\"-35,10 0,45 35,10\" />\n",
       "            </g>\n",
       "\n",
       "            <g transform=\"translate(75 250)\">\n",
       "                <polyline points=\"-30,30 -60,0 -30,-30\" />\n",
       "                <polyline points=\"0,30 -30,0 0,-30\" />\n",
       "            </g>\n",
       "\n",
       "            <g transform=\"translate(425 250) rotate(180)\">\n",
       "                <polyline points=\"-30,30 -60,0 -30,-30\" />\n",
       "                <polyline points=\"0,30 -30,0 0,-30\" />\n",
       "            </g>\n",
       "        </g>\n",
       "    </g>\n",
       "</svg>\n",
       "</a>\n",
       "    Loading ITables v2.5.2 from the internet...\n",
       "    (need <a href=https://mwouts.github.io/itables/troubleshooting.html>help</a>?)</td>\n",
       "    </tr></tbody></table>\n",
       "<link href=\"https://www.unpkg.com/dt_for_itables@2.4.0/dt_bundle.css\" rel=\"stylesheet\">\n",
       "<script type=\"module\">\n",
       "    import { ITable, jQuery as $ } from 'https://www.unpkg.com/dt_for_itables@2.4.0/dt_bundle.js';\n",
       "\n",
       "    document.querySelectorAll(\"#itables_2bc31a51_713c_4d0c_9d66_07a27a3c9eca:not(.dataTable)\").forEach(table => {\n",
       "        if (!(table instanceof HTMLTableElement))\n",
       "            return;\n",
       "\n",
       "        let dt_args = {\"layout\": {\"topStart\": \"pageLength\", \"topEnd\": \"search\", \"bottomStart\": \"info\", \"bottomEnd\": \"paging\"}, \"classes\": [\"display\", \"nowrap\"], \"order\": [], \"text_in_header_can_be_selected\": true, \"style\": {\"table-layout\": \"auto\", \"width\": \"auto\", \"margin\": \"auto\", \"caption-side\": \"bottom\"}, \"table_html\": \"<table><thead>\\n    <tr style=\\\"text-align: right;\\\">\\n      <th></th>\\n      <th>set_name</th>\\n      <th>price</th>\\n      <th>amazon_price</th>\\n      <th>pieces</th>\\n      <th>minifigures</th>\\n    </tr>\\n  </thead></table>\", \"data_json\": \"[[28, \\\"Friendship House\\\", 69.99, 184.99, 722, 3.0], [73, \\\"Ocean Exploration Ship\\\", 149.99, 149.99, 745, 8.0], [7, \\\"Cargo Train\\\", 119.99, 128.95, 105, 3.0], [72, \\\"Tuning Workshop\\\", 99.99, 99.99, 897, 7.0], [67, \\\"Police Station\\\", 99.99, 99.99, 743, 7.0], [9, \\\"Rapunzel's Tower\\\", 29.99, 98.99, 37, 1.0], [47, \\\"Jungle Rescue Base\\\", 79.99, 79.95, 648, 3.0], [8, \\\"Spider-Man &amp; Hulk Adventures\\\", 29.99, 74.5, 38, 3.0], [56, \\\"People Pack - Outdoor Adventures\\\", 39.99, 69.99, 164, 15.0], [54, \\\"Heavy Cargo Transport\\\", 29.99, 69.95, 310, 2.0], [53, \\\"Pickup &amp; Caravan\\\", 29.99, 65.99, 344, 3.0], [52, \\\"Dirt Road Pursuit\\\", 39.99, 64.75, 297, 3.0], [34, \\\"Mia's House\\\", 69.99, 62.99, 715, 3.0], [24, \\\"Modular Playhouse\\\", 59.99, 59.99, 129, 3.0], [15, \\\"Tropical Island\\\", 59.99, 59.99, 73, 3.0], [3, \\\"Large Playground Brick Box\\\", 49.99, 56.69, 71, 2.0], [59, \\\"Fire Station\\\", 69.99, 56.0, 509, 4.0], [63, \\\"Harvester Transport\\\", 29.99, 54.8, 358, 3.0], [60, \\\"Fire Plane\\\", 59.99, 53.99, 363, 3.0], [27, \\\"Mia's Tree House\\\", 29.99, 53.88, 351, 2.0], [66, \\\"Police Monster Truck Heist\\\", 59.99, 52.74, 362, 5.0], [49, \\\"Beach House\\\", 49.99, 49.95, 444, 2.0], [40, \\\"Heartlake City Hospital\\\", 49.99, 48.53, 379, 3.0], [26, \\\"Olivia's Mission Vehicle\\\", 19.99, 45.95, 223, 1.0], [25, \\\"Stephanie's Soccer Practice\\\", 14.99, 40.4, 119, 1.0], [35, \\\"Andrea's Pool Party\\\", 49.99, 40.0, 468, 2.0], [46, \\\"Tiger Hot Air Balloon Jungle Rescue\\\", 39.99, 39.95, 302, 2.0], [2, \\\"My First Celebration\\\", 14.99, 39.89, 41, \\\"___NaN___\\\"], [4, \\\"Farmers' Market\\\", 19.99, 36.99, 26, 3.0], [33, \\\"Stephanie's Obstacle Course\\\", 39.99, 35.99, 337, 2.0], [65, \\\"Police Helicopter Chase\\\", 39.99, 35.98, 212, 4.0], [29, \\\"Friends Advent Calendar\\\", 29.99, 34.0, 500, \\\"___NaN___\\\"], [64, \\\"Mars Research Shuttle\\\", 39.99, 31.99, 273, 2.0], [37, \\\"Dolphins Rescue Mission\\\", 39.99, 31.67, 363, 2.0], [57, \\\"Parachute Arrest\\\", 39.99, 31.46, 218, 4.0], [36, \\\"Turtles Rescue Mission\\\", 19.99, 31.27, 225, 2.0], [50, \\\"Off-Road Chase\\\", 6.99, 30.89, 37, 2.0], [23, \\\"Bakery\\\", 34.99, 29.99, 46, 2.0], [48, \\\"Emma's Fashion Shop\\\", 29.99, 29.95, 343, 2.0], [20, \\\"Super Heroes Lab\\\", 29.99, 26.99, 30, 3.0], [68, \\\"Fire Helicopter Response\\\", 29.99, 23.98, 93, 3.0], [58, \\\"Dock Side Fire\\\", 19.99, 23.83, 97, 2.0], [16, \\\"Plane\\\", 9.99, 23.27, 12, 1.0], [55, \\\"Mining Team\\\", 9.99, 21.99, 82, 4.0], [6, \\\"Train Bridge and Tracks\\\", 24.99, 21.99, 26, 1.0], [18, \\\"Alphabet Truck\\\", 24.99, 21.99, 36, 2.0], [14, \\\"Baby Animals\\\", 9.99, 21.11, 9, \\\"___NaN___\\\"], [45, \\\"Baby Elephant Jungle Rescue\\\", 19.99, 19.99, 203, 2.0], [11, \\\"My First Fun Puzzle\\\", 19.99, 19.55, 15, \\\"___NaN___\\\"], [32, \\\"Mia's Forest Adventures\\\", 14.99, 18.95, 134, 1.0], [42, \\\"Andrea's Play Cube - Singer\\\", 9.99, 18.93, 49, 1.0], [31, \\\"Mia's Heart Box\\\", 7.99, 18.64, 83, 1.0], [74, \\\"Safari Off-Roader\\\", 19.99, 17.99, 168, 2.0], [10, \\\"Train Tracks\\\", 19.99, 17.99, 23, \\\"___NaN___\\\"], [13, \\\"Fire Truck\\\", 19.99, 17.99, 21, 2.0], [17, \\\"Submarine Adventure\\\", 19.99, 17.99, 24, 2.0], [43, \\\"Mia's Play Cube - Veterinarian\\\", 9.99, 17.97, 40, 1.0], [51, \\\"Mountain Fugitives\\\", 9.99, 16.49, 88, 4.0], [62, \\\"Diving Yacht\\\", 19.99, 16.0, 148, 2.0], [12, \\\"My First Car Creations\\\", 19.99, 16.0, 34, \\\"___NaN___\\\"], [0, \\\"My First Ladybird\\\", 4.99, 16.0, 6, \\\"___NaN___\\\"], [71, \\\"Construction Bulldozer\\\", 19.99, 15.99, 126, 2.0], [44, \\\"Mia's Play Cube - Cinema\\\", 9.99, 15.32, 37, 1.0], [30, \\\"Stephanie's Heart Box\\\", 7.99, 14.99, 85, 1.0], [38, \\\"Andrea's Summer Heart Box\\\", 7.99, 14.99, 83, 1.0], [21, \\\"Bedroom\\\", 14.99, 14.99, 16, 2.0], [5, \\\"Farm Animals\\\", 9.99, 9.99, 16, \\\"___NaN___\\\"], [1, \\\"My First Race Car\\\", 4.99, 9.45, 6, \\\"___NaN___\\\"], [61, \\\"Construction Loader\\\", 9.99, 8.99, 88, 1.0], [22, \\\"Pizza Stand\\\", 9.99, 8.99, 18, 1.0], [69, \\\"Street Sweeper\\\", 9.99, 8.99, 89, 1.0], [70, \\\"Monster Truck\\\", 9.99, 8.99, 55, 1.0], [41, \\\"Puppy Playground\\\", 9.99, 8.99, 57, 1.0], [39, \\\"Olivia's Summer Heart Box\\\", 7.99, 7.99, 93, 2.0], [19, \\\"Tow Truck\\\", 6.99, 6.29, 7, \\\"___NaN___\\\"]]\"};\n",
       "        new ITable(table, dt_args);\n",
       "    });\n",
       "</script>\n"
      ],
      "text/plain": [
       "<IPython.core.display.HTML object>"
      ]
     },
     "metadata": {},
     "output_type": "display_data"
    }
   ],
   "source": [
    "my_col = ['set_name','price', 'amazon_price', 'pieces', 'minifigures']\n",
    "show(DF[my_col].sort_values(by='amazon_price',ascending=False))\n",
    "#We see that Friendship House is the most expensive lego set in Amazon"
   ]
  },
  {
   "cell_type": "code",
   "execution_count": 78,
   "id": "f21e8b55-478e-47fe-98f2-832132f686f7",
   "metadata": {},
   "outputs": [
    {
     "data": {
      "text/html": [
       "<!--| quarto-html-table-processing: none -->\n",
       "<table id=\"itables_58e8cd1a_5e02_4226_91ca_26f86494bf55\"><tbody><tr>\n",
       "    <td style=\"vertical-align:middle; text-align:left\">\n",
       "    <a href=https://mwouts.github.io/itables/><svg class=\"main-svg\" xmlns=\"http://www.w3.org/2000/svg\" xmlns:xlink=\"http://www.w3.org/1999/xlink\"\n",
       "width=\"64\" viewBox=\"0 0 500 400\" style=\"font-family: 'Droid Sans', sans-serif;\">\n",
       "    <g style=\"fill:#d9d7fc\">\n",
       "        <path d=\"M100,400H500V357H100Z\" />\n",
       "        <path d=\"M100,300H400V257H100Z\" />\n",
       "        <path d=\"M0,200H400V157H0Z\" />\n",
       "        <path d=\"M100,100H500V57H100Z\" />\n",
       "        <path d=\"M100,350H500V307H100Z\" />\n",
       "        <path d=\"M100,250H400V207H100Z\" />\n",
       "        <path d=\"M0,150H400V107H0Z\" />\n",
       "        <path d=\"M100,50H500V7H100Z\" />\n",
       "    </g>\n",
       "    <g style=\"fill:#1a1366;stroke:#1a1366;\">\n",
       "   <rect x=\"100\" y=\"7\" width=\"400\" height=\"43\">\n",
       "    <animate\n",
       "      attributeName=\"width\"\n",
       "      values=\"0;400;0\"\n",
       "      dur=\"5s\"\n",
       "      repeatCount=\"indefinite\" />\n",
       "      <animate\n",
       "      attributeName=\"x\"\n",
       "      values=\"100;100;500\"\n",
       "      dur=\"5s\"\n",
       "      repeatCount=\"indefinite\" />\n",
       "  </rect>\n",
       "        <rect x=\"0\" y=\"107\" width=\"400\" height=\"43\">\n",
       "    <animate\n",
       "      attributeName=\"width\"\n",
       "      values=\"0;400;0\"\n",
       "      dur=\"3.5s\"\n",
       "      repeatCount=\"indefinite\" />\n",
       "    <animate\n",
       "      attributeName=\"x\"\n",
       "      values=\"0;0;400\"\n",
       "      dur=\"3.5s\"\n",
       "      repeatCount=\"indefinite\" />\n",
       "  </rect>\n",
       "        <rect x=\"100\" y=\"207\" width=\"300\" height=\"43\">\n",
       "    <animate\n",
       "      attributeName=\"width\"\n",
       "      values=\"0;300;0\"\n",
       "      dur=\"3s\"\n",
       "      repeatCount=\"indefinite\" />\n",
       "    <animate\n",
       "      attributeName=\"x\"\n",
       "      values=\"100;100;400\"\n",
       "      dur=\"3s\"\n",
       "      repeatCount=\"indefinite\" />\n",
       "  </rect>\n",
       "        <rect x=\"100\" y=\"307\" width=\"400\" height=\"43\">\n",
       "    <animate\n",
       "      attributeName=\"width\"\n",
       "      values=\"0;400;0\"\n",
       "      dur=\"4s\"\n",
       "      repeatCount=\"indefinite\" />\n",
       "      <animate\n",
       "      attributeName=\"x\"\n",
       "      values=\"100;100;500\"\n",
       "      dur=\"4s\"\n",
       "      repeatCount=\"indefinite\" />\n",
       "  </rect>\n",
       "        <g style=\"fill:transparent;stroke-width:8; stroke-linejoin:round\" rx=\"5\">\n",
       "            <g transform=\"translate(45 50) rotate(-45)\">\n",
       "                <circle r=\"33\" cx=\"0\" cy=\"0\" />\n",
       "                <rect x=\"-8\" y=\"32\" width=\"16\" height=\"30\" />\n",
       "            </g>\n",
       "\n",
       "            <g transform=\"translate(450 152)\">\n",
       "                <polyline points=\"-15,-20 -35,-20 -35,40 25,40 25,20\" />\n",
       "                <rect x=\"-15\" y=\"-40\" width=\"60\" height=\"60\" />\n",
       "            </g>\n",
       "\n",
       "            <g transform=\"translate(50 352)\">\n",
       "                <polygon points=\"-35,-5 0,-40 35,-5\" />\n",
       "                <polygon points=\"-35,10 0,45 35,10\" />\n",
       "            </g>\n",
       "\n",
       "            <g transform=\"translate(75 250)\">\n",
       "                <polyline points=\"-30,30 -60,0 -30,-30\" />\n",
       "                <polyline points=\"0,30 -30,0 0,-30\" />\n",
       "            </g>\n",
       "\n",
       "            <g transform=\"translate(425 250) rotate(180)\">\n",
       "                <polyline points=\"-30,30 -60,0 -30,-30\" />\n",
       "                <polyline points=\"0,30 -30,0 0,-30\" />\n",
       "            </g>\n",
       "        </g>\n",
       "    </g>\n",
       "</svg>\n",
       "</a>\n",
       "    Loading ITables v2.5.2 from the internet...\n",
       "    (need <a href=https://mwouts.github.io/itables/troubleshooting.html>help</a>?)</td>\n",
       "    </tr></tbody></table>\n",
       "<link href=\"https://www.unpkg.com/dt_for_itables@2.4.0/dt_bundle.css\" rel=\"stylesheet\">\n",
       "<script type=\"module\">\n",
       "    import { ITable, jQuery as $ } from 'https://www.unpkg.com/dt_for_itables@2.4.0/dt_bundle.js';\n",
       "\n",
       "    document.querySelectorAll(\"#itables_58e8cd1a_5e02_4226_91ca_26f86494bf55:not(.dataTable)\").forEach(table => {\n",
       "        if (!(table instanceof HTMLTableElement))\n",
       "            return;\n",
       "\n",
       "        let dt_args = {\"layout\": {\"topStart\": null, \"topEnd\": null, \"bottomStart\": null, \"bottomEnd\": null}, \"classes\": [\"display\", \"nowrap\"], \"order\": [], \"text_in_header_can_be_selected\": true, \"style\": {\"table-layout\": \"auto\", \"width\": \"auto\", \"margin\": \"auto\", \"caption-side\": \"bottom\"}, \"table_html\": \"<table><thead>\\n    <tr style=\\\"text-align: right;\\\">\\n      <th></th>\\n      <th>item_number</th>\\n      <th>set_name</th>\\n      <th>theme</th>\\n      <th>pieces</th>\\n      <th>price</th>\\n      <th>amazon_price</th>\\n      <th>year</th>\\n      <th>ages</th>\\n      <th>pages</th>\\n      <th>minifigures</th>\\n      <th>packaging</th>\\n      <th>weight</th>\\n      <th>unique_pieces</th>\\n      <th>size</th>\\n      <th>price_diff</th>\\n    </tr>\\n  </thead></table>\", \"data_json\": \"[[7, 10875, \\\"Cargo Train\\\", \\\"DUPLO\\\\u00ae\\\", 105, 119.99, 128.95, 2018, \\\"Ages_2-5\\\", 64, 3.0, \\\"Box\\\", \\\"2.86Kg (6.31 lb)\\\", 68, \\\"Large\\\", 8.96], [28, 41340, \\\"Friendship House\\\", \\\"Friends\\\", 722, 69.99, 184.99, 2018, \\\"Ages_6-12\\\", 164, 3.0, \\\"Box\\\", \\\"1.14Kg (2.51 lb)\\\", 309, \\\"Small\\\", 115.0], [73, 60266, \\\"Ocean Exploration Ship\\\", \\\"City\\\", 745, 149.99, 149.99, 2020, \\\"Ages_7+\\\", 229, 8.0, \\\"Box\\\", \\\"2.28Kg (5.03 lb)\\\", 314, \\\"Small\\\", 0.0]]\"};\n",
       "        new ITable(table, dt_args);\n",
       "    });\n",
       "</script>\n"
      ],
      "text/plain": [
       "<IPython.core.display.HTML object>"
      ]
     },
     "metadata": {},
     "output_type": "display_data"
    }
   ],
   "source": [
    "mask100 = (DF['price'] >= 100) | (DF['amazon_price'] >= 100)\n",
    "price100DF = DF[mask100]\n",
    "show(price100DF)\n",
    "# There are only 3 sets in the data that are over $100 but for one set it is less than $100 for the retail but goes up to \n",
    "# $184.99 as the amazon price"
   ]
  },
  {
   "cell_type": "markdown",
   "id": "e827fcd5-ec04-43cb-9053-daa0017a1235",
   "metadata": {},
   "source": [
    "# Problem 6"
   ]
  },
  {
   "cell_type": "markdown",
   "id": "1699346b-83c3-4ab0-8653-7249e7099895",
   "metadata": {},
   "source": [
    "**6A)** On average is the price of Legos increasing, decreasing, or staying the same over the three years?"
   ]
  },
  {
   "cell_type": "code",
   "execution_count": 85,
   "id": "adfb796a-0119-4e61-a90f-840043228f75",
   "metadata": {},
   "outputs": [
    {
     "data": {
      "text/html": [
       "<!--| quarto-html-table-processing: none -->\n",
       "<table id=\"itables_649ad979_76cc_4f82_88fa_b1678aa7f53a\"><tbody><tr>\n",
       "    <td style=\"vertical-align:middle; text-align:left\">\n",
       "    <a href=https://mwouts.github.io/itables/><svg class=\"main-svg\" xmlns=\"http://www.w3.org/2000/svg\" xmlns:xlink=\"http://www.w3.org/1999/xlink\"\n",
       "width=\"64\" viewBox=\"0 0 500 400\" style=\"font-family: 'Droid Sans', sans-serif;\">\n",
       "    <g style=\"fill:#d9d7fc\">\n",
       "        <path d=\"M100,400H500V357H100Z\" />\n",
       "        <path d=\"M100,300H400V257H100Z\" />\n",
       "        <path d=\"M0,200H400V157H0Z\" />\n",
       "        <path d=\"M100,100H500V57H100Z\" />\n",
       "        <path d=\"M100,350H500V307H100Z\" />\n",
       "        <path d=\"M100,250H400V207H100Z\" />\n",
       "        <path d=\"M0,150H400V107H0Z\" />\n",
       "        <path d=\"M100,50H500V7H100Z\" />\n",
       "    </g>\n",
       "    <g style=\"fill:#1a1366;stroke:#1a1366;\">\n",
       "   <rect x=\"100\" y=\"7\" width=\"400\" height=\"43\">\n",
       "    <animate\n",
       "      attributeName=\"width\"\n",
       "      values=\"0;400;0\"\n",
       "      dur=\"5s\"\n",
       "      repeatCount=\"indefinite\" />\n",
       "      <animate\n",
       "      attributeName=\"x\"\n",
       "      values=\"100;100;500\"\n",
       "      dur=\"5s\"\n",
       "      repeatCount=\"indefinite\" />\n",
       "  </rect>\n",
       "        <rect x=\"0\" y=\"107\" width=\"400\" height=\"43\">\n",
       "    <animate\n",
       "      attributeName=\"width\"\n",
       "      values=\"0;400;0\"\n",
       "      dur=\"3.5s\"\n",
       "      repeatCount=\"indefinite\" />\n",
       "    <animate\n",
       "      attributeName=\"x\"\n",
       "      values=\"0;0;400\"\n",
       "      dur=\"3.5s\"\n",
       "      repeatCount=\"indefinite\" />\n",
       "  </rect>\n",
       "        <rect x=\"100\" y=\"207\" width=\"300\" height=\"43\">\n",
       "    <animate\n",
       "      attributeName=\"width\"\n",
       "      values=\"0;300;0\"\n",
       "      dur=\"3s\"\n",
       "      repeatCount=\"indefinite\" />\n",
       "    <animate\n",
       "      attributeName=\"x\"\n",
       "      values=\"100;100;400\"\n",
       "      dur=\"3s\"\n",
       "      repeatCount=\"indefinite\" />\n",
       "  </rect>\n",
       "        <rect x=\"100\" y=\"307\" width=\"400\" height=\"43\">\n",
       "    <animate\n",
       "      attributeName=\"width\"\n",
       "      values=\"0;400;0\"\n",
       "      dur=\"4s\"\n",
       "      repeatCount=\"indefinite\" />\n",
       "      <animate\n",
       "      attributeName=\"x\"\n",
       "      values=\"100;100;500\"\n",
       "      dur=\"4s\"\n",
       "      repeatCount=\"indefinite\" />\n",
       "  </rect>\n",
       "        <g style=\"fill:transparent;stroke-width:8; stroke-linejoin:round\" rx=\"5\">\n",
       "            <g transform=\"translate(45 50) rotate(-45)\">\n",
       "                <circle r=\"33\" cx=\"0\" cy=\"0\" />\n",
       "                <rect x=\"-8\" y=\"32\" width=\"16\" height=\"30\" />\n",
       "            </g>\n",
       "\n",
       "            <g transform=\"translate(450 152)\">\n",
       "                <polyline points=\"-15,-20 -35,-20 -35,40 25,40 25,20\" />\n",
       "                <rect x=\"-15\" y=\"-40\" width=\"60\" height=\"60\" />\n",
       "            </g>\n",
       "\n",
       "            <g transform=\"translate(50 352)\">\n",
       "                <polygon points=\"-35,-5 0,-40 35,-5\" />\n",
       "                <polygon points=\"-35,10 0,45 35,10\" />\n",
       "            </g>\n",
       "\n",
       "            <g transform=\"translate(75 250)\">\n",
       "                <polyline points=\"-30,30 -60,0 -30,-30\" />\n",
       "                <polyline points=\"0,30 -30,0 0,-30\" />\n",
       "            </g>\n",
       "\n",
       "            <g transform=\"translate(425 250) rotate(180)\">\n",
       "                <polyline points=\"-30,30 -60,0 -30,-30\" />\n",
       "                <polyline points=\"0,30 -30,0 0,-30\" />\n",
       "            </g>\n",
       "        </g>\n",
       "    </g>\n",
       "</svg>\n",
       "</a>\n",
       "    Loading ITables v2.5.2 from the internet...\n",
       "    (need <a href=https://mwouts.github.io/itables/troubleshooting.html>help</a>?)</td>\n",
       "    </tr></tbody></table>\n",
       "<link href=\"https://www.unpkg.com/dt_for_itables@2.4.0/dt_bundle.css\" rel=\"stylesheet\">\n",
       "<script type=\"module\">\n",
       "    import { ITable, jQuery as $ } from 'https://www.unpkg.com/dt_for_itables@2.4.0/dt_bundle.js';\n",
       "\n",
       "    document.querySelectorAll(\"#itables_649ad979_76cc_4f82_88fa_b1678aa7f53a:not(.dataTable)\").forEach(table => {\n",
       "        if (!(table instanceof HTMLTableElement))\n",
       "            return;\n",
       "\n",
       "        let dt_args = {\"layout\": {\"topStart\": null, \"topEnd\": null, \"bottomStart\": null, \"bottomEnd\": null}, \"classes\": [\"display\", \"nowrap\"], \"order\": [], \"text_in_header_can_be_selected\": true, \"style\": {\"table-layout\": \"auto\", \"width\": \"auto\", \"margin\": \"auto\", \"caption-side\": \"bottom\"}, \"table_html\": \"<table><thead>\\n    <tr style=\\\"text-align: right;\\\">\\n      <th></th>\\n      <th>price</th>\\n      <th>amazon_price</th>\\n      <th>year</th>\\n      <th>price_diff</th>\\n    </tr>\\n  </thead></table>\", \"data_json\": \"[[\\\"count\\\", 23.0, 23.0, 23.0, 23.0], [\\\"mean\\\", 28.772609, 52.63913, 2018.0, 23.866522], [\\\"std\\\", 25.244183, 41.420868, 0.0, 26.219445], [\\\"min\\\", 4.99, 9.45, 2018.0, -3.0], [\\\"25%\\\", 12.49, 21.99, 2018.0, 6.6], [\\\"50%\\\", 24.99, 40.4, 2018.0, 23.89], [\\\"75%\\\", 29.99, 67.97, 2018.0, 27.98], [\\\"max\\\", 119.99, 184.99, 2018.0, 115.0]]\"};\n",
       "        new ITable(table, dt_args);\n",
       "    });\n",
       "</script>\n"
      ],
      "text/plain": [
       "<IPython.core.display.HTML object>"
      ]
     },
     "metadata": {},
     "output_type": "display_data"
    }
   ],
   "source": [
    "my_col = ['price', 'amazon_price', 'theme', 'year', 'price_diff']\n",
    "mask_yr18 = (DF['year'] == 2018)\n",
    "DF_yr18 = DF[mask_yr18]\n",
    "show(DF_yr18[my_col].describe())\n"
   ]
  },
  {
   "cell_type": "code",
   "execution_count": 86,
   "id": "dbcb2504-e316-415c-9f70-6bb21cada6a4",
   "metadata": {},
   "outputs": [
    {
     "data": {
      "text/html": [
       "<!--| quarto-html-table-processing: none -->\n",
       "<table id=\"itables_97105d4d_852d_4a58_b913_05be2852fab2\"><tbody><tr>\n",
       "    <td style=\"vertical-align:middle; text-align:left\">\n",
       "    <a href=https://mwouts.github.io/itables/><svg class=\"main-svg\" xmlns=\"http://www.w3.org/2000/svg\" xmlns:xlink=\"http://www.w3.org/1999/xlink\"\n",
       "width=\"64\" viewBox=\"0 0 500 400\" style=\"font-family: 'Droid Sans', sans-serif;\">\n",
       "    <g style=\"fill:#d9d7fc\">\n",
       "        <path d=\"M100,400H500V357H100Z\" />\n",
       "        <path d=\"M100,300H400V257H100Z\" />\n",
       "        <path d=\"M0,200H400V157H0Z\" />\n",
       "        <path d=\"M100,100H500V57H100Z\" />\n",
       "        <path d=\"M100,350H500V307H100Z\" />\n",
       "        <path d=\"M100,250H400V207H100Z\" />\n",
       "        <path d=\"M0,150H400V107H0Z\" />\n",
       "        <path d=\"M100,50H500V7H100Z\" />\n",
       "    </g>\n",
       "    <g style=\"fill:#1a1366;stroke:#1a1366;\">\n",
       "   <rect x=\"100\" y=\"7\" width=\"400\" height=\"43\">\n",
       "    <animate\n",
       "      attributeName=\"width\"\n",
       "      values=\"0;400;0\"\n",
       "      dur=\"5s\"\n",
       "      repeatCount=\"indefinite\" />\n",
       "      <animate\n",
       "      attributeName=\"x\"\n",
       "      values=\"100;100;500\"\n",
       "      dur=\"5s\"\n",
       "      repeatCount=\"indefinite\" />\n",
       "  </rect>\n",
       "        <rect x=\"0\" y=\"107\" width=\"400\" height=\"43\">\n",
       "    <animate\n",
       "      attributeName=\"width\"\n",
       "      values=\"0;400;0\"\n",
       "      dur=\"3.5s\"\n",
       "      repeatCount=\"indefinite\" />\n",
       "    <animate\n",
       "      attributeName=\"x\"\n",
       "      values=\"0;0;400\"\n",
       "      dur=\"3.5s\"\n",
       "      repeatCount=\"indefinite\" />\n",
       "  </rect>\n",
       "        <rect x=\"100\" y=\"207\" width=\"300\" height=\"43\">\n",
       "    <animate\n",
       "      attributeName=\"width\"\n",
       "      values=\"0;300;0\"\n",
       "      dur=\"3s\"\n",
       "      repeatCount=\"indefinite\" />\n",
       "    <animate\n",
       "      attributeName=\"x\"\n",
       "      values=\"100;100;400\"\n",
       "      dur=\"3s\"\n",
       "      repeatCount=\"indefinite\" />\n",
       "  </rect>\n",
       "        <rect x=\"100\" y=\"307\" width=\"400\" height=\"43\">\n",
       "    <animate\n",
       "      attributeName=\"width\"\n",
       "      values=\"0;400;0\"\n",
       "      dur=\"4s\"\n",
       "      repeatCount=\"indefinite\" />\n",
       "      <animate\n",
       "      attributeName=\"x\"\n",
       "      values=\"100;100;500\"\n",
       "      dur=\"4s\"\n",
       "      repeatCount=\"indefinite\" />\n",
       "  </rect>\n",
       "        <g style=\"fill:transparent;stroke-width:8; stroke-linejoin:round\" rx=\"5\">\n",
       "            <g transform=\"translate(45 50) rotate(-45)\">\n",
       "                <circle r=\"33\" cx=\"0\" cy=\"0\" />\n",
       "                <rect x=\"-8\" y=\"32\" width=\"16\" height=\"30\" />\n",
       "            </g>\n",
       "\n",
       "            <g transform=\"translate(450 152)\">\n",
       "                <polyline points=\"-15,-20 -35,-20 -35,40 25,40 25,20\" />\n",
       "                <rect x=\"-15\" y=\"-40\" width=\"60\" height=\"60\" />\n",
       "            </g>\n",
       "\n",
       "            <g transform=\"translate(50 352)\">\n",
       "                <polygon points=\"-35,-5 0,-40 35,-5\" />\n",
       "                <polygon points=\"-35,10 0,45 35,10\" />\n",
       "            </g>\n",
       "\n",
       "            <g transform=\"translate(75 250)\">\n",
       "                <polyline points=\"-30,30 -60,0 -30,-30\" />\n",
       "                <polyline points=\"0,30 -30,0 0,-30\" />\n",
       "            </g>\n",
       "\n",
       "            <g transform=\"translate(425 250) rotate(180)\">\n",
       "                <polyline points=\"-30,30 -60,0 -30,-30\" />\n",
       "                <polyline points=\"0,30 -30,0 0,-30\" />\n",
       "            </g>\n",
       "        </g>\n",
       "    </g>\n",
       "</svg>\n",
       "</a>\n",
       "    Loading ITables v2.5.2 from the internet...\n",
       "    (need <a href=https://mwouts.github.io/itables/troubleshooting.html>help</a>?)</td>\n",
       "    </tr></tbody></table>\n",
       "<link href=\"https://www.unpkg.com/dt_for_itables@2.4.0/dt_bundle.css\" rel=\"stylesheet\">\n",
       "<script type=\"module\">\n",
       "    import { ITable, jQuery as $ } from 'https://www.unpkg.com/dt_for_itables@2.4.0/dt_bundle.js';\n",
       "\n",
       "    document.querySelectorAll(\"#itables_97105d4d_852d_4a58_b913_05be2852fab2:not(.dataTable)\").forEach(table => {\n",
       "        if (!(table instanceof HTMLTableElement))\n",
       "            return;\n",
       "\n",
       "        let dt_args = {\"layout\": {\"topStart\": null, \"topEnd\": null, \"bottomStart\": null, \"bottomEnd\": null}, \"classes\": [\"display\", \"nowrap\"], \"order\": [], \"text_in_header_can_be_selected\": true, \"style\": {\"table-layout\": \"auto\", \"width\": \"auto\", \"margin\": \"auto\", \"caption-side\": \"bottom\"}, \"table_html\": \"<table><thead>\\n    <tr style=\\\"text-align: right;\\\">\\n      <th></th>\\n      <th>price</th>\\n      <th>amazon_price</th>\\n      <th>year</th>\\n      <th>price_diff</th>\\n    </tr>\\n  </thead></table>\", \"data_json\": \"[[\\\"count\\\", 25.0, 25.0, 25.0, 25.0], [\\\"mean\\\", 28.67, 29.2176, 2019.0, 0.5476], [\\\"std\\\", 20.225232, 16.53917, 0.0, 8.94585], [\\\"min\\\", 7.99, 7.99, 2019.0, -13.99], [\\\"25%\\\", 9.99, 17.99, 2019.0, -6.0], [\\\"50%\\\", 19.99, 23.27, 2019.0, -1.0], [\\\"75%\\\", 39.99, 35.99, 2019.0, 7.0], [\\\"max\\\", 69.99, 62.99, 2019.0, 24.81]]\"};\n",
       "        new ITable(table, dt_args);\n",
       "    });\n",
       "</script>\n"
      ],
      "text/plain": [
       "<IPython.core.display.HTML object>"
      ]
     },
     "metadata": {},
     "output_type": "display_data"
    }
   ],
   "source": [
    "my_col = ['price', 'amazon_price', 'theme', 'year', 'price_diff']\n",
    "mask_yr19 = (DF['year'] == 2019)\n",
    "DF_yr19 = DF[mask_yr19]\n",
    "show(DF_yr19[my_col].describe())"
   ]
  },
  {
   "cell_type": "code",
   "execution_count": 87,
   "id": "15739c68-5ebe-4150-aeed-5d65ca097662",
   "metadata": {},
   "outputs": [
    {
     "data": {
      "text/html": [
       "<!--| quarto-html-table-processing: none -->\n",
       "<table id=\"itables_e329b83f_1437_4106_bef1_b221c61f9411\"><tbody><tr>\n",
       "    <td style=\"vertical-align:middle; text-align:left\">\n",
       "    <a href=https://mwouts.github.io/itables/><svg class=\"main-svg\" xmlns=\"http://www.w3.org/2000/svg\" xmlns:xlink=\"http://www.w3.org/1999/xlink\"\n",
       "width=\"64\" viewBox=\"0 0 500 400\" style=\"font-family: 'Droid Sans', sans-serif;\">\n",
       "    <g style=\"fill:#d9d7fc\">\n",
       "        <path d=\"M100,400H500V357H100Z\" />\n",
       "        <path d=\"M100,300H400V257H100Z\" />\n",
       "        <path d=\"M0,200H400V157H0Z\" />\n",
       "        <path d=\"M100,100H500V57H100Z\" />\n",
       "        <path d=\"M100,350H500V307H100Z\" />\n",
       "        <path d=\"M100,250H400V207H100Z\" />\n",
       "        <path d=\"M0,150H400V107H0Z\" />\n",
       "        <path d=\"M100,50H500V7H100Z\" />\n",
       "    </g>\n",
       "    <g style=\"fill:#1a1366;stroke:#1a1366;\">\n",
       "   <rect x=\"100\" y=\"7\" width=\"400\" height=\"43\">\n",
       "    <animate\n",
       "      attributeName=\"width\"\n",
       "      values=\"0;400;0\"\n",
       "      dur=\"5s\"\n",
       "      repeatCount=\"indefinite\" />\n",
       "      <animate\n",
       "      attributeName=\"x\"\n",
       "      values=\"100;100;500\"\n",
       "      dur=\"5s\"\n",
       "      repeatCount=\"indefinite\" />\n",
       "  </rect>\n",
       "        <rect x=\"0\" y=\"107\" width=\"400\" height=\"43\">\n",
       "    <animate\n",
       "      attributeName=\"width\"\n",
       "      values=\"0;400;0\"\n",
       "      dur=\"3.5s\"\n",
       "      repeatCount=\"indefinite\" />\n",
       "    <animate\n",
       "      attributeName=\"x\"\n",
       "      values=\"0;0;400\"\n",
       "      dur=\"3.5s\"\n",
       "      repeatCount=\"indefinite\" />\n",
       "  </rect>\n",
       "        <rect x=\"100\" y=\"207\" width=\"300\" height=\"43\">\n",
       "    <animate\n",
       "      attributeName=\"width\"\n",
       "      values=\"0;300;0\"\n",
       "      dur=\"3s\"\n",
       "      repeatCount=\"indefinite\" />\n",
       "    <animate\n",
       "      attributeName=\"x\"\n",
       "      values=\"100;100;400\"\n",
       "      dur=\"3s\"\n",
       "      repeatCount=\"indefinite\" />\n",
       "  </rect>\n",
       "        <rect x=\"100\" y=\"307\" width=\"400\" height=\"43\">\n",
       "    <animate\n",
       "      attributeName=\"width\"\n",
       "      values=\"0;400;0\"\n",
       "      dur=\"4s\"\n",
       "      repeatCount=\"indefinite\" />\n",
       "      <animate\n",
       "      attributeName=\"x\"\n",
       "      values=\"100;100;500\"\n",
       "      dur=\"4s\"\n",
       "      repeatCount=\"indefinite\" />\n",
       "  </rect>\n",
       "        <g style=\"fill:transparent;stroke-width:8; stroke-linejoin:round\" rx=\"5\">\n",
       "            <g transform=\"translate(45 50) rotate(-45)\">\n",
       "                <circle r=\"33\" cx=\"0\" cy=\"0\" />\n",
       "                <rect x=\"-8\" y=\"32\" width=\"16\" height=\"30\" />\n",
       "            </g>\n",
       "\n",
       "            <g transform=\"translate(450 152)\">\n",
       "                <polyline points=\"-15,-20 -35,-20 -35,40 25,40 25,20\" />\n",
       "                <rect x=\"-15\" y=\"-40\" width=\"60\" height=\"60\" />\n",
       "            </g>\n",
       "\n",
       "            <g transform=\"translate(50 352)\">\n",
       "                <polygon points=\"-35,-5 0,-40 35,-5\" />\n",
       "                <polygon points=\"-35,10 0,45 35,10\" />\n",
       "            </g>\n",
       "\n",
       "            <g transform=\"translate(75 250)\">\n",
       "                <polyline points=\"-30,30 -60,0 -30,-30\" />\n",
       "                <polyline points=\"0,30 -30,0 0,-30\" />\n",
       "            </g>\n",
       "\n",
       "            <g transform=\"translate(425 250) rotate(180)\">\n",
       "                <polyline points=\"-30,30 -60,0 -30,-30\" />\n",
       "                <polyline points=\"0,30 -30,0 0,-30\" />\n",
       "            </g>\n",
       "        </g>\n",
       "    </g>\n",
       "</svg>\n",
       "</a>\n",
       "    Loading ITables v2.5.2 from the internet...\n",
       "    (need <a href=https://mwouts.github.io/itables/troubleshooting.html>help</a>?)</td>\n",
       "    </tr></tbody></table>\n",
       "<link href=\"https://www.unpkg.com/dt_for_itables@2.4.0/dt_bundle.css\" rel=\"stylesheet\">\n",
       "<script type=\"module\">\n",
       "    import { ITable, jQuery as $ } from 'https://www.unpkg.com/dt_for_itables@2.4.0/dt_bundle.js';\n",
       "\n",
       "    document.querySelectorAll(\"#itables_e329b83f_1437_4106_bef1_b221c61f9411:not(.dataTable)\").forEach(table => {\n",
       "        if (!(table instanceof HTMLTableElement))\n",
       "            return;\n",
       "\n",
       "        let dt_args = {\"layout\": {\"topStart\": null, \"topEnd\": null, \"bottomStart\": null, \"bottomEnd\": null}, \"classes\": [\"display\", \"nowrap\"], \"order\": [], \"text_in_header_can_be_selected\": true, \"style\": {\"table-layout\": \"auto\", \"width\": \"auto\", \"margin\": \"auto\", \"caption-side\": \"bottom\"}, \"table_html\": \"<table><thead>\\n    <tr style=\\\"text-align: right;\\\">\\n      <th></th>\\n      <th>price</th>\\n      <th>amazon_price</th>\\n      <th>year</th>\\n      <th>price_diff</th>\\n    </tr>\\n  </thead></table>\", \"data_json\": \"[[\\\"count\\\", 27.0, 27.0, 27.0, 27.0], [\\\"mean\\\", 38.212222, 37.532963, 2020.0, -0.679259], [\\\"std\\\", 34.850597, 34.550077, 0.0, 3.583863], [\\\"min\\\", 6.99, 6.29, 2020.0, -7.25], [\\\"25%\\\", 9.99, 15.655, 2020.0, -2.5], [\\\"50%\\\", 29.99, 23.98, 2020.0, -0.7], [\\\"75%\\\", 49.99, 49.24, 2020.0, 0.0], [\\\"max\\\", 149.99, 149.99, 2020.0, 8.94]]\"};\n",
       "        new ITable(table, dt_args);\n",
       "    });\n",
       "</script>\n"
      ],
      "text/plain": [
       "<IPython.core.display.HTML object>"
      ]
     },
     "metadata": {},
     "output_type": "display_data"
    }
   ],
   "source": [
    "my_col = ['price', 'amazon_price', 'theme', 'year', 'price_diff']\n",
    "mask_yr20 = (DF['year'] == 2020)\n",
    "DF_yr20 = DF[mask_yr20]\n",
    "show(DF_yr20[my_col].describe())"
   ]
  },
  {
   "cell_type": "markdown",
   "id": "41ab712a-50ad-43e7-8064-da3986b44075",
   "metadata": {},
   "source": [
    "**We can see that the average was about the same from 2018 to 2019 but then jumped by a whole $10 more in 2020 compared to 2018 and 2019**"
   ]
  },
  {
   "cell_type": "markdown",
   "id": "d11ad7ff-6d1e-40be-9e84-9164c04e97e2",
   "metadata": {},
   "source": [
    "**6B)** On average are the number of pieces increase, decreasing, or staying the same over the three years"
   ]
  },
  {
   "cell_type": "code",
   "execution_count": 92,
   "id": "a658fae9-c4c5-45d2-a35c-23b23db5f99e",
   "metadata": {},
   "outputs": [
    {
     "data": {
      "text/html": [
       "<!--| quarto-html-table-processing: none -->\n",
       "<table id=\"itables_290f9594_edb6_4fb1_ac9b_e30f0300b91b\"><tbody><tr>\n",
       "    <td style=\"vertical-align:middle; text-align:left\">\n",
       "    <a href=https://mwouts.github.io/itables/><svg class=\"main-svg\" xmlns=\"http://www.w3.org/2000/svg\" xmlns:xlink=\"http://www.w3.org/1999/xlink\"\n",
       "width=\"64\" viewBox=\"0 0 500 400\" style=\"font-family: 'Droid Sans', sans-serif;\">\n",
       "    <g style=\"fill:#d9d7fc\">\n",
       "        <path d=\"M100,400H500V357H100Z\" />\n",
       "        <path d=\"M100,300H400V257H100Z\" />\n",
       "        <path d=\"M0,200H400V157H0Z\" />\n",
       "        <path d=\"M100,100H500V57H100Z\" />\n",
       "        <path d=\"M100,350H500V307H100Z\" />\n",
       "        <path d=\"M100,250H400V207H100Z\" />\n",
       "        <path d=\"M0,150H400V107H0Z\" />\n",
       "        <path d=\"M100,50H500V7H100Z\" />\n",
       "    </g>\n",
       "    <g style=\"fill:#1a1366;stroke:#1a1366;\">\n",
       "   <rect x=\"100\" y=\"7\" width=\"400\" height=\"43\">\n",
       "    <animate\n",
       "      attributeName=\"width\"\n",
       "      values=\"0;400;0\"\n",
       "      dur=\"5s\"\n",
       "      repeatCount=\"indefinite\" />\n",
       "      <animate\n",
       "      attributeName=\"x\"\n",
       "      values=\"100;100;500\"\n",
       "      dur=\"5s\"\n",
       "      repeatCount=\"indefinite\" />\n",
       "  </rect>\n",
       "        <rect x=\"0\" y=\"107\" width=\"400\" height=\"43\">\n",
       "    <animate\n",
       "      attributeName=\"width\"\n",
       "      values=\"0;400;0\"\n",
       "      dur=\"3.5s\"\n",
       "      repeatCount=\"indefinite\" />\n",
       "    <animate\n",
       "      attributeName=\"x\"\n",
       "      values=\"0;0;400\"\n",
       "      dur=\"3.5s\"\n",
       "      repeatCount=\"indefinite\" />\n",
       "  </rect>\n",
       "        <rect x=\"100\" y=\"207\" width=\"300\" height=\"43\">\n",
       "    <animate\n",
       "      attributeName=\"width\"\n",
       "      values=\"0;300;0\"\n",
       "      dur=\"3s\"\n",
       "      repeatCount=\"indefinite\" />\n",
       "    <animate\n",
       "      attributeName=\"x\"\n",
       "      values=\"100;100;400\"\n",
       "      dur=\"3s\"\n",
       "      repeatCount=\"indefinite\" />\n",
       "  </rect>\n",
       "        <rect x=\"100\" y=\"307\" width=\"400\" height=\"43\">\n",
       "    <animate\n",
       "      attributeName=\"width\"\n",
       "      values=\"0;400;0\"\n",
       "      dur=\"4s\"\n",
       "      repeatCount=\"indefinite\" />\n",
       "      <animate\n",
       "      attributeName=\"x\"\n",
       "      values=\"100;100;500\"\n",
       "      dur=\"4s\"\n",
       "      repeatCount=\"indefinite\" />\n",
       "  </rect>\n",
       "        <g style=\"fill:transparent;stroke-width:8; stroke-linejoin:round\" rx=\"5\">\n",
       "            <g transform=\"translate(45 50) rotate(-45)\">\n",
       "                <circle r=\"33\" cx=\"0\" cy=\"0\" />\n",
       "                <rect x=\"-8\" y=\"32\" width=\"16\" height=\"30\" />\n",
       "            </g>\n",
       "\n",
       "            <g transform=\"translate(450 152)\">\n",
       "                <polyline points=\"-15,-20 -35,-20 -35,40 25,40 25,20\" />\n",
       "                <rect x=\"-15\" y=\"-40\" width=\"60\" height=\"60\" />\n",
       "            </g>\n",
       "\n",
       "            <g transform=\"translate(50 352)\">\n",
       "                <polygon points=\"-35,-5 0,-40 35,-5\" />\n",
       "                <polygon points=\"-35,10 0,45 35,10\" />\n",
       "            </g>\n",
       "\n",
       "            <g transform=\"translate(75 250)\">\n",
       "                <polyline points=\"-30,30 -60,0 -30,-30\" />\n",
       "                <polyline points=\"0,30 -30,0 0,-30\" />\n",
       "            </g>\n",
       "\n",
       "            <g transform=\"translate(425 250) rotate(180)\">\n",
       "                <polyline points=\"-30,30 -60,0 -30,-30\" />\n",
       "                <polyline points=\"0,30 -30,0 0,-30\" />\n",
       "            </g>\n",
       "        </g>\n",
       "    </g>\n",
       "</svg>\n",
       "</a>\n",
       "    Loading ITables v2.5.2 from the internet...\n",
       "    (need <a href=https://mwouts.github.io/itables/troubleshooting.html>help</a>?)</td>\n",
       "    </tr></tbody></table>\n",
       "<link href=\"https://www.unpkg.com/dt_for_itables@2.4.0/dt_bundle.css\" rel=\"stylesheet\">\n",
       "<script type=\"module\">\n",
       "    import { ITable, jQuery as $ } from 'https://www.unpkg.com/dt_for_itables@2.4.0/dt_bundle.js';\n",
       "\n",
       "    document.querySelectorAll(\"#itables_290f9594_edb6_4fb1_ac9b_e30f0300b91b:not(.dataTable)\").forEach(table => {\n",
       "        if (!(table instanceof HTMLTableElement))\n",
       "            return;\n",
       "\n",
       "        let dt_args = {\"layout\": {\"topStart\": null, \"topEnd\": null, \"bottomStart\": null, \"bottomEnd\": null}, \"classes\": [\"display\", \"nowrap\"], \"order\": [], \"text_in_header_can_be_selected\": true, \"style\": {\"table-layout\": \"auto\", \"width\": \"auto\", \"margin\": \"auto\", \"caption-side\": \"bottom\"}, \"table_html\": \"<table><thead>\\n    <tr style=\\\"text-align: right;\\\">\\n      <th></th>\\n      <th>year</th>\\n      <th>pieces</th>\\n    </tr>\\n  </thead></table>\", \"data_json\": \"[[\\\"count\\\", 23.0, 23.0], [\\\"mean\\\", 2018.0, 157.913043], [\\\"std\\\", 0.0, 185.00391], [\\\"min\\\", 2018.0, 6.0], [\\\"25%\\\", 2018.0, 31.5], [\\\"50%\\\", 2018.0, 82.0], [\\\"75%\\\", 2018.0, 260.0], [\\\"max\\\", 2018.0, 722.0]]\"};\n",
       "        new ITable(table, dt_args);\n",
       "    });\n",
       "</script>\n"
      ],
      "text/plain": [
       "<IPython.core.display.HTML object>"
      ]
     },
     "metadata": {},
     "output_type": "display_data"
    }
   ],
   "source": [
    "my_col = ['year', 'pieces']\n",
    "mask_yr18 = (DF['year'] == 2018)\n",
    "DF_yr18 = DF[mask_yr18]\n",
    "show(DF_yr18[my_col].describe())"
   ]
  },
  {
   "cell_type": "code",
   "execution_count": 93,
   "id": "81e49491-bb73-4649-8e88-515ce28bb4f3",
   "metadata": {},
   "outputs": [
    {
     "data": {
      "text/html": [
       "<!--| quarto-html-table-processing: none -->\n",
       "<table id=\"itables_aa9117c9_ec7e_470d_821d_bdf69989344e\"><tbody><tr>\n",
       "    <td style=\"vertical-align:middle; text-align:left\">\n",
       "    <a href=https://mwouts.github.io/itables/><svg class=\"main-svg\" xmlns=\"http://www.w3.org/2000/svg\" xmlns:xlink=\"http://www.w3.org/1999/xlink\"\n",
       "width=\"64\" viewBox=\"0 0 500 400\" style=\"font-family: 'Droid Sans', sans-serif;\">\n",
       "    <g style=\"fill:#d9d7fc\">\n",
       "        <path d=\"M100,400H500V357H100Z\" />\n",
       "        <path d=\"M100,300H400V257H100Z\" />\n",
       "        <path d=\"M0,200H400V157H0Z\" />\n",
       "        <path d=\"M100,100H500V57H100Z\" />\n",
       "        <path d=\"M100,350H500V307H100Z\" />\n",
       "        <path d=\"M100,250H400V207H100Z\" />\n",
       "        <path d=\"M0,150H400V107H0Z\" />\n",
       "        <path d=\"M100,50H500V7H100Z\" />\n",
       "    </g>\n",
       "    <g style=\"fill:#1a1366;stroke:#1a1366;\">\n",
       "   <rect x=\"100\" y=\"7\" width=\"400\" height=\"43\">\n",
       "    <animate\n",
       "      attributeName=\"width\"\n",
       "      values=\"0;400;0\"\n",
       "      dur=\"5s\"\n",
       "      repeatCount=\"indefinite\" />\n",
       "      <animate\n",
       "      attributeName=\"x\"\n",
       "      values=\"100;100;500\"\n",
       "      dur=\"5s\"\n",
       "      repeatCount=\"indefinite\" />\n",
       "  </rect>\n",
       "        <rect x=\"0\" y=\"107\" width=\"400\" height=\"43\">\n",
       "    <animate\n",
       "      attributeName=\"width\"\n",
       "      values=\"0;400;0\"\n",
       "      dur=\"3.5s\"\n",
       "      repeatCount=\"indefinite\" />\n",
       "    <animate\n",
       "      attributeName=\"x\"\n",
       "      values=\"0;0;400\"\n",
       "      dur=\"3.5s\"\n",
       "      repeatCount=\"indefinite\" />\n",
       "  </rect>\n",
       "        <rect x=\"100\" y=\"207\" width=\"300\" height=\"43\">\n",
       "    <animate\n",
       "      attributeName=\"width\"\n",
       "      values=\"0;300;0\"\n",
       "      dur=\"3s\"\n",
       "      repeatCount=\"indefinite\" />\n",
       "    <animate\n",
       "      attributeName=\"x\"\n",
       "      values=\"100;100;400\"\n",
       "      dur=\"3s\"\n",
       "      repeatCount=\"indefinite\" />\n",
       "  </rect>\n",
       "        <rect x=\"100\" y=\"307\" width=\"400\" height=\"43\">\n",
       "    <animate\n",
       "      attributeName=\"width\"\n",
       "      values=\"0;400;0\"\n",
       "      dur=\"4s\"\n",
       "      repeatCount=\"indefinite\" />\n",
       "      <animate\n",
       "      attributeName=\"x\"\n",
       "      values=\"100;100;500\"\n",
       "      dur=\"4s\"\n",
       "      repeatCount=\"indefinite\" />\n",
       "  </rect>\n",
       "        <g style=\"fill:transparent;stroke-width:8; stroke-linejoin:round\" rx=\"5\">\n",
       "            <g transform=\"translate(45 50) rotate(-45)\">\n",
       "                <circle r=\"33\" cx=\"0\" cy=\"0\" />\n",
       "                <rect x=\"-8\" y=\"32\" width=\"16\" height=\"30\" />\n",
       "            </g>\n",
       "\n",
       "            <g transform=\"translate(450 152)\">\n",
       "                <polyline points=\"-15,-20 -35,-20 -35,40 25,40 25,20\" />\n",
       "                <rect x=\"-15\" y=\"-40\" width=\"60\" height=\"60\" />\n",
       "            </g>\n",
       "\n",
       "            <g transform=\"translate(50 352)\">\n",
       "                <polygon points=\"-35,-5 0,-40 35,-5\" />\n",
       "                <polygon points=\"-35,10 0,45 35,10\" />\n",
       "            </g>\n",
       "\n",
       "            <g transform=\"translate(75 250)\">\n",
       "                <polyline points=\"-30,30 -60,0 -30,-30\" />\n",
       "                <polyline points=\"0,30 -30,0 0,-30\" />\n",
       "            </g>\n",
       "\n",
       "            <g transform=\"translate(425 250) rotate(180)\">\n",
       "                <polyline points=\"-30,30 -60,0 -30,-30\" />\n",
       "                <polyline points=\"0,30 -30,0 0,-30\" />\n",
       "            </g>\n",
       "        </g>\n",
       "    </g>\n",
       "</svg>\n",
       "</a>\n",
       "    Loading ITables v2.5.2 from the internet...\n",
       "    (need <a href=https://mwouts.github.io/itables/troubleshooting.html>help</a>?)</td>\n",
       "    </tr></tbody></table>\n",
       "<link href=\"https://www.unpkg.com/dt_for_itables@2.4.0/dt_bundle.css\" rel=\"stylesheet\">\n",
       "<script type=\"module\">\n",
       "    import { ITable, jQuery as $ } from 'https://www.unpkg.com/dt_for_itables@2.4.0/dt_bundle.js';\n",
       "\n",
       "    document.querySelectorAll(\"#itables_aa9117c9_ec7e_470d_821d_bdf69989344e:not(.dataTable)\").forEach(table => {\n",
       "        if (!(table instanceof HTMLTableElement))\n",
       "            return;\n",
       "\n",
       "        let dt_args = {\"layout\": {\"topStart\": null, \"topEnd\": null, \"bottomStart\": null, \"bottomEnd\": null}, \"classes\": [\"display\", \"nowrap\"], \"order\": [], \"text_in_header_can_be_selected\": true, \"style\": {\"table-layout\": \"auto\", \"width\": \"auto\", \"margin\": \"auto\", \"caption-side\": \"bottom\"}, \"table_html\": \"<table><thead>\\n    <tr style=\\\"text-align: right;\\\">\\n      <th></th>\\n      <th>year</th>\\n      <th>pieces</th>\\n    </tr>\\n  </thead></table>\", \"data_json\": \"[[\\\"count\\\", 25.0, 25.0], [\\\"mean\\\", 2019.0, 193.12], [\\\"std\\\", 0.0, 185.911341], [\\\"min\\\", 2019.0, 9.0], [\\\"25%\\\", 2019.0, 73.0], [\\\"50%\\\", 2019.0, 97.0], [\\\"75%\\\", 2019.0, 337.0], [\\\"max\\\", 2019.0, 715.0]]\"};\n",
       "        new ITable(table, dt_args);\n",
       "    });\n",
       "</script>\n"
      ],
      "text/plain": [
       "<IPython.core.display.HTML object>"
      ]
     },
     "metadata": {},
     "output_type": "display_data"
    }
   ],
   "source": [
    "my_col = ['year', 'pieces']\n",
    "mask_yr19 = (DF['year'] == 2019)\n",
    "DF_yr19 = DF[mask_yr19]\n",
    "show(DF_yr19[my_col].describe())"
   ]
  },
  {
   "cell_type": "code",
   "execution_count": 91,
   "id": "0b172dc5-759f-4717-8b9c-c12e47bdaedb",
   "metadata": {},
   "outputs": [
    {
     "data": {
      "text/html": [
       "<!--| quarto-html-table-processing: none -->\n",
       "<table id=\"itables_1f4d3016_7611_462b_8a6d_c4431a4f53cc\"><tbody><tr>\n",
       "    <td style=\"vertical-align:middle; text-align:left\">\n",
       "    <a href=https://mwouts.github.io/itables/><svg class=\"main-svg\" xmlns=\"http://www.w3.org/2000/svg\" xmlns:xlink=\"http://www.w3.org/1999/xlink\"\n",
       "width=\"64\" viewBox=\"0 0 500 400\" style=\"font-family: 'Droid Sans', sans-serif;\">\n",
       "    <g style=\"fill:#d9d7fc\">\n",
       "        <path d=\"M100,400H500V357H100Z\" />\n",
       "        <path d=\"M100,300H400V257H100Z\" />\n",
       "        <path d=\"M0,200H400V157H0Z\" />\n",
       "        <path d=\"M100,100H500V57H100Z\" />\n",
       "        <path d=\"M100,350H500V307H100Z\" />\n",
       "        <path d=\"M100,250H400V207H100Z\" />\n",
       "        <path d=\"M0,150H400V107H0Z\" />\n",
       "        <path d=\"M100,50H500V7H100Z\" />\n",
       "    </g>\n",
       "    <g style=\"fill:#1a1366;stroke:#1a1366;\">\n",
       "   <rect x=\"100\" y=\"7\" width=\"400\" height=\"43\">\n",
       "    <animate\n",
       "      attributeName=\"width\"\n",
       "      values=\"0;400;0\"\n",
       "      dur=\"5s\"\n",
       "      repeatCount=\"indefinite\" />\n",
       "      <animate\n",
       "      attributeName=\"x\"\n",
       "      values=\"100;100;500\"\n",
       "      dur=\"5s\"\n",
       "      repeatCount=\"indefinite\" />\n",
       "  </rect>\n",
       "        <rect x=\"0\" y=\"107\" width=\"400\" height=\"43\">\n",
       "    <animate\n",
       "      attributeName=\"width\"\n",
       "      values=\"0;400;0\"\n",
       "      dur=\"3.5s\"\n",
       "      repeatCount=\"indefinite\" />\n",
       "    <animate\n",
       "      attributeName=\"x\"\n",
       "      values=\"0;0;400\"\n",
       "      dur=\"3.5s\"\n",
       "      repeatCount=\"indefinite\" />\n",
       "  </rect>\n",
       "        <rect x=\"100\" y=\"207\" width=\"300\" height=\"43\">\n",
       "    <animate\n",
       "      attributeName=\"width\"\n",
       "      values=\"0;300;0\"\n",
       "      dur=\"3s\"\n",
       "      repeatCount=\"indefinite\" />\n",
       "    <animate\n",
       "      attributeName=\"x\"\n",
       "      values=\"100;100;400\"\n",
       "      dur=\"3s\"\n",
       "      repeatCount=\"indefinite\" />\n",
       "  </rect>\n",
       "        <rect x=\"100\" y=\"307\" width=\"400\" height=\"43\">\n",
       "    <animate\n",
       "      attributeName=\"width\"\n",
       "      values=\"0;400;0\"\n",
       "      dur=\"4s\"\n",
       "      repeatCount=\"indefinite\" />\n",
       "      <animate\n",
       "      attributeName=\"x\"\n",
       "      values=\"100;100;500\"\n",
       "      dur=\"4s\"\n",
       "      repeatCount=\"indefinite\" />\n",
       "  </rect>\n",
       "        <g style=\"fill:transparent;stroke-width:8; stroke-linejoin:round\" rx=\"5\">\n",
       "            <g transform=\"translate(45 50) rotate(-45)\">\n",
       "                <circle r=\"33\" cx=\"0\" cy=\"0\" />\n",
       "                <rect x=\"-8\" y=\"32\" width=\"16\" height=\"30\" />\n",
       "            </g>\n",
       "\n",
       "            <g transform=\"translate(450 152)\">\n",
       "                <polyline points=\"-15,-20 -35,-20 -35,40 25,40 25,20\" />\n",
       "                <rect x=\"-15\" y=\"-40\" width=\"60\" height=\"60\" />\n",
       "            </g>\n",
       "\n",
       "            <g transform=\"translate(50 352)\">\n",
       "                <polygon points=\"-35,-5 0,-40 35,-5\" />\n",
       "                <polygon points=\"-35,10 0,45 35,10\" />\n",
       "            </g>\n",
       "\n",
       "            <g transform=\"translate(75 250)\">\n",
       "                <polyline points=\"-30,30 -60,0 -30,-30\" />\n",
       "                <polyline points=\"0,30 -30,0 0,-30\" />\n",
       "            </g>\n",
       "\n",
       "            <g transform=\"translate(425 250) rotate(180)\">\n",
       "                <polyline points=\"-30,30 -60,0 -30,-30\" />\n",
       "                <polyline points=\"0,30 -30,0 0,-30\" />\n",
       "            </g>\n",
       "        </g>\n",
       "    </g>\n",
       "</svg>\n",
       "</a>\n",
       "    Loading ITables v2.5.2 from the internet...\n",
       "    (need <a href=https://mwouts.github.io/itables/troubleshooting.html>help</a>?)</td>\n",
       "    </tr></tbody></table>\n",
       "<link href=\"https://www.unpkg.com/dt_for_itables@2.4.0/dt_bundle.css\" rel=\"stylesheet\">\n",
       "<script type=\"module\">\n",
       "    import { ITable, jQuery as $ } from 'https://www.unpkg.com/dt_for_itables@2.4.0/dt_bundle.js';\n",
       "\n",
       "    document.querySelectorAll(\"#itables_1f4d3016_7611_462b_8a6d_c4431a4f53cc:not(.dataTable)\").forEach(table => {\n",
       "        if (!(table instanceof HTMLTableElement))\n",
       "            return;\n",
       "\n",
       "        let dt_args = {\"layout\": {\"topStart\": null, \"topEnd\": null, \"bottomStart\": null, \"bottomEnd\": null}, \"classes\": [\"display\", \"nowrap\"], \"order\": [], \"text_in_header_can_be_selected\": true, \"style\": {\"table-layout\": \"auto\", \"width\": \"auto\", \"margin\": \"auto\", \"caption-side\": \"bottom\"}, \"table_html\": \"<table><thead>\\n    <tr style=\\\"text-align: right;\\\">\\n      <th></th>\\n      <th>year</th>\\n      <th>pieces</th>\\n    </tr>\\n  </thead></table>\", \"data_json\": \"[[\\\"count\\\", 27.0, 27.0], [\\\"mean\\\", 2020.0, 232.37037], [\\\"std\\\", 0.0, 258.279686], [\\\"min\\\", 2020.0, 7.0], [\\\"25%\\\", 2020.0, 43.0], [\\\"50%\\\", 2020.0, 126.0], [\\\"75%\\\", 2020.0, 352.5], [\\\"max\\\", 2020.0, 897.0]]\"};\n",
       "        new ITable(table, dt_args);\n",
       "    });\n",
       "</script>\n"
      ],
      "text/plain": [
       "<IPython.core.display.HTML object>"
      ]
     },
     "metadata": {},
     "output_type": "display_data"
    }
   ],
   "source": [
    "my_col = ['year', 'pieces']\n",
    "mask_yr20 = (DF['year'] == 2020)\n",
    "DF_yr20 = DF[mask_yr20]\n",
    "show(DF_yr20[my_col].describe())"
   ]
  },
  {
   "cell_type": "markdown",
   "id": "b9d0c69c-ec72-46b8-ada0-be8b6795381e",
   "metadata": {},
   "source": [
    "**We see that the average amount of pieces are steadily increasing through the year of 2018 - 2020**"
   ]
  },
  {
   "cell_type": "markdown",
   "id": "4353255d-1184-4eb0-993f-2f67d56a5e99",
   "metadata": {},
   "source": [
    "**6C)** Which set has the most minifigures and how many sets have zero or an unknown number of minifigures?"
   ]
  },
  {
   "cell_type": "code",
   "execution_count": 140,
   "id": "5f43b795-abb1-40ac-8057-28d9a0eb1f22",
   "metadata": {},
   "outputs": [
    {
     "data": {
      "text/html": [
       "<!--| quarto-html-table-processing: none -->\n",
       "<table id=\"itables_adc4ee68_6a93_4935_bfd8_d91516aa648f\"><tbody><tr>\n",
       "    <td style=\"vertical-align:middle; text-align:left\">\n",
       "    <a href=https://mwouts.github.io/itables/><svg class=\"main-svg\" xmlns=\"http://www.w3.org/2000/svg\" xmlns:xlink=\"http://www.w3.org/1999/xlink\"\n",
       "width=\"64\" viewBox=\"0 0 500 400\" style=\"font-family: 'Droid Sans', sans-serif;\">\n",
       "    <g style=\"fill:#d9d7fc\">\n",
       "        <path d=\"M100,400H500V357H100Z\" />\n",
       "        <path d=\"M100,300H400V257H100Z\" />\n",
       "        <path d=\"M0,200H400V157H0Z\" />\n",
       "        <path d=\"M100,100H500V57H100Z\" />\n",
       "        <path d=\"M100,350H500V307H100Z\" />\n",
       "        <path d=\"M100,250H400V207H100Z\" />\n",
       "        <path d=\"M0,150H400V107H0Z\" />\n",
       "        <path d=\"M100,50H500V7H100Z\" />\n",
       "    </g>\n",
       "    <g style=\"fill:#1a1366;stroke:#1a1366;\">\n",
       "   <rect x=\"100\" y=\"7\" width=\"400\" height=\"43\">\n",
       "    <animate\n",
       "      attributeName=\"width\"\n",
       "      values=\"0;400;0\"\n",
       "      dur=\"5s\"\n",
       "      repeatCount=\"indefinite\" />\n",
       "      <animate\n",
       "      attributeName=\"x\"\n",
       "      values=\"100;100;500\"\n",
       "      dur=\"5s\"\n",
       "      repeatCount=\"indefinite\" />\n",
       "  </rect>\n",
       "        <rect x=\"0\" y=\"107\" width=\"400\" height=\"43\">\n",
       "    <animate\n",
       "      attributeName=\"width\"\n",
       "      values=\"0;400;0\"\n",
       "      dur=\"3.5s\"\n",
       "      repeatCount=\"indefinite\" />\n",
       "    <animate\n",
       "      attributeName=\"x\"\n",
       "      values=\"0;0;400\"\n",
       "      dur=\"3.5s\"\n",
       "      repeatCount=\"indefinite\" />\n",
       "  </rect>\n",
       "        <rect x=\"100\" y=\"207\" width=\"300\" height=\"43\">\n",
       "    <animate\n",
       "      attributeName=\"width\"\n",
       "      values=\"0;300;0\"\n",
       "      dur=\"3s\"\n",
       "      repeatCount=\"indefinite\" />\n",
       "    <animate\n",
       "      attributeName=\"x\"\n",
       "      values=\"100;100;400\"\n",
       "      dur=\"3s\"\n",
       "      repeatCount=\"indefinite\" />\n",
       "  </rect>\n",
       "        <rect x=\"100\" y=\"307\" width=\"400\" height=\"43\">\n",
       "    <animate\n",
       "      attributeName=\"width\"\n",
       "      values=\"0;400;0\"\n",
       "      dur=\"4s\"\n",
       "      repeatCount=\"indefinite\" />\n",
       "      <animate\n",
       "      attributeName=\"x\"\n",
       "      values=\"100;100;500\"\n",
       "      dur=\"4s\"\n",
       "      repeatCount=\"indefinite\" />\n",
       "  </rect>\n",
       "        <g style=\"fill:transparent;stroke-width:8; stroke-linejoin:round\" rx=\"5\">\n",
       "            <g transform=\"translate(45 50) rotate(-45)\">\n",
       "                <circle r=\"33\" cx=\"0\" cy=\"0\" />\n",
       "                <rect x=\"-8\" y=\"32\" width=\"16\" height=\"30\" />\n",
       "            </g>\n",
       "\n",
       "            <g transform=\"translate(450 152)\">\n",
       "                <polyline points=\"-15,-20 -35,-20 -35,40 25,40 25,20\" />\n",
       "                <rect x=\"-15\" y=\"-40\" width=\"60\" height=\"60\" />\n",
       "            </g>\n",
       "\n",
       "            <g transform=\"translate(50 352)\">\n",
       "                <polygon points=\"-35,-5 0,-40 35,-5\" />\n",
       "                <polygon points=\"-35,10 0,45 35,10\" />\n",
       "            </g>\n",
       "\n",
       "            <g transform=\"translate(75 250)\">\n",
       "                <polyline points=\"-30,30 -60,0 -30,-30\" />\n",
       "                <polyline points=\"0,30 -30,0 0,-30\" />\n",
       "            </g>\n",
       "\n",
       "            <g transform=\"translate(425 250) rotate(180)\">\n",
       "                <polyline points=\"-30,30 -60,0 -30,-30\" />\n",
       "                <polyline points=\"0,30 -30,0 0,-30\" />\n",
       "            </g>\n",
       "        </g>\n",
       "    </g>\n",
       "</svg>\n",
       "</a>\n",
       "    Loading ITables v2.5.2 from the internet...\n",
       "    (need <a href=https://mwouts.github.io/itables/troubleshooting.html>help</a>?)</td>\n",
       "    </tr></tbody></table>\n",
       "<link href=\"https://www.unpkg.com/dt_for_itables@2.4.0/dt_bundle.css\" rel=\"stylesheet\">\n",
       "<script type=\"module\">\n",
       "    import { ITable, jQuery as $ } from 'https://www.unpkg.com/dt_for_itables@2.4.0/dt_bundle.js';\n",
       "\n",
       "    document.querySelectorAll(\"#itables_adc4ee68_6a93_4935_bfd8_d91516aa648f:not(.dataTable)\").forEach(table => {\n",
       "        if (!(table instanceof HTMLTableElement))\n",
       "            return;\n",
       "\n",
       "        let dt_args = {\"layout\": {\"topStart\": null, \"topEnd\": null, \"bottomStart\": null, \"bottomEnd\": null}, \"classes\": [\"display\", \"nowrap\"], \"order\": [], \"text_in_header_can_be_selected\": true, \"style\": {\"table-layout\": \"auto\", \"width\": \"auto\", \"margin\": \"auto\", \"caption-side\": \"bottom\"}, \"table_html\": \"<table><thead>\\n    <tr style=\\\"text-align: right;\\\">\\n      <th></th>\\n      <th>set_name</th>\\n      <th>theme</th>\\n    </tr>\\n    <tr>\\n      <th>minifigures</th>\\n      <th></th>\\n      <th></th>\\n    </tr>\\n  </thead></table>\", \"data_json\": \"[[15.0, \\\"People Pack - Outdoor Adventures\\\", \\\"City\\\"], [8.0, \\\"Ocean Exploration Ship\\\", \\\"City\\\"], [7.0, \\\"Tuning Workshop\\\", \\\"City\\\"], [5.0, \\\"Police Monster Truck Heist\\\", \\\"City\\\"], [4.0, \\\"Police Helicopter Chase\\\", \\\"City\\\"], [3.0, \\\"Tropical Island\\\", \\\"Friends\\\"], [2.0, \\\"Turtles Rescue Mission\\\", \\\"Friends\\\"], [1.0, \\\"Train Bridge and Tracks\\\", \\\"Friends\\\"]]\"};\n",
       "        new ITable(table, dt_args);\n",
       "    });\n",
       "</script>\n"
      ],
      "text/plain": [
       "<IPython.core.display.HTML object>"
      ]
     },
     "metadata": {},
     "output_type": "display_data"
    }
   ],
   "source": [
    "my_col = ['set_name', 'minifigures','theme']\n",
    "#miniFigDF = DF[my_col].groupby(by='minifigures').max()\n",
    "show(miniFigDF.sort_values(by='minifigures', ascending=False))\n",
    "# The lego set with the most minifigures is People Pack - Outdoor Adventures"
   ]
  },
  {
   "cell_type": "code",
   "execution_count": 99,
   "id": "7e73c846-19b1-4632-8ff2-f60c8571a12f",
   "metadata": {},
   "outputs": [
    {
     "name": "stdout",
     "output_type": "stream",
     "text": [
      "The number of sets with no minifigures is 10\n"
     ]
    }
   ],
   "source": [
    "zeroCount = DF['minifigures'].isnull().sum()\n",
    "print(f\"The number of sets with no minifigures is {zeroCount}\")"
   ]
  },
  {
   "cell_type": "markdown",
   "id": "e72eb1e4-b149-4393-b8d9-63cf1d71371e",
   "metadata": {},
   "source": [
    "# Problem 7"
   ]
  },
  {
   "cell_type": "markdown",
   "id": "5a825013-b669-4a21-a156-8340a423c9fe",
   "metadata": {},
   "source": [
    "# I want to buy some Legos for my 6 year old cousin, which Lego set is the best deal?\n",
    "1. First you will have to describe in words what makes a good deal. Is is price per piece, price per minifig, price per number of unique pieces, price per page, is it some combination of these things? Should you use Retail or Amazon Price?\n",
    "2. Then you will have to decide what age ranges are appropriate and select just that data\n",
    "3. Then you will need to do a calculation and add that column to your data frame.\n",
    "4. Finally sort your deal column to find the best purchase"
   ]
  },
  {
   "cell_type": "markdown",
   "id": "6e2977fa-4895-471b-8d47-5b42bf507c63",
   "metadata": {},
   "source": [
    "#### For my 6 year old I believe it is best to get a lego set that is price per minifig due to the fact he would have more fun with the different little people to play with which my goal is to find with 3 or more. For a child getting a lego set that is looking for the best price per piece could be worth looking at because if we can get more pieces for the least amount of money can be best as my cousin may lose the pieces very easily. So a set that is less than a 25 cents a piece can be worth considering. Retail is the price I would look for because of how more often it is more expensive to buy lego sets off of Amazon. "
   ]
  },
  {
   "cell_type": "markdown",
   "id": "4613b705-fff5-4530-8039-42ce5c4b0738",
   "metadata": {},
   "source": [
    "#### I should get my cousin a set that is at his age range or older so he can enjoy it much longer and not be grown out of it"
   ]
  },
  {
   "cell_type": "markdown",
   "id": "e7952e47-b639-44ca-ac52-79c06f39db74",
   "metadata": {},
   "source": [
    "'item_number', 'set_name', 'theme', 'pieces', 'price', 'amazon_price',\n",
    "       'year', 'ages', 'pages', 'minifigures', 'packaging', 'weight',\n",
    "       'unique_pieces', 'size\n",
    "\n",
    "\n",
    "Ages_6+\t20\n",
    "Ages_5+\t13\n",
    "Ages_2+\t10\n",
    "Ages_2-5\t8\n",
    "Ages_5-12\t7\n",
    "Ages_6-12\t5\n",
    "Ages_1½+\t4\n",
    "Ages_1½-3\t3\n",
    "Ages_4+\t2\n",
    "Ages_7+\t2"
   ]
  },
  {
   "cell_type": "code",
   "execution_count": 121,
   "id": "bdd3fb5f-21a8-4d59-bf5b-cc84317c81ea",
   "metadata": {},
   "outputs": [
    {
     "data": {
      "text/html": [
       "<!--| quarto-html-table-processing: none -->\n",
       "<table id=\"itables_85efefaf_5548_4e69_8376_256ef966125f\"><tbody><tr>\n",
       "    <td style=\"vertical-align:middle; text-align:left\">\n",
       "    <a href=https://mwouts.github.io/itables/><svg class=\"main-svg\" xmlns=\"http://www.w3.org/2000/svg\" xmlns:xlink=\"http://www.w3.org/1999/xlink\"\n",
       "width=\"64\" viewBox=\"0 0 500 400\" style=\"font-family: 'Droid Sans', sans-serif;\">\n",
       "    <g style=\"fill:#d9d7fc\">\n",
       "        <path d=\"M100,400H500V357H100Z\" />\n",
       "        <path d=\"M100,300H400V257H100Z\" />\n",
       "        <path d=\"M0,200H400V157H0Z\" />\n",
       "        <path d=\"M100,100H500V57H100Z\" />\n",
       "        <path d=\"M100,350H500V307H100Z\" />\n",
       "        <path d=\"M100,250H400V207H100Z\" />\n",
       "        <path d=\"M0,150H400V107H0Z\" />\n",
       "        <path d=\"M100,50H500V7H100Z\" />\n",
       "    </g>\n",
       "    <g style=\"fill:#1a1366;stroke:#1a1366;\">\n",
       "   <rect x=\"100\" y=\"7\" width=\"400\" height=\"43\">\n",
       "    <animate\n",
       "      attributeName=\"width\"\n",
       "      values=\"0;400;0\"\n",
       "      dur=\"5s\"\n",
       "      repeatCount=\"indefinite\" />\n",
       "      <animate\n",
       "      attributeName=\"x\"\n",
       "      values=\"100;100;500\"\n",
       "      dur=\"5s\"\n",
       "      repeatCount=\"indefinite\" />\n",
       "  </rect>\n",
       "        <rect x=\"0\" y=\"107\" width=\"400\" height=\"43\">\n",
       "    <animate\n",
       "      attributeName=\"width\"\n",
       "      values=\"0;400;0\"\n",
       "      dur=\"3.5s\"\n",
       "      repeatCount=\"indefinite\" />\n",
       "    <animate\n",
       "      attributeName=\"x\"\n",
       "      values=\"0;0;400\"\n",
       "      dur=\"3.5s\"\n",
       "      repeatCount=\"indefinite\" />\n",
       "  </rect>\n",
       "        <rect x=\"100\" y=\"207\" width=\"300\" height=\"43\">\n",
       "    <animate\n",
       "      attributeName=\"width\"\n",
       "      values=\"0;300;0\"\n",
       "      dur=\"3s\"\n",
       "      repeatCount=\"indefinite\" />\n",
       "    <animate\n",
       "      attributeName=\"x\"\n",
       "      values=\"100;100;400\"\n",
       "      dur=\"3s\"\n",
       "      repeatCount=\"indefinite\" />\n",
       "  </rect>\n",
       "        <rect x=\"100\" y=\"307\" width=\"400\" height=\"43\">\n",
       "    <animate\n",
       "      attributeName=\"width\"\n",
       "      values=\"0;400;0\"\n",
       "      dur=\"4s\"\n",
       "      repeatCount=\"indefinite\" />\n",
       "      <animate\n",
       "      attributeName=\"x\"\n",
       "      values=\"100;100;500\"\n",
       "      dur=\"4s\"\n",
       "      repeatCount=\"indefinite\" />\n",
       "  </rect>\n",
       "        <g style=\"fill:transparent;stroke-width:8; stroke-linejoin:round\" rx=\"5\">\n",
       "            <g transform=\"translate(45 50) rotate(-45)\">\n",
       "                <circle r=\"33\" cx=\"0\" cy=\"0\" />\n",
       "                <rect x=\"-8\" y=\"32\" width=\"16\" height=\"30\" />\n",
       "            </g>\n",
       "\n",
       "            <g transform=\"translate(450 152)\">\n",
       "                <polyline points=\"-15,-20 -35,-20 -35,40 25,40 25,20\" />\n",
       "                <rect x=\"-15\" y=\"-40\" width=\"60\" height=\"60\" />\n",
       "            </g>\n",
       "\n",
       "            <g transform=\"translate(50 352)\">\n",
       "                <polygon points=\"-35,-5 0,-40 35,-5\" />\n",
       "                <polygon points=\"-35,10 0,45 35,10\" />\n",
       "            </g>\n",
       "\n",
       "            <g transform=\"translate(75 250)\">\n",
       "                <polyline points=\"-30,30 -60,0 -30,-30\" />\n",
       "                <polyline points=\"0,30 -30,0 0,-30\" />\n",
       "            </g>\n",
       "\n",
       "            <g transform=\"translate(425 250) rotate(180)\">\n",
       "                <polyline points=\"-30,30 -60,0 -30,-30\" />\n",
       "                <polyline points=\"0,30 -30,0 0,-30\" />\n",
       "            </g>\n",
       "        </g>\n",
       "    </g>\n",
       "</svg>\n",
       "</a>\n",
       "    Loading ITables v2.5.2 from the internet...\n",
       "    (need <a href=https://mwouts.github.io/itables/troubleshooting.html>help</a>?)</td>\n",
       "    </tr></tbody></table>\n",
       "<link href=\"https://www.unpkg.com/dt_for_itables@2.4.0/dt_bundle.css\" rel=\"stylesheet\">\n",
       "<script type=\"module\">\n",
       "    import { ITable, jQuery as $ } from 'https://www.unpkg.com/dt_for_itables@2.4.0/dt_bundle.js';\n",
       "\n",
       "    document.querySelectorAll(\"#itables_85efefaf_5548_4e69_8376_256ef966125f:not(.dataTable)\").forEach(table => {\n",
       "        if (!(table instanceof HTMLTableElement))\n",
       "            return;\n",
       "\n",
       "        let dt_args = {\"layout\": {\"topStart\": null, \"topEnd\": null, \"bottomStart\": null, \"bottomEnd\": null}, \"classes\": [\"display\", \"nowrap\"], \"order\": [], \"text_in_header_can_be_selected\": true, \"style\": {\"table-layout\": \"auto\", \"width\": \"auto\", \"margin\": \"auto\", \"caption-side\": \"bottom\"}, \"table_html\": \"<table><thead>\\n    <tr style=\\\"text-align: right;\\\">\\n      <th></th>\\n      <th>price</th>\\n      <th>pieces</th>\\n      <th>pricePerPiece</th>\\n      <th>ages</th>\\n      <th>set_name</th>\\n      <th>minifigures</th>\\n    </tr>\\n  </thead></table>\", \"data_json\": \"[[28, 69.99, 722, 0.096939, \\\"Ages_6-12\\\", \\\"Friendship House\\\", 3.0], [34, 69.99, 715, 0.097888, \\\"Ages_6+\\\", \\\"Mia's House\\\", 3.0], [72, 99.99, 897, 0.111472, \\\"Ages_6+\\\", \\\"Tuning Workshop\\\", 7.0], [40, 49.99, 379, 0.1319, \\\"Ages_6+\\\", \\\"Heartlake City Hospital\\\", 3.0], [67, 99.99, 743, 0.134576, \\\"Ages_6+\\\", \\\"Police Station\\\", 7.0], [60, 59.99, 363, 0.165262, \\\"Ages_6+\\\", \\\"Fire Plane\\\", 3.0], [73, 149.99, 745, 0.201329, \\\"Ages_7+\\\", \\\"Ocean Exploration Ship\\\", 8.0]]\"};\n",
       "        new ITable(table, dt_args);\n",
       "    });\n",
       "</script>\n"
      ],
      "text/plain": [
       "<IPython.core.display.HTML object>"
      ]
     },
     "metadata": {},
     "output_type": "display_data"
    }
   ],
   "source": [
    "DF['pricePerPiece'] = DF['price'] / DF['pieces'] #New Variable: pricePerPiece\n",
    "my_col = ['price', 'pieces', 'pricePerPiece', 'ages', 'set_name','minifigures']  #Variable columns I want to see in my data for best lego set\n",
    "\n",
    "mask_age = (DF['ages'] == 'Ages_6+') | (DF['ages'] == 'Ages_6-12') | (DF['ages'] == 'Ages_7+') #Ages above 6 years old\n",
    "maskAgeDF = DF[mask_age]  #Mask of Age\n",
    "\n",
    "maskPPP = (maskAgeDF['pricePerPiece'] < .25) # less than 25 cents per peice\n",
    "DFpppAge = maskAgeDF[maskPPP] ##Mask mixed with PricePerPiece and Age\n",
    "\n",
    "maskMinifig = DFpppAge['minifigures'] >= 3 #More or equal to 3 minifigures must be in a lego set\n",
    "mini_ppp_ageDF = DFpppAge[maskMinifig] #mask of Price per Piece, Age, and minifigures\n",
    "\n",
    "show(mini_ppp_ageDF[my_col].sort_values(by='pricePerPiece', ascending=True)) #sort by lowest pricePerPiece of my criteria"
   ]
  },
  {
   "cell_type": "markdown",
   "id": "811d7810-71af-4247-adbb-e00ed9210ce7",
   "metadata": {},
   "source": [
    "There are 7 lego sets that fit within my critiera of lego sets for my cousin. Almost all lego sets having a a high amount of pieces for my cousin that will succesful them. The most  expensive set is \\\\$149.99 but all the other sets are under \\\\$100 so if I were to set a budget of how much I would spend that is less than \\\\$100 then I will still have 6 other lego sets to pick from. I would choose Tuning Workshop due to being \\\\$100 with a price per piece being about 11 cents  and having 7 minifigures. It is also meant for his age and old with almost 900 pieces so it would be perfect for him to last him lots of fun and distraction for a long period of time."
   ]
  },
  {
   "cell_type": "code",
   "execution_count": null,
   "id": "31d01270-c707-4538-b6a5-a35ddb88a2d7",
   "metadata": {},
   "outputs": [],
   "source": []
  }
 ],
 "metadata": {
  "kernelspec": {
   "display_name": "Python [conda env:base] *",
   "language": "python",
   "name": "conda-base-py"
  },
  "language_info": {
   "codemirror_mode": {
    "name": "ipython",
    "version": 3
   },
   "file_extension": ".py",
   "mimetype": "text/x-python",
   "name": "python",
   "nbconvert_exporter": "python",
   "pygments_lexer": "ipython3",
   "version": "3.13.5"
  }
 },
 "nbformat": 4,
 "nbformat_minor": 5
}
