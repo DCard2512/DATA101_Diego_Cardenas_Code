{
 "cells": [
  {
   "cell_type": "markdown",
   "id": "dd53ccfc-98dc-4289-9176-34362b67d8e2",
   "metadata": {},
   "source": [
    "## Introduction to Data Science\n",
    "\n",
    "#### University of Redlands - DATA 101\n",
    "#### Prof: Joanna Bieri [joanna_bieri@redlands.edu](mailto:joanna_bieri@redlands.edu)\n",
    "#### [Class Website: data101.joannabieri.com](https://joannabieri.com/data101.html)\n",
    "\n",
    "---------------------------------------\n",
    "# Homework Day 11\n",
    "---------------------------------------\n",
    "\n",
    "GOALS:\n",
    "\n",
    "1. Understand Causal vs Experimental Studies\n",
    "2. Do a more free form data analysis\n",
    "3. Start doing your ethics reading\n",
    "\n",
    "----------------------------------------------------------\n",
    "\n",
    "This homework has **2 questions**, **10 exercises** and **1 essay response**."
   ]
  },
  {
   "cell_type": "code",
   "execution_count": 105,
   "id": "d0153569-41e3-4696-9b34-83ba90a0b5cf",
   "metadata": {},
   "outputs": [],
   "source": [
    "import numpy as np\n",
    "import pandas as pd\n",
    "\n",
    "import matplotlib.pyplot as plt\n",
    "import plotly.express as px\n",
    "from plotly.subplots import make_subplots\n",
    "import plotly.io as pio\n",
    "pio.renderers.defaule = 'colab'\n",
    "\n",
    "from itables import show\n",
    "\n",
    "# This stops a few warning messages from showing\n",
    "pd.options.mode.chained_assignment = None \n",
    "import warnings\n",
    "warnings.simplefilter(action='ignore', category=FutureWarning)"
   ]
  },
  {
   "cell_type": "code",
   "execution_count": 17,
   "id": "7048dfd1-2b03-4c4b-93e2-ff48f66af288",
   "metadata": {},
   "outputs": [
    {
     "data": {
      "text/html": [
       "<div>\n",
       "<style scoped>\n",
       "    .dataframe tbody tr th:only-of-type {\n",
       "        vertical-align: middle;\n",
       "    }\n",
       "\n",
       "    .dataframe tbody tr th {\n",
       "        vertical-align: top;\n",
       "    }\n",
       "\n",
       "    .dataframe thead th {\n",
       "        text-align: right;\n",
       "    }\n",
       "</style>\n",
       "<table border=\"1\" class=\"dataframe\">\n",
       "  <thead>\n",
       "    <tr style=\"text-align: right;\">\n",
       "      <th></th>\n",
       "      <th>The climate is changing and human activity is mainly responsible</th>\n",
       "      <th>The climate is changing and human activity is partly responsible, together with other factors</th>\n",
       "      <th>The climate is changing but human activity is not responsible at all</th>\n",
       "      <th>The climate is not changing</th>\n",
       "      <th>Don't know</th>\n",
       "      <th>total</th>\n",
       "    </tr>\n",
       "    <tr>\n",
       "      <th>country</th>\n",
       "      <th></th>\n",
       "      <th></th>\n",
       "      <th></th>\n",
       "      <th></th>\n",
       "      <th></th>\n",
       "      <th></th>\n",
       "    </tr>\n",
       "  </thead>\n",
       "  <tbody>\n",
       "    <tr>\n",
       "      <th>GB</th>\n",
       "      <td>833</td>\n",
       "      <td>604</td>\n",
       "      <td>49</td>\n",
       "      <td>33</td>\n",
       "      <td>114</td>\n",
       "      <td>1633</td>\n",
       "    </tr>\n",
       "    <tr>\n",
       "      <th>US</th>\n",
       "      <td>507</td>\n",
       "      <td>493</td>\n",
       "      <td>120</td>\n",
       "      <td>80</td>\n",
       "      <td>133</td>\n",
       "      <td>1333</td>\n",
       "    </tr>\n",
       "    <tr>\n",
       "      <th>total</th>\n",
       "      <td>1340</td>\n",
       "      <td>1097</td>\n",
       "      <td>169</td>\n",
       "      <td>113</td>\n",
       "      <td>247</td>\n",
       "      <td>2966</td>\n",
       "    </tr>\n",
       "  </tbody>\n",
       "</table>\n",
       "</div>"
      ],
      "text/plain": [
       "         The climate is changing and human activity is mainly responsible    \\\n",
       "country                                                                       \n",
       "GB                                                     833                    \n",
       "US                                                     507                    \n",
       "total                                                 1340                    \n",
       "\n",
       "         The climate is changing and human activity is partly responsible, together with other factors    \\\n",
       "country                                                                                                    \n",
       "GB                                                     604                                                 \n",
       "US                                                     493                                                 \n",
       "total                                                 1097                                                 \n",
       "\n",
       "         The climate is changing but human activity is not responsible at all    \\\n",
       "country                                                                           \n",
       "GB                                                      49                        \n",
       "US                                                     120                        \n",
       "total                                                  169                        \n",
       "\n",
       "         The climate is not changing    Don't know  total  \n",
       "country                                                    \n",
       "GB                                  33         114   1633  \n",
       "US                                  80         133   1333  \n",
       "total                              113         247   2966  "
      ]
     },
     "execution_count": 17,
     "metadata": {},
     "output_type": "execute_result"
    }
   ],
   "source": [
    "file_name = 'data/yougov-climate.csv'\n",
    "DF = pd.read_csv(file_name,index_col=0)\n",
    "DF.loc['total'] = DF.sum(axis=0)\n",
    "DF['total'] = DF.sum(axis=1)\n",
    "DF"
   ]
  },
  {
   "cell_type": "markdown",
   "id": "ed9f27ed-eb76-470c-8f3d-cbc80e2b8ee9",
   "metadata": {},
   "source": [
    "In the lecture we analyzed the following questions for the first column in the data:\n",
    "\n",
    "### First question:\n",
    "\n",
    "What percent of **all respondents** think the climate is changing and human activity is mainly responsible?  \n",
    "\n",
    "### Second question:\n",
    "\n",
    "What percent of **GB respondents** think the climate is changing and  human activity is mainly responsible?  \n",
    "\n",
    "### Third Question\n",
    "\n",
    "What percent of **US respondents** think the climate is changing and  human activity is mainly responsible?  \n",
    "\n",
    "**Q1** Repeat the analysis from the lecture notes for one of the other columns/questions.\n",
    "\n",
    "1. Percent total\n",
    "2. Percent from GB\n",
    "3. Percent from US\n",
    "\n",
    "Talk about the conditional probability in this case:\n",
    "\n",
    "eg. In a person is from ________ then there is a ________ probability that they believe _______. If a person answered _______ then they are more likley to be from ________. "
   ]
  },
  {
   "cell_type": "code",
   "execution_count": 18,
   "id": "0a6543b1-c62e-493d-beac-13e48138d5c0",
   "metadata": {},
   "outputs": [
    {
     "data": {
      "text/plain": [
       "0.45178691840863117"
      ]
     },
     "execution_count": 18,
     "metadata": {},
     "output_type": "execute_result"
    }
   ],
   "source": [
    "all_respondents = DF['total'].loc['total']\n",
    "human_responsible = DF['The climate is changing and human activity is mainly responsible  ']['total']\n",
    "float(human_responsible/all_respondents)"
   ]
  },
  {
   "cell_type": "code",
   "execution_count": 19,
   "id": "3780141a-72a6-4799-b679-02db2679ca87",
   "metadata": {},
   "outputs": [
    {
     "data": {
      "text/plain": [
       "0.5101041028781383"
      ]
     },
     "execution_count": 19,
     "metadata": {},
     "output_type": "execute_result"
    }
   ],
   "source": [
    "gb_respondants = DF['total'].loc['GB']\n",
    "GB_human_responsible = DF['The climate is changing and human activity is mainly responsible  ']['GB']\n",
    "float(GB_human_responsible/gb_respondants)"
   ]
  },
  {
   "cell_type": "code",
   "execution_count": 20,
   "id": "3a7b788b-a340-433b-90cb-c21dd97fffb3",
   "metadata": {},
   "outputs": [
    {
     "data": {
      "text/plain": [
       "0.3803450862715679"
      ]
     },
     "execution_count": 20,
     "metadata": {},
     "output_type": "execute_result"
    }
   ],
   "source": [
    "us_respondants = DF['total'].loc['US']\n",
    "US_human_responsible = DF['The climate is changing and human activity is mainly responsible  ']['US']\n",
    "float(US_human_responsible/us_respondants)"
   ]
  },
  {
   "cell_type": "markdown",
   "id": "fcdb3631-c175-4592-82a2-1f9a5fa81494",
   "metadata": {},
   "source": [
    "**First Question** About 45.18% of all respondents believe that climate change is happening and that humans are the main responsibility of doing so <br><br>\n",
    "**Second Question** About 51.01% of GB respondents believe that climate change is happening and that humans are the main responsibility of doing so <br><br>\n",
    "**Third Question** About 38.03% of US respondents believe that climate change is happening and that humans are the main responsibility of doing so <br><br>\n",
    "If a person is from the US then there is a 38.03% probability that they believe that human activity is the main cause of global warming. If a person answered that climate is changing and humans are the main factor of this cause then they are more likely to be from GB"
   ]
  },
  {
   "cell_type": "markdown",
   "id": "249af7fa-4af0-4948-aa1c-6ac55a12b77d",
   "metadata": {},
   "source": [
    "## Berkeley admission data example\n",
    "\n",
    "- Study carried out by the Graduate Division of the University of California, Berkeley in the early 70’s to evaluate whether there was a gender bias in graduate admissions.\n",
    "- The data come from six departments. For confidentiality we'll call them A-F. \n",
    "- We have information on whether the applicant was male or female and whether they were admitted or rejected. This is an old study so only two binary classifications were used. \n",
    "\n",
    "### Here is the data\n"
   ]
  },
  {
   "cell_type": "code",
   "execution_count": 21,
   "id": "18c756ff-0c11-409c-b377-7f271627f33b",
   "metadata": {},
   "outputs": [
    {
     "data": {
      "text/html": [
       "<div>\n",
       "<style scoped>\n",
       "    .dataframe tbody tr th:only-of-type {\n",
       "        vertical-align: middle;\n",
       "    }\n",
       "\n",
       "    .dataframe tbody tr th {\n",
       "        vertical-align: top;\n",
       "    }\n",
       "\n",
       "    .dataframe thead th {\n",
       "        text-align: right;\n",
       "    }\n",
       "</style>\n",
       "<table border=\"1\" class=\"dataframe\">\n",
       "  <thead>\n",
       "    <tr style=\"text-align: right;\">\n",
       "      <th></th>\n",
       "      <th>Department</th>\n",
       "      <th>Male Yes</th>\n",
       "      <th>Male No</th>\n",
       "      <th>Female Yes</th>\n",
       "      <th>Female No</th>\n",
       "    </tr>\n",
       "  </thead>\n",
       "  <tbody>\n",
       "    <tr>\n",
       "      <th>0</th>\n",
       "      <td>A</td>\n",
       "      <td>512</td>\n",
       "      <td>313</td>\n",
       "      <td>89</td>\n",
       "      <td>19</td>\n",
       "    </tr>\n",
       "    <tr>\n",
       "      <th>1</th>\n",
       "      <td>B</td>\n",
       "      <td>353</td>\n",
       "      <td>207</td>\n",
       "      <td>17</td>\n",
       "      <td>8</td>\n",
       "    </tr>\n",
       "    <tr>\n",
       "      <th>2</th>\n",
       "      <td>C</td>\n",
       "      <td>120</td>\n",
       "      <td>205</td>\n",
       "      <td>202</td>\n",
       "      <td>391</td>\n",
       "    </tr>\n",
       "    <tr>\n",
       "      <th>3</th>\n",
       "      <td>D</td>\n",
       "      <td>138</td>\n",
       "      <td>279</td>\n",
       "      <td>131</td>\n",
       "      <td>244</td>\n",
       "    </tr>\n",
       "    <tr>\n",
       "      <th>4</th>\n",
       "      <td>E</td>\n",
       "      <td>53</td>\n",
       "      <td>138</td>\n",
       "      <td>94</td>\n",
       "      <td>299</td>\n",
       "    </tr>\n",
       "    <tr>\n",
       "      <th>5</th>\n",
       "      <td>F</td>\n",
       "      <td>22</td>\n",
       "      <td>351</td>\n",
       "      <td>24</td>\n",
       "      <td>317</td>\n",
       "    </tr>\n",
       "  </tbody>\n",
       "</table>\n",
       "</div>"
      ],
      "text/plain": [
       "  Department  Male Yes  Male No  Female Yes  Female No\n",
       "0          A       512      313          89         19\n",
       "1          B       353      207          17          8\n",
       "2          C       120      205         202        391\n",
       "3          D       138      279         131        244\n",
       "4          E        53      138          94        299\n",
       "5          F        22      351          24        317"
      ]
     },
     "execution_count": 21,
     "metadata": {},
     "output_type": "execute_result"
    }
   ],
   "source": [
    "file_name = 'data/berkley.csv'\n",
    "DF = pd.read_csv(file_name)\n",
    "DF"
   ]
  },
  {
   "cell_type": "code",
   "execution_count": 22,
   "id": "2946022d-d2f3-45fb-9426-fbde15d6427d",
   "metadata": {},
   "outputs": [
    {
     "data": {
      "text/html": [
       "<div>\n",
       "<style scoped>\n",
       "    .dataframe tbody tr th:only-of-type {\n",
       "        vertical-align: middle;\n",
       "    }\n",
       "\n",
       "    .dataframe tbody tr th {\n",
       "        vertical-align: top;\n",
       "    }\n",
       "\n",
       "    .dataframe thead th {\n",
       "        text-align: right;\n",
       "    }\n",
       "</style>\n",
       "<table border=\"1\" class=\"dataframe\">\n",
       "  <thead>\n",
       "    <tr style=\"text-align: right;\">\n",
       "      <th></th>\n",
       "      <th>Department</th>\n",
       "      <th>MF</th>\n",
       "      <th>Number</th>\n",
       "    </tr>\n",
       "  </thead>\n",
       "  <tbody>\n",
       "    <tr>\n",
       "      <th>0</th>\n",
       "      <td>A</td>\n",
       "      <td>Male Yes</td>\n",
       "      <td>512</td>\n",
       "    </tr>\n",
       "    <tr>\n",
       "      <th>1</th>\n",
       "      <td>B</td>\n",
       "      <td>Male Yes</td>\n",
       "      <td>353</td>\n",
       "    </tr>\n",
       "    <tr>\n",
       "      <th>2</th>\n",
       "      <td>C</td>\n",
       "      <td>Male Yes</td>\n",
       "      <td>120</td>\n",
       "    </tr>\n",
       "    <tr>\n",
       "      <th>3</th>\n",
       "      <td>D</td>\n",
       "      <td>Male Yes</td>\n",
       "      <td>138</td>\n",
       "    </tr>\n",
       "    <tr>\n",
       "      <th>4</th>\n",
       "      <td>E</td>\n",
       "      <td>Male Yes</td>\n",
       "      <td>53</td>\n",
       "    </tr>\n",
       "    <tr>\n",
       "      <th>5</th>\n",
       "      <td>F</td>\n",
       "      <td>Male Yes</td>\n",
       "      <td>22</td>\n",
       "    </tr>\n",
       "    <tr>\n",
       "      <th>6</th>\n",
       "      <td>A</td>\n",
       "      <td>Male No</td>\n",
       "      <td>313</td>\n",
       "    </tr>\n",
       "    <tr>\n",
       "      <th>7</th>\n",
       "      <td>B</td>\n",
       "      <td>Male No</td>\n",
       "      <td>207</td>\n",
       "    </tr>\n",
       "    <tr>\n",
       "      <th>8</th>\n",
       "      <td>C</td>\n",
       "      <td>Male No</td>\n",
       "      <td>205</td>\n",
       "    </tr>\n",
       "    <tr>\n",
       "      <th>9</th>\n",
       "      <td>D</td>\n",
       "      <td>Male No</td>\n",
       "      <td>279</td>\n",
       "    </tr>\n",
       "    <tr>\n",
       "      <th>10</th>\n",
       "      <td>E</td>\n",
       "      <td>Male No</td>\n",
       "      <td>138</td>\n",
       "    </tr>\n",
       "    <tr>\n",
       "      <th>11</th>\n",
       "      <td>F</td>\n",
       "      <td>Male No</td>\n",
       "      <td>351</td>\n",
       "    </tr>\n",
       "    <tr>\n",
       "      <th>12</th>\n",
       "      <td>A</td>\n",
       "      <td>Female Yes</td>\n",
       "      <td>89</td>\n",
       "    </tr>\n",
       "    <tr>\n",
       "      <th>13</th>\n",
       "      <td>B</td>\n",
       "      <td>Female Yes</td>\n",
       "      <td>17</td>\n",
       "    </tr>\n",
       "    <tr>\n",
       "      <th>14</th>\n",
       "      <td>C</td>\n",
       "      <td>Female Yes</td>\n",
       "      <td>202</td>\n",
       "    </tr>\n",
       "    <tr>\n",
       "      <th>15</th>\n",
       "      <td>D</td>\n",
       "      <td>Female Yes</td>\n",
       "      <td>131</td>\n",
       "    </tr>\n",
       "    <tr>\n",
       "      <th>16</th>\n",
       "      <td>E</td>\n",
       "      <td>Female Yes</td>\n",
       "      <td>94</td>\n",
       "    </tr>\n",
       "    <tr>\n",
       "      <th>17</th>\n",
       "      <td>F</td>\n",
       "      <td>Female Yes</td>\n",
       "      <td>24</td>\n",
       "    </tr>\n",
       "    <tr>\n",
       "      <th>18</th>\n",
       "      <td>A</td>\n",
       "      <td>Female No</td>\n",
       "      <td>19</td>\n",
       "    </tr>\n",
       "    <tr>\n",
       "      <th>19</th>\n",
       "      <td>B</td>\n",
       "      <td>Female No</td>\n",
       "      <td>8</td>\n",
       "    </tr>\n",
       "    <tr>\n",
       "      <th>20</th>\n",
       "      <td>C</td>\n",
       "      <td>Female No</td>\n",
       "      <td>391</td>\n",
       "    </tr>\n",
       "    <tr>\n",
       "      <th>21</th>\n",
       "      <td>D</td>\n",
       "      <td>Female No</td>\n",
       "      <td>244</td>\n",
       "    </tr>\n",
       "    <tr>\n",
       "      <th>22</th>\n",
       "      <td>E</td>\n",
       "      <td>Female No</td>\n",
       "      <td>299</td>\n",
       "    </tr>\n",
       "    <tr>\n",
       "      <th>23</th>\n",
       "      <td>F</td>\n",
       "      <td>Female No</td>\n",
       "      <td>317</td>\n",
       "    </tr>\n",
       "  </tbody>\n",
       "</table>\n",
       "</div>"
      ],
      "text/plain": [
       "   Department          MF  Number\n",
       "0           A    Male Yes     512\n",
       "1           B    Male Yes     353\n",
       "2           C    Male Yes     120\n",
       "3           D    Male Yes     138\n",
       "4           E    Male Yes      53\n",
       "5           F    Male Yes      22\n",
       "6           A     Male No     313\n",
       "7           B     Male No     207\n",
       "8           C     Male No     205\n",
       "9           D     Male No     279\n",
       "10          E     Male No     138\n",
       "11          F     Male No     351\n",
       "12          A  Female Yes      89\n",
       "13          B  Female Yes      17\n",
       "14          C  Female Yes     202\n",
       "15          D  Female Yes     131\n",
       "16          E  Female Yes      94\n",
       "17          F  Female Yes      24\n",
       "18          A   Female No      19\n",
       "19          B   Female No       8\n",
       "20          C   Female No     391\n",
       "21          D   Female No     244\n",
       "22          E   Female No     299\n",
       "23          F   Female No     317"
      ]
     },
     "execution_count": 22,
     "metadata": {},
     "output_type": "execute_result"
    }
   ],
   "source": [
    "DF_melt = pd.melt(DF,id_vars=['Department'],var_name='MF',value_name='Number')\n",
    "DF_melt"
   ]
  },
  {
   "cell_type": "code",
   "execution_count": 23,
   "id": "5d861ae5-ede6-4cfa-8a13-4b27e3de2b8e",
   "metadata": {},
   "outputs": [],
   "source": [
    "DF_melt['gender'] = DF_melt['MF'].apply(lambda x: x.split(' ')[0]).copy()\n",
    "DF_melt['admitted'] = DF_melt['MF'].apply(lambda x: x.split(' ')[1]).copy()"
   ]
  },
  {
   "cell_type": "code",
   "execution_count": 24,
   "id": "632666dc-2519-4a29-8f2e-d84bfb94ab1e",
   "metadata": {},
   "outputs": [
    {
     "data": {
      "text/html": [
       "<div>\n",
       "<style scoped>\n",
       "    .dataframe tbody tr th:only-of-type {\n",
       "        vertical-align: middle;\n",
       "    }\n",
       "\n",
       "    .dataframe tbody tr th {\n",
       "        vertical-align: top;\n",
       "    }\n",
       "\n",
       "    .dataframe thead th {\n",
       "        text-align: right;\n",
       "    }\n",
       "</style>\n",
       "<table border=\"1\" class=\"dataframe\">\n",
       "  <thead>\n",
       "    <tr style=\"text-align: right;\">\n",
       "      <th></th>\n",
       "      <th>Department</th>\n",
       "      <th>MF</th>\n",
       "      <th>Number</th>\n",
       "      <th>gender</th>\n",
       "      <th>admitted</th>\n",
       "    </tr>\n",
       "  </thead>\n",
       "  <tbody>\n",
       "    <tr>\n",
       "      <th>0</th>\n",
       "      <td>A</td>\n",
       "      <td>Male Yes</td>\n",
       "      <td>512</td>\n",
       "      <td>Male</td>\n",
       "      <td>Yes</td>\n",
       "    </tr>\n",
       "    <tr>\n",
       "      <th>1</th>\n",
       "      <td>B</td>\n",
       "      <td>Male Yes</td>\n",
       "      <td>353</td>\n",
       "      <td>Male</td>\n",
       "      <td>Yes</td>\n",
       "    </tr>\n",
       "    <tr>\n",
       "      <th>2</th>\n",
       "      <td>C</td>\n",
       "      <td>Male Yes</td>\n",
       "      <td>120</td>\n",
       "      <td>Male</td>\n",
       "      <td>Yes</td>\n",
       "    </tr>\n",
       "    <tr>\n",
       "      <th>3</th>\n",
       "      <td>D</td>\n",
       "      <td>Male Yes</td>\n",
       "      <td>138</td>\n",
       "      <td>Male</td>\n",
       "      <td>Yes</td>\n",
       "    </tr>\n",
       "    <tr>\n",
       "      <th>4</th>\n",
       "      <td>E</td>\n",
       "      <td>Male Yes</td>\n",
       "      <td>53</td>\n",
       "      <td>Male</td>\n",
       "      <td>Yes</td>\n",
       "    </tr>\n",
       "    <tr>\n",
       "      <th>5</th>\n",
       "      <td>F</td>\n",
       "      <td>Male Yes</td>\n",
       "      <td>22</td>\n",
       "      <td>Male</td>\n",
       "      <td>Yes</td>\n",
       "    </tr>\n",
       "    <tr>\n",
       "      <th>6</th>\n",
       "      <td>A</td>\n",
       "      <td>Male No</td>\n",
       "      <td>313</td>\n",
       "      <td>Male</td>\n",
       "      <td>No</td>\n",
       "    </tr>\n",
       "    <tr>\n",
       "      <th>7</th>\n",
       "      <td>B</td>\n",
       "      <td>Male No</td>\n",
       "      <td>207</td>\n",
       "      <td>Male</td>\n",
       "      <td>No</td>\n",
       "    </tr>\n",
       "    <tr>\n",
       "      <th>8</th>\n",
       "      <td>C</td>\n",
       "      <td>Male No</td>\n",
       "      <td>205</td>\n",
       "      <td>Male</td>\n",
       "      <td>No</td>\n",
       "    </tr>\n",
       "    <tr>\n",
       "      <th>9</th>\n",
       "      <td>D</td>\n",
       "      <td>Male No</td>\n",
       "      <td>279</td>\n",
       "      <td>Male</td>\n",
       "      <td>No</td>\n",
       "    </tr>\n",
       "    <tr>\n",
       "      <th>10</th>\n",
       "      <td>E</td>\n",
       "      <td>Male No</td>\n",
       "      <td>138</td>\n",
       "      <td>Male</td>\n",
       "      <td>No</td>\n",
       "    </tr>\n",
       "    <tr>\n",
       "      <th>11</th>\n",
       "      <td>F</td>\n",
       "      <td>Male No</td>\n",
       "      <td>351</td>\n",
       "      <td>Male</td>\n",
       "      <td>No</td>\n",
       "    </tr>\n",
       "    <tr>\n",
       "      <th>12</th>\n",
       "      <td>A</td>\n",
       "      <td>Female Yes</td>\n",
       "      <td>89</td>\n",
       "      <td>Female</td>\n",
       "      <td>Yes</td>\n",
       "    </tr>\n",
       "    <tr>\n",
       "      <th>13</th>\n",
       "      <td>B</td>\n",
       "      <td>Female Yes</td>\n",
       "      <td>17</td>\n",
       "      <td>Female</td>\n",
       "      <td>Yes</td>\n",
       "    </tr>\n",
       "    <tr>\n",
       "      <th>14</th>\n",
       "      <td>C</td>\n",
       "      <td>Female Yes</td>\n",
       "      <td>202</td>\n",
       "      <td>Female</td>\n",
       "      <td>Yes</td>\n",
       "    </tr>\n",
       "    <tr>\n",
       "      <th>15</th>\n",
       "      <td>D</td>\n",
       "      <td>Female Yes</td>\n",
       "      <td>131</td>\n",
       "      <td>Female</td>\n",
       "      <td>Yes</td>\n",
       "    </tr>\n",
       "    <tr>\n",
       "      <th>16</th>\n",
       "      <td>E</td>\n",
       "      <td>Female Yes</td>\n",
       "      <td>94</td>\n",
       "      <td>Female</td>\n",
       "      <td>Yes</td>\n",
       "    </tr>\n",
       "    <tr>\n",
       "      <th>17</th>\n",
       "      <td>F</td>\n",
       "      <td>Female Yes</td>\n",
       "      <td>24</td>\n",
       "      <td>Female</td>\n",
       "      <td>Yes</td>\n",
       "    </tr>\n",
       "    <tr>\n",
       "      <th>18</th>\n",
       "      <td>A</td>\n",
       "      <td>Female No</td>\n",
       "      <td>19</td>\n",
       "      <td>Female</td>\n",
       "      <td>No</td>\n",
       "    </tr>\n",
       "    <tr>\n",
       "      <th>19</th>\n",
       "      <td>B</td>\n",
       "      <td>Female No</td>\n",
       "      <td>8</td>\n",
       "      <td>Female</td>\n",
       "      <td>No</td>\n",
       "    </tr>\n",
       "    <tr>\n",
       "      <th>20</th>\n",
       "      <td>C</td>\n",
       "      <td>Female No</td>\n",
       "      <td>391</td>\n",
       "      <td>Female</td>\n",
       "      <td>No</td>\n",
       "    </tr>\n",
       "    <tr>\n",
       "      <th>21</th>\n",
       "      <td>D</td>\n",
       "      <td>Female No</td>\n",
       "      <td>244</td>\n",
       "      <td>Female</td>\n",
       "      <td>No</td>\n",
       "    </tr>\n",
       "    <tr>\n",
       "      <th>22</th>\n",
       "      <td>E</td>\n",
       "      <td>Female No</td>\n",
       "      <td>299</td>\n",
       "      <td>Female</td>\n",
       "      <td>No</td>\n",
       "    </tr>\n",
       "    <tr>\n",
       "      <th>23</th>\n",
       "      <td>F</td>\n",
       "      <td>Female No</td>\n",
       "      <td>317</td>\n",
       "      <td>Female</td>\n",
       "      <td>No</td>\n",
       "    </tr>\n",
       "  </tbody>\n",
       "</table>\n",
       "</div>"
      ],
      "text/plain": [
       "   Department          MF  Number  gender admitted\n",
       "0           A    Male Yes     512    Male      Yes\n",
       "1           B    Male Yes     353    Male      Yes\n",
       "2           C    Male Yes     120    Male      Yes\n",
       "3           D    Male Yes     138    Male      Yes\n",
       "4           E    Male Yes      53    Male      Yes\n",
       "5           F    Male Yes      22    Male      Yes\n",
       "6           A     Male No     313    Male       No\n",
       "7           B     Male No     207    Male       No\n",
       "8           C     Male No     205    Male       No\n",
       "9           D     Male No     279    Male       No\n",
       "10          E     Male No     138    Male       No\n",
       "11          F     Male No     351    Male       No\n",
       "12          A  Female Yes      89  Female      Yes\n",
       "13          B  Female Yes      17  Female      Yes\n",
       "14          C  Female Yes     202  Female      Yes\n",
       "15          D  Female Yes     131  Female      Yes\n",
       "16          E  Female Yes      94  Female      Yes\n",
       "17          F  Female Yes      24  Female      Yes\n",
       "18          A   Female No      19  Female       No\n",
       "19          B   Female No       8  Female       No\n",
       "20          C   Female No     391  Female       No\n",
       "21          D   Female No     244  Female       No\n",
       "22          E   Female No     299  Female       No\n",
       "23          F   Female No     317  Female       No"
      ]
     },
     "execution_count": 24,
     "metadata": {},
     "output_type": "execute_result"
    }
   ],
   "source": [
    "DF_melt"
   ]
  },
  {
   "cell_type": "markdown",
   "id": "432131a7-8956-4a5f-adee-ca0c59c0ff64",
   "metadata": {},
   "source": [
    "### Gender distribution by department\n",
    "\n",
    "What can we say about the gender distribution if we look at the individual departments.\n",
    "\n",
    "Start with our original \"melted\" data frame:"
   ]
  },
  {
   "cell_type": "code",
   "execution_count": 25,
   "id": "4fd588df-27bc-4326-a049-868dbb20bc0a",
   "metadata": {},
   "outputs": [
    {
     "data": {
      "text/html": [
       "<div>\n",
       "<style scoped>\n",
       "    .dataframe tbody tr th:only-of-type {\n",
       "        vertical-align: middle;\n",
       "    }\n",
       "\n",
       "    .dataframe tbody tr th {\n",
       "        vertical-align: top;\n",
       "    }\n",
       "\n",
       "    .dataframe thead th {\n",
       "        text-align: right;\n",
       "    }\n",
       "</style>\n",
       "<table border=\"1\" class=\"dataframe\">\n",
       "  <thead>\n",
       "    <tr style=\"text-align: right;\">\n",
       "      <th></th>\n",
       "      <th>gender</th>\n",
       "      <th>admitted</th>\n",
       "      <th>Number</th>\n",
       "    </tr>\n",
       "  </thead>\n",
       "  <tbody>\n",
       "    <tr>\n",
       "      <th>0</th>\n",
       "      <td>Female</td>\n",
       "      <td>No</td>\n",
       "      <td>1278</td>\n",
       "    </tr>\n",
       "    <tr>\n",
       "      <th>1</th>\n",
       "      <td>Female</td>\n",
       "      <td>Yes</td>\n",
       "      <td>557</td>\n",
       "    </tr>\n",
       "    <tr>\n",
       "      <th>2</th>\n",
       "      <td>Male</td>\n",
       "      <td>No</td>\n",
       "      <td>1493</td>\n",
       "    </tr>\n",
       "    <tr>\n",
       "      <th>3</th>\n",
       "      <td>Male</td>\n",
       "      <td>Yes</td>\n",
       "      <td>1198</td>\n",
       "    </tr>\n",
       "  </tbody>\n",
       "</table>\n",
       "</div>"
      ],
      "text/plain": [
       "   gender admitted  Number\n",
       "0  Female       No    1278\n",
       "1  Female      Yes     557\n",
       "2    Male       No    1493\n",
       "3    Male      Yes    1198"
      ]
     },
     "execution_count": 25,
     "metadata": {},
     "output_type": "execute_result"
    }
   ],
   "source": [
    "my_columns = ['Number', 'gender', 'admitted']\n",
    "DF_totals = DF_melt[my_columns].groupby(['gender','admitted'],as_index = False).sum()\n",
    "DF_totals"
   ]
  },
  {
   "cell_type": "code",
   "execution_count": 28,
   "id": "caaed371-966a-4637-b64c-66fb497e9c2d",
   "metadata": {},
   "outputs": [],
   "source": [
    "#Gets the numbers for each gender\n",
    "mask = DF_totals['gender'] == 'Male'\n",
    "num_male = DF_totals[mask]['Number'].sum()\n",
    "mask = DF_totals['gender'] == 'Female'\n",
    "num_female = DF_totals[mask]['Number'].sum()\n",
    "\n",
    "#Find the percent\n",
    "mask = (DF_totals['gender'] == 'Male') & (DF_totals['admitted'] == 'Yes')\n",
    "prob_male = DF_totals[mask]['Number']/num_male\n",
    "mask = (DF_totals['gender'] == 'Female') & (DF_totals['admitted'] == 'Yes')\n",
    "prob_female = DF_totals[mask]['Number']/num_female"
   ]
  },
  {
   "cell_type": "code",
   "execution_count": 29,
   "id": "8f26132f-85ba-4c8a-9897-fd181d95c53d",
   "metadata": {},
   "outputs": [
    {
     "data": {
      "text/plain": [
       "3    0.445188\n",
       "Name: Number, dtype: float64"
      ]
     },
     "execution_count": 29,
     "metadata": {},
     "output_type": "execute_result"
    }
   ],
   "source": [
    "prob_male"
   ]
  },
  {
   "cell_type": "code",
   "execution_count": 30,
   "id": "8d1497eb-2028-4b27-ac9b-2937e7829cab",
   "metadata": {},
   "outputs": [
    {
     "data": {
      "text/plain": [
       "1    0.303542\n",
       "Name: Number, dtype: float64"
      ]
     },
     "execution_count": 30,
     "metadata": {},
     "output_type": "execute_result"
    }
   ],
   "source": [
    "prob_female"
   ]
  },
  {
   "cell_type": "code",
   "execution_count": 31,
   "id": "5c5a5c34-6ca9-4025-b861-4e5a150e8f21",
   "metadata": {},
   "outputs": [
    {
     "data": {
      "application/vnd.plotly.v1+json": {
       "config": {
        "plotlyServerURL": "https://plot.ly"
       },
       "data": [
        {
         "bingroup": "y",
         "histfunc": "sum",
         "hovertemplate": "admitted=No<br>sum of Number (normalized as percent)=%{x}<br>gender=%{y}<extra></extra>",
         "legendgroup": "No",
         "marker": {
          "color": "#99d8c9",
          "pattern": {
           "shape": ""
          }
         },
         "name": "No",
         "orientation": "h",
         "showlegend": true,
         "type": "histogram",
         "x": {
          "bdata": "/gTVBQ==",
          "dtype": "i2"
         },
         "xaxis": "x",
         "y": [
          "Female",
          "Male"
         ],
         "yaxis": "y"
        },
        {
         "bingroup": "y",
         "histfunc": "sum",
         "hovertemplate": "admitted=Yes<br>sum of Number (normalized as percent)=%{x}<br>gender=%{y}<extra></extra>",
         "legendgroup": "Yes",
         "marker": {
          "color": "#2ca25f",
          "pattern": {
           "shape": ""
          }
         },
         "name": "Yes",
         "orientation": "h",
         "showlegend": true,
         "type": "histogram",
         "x": {
          "bdata": "LQKuBA==",
          "dtype": "i2"
         },
         "xaxis": "x",
         "y": [
          "Female",
          "Male"
         ],
         "yaxis": "y"
        }
       ],
       "layout": {
        "autosize": false,
        "barmode": "relative",
        "barnorm": "percent",
        "height": 500,
        "legend": {
         "title": {
          "text": "Admitted"
         },
         "tracegroupgap": 0
        },
        "margin": {
         "t": 60
        },
        "template": {
         "data": {
          "bar": [
           {
            "error_x": {
             "color": "#2a3f5f"
            },
            "error_y": {
             "color": "#2a3f5f"
            },
            "marker": {
             "line": {
              "color": "white",
              "width": 0.5
             },
             "pattern": {
              "fillmode": "overlay",
              "size": 10,
              "solidity": 0.2
             }
            },
            "type": "bar"
           }
          ],
          "barpolar": [
           {
            "marker": {
             "line": {
              "color": "white",
              "width": 0.5
             },
             "pattern": {
              "fillmode": "overlay",
              "size": 10,
              "solidity": 0.2
             }
            },
            "type": "barpolar"
           }
          ],
          "carpet": [
           {
            "aaxis": {
             "endlinecolor": "#2a3f5f",
             "gridcolor": "#C8D4E3",
             "linecolor": "#C8D4E3",
             "minorgridcolor": "#C8D4E3",
             "startlinecolor": "#2a3f5f"
            },
            "baxis": {
             "endlinecolor": "#2a3f5f",
             "gridcolor": "#C8D4E3",
             "linecolor": "#C8D4E3",
             "minorgridcolor": "#C8D4E3",
             "startlinecolor": "#2a3f5f"
            },
            "type": "carpet"
           }
          ],
          "choropleth": [
           {
            "colorbar": {
             "outlinewidth": 0,
             "ticks": ""
            },
            "type": "choropleth"
           }
          ],
          "contour": [
           {
            "colorbar": {
             "outlinewidth": 0,
             "ticks": ""
            },
            "colorscale": [
             [
              0,
              "#0d0887"
             ],
             [
              0.1111111111111111,
              "#46039f"
             ],
             [
              0.2222222222222222,
              "#7201a8"
             ],
             [
              0.3333333333333333,
              "#9c179e"
             ],
             [
              0.4444444444444444,
              "#bd3786"
             ],
             [
              0.5555555555555556,
              "#d8576b"
             ],
             [
              0.6666666666666666,
              "#ed7953"
             ],
             [
              0.7777777777777778,
              "#fb9f3a"
             ],
             [
              0.8888888888888888,
              "#fdca26"
             ],
             [
              1,
              "#f0f921"
             ]
            ],
            "type": "contour"
           }
          ],
          "contourcarpet": [
           {
            "colorbar": {
             "outlinewidth": 0,
             "ticks": ""
            },
            "type": "contourcarpet"
           }
          ],
          "heatmap": [
           {
            "colorbar": {
             "outlinewidth": 0,
             "ticks": ""
            },
            "colorscale": [
             [
              0,
              "#0d0887"
             ],
             [
              0.1111111111111111,
              "#46039f"
             ],
             [
              0.2222222222222222,
              "#7201a8"
             ],
             [
              0.3333333333333333,
              "#9c179e"
             ],
             [
              0.4444444444444444,
              "#bd3786"
             ],
             [
              0.5555555555555556,
              "#d8576b"
             ],
             [
              0.6666666666666666,
              "#ed7953"
             ],
             [
              0.7777777777777778,
              "#fb9f3a"
             ],
             [
              0.8888888888888888,
              "#fdca26"
             ],
             [
              1,
              "#f0f921"
             ]
            ],
            "type": "heatmap"
           }
          ],
          "histogram": [
           {
            "marker": {
             "pattern": {
              "fillmode": "overlay",
              "size": 10,
              "solidity": 0.2
             }
            },
            "type": "histogram"
           }
          ],
          "histogram2d": [
           {
            "colorbar": {
             "outlinewidth": 0,
             "ticks": ""
            },
            "colorscale": [
             [
              0,
              "#0d0887"
             ],
             [
              0.1111111111111111,
              "#46039f"
             ],
             [
              0.2222222222222222,
              "#7201a8"
             ],
             [
              0.3333333333333333,
              "#9c179e"
             ],
             [
              0.4444444444444444,
              "#bd3786"
             ],
             [
              0.5555555555555556,
              "#d8576b"
             ],
             [
              0.6666666666666666,
              "#ed7953"
             ],
             [
              0.7777777777777778,
              "#fb9f3a"
             ],
             [
              0.8888888888888888,
              "#fdca26"
             ],
             [
              1,
              "#f0f921"
             ]
            ],
            "type": "histogram2d"
           }
          ],
          "histogram2dcontour": [
           {
            "colorbar": {
             "outlinewidth": 0,
             "ticks": ""
            },
            "colorscale": [
             [
              0,
              "#0d0887"
             ],
             [
              0.1111111111111111,
              "#46039f"
             ],
             [
              0.2222222222222222,
              "#7201a8"
             ],
             [
              0.3333333333333333,
              "#9c179e"
             ],
             [
              0.4444444444444444,
              "#bd3786"
             ],
             [
              0.5555555555555556,
              "#d8576b"
             ],
             [
              0.6666666666666666,
              "#ed7953"
             ],
             [
              0.7777777777777778,
              "#fb9f3a"
             ],
             [
              0.8888888888888888,
              "#fdca26"
             ],
             [
              1,
              "#f0f921"
             ]
            ],
            "type": "histogram2dcontour"
           }
          ],
          "mesh3d": [
           {
            "colorbar": {
             "outlinewidth": 0,
             "ticks": ""
            },
            "type": "mesh3d"
           }
          ],
          "parcoords": [
           {
            "line": {
             "colorbar": {
              "outlinewidth": 0,
              "ticks": ""
             }
            },
            "type": "parcoords"
           }
          ],
          "pie": [
           {
            "automargin": true,
            "type": "pie"
           }
          ],
          "scatter": [
           {
            "fillpattern": {
             "fillmode": "overlay",
             "size": 10,
             "solidity": 0.2
            },
            "type": "scatter"
           }
          ],
          "scatter3d": [
           {
            "line": {
             "colorbar": {
              "outlinewidth": 0,
              "ticks": ""
             }
            },
            "marker": {
             "colorbar": {
              "outlinewidth": 0,
              "ticks": ""
             }
            },
            "type": "scatter3d"
           }
          ],
          "scattercarpet": [
           {
            "marker": {
             "colorbar": {
              "outlinewidth": 0,
              "ticks": ""
             }
            },
            "type": "scattercarpet"
           }
          ],
          "scattergeo": [
           {
            "marker": {
             "colorbar": {
              "outlinewidth": 0,
              "ticks": ""
             }
            },
            "type": "scattergeo"
           }
          ],
          "scattergl": [
           {
            "marker": {
             "colorbar": {
              "outlinewidth": 0,
              "ticks": ""
             }
            },
            "type": "scattergl"
           }
          ],
          "scattermap": [
           {
            "marker": {
             "colorbar": {
              "outlinewidth": 0,
              "ticks": ""
             }
            },
            "type": "scattermap"
           }
          ],
          "scattermapbox": [
           {
            "marker": {
             "colorbar": {
              "outlinewidth": 0,
              "ticks": ""
             }
            },
            "type": "scattermapbox"
           }
          ],
          "scatterpolar": [
           {
            "marker": {
             "colorbar": {
              "outlinewidth": 0,
              "ticks": ""
             }
            },
            "type": "scatterpolar"
           }
          ],
          "scatterpolargl": [
           {
            "marker": {
             "colorbar": {
              "outlinewidth": 0,
              "ticks": ""
             }
            },
            "type": "scatterpolargl"
           }
          ],
          "scatterternary": [
           {
            "marker": {
             "colorbar": {
              "outlinewidth": 0,
              "ticks": ""
             }
            },
            "type": "scatterternary"
           }
          ],
          "surface": [
           {
            "colorbar": {
             "outlinewidth": 0,
             "ticks": ""
            },
            "colorscale": [
             [
              0,
              "#0d0887"
             ],
             [
              0.1111111111111111,
              "#46039f"
             ],
             [
              0.2222222222222222,
              "#7201a8"
             ],
             [
              0.3333333333333333,
              "#9c179e"
             ],
             [
              0.4444444444444444,
              "#bd3786"
             ],
             [
              0.5555555555555556,
              "#d8576b"
             ],
             [
              0.6666666666666666,
              "#ed7953"
             ],
             [
              0.7777777777777778,
              "#fb9f3a"
             ],
             [
              0.8888888888888888,
              "#fdca26"
             ],
             [
              1,
              "#f0f921"
             ]
            ],
            "type": "surface"
           }
          ],
          "table": [
           {
            "cells": {
             "fill": {
              "color": "#EBF0F8"
             },
             "line": {
              "color": "white"
             }
            },
            "header": {
             "fill": {
              "color": "#C8D4E3"
             },
             "line": {
              "color": "white"
             }
            },
            "type": "table"
           }
          ]
         },
         "layout": {
          "annotationdefaults": {
           "arrowcolor": "#2a3f5f",
           "arrowhead": 0,
           "arrowwidth": 1
          },
          "autotypenumbers": "strict",
          "coloraxis": {
           "colorbar": {
            "outlinewidth": 0,
            "ticks": ""
           }
          },
          "colorscale": {
           "diverging": [
            [
             0,
             "#8e0152"
            ],
            [
             0.1,
             "#c51b7d"
            ],
            [
             0.2,
             "#de77ae"
            ],
            [
             0.3,
             "#f1b6da"
            ],
            [
             0.4,
             "#fde0ef"
            ],
            [
             0.5,
             "#f7f7f7"
            ],
            [
             0.6,
             "#e6f5d0"
            ],
            [
             0.7,
             "#b8e186"
            ],
            [
             0.8,
             "#7fbc41"
            ],
            [
             0.9,
             "#4d9221"
            ],
            [
             1,
             "#276419"
            ]
           ],
           "sequential": [
            [
             0,
             "#0d0887"
            ],
            [
             0.1111111111111111,
             "#46039f"
            ],
            [
             0.2222222222222222,
             "#7201a8"
            ],
            [
             0.3333333333333333,
             "#9c179e"
            ],
            [
             0.4444444444444444,
             "#bd3786"
            ],
            [
             0.5555555555555556,
             "#d8576b"
            ],
            [
             0.6666666666666666,
             "#ed7953"
            ],
            [
             0.7777777777777778,
             "#fb9f3a"
            ],
            [
             0.8888888888888888,
             "#fdca26"
            ],
            [
             1,
             "#f0f921"
            ]
           ],
           "sequentialminus": [
            [
             0,
             "#0d0887"
            ],
            [
             0.1111111111111111,
             "#46039f"
            ],
            [
             0.2222222222222222,
             "#7201a8"
            ],
            [
             0.3333333333333333,
             "#9c179e"
            ],
            [
             0.4444444444444444,
             "#bd3786"
            ],
            [
             0.5555555555555556,
             "#d8576b"
            ],
            [
             0.6666666666666666,
             "#ed7953"
            ],
            [
             0.7777777777777778,
             "#fb9f3a"
            ],
            [
             0.8888888888888888,
             "#fdca26"
            ],
            [
             1,
             "#f0f921"
            ]
           ]
          },
          "colorway": [
           "#636efa",
           "#EF553B",
           "#00cc96",
           "#ab63fa",
           "#FFA15A",
           "#19d3f3",
           "#FF6692",
           "#B6E880",
           "#FF97FF",
           "#FECB52"
          ],
          "font": {
           "color": "#2a3f5f"
          },
          "geo": {
           "bgcolor": "white",
           "lakecolor": "white",
           "landcolor": "white",
           "showlakes": true,
           "showland": true,
           "subunitcolor": "#C8D4E3"
          },
          "hoverlabel": {
           "align": "left"
          },
          "hovermode": "closest",
          "mapbox": {
           "style": "light"
          },
          "paper_bgcolor": "white",
          "plot_bgcolor": "white",
          "polar": {
           "angularaxis": {
            "gridcolor": "#EBF0F8",
            "linecolor": "#EBF0F8",
            "ticks": ""
           },
           "bgcolor": "white",
           "radialaxis": {
            "gridcolor": "#EBF0F8",
            "linecolor": "#EBF0F8",
            "ticks": ""
           }
          },
          "scene": {
           "xaxis": {
            "backgroundcolor": "white",
            "gridcolor": "#DFE8F3",
            "gridwidth": 2,
            "linecolor": "#EBF0F8",
            "showbackground": true,
            "ticks": "",
            "zerolinecolor": "#EBF0F8"
           },
           "yaxis": {
            "backgroundcolor": "white",
            "gridcolor": "#DFE8F3",
            "gridwidth": 2,
            "linecolor": "#EBF0F8",
            "showbackground": true,
            "ticks": "",
            "zerolinecolor": "#EBF0F8"
           },
           "zaxis": {
            "backgroundcolor": "white",
            "gridcolor": "#DFE8F3",
            "gridwidth": 2,
            "linecolor": "#EBF0F8",
            "showbackground": true,
            "ticks": "",
            "zerolinecolor": "#EBF0F8"
           }
          },
          "shapedefaults": {
           "line": {
            "color": "#2a3f5f"
           }
          },
          "ternary": {
           "aaxis": {
            "gridcolor": "#DFE8F3",
            "linecolor": "#A2B1C6",
            "ticks": ""
           },
           "baxis": {
            "gridcolor": "#DFE8F3",
            "linecolor": "#A2B1C6",
            "ticks": ""
           },
           "bgcolor": "white",
           "caxis": {
            "gridcolor": "#DFE8F3",
            "linecolor": "#A2B1C6",
            "ticks": ""
           }
          },
          "title": {
           "x": 0.05
          },
          "xaxis": {
           "automargin": true,
           "gridcolor": "#EBF0F8",
           "linecolor": "#EBF0F8",
           "ticks": "",
           "title": {
            "standoff": 15
           },
           "zerolinecolor": "#EBF0F8",
           "zerolinewidth": 2
          },
          "yaxis": {
           "automargin": true,
           "gridcolor": "#EBF0F8",
           "linecolor": "#EBF0F8",
           "ticks": "",
           "title": {
            "standoff": 15
           },
           "zerolinecolor": "#EBF0F8",
           "zerolinewidth": 2
          }
         }
        },
        "title": {
         "text": "Percent male and female applications",
         "x": 0.5
        },
        "width": 800,
        "xaxis": {
         "anchor": "y",
         "domain": [
          0,
          1
         ],
         "title": {
          "text": ""
         }
        },
        "yaxis": {
         "anchor": "x",
         "domain": [
          0,
          1
         ],
         "title": {
          "text": "Gender"
         }
        }
       }
      },
      "image/png": "[encoded data removed]"
     },
     "metadata": {},
     "output_type": "display_data"
    }
   ],
   "source": [
    "fig = px.histogram(DF_totals,\n",
    "                     x='Number',\n",
    "                     y='gender',\n",
    "                     color='admitted',\n",
    "                     barnorm = \"percent\",\n",
    "                     color_discrete_map = {'No':'#99d8c9','Yes':'#2ca25f'})\n",
    "\n",
    "fig.update_layout(title='Percent male and female applications',\n",
    "                  title_x=0.5,\n",
    "                  template=\"plotly_white\",\n",
    "                  xaxis_title=\"\",\n",
    "                  yaxis_title=\"Gender\",\n",
    "                  legend_title='Admitted',\n",
    "                  autosize=False,\n",
    "                  width=800,\n",
    "                  height=500)\n",
    "\n",
    "fig.show()"
   ]
  },
  {
   "cell_type": "code",
   "execution_count": 34,
   "id": "ba190324-1a2e-4446-98b4-34026953769a",
   "metadata": {},
   "outputs": [
    {
     "data": {
      "text/html": [
       "<div>\n",
       "<style scoped>\n",
       "    .dataframe tbody tr th:only-of-type {\n",
       "        vertical-align: middle;\n",
       "    }\n",
       "\n",
       "    .dataframe tbody tr th {\n",
       "        vertical-align: top;\n",
       "    }\n",
       "\n",
       "    .dataframe thead th {\n",
       "        text-align: right;\n",
       "    }\n",
       "</style>\n",
       "<table border=\"1\" class=\"dataframe\">\n",
       "  <thead>\n",
       "    <tr style=\"text-align: right;\">\n",
       "      <th></th>\n",
       "      <th></th>\n",
       "      <th>Number</th>\n",
       "    </tr>\n",
       "    <tr>\n",
       "      <th>gender</th>\n",
       "      <th>admitted</th>\n",
       "      <th></th>\n",
       "    </tr>\n",
       "  </thead>\n",
       "  <tbody>\n",
       "    <tr>\n",
       "      <th rowspan=\"2\" valign=\"top\">Female</th>\n",
       "      <th>No</th>\n",
       "      <td>1278</td>\n",
       "    </tr>\n",
       "    <tr>\n",
       "      <th>Yes</th>\n",
       "      <td>557</td>\n",
       "    </tr>\n",
       "    <tr>\n",
       "      <th rowspan=\"2\" valign=\"top\">Male</th>\n",
       "      <th>No</th>\n",
       "      <td>1493</td>\n",
       "    </tr>\n",
       "    <tr>\n",
       "      <th>Yes</th>\n",
       "      <td>1198</td>\n",
       "    </tr>\n",
       "  </tbody>\n",
       "</table>\n",
       "</div>"
      ],
      "text/plain": [
       "                 Number\n",
       "gender admitted        \n",
       "Female No          1278\n",
       "       Yes          557\n",
       "Male   No          1493\n",
       "       Yes         1198"
      ]
     },
     "execution_count": 34,
     "metadata": {},
     "output_type": "execute_result"
    }
   ],
   "source": [
    "my_columns = ['Number','gender','admitted']\n",
    "DF_totals = DF_melt[my_columns].groupby(['gender','admitted']).sum()\n",
    "DF_totals"
   ]
  },
  {
   "cell_type": "code",
   "execution_count": 35,
   "id": "b7bd2a1b-fb7e-4401-a65f-8c58ed00bb5a",
   "metadata": {},
   "outputs": [
    {
     "name": "stdout",
     "output_type": "stream",
     "text": [
      "Number    0.445188\n",
      "dtype: float64\n",
      "Number    0.303542\n",
      "dtype: float64\n"
     ]
    }
   ],
   "source": [
    "# Get the total numbers in each group\n",
    "num_male = DF_totals.loc['Male'].sum()\n",
    "num_female = DF_totals.loc['Female'].sum()\n",
    "\n",
    "# # Find the percents\n",
    "prob_male = DF_totals.loc['Male','Yes']/num_male\n",
    "prob_female = DF_totals.loc['Female', 'Yes']/num_female\n",
    "\n",
    "print(prob_male)\n",
    "print(prob_female)"
   ]
  },
  {
   "cell_type": "markdown",
   "id": "022204a9-b9e4-4cc3-984f-d821c69b432b",
   "metadata": {},
   "source": [
    "#### Lets pivot!\n",
    "\n",
    "Pivot this data so that our departments become the column labels and our MF column becomes the index."
   ]
  },
  {
   "cell_type": "code",
   "execution_count": 36,
   "id": "af17b1d9-39d9-4fa7-9f03-619e4cca6639",
   "metadata": {},
   "outputs": [
    {
     "data": {
      "text/html": [
       "<div>\n",
       "<style scoped>\n",
       "    .dataframe tbody tr th:only-of-type {\n",
       "        vertical-align: middle;\n",
       "    }\n",
       "\n",
       "    .dataframe tbody tr th {\n",
       "        vertical-align: top;\n",
       "    }\n",
       "\n",
       "    .dataframe thead th {\n",
       "        text-align: right;\n",
       "    }\n",
       "</style>\n",
       "<table border=\"1\" class=\"dataframe\">\n",
       "  <thead>\n",
       "    <tr style=\"text-align: right;\">\n",
       "      <th>Department</th>\n",
       "      <th>A</th>\n",
       "      <th>B</th>\n",
       "      <th>C</th>\n",
       "      <th>D</th>\n",
       "      <th>E</th>\n",
       "      <th>F</th>\n",
       "    </tr>\n",
       "    <tr>\n",
       "      <th>MF</th>\n",
       "      <th></th>\n",
       "      <th></th>\n",
       "      <th></th>\n",
       "      <th></th>\n",
       "      <th></th>\n",
       "      <th></th>\n",
       "    </tr>\n",
       "  </thead>\n",
       "  <tbody>\n",
       "    <tr>\n",
       "      <th>Female No</th>\n",
       "      <td>19</td>\n",
       "      <td>8</td>\n",
       "      <td>391</td>\n",
       "      <td>244</td>\n",
       "      <td>299</td>\n",
       "      <td>317</td>\n",
       "    </tr>\n",
       "    <tr>\n",
       "      <th>Female Yes</th>\n",
       "      <td>89</td>\n",
       "      <td>17</td>\n",
       "      <td>202</td>\n",
       "      <td>131</td>\n",
       "      <td>94</td>\n",
       "      <td>24</td>\n",
       "    </tr>\n",
       "    <tr>\n",
       "      <th>Male No</th>\n",
       "      <td>313</td>\n",
       "      <td>207</td>\n",
       "      <td>205</td>\n",
       "      <td>279</td>\n",
       "      <td>138</td>\n",
       "      <td>351</td>\n",
       "    </tr>\n",
       "    <tr>\n",
       "      <th>Male Yes</th>\n",
       "      <td>512</td>\n",
       "      <td>353</td>\n",
       "      <td>120</td>\n",
       "      <td>138</td>\n",
       "      <td>53</td>\n",
       "      <td>22</td>\n",
       "    </tr>\n",
       "  </tbody>\n",
       "</table>\n",
       "</div>"
      ],
      "text/plain": [
       "Department    A    B    C    D    E    F\n",
       "MF                                      \n",
       "Female No    19    8  391  244  299  317\n",
       "Female Yes   89   17  202  131   94   24\n",
       "Male No     313  207  205  279  138  351\n",
       "Male Yes    512  353  120  138   53   22"
      ]
     },
     "execution_count": 36,
     "metadata": {},
     "output_type": "execute_result"
    }
   ],
   "source": [
    "DF_dept = DF_melt.pivot(index='MF',columns='Department',values='Number')\n",
    "DF_dept"
   ]
  },
  {
   "cell_type": "code",
   "execution_count": 37,
   "id": "1d5af75b-bbf8-4336-8b55-6139a668852b",
   "metadata": {},
   "outputs": [],
   "source": [
    "prob_female = DF_dept['A']['Female Yes']/(DF_dept['A']['Female Yes']+DF_dept['A']['Female No'])\n",
    "prob_male = DF_dept['A']['Male Yes']/(DF_dept['A']['Male Yes']+DF_dept['A']['Male No'])"
   ]
  },
  {
   "cell_type": "code",
   "execution_count": 40,
   "id": "f8376d4f-f0d3-45b9-97ba-2599a6589cbd",
   "metadata": {},
   "outputs": [
    {
     "data": {
      "text/plain": [
       "82.4074074074074"
      ]
     },
     "execution_count": 40,
     "metadata": {},
     "output_type": "execute_result"
    }
   ],
   "source": [
    "float(prob_female*100)"
   ]
  },
  {
   "cell_type": "code",
   "execution_count": 41,
   "id": "945b1538-6b3b-413b-9be8-c63960066e90",
   "metadata": {},
   "outputs": [
    {
     "data": {
      "text/plain": [
       "62.06060606060606"
      ]
     },
     "execution_count": 41,
     "metadata": {},
     "output_type": "execute_result"
    }
   ],
   "source": [
    "float(prob_male*100)"
   ]
  },
  {
   "cell_type": "markdown",
   "id": "6f3a4052-70cb-45e1-9175-559660d97a6d",
   "metadata": {},
   "source": [
    "**Q2** Calculate the proportions for the other departments. We did department A in the lecture. You can use the code from the lecture or come up with your own way to do this. You can do this one by one or try using a FOR loop.\n",
    "\n",
    "Talk about what you see in these proportions. Which departments admit a large number of women? How do your number align with the visualization below?"
   ]
  },
  {
   "cell_type": "code",
   "execution_count": 48,
   "id": "0e45185f-febe-4dc8-9d2a-392cb154218d",
   "metadata": {},
   "outputs": [
    {
     "data": {
      "text/html": [
       "<!--| quarto-html-table-processing: none -->\n",
       "<table id=\"itables_77e73ddd_8208_43c8_8ac8_98f3938c8b59\"><tbody><tr>\n",
       "    <td style=\"vertical-align:middle; text-align:left\">\n",
       "    <a href=https://mwouts.github.io/itables/><svg class=\"main-svg\" xmlns=\"http://www.w3.org/2000/svg\" xmlns:xlink=\"http://www.w3.org/1999/xlink\"\n",
       "width=\"64\" viewBox=\"0 0 500 400\" style=\"font-family: 'Droid Sans', sans-serif;\">\n",
       "    <g style=\"fill:#d9d7fc\">\n",
       "        <path d=\"M100,400H500V357H100Z\" />\n",
       "        <path d=\"M100,300H400V257H100Z\" />\n",
       "        <path d=\"M0,200H400V157H0Z\" />\n",
       "        <path d=\"M100,100H500V57H100Z\" />\n",
       "        <path d=\"M100,350H500V307H100Z\" />\n",
       "        <path d=\"M100,250H400V207H100Z\" />\n",
       "        <path d=\"M0,150H400V107H0Z\" />\n",
       "        <path d=\"M100,50H500V7H100Z\" />\n",
       "    </g>\n",
       "    <g style=\"fill:#1a1366;stroke:#1a1366;\">\n",
       "   <rect x=\"100\" y=\"7\" width=\"400\" height=\"43\">\n",
       "    <animate\n",
       "      attributeName=\"width\"\n",
       "      values=\"0;400;0\"\n",
       "      dur=\"5s\"\n",
       "      repeatCount=\"indefinite\" />\n",
       "      <animate\n",
       "      attributeName=\"x\"\n",
       "      values=\"100;100;500\"\n",
       "      dur=\"5s\"\n",
       "      repeatCount=\"indefinite\" />\n",
       "  </rect>\n",
       "        <rect x=\"0\" y=\"107\" width=\"400\" height=\"43\">\n",
       "    <animate\n",
       "      attributeName=\"width\"\n",
       "      values=\"0;400;0\"\n",
       "      dur=\"3.5s\"\n",
       "      repeatCount=\"indefinite\" />\n",
       "    <animate\n",
       "      attributeName=\"x\"\n",
       "      values=\"0;0;400\"\n",
       "      dur=\"3.5s\"\n",
       "      repeatCount=\"indefinite\" />\n",
       "  </rect>\n",
       "        <rect x=\"100\" y=\"207\" width=\"300\" height=\"43\">\n",
       "    <animate\n",
       "      attributeName=\"width\"\n",
       "      values=\"0;300;0\"\n",
       "      dur=\"3s\"\n",
       "      repeatCount=\"indefinite\" />\n",
       "    <animate\n",
       "      attributeName=\"x\"\n",
       "      values=\"100;100;400\"\n",
       "      dur=\"3s\"\n",
       "      repeatCount=\"indefinite\" />\n",
       "  </rect>\n",
       "        <rect x=\"100\" y=\"307\" width=\"400\" height=\"43\">\n",
       "    <animate\n",
       "      attributeName=\"width\"\n",
       "      values=\"0;400;0\"\n",
       "      dur=\"4s\"\n",
       "      repeatCount=\"indefinite\" />\n",
       "      <animate\n",
       "      attributeName=\"x\"\n",
       "      values=\"100;100;500\"\n",
       "      dur=\"4s\"\n",
       "      repeatCount=\"indefinite\" />\n",
       "  </rect>\n",
       "        <g style=\"fill:transparent;stroke-width:8; stroke-linejoin:round\" rx=\"5\">\n",
       "            <g transform=\"translate(45 50) rotate(-45)\">\n",
       "                <circle r=\"33\" cx=\"0\" cy=\"0\" />\n",
       "                <rect x=\"-8\" y=\"32\" width=\"16\" height=\"30\" />\n",
       "            </g>\n",
       "\n",
       "            <g transform=\"translate(450 152)\">\n",
       "                <polyline points=\"-15,-20 -35,-20 -35,40 25,40 25,20\" />\n",
       "                <rect x=\"-15\" y=\"-40\" width=\"60\" height=\"60\" />\n",
       "            </g>\n",
       "\n",
       "            <g transform=\"translate(50 352)\">\n",
       "                <polygon points=\"-35,-5 0,-40 35,-5\" />\n",
       "                <polygon points=\"-35,10 0,45 35,10\" />\n",
       "            </g>\n",
       "\n",
       "            <g transform=\"translate(75 250)\">\n",
       "                <polyline points=\"-30,30 -60,0 -30,-30\" />\n",
       "                <polyline points=\"0,30 -30,0 0,-30\" />\n",
       "            </g>\n",
       "\n",
       "            <g transform=\"translate(425 250) rotate(180)\">\n",
       "                <polyline points=\"-30,30 -60,0 -30,-30\" />\n",
       "                <polyline points=\"0,30 -30,0 0,-30\" />\n",
       "            </g>\n",
       "        </g>\n",
       "    </g>\n",
       "</svg>\n",
       "</a>\n",
       "    Loading ITables v2.5.2 from the internet...\n",
       "    (need <a href=https://mwouts.github.io/itables/troubleshooting.html>help</a>?)</td>\n",
       "    </tr></tbody></table>\n",
       "<link href=\"https://www.unpkg.com/dt_for_itables@2.4.0/dt_bundle.css\" rel=\"stylesheet\">\n",
       "<script type=\"module\">\n",
       "    import { ITable, jQuery as $ } from 'https://www.unpkg.com/dt_for_itables@2.4.0/dt_bundle.js';\n",
       "\n",
       "    document.querySelectorAll(\"#itables_77e73ddd_8208_43c8_8ac8_98f3938c8b59:not(.dataTable)\").forEach(table => {\n",
       "        if (!(table instanceof HTMLTableElement))\n",
       "            return;\n",
       "\n",
       "        let dt_args = {\"layout\": {\"topStart\": null, \"topEnd\": null, \"bottomStart\": null, \"bottomEnd\": null}, \"text_in_header_can_be_selected\": true, \"classes\": [\"display\", \"nowrap\"], \"style\": {\"table-layout\": \"auto\", \"width\": \"auto\", \"margin\": \"auto\", \"caption-side\": \"bottom\"}, \"order\": [], \"table_html\": \"<table><thead>\\n    <tr style=\\\"text-align: right;\\\">\\n      <th></th>\\n      <th>Female</th>\\n      <th>Male</th>\\n    </tr>\\n  </thead></table>\", \"data_json\": \"[[\\\"A\\\", 0.824074, 0.620606], [\\\"B\\\", 0.68, 0.630357], [\\\"C\\\", 0.340641, 0.369231], [\\\"D\\\", 0.349333, 0.330935], [\\\"E\\\", 0.239186, 0.277487], [\\\"F\\\", 0.070381, 0.058981]]\"};\n",
       "        new ITable(table, dt_args);\n",
       "    });\n",
       "</script>\n"
      ],
      "text/plain": [
       "<IPython.core.display.HTML object>"
      ]
     },
     "metadata": {},
     "output_type": "display_data"
    }
   ],
   "source": [
    "departments = DF_dept.columns\n",
    "proportions = {}\n",
    "\n",
    "for i in departments:\n",
    "    female_yes = DF_dept[i]['Female Yes']\n",
    "    female_no = DF_dept[i]['Female No']\n",
    "    male_yes = DF_dept[i]['Male Yes']\n",
    "    male_no = DF_dept[i]['Male No']\n",
    "\n",
    "    female_prob = female_yes / (female_yes + female_no)\n",
    "    male_prob = male_yes / (male_yes + male_no)\n",
    "    \n",
    "    proportions[i] = {'Female': female_prob, 'Male': male_prob}\n",
    "\n",
    "\n",
    "DFprops = pd.DataFrame(proportions).T\n",
    "show(DFprops)"
   ]
  },
  {
   "cell_type": "markdown",
   "id": "67ed13e2-fe3b-47a1-b4e2-94f36763e3a5",
   "metadata": {},
   "source": [
    "It is very accurate to the histogram below as we see that females are admitted largely at Dept A & B. The rest looks similar to the histogram as well "
   ]
  },
  {
   "cell_type": "markdown",
   "id": "1443020f-a431-4c9a-b5c7-7b47229b4614",
   "metadata": {},
   "source": [
    "### Here is a plot of the proportions data"
   ]
  },
  {
   "cell_type": "code",
   "execution_count": 49,
   "id": "fe801850-b1ab-4c10-b14a-5ddb8d1d6797",
   "metadata": {},
   "outputs": [
    {
     "data": {
      "application/vnd.plotly.v1+json": {
       "config": {
        "plotlyServerURL": "https://plot.ly"
       },
       "data": [
        {
         "bingroup": "y",
         "histfunc": "sum",
         "hovertemplate": "admitted=Yes<br>Department=A<br>sum of Number (normalized as percent)=%{x}<br>gender=%{y}<extra></extra>",
         "legendgroup": "Yes",
         "marker": {
          "color": "#2ca25f",
          "pattern": {
           "shape": ""
          }
         },
         "name": "Yes",
         "orientation": "h",
         "showlegend": true,
         "type": "histogram",
         "x": {
          "bdata": "AAJZAA==",
          "dtype": "i2"
         },
         "xaxis": "x5",
         "y": [
          "Male",
          "Female"
         ],
         "yaxis": "y5"
        },
        {
         "bingroup": "y",
         "histfunc": "sum",
         "hovertemplate": "admitted=Yes<br>Department=B<br>sum of Number (normalized as percent)=%{x}<br>gender=%{y}<extra></extra>",
         "legendgroup": "Yes",
         "marker": {
          "color": "#2ca25f",
          "pattern": {
           "shape": ""
          }
         },
         "name": "Yes",
         "orientation": "h",
         "showlegend": false,
         "type": "histogram",
         "x": {
          "bdata": "YQERAA==",
          "dtype": "i2"
         },
         "xaxis": "x6",
         "y": [
          "Male",
          "Female"
         ],
         "yaxis": "y6"
        },
        {
         "bingroup": "y",
         "histfunc": "sum",
         "hovertemplate": "admitted=Yes<br>Department=C<br>sum of Number (normalized as percent)=%{x}<br>gender=%{y}<extra></extra>",
         "legendgroup": "Yes",
         "marker": {
          "color": "#2ca25f",
          "pattern": {
           "shape": ""
          }
         },
         "name": "Yes",
         "orientation": "h",
         "showlegend": false,
         "type": "histogram",
         "x": {
          "bdata": "eADKAA==",
          "dtype": "i2"
         },
         "xaxis": "x3",
         "y": [
          "Male",
          "Female"
         ],
         "yaxis": "y3"
        },
        {
         "bingroup": "y",
         "histfunc": "sum",
         "hovertemplate": "admitted=Yes<br>Department=D<br>sum of Number (normalized as percent)=%{x}<br>gender=%{y}<extra></extra>",
         "legendgroup": "Yes",
         "marker": {
          "color": "#2ca25f",
          "pattern": {
           "shape": ""
          }
         },
         "name": "Yes",
         "orientation": "h",
         "showlegend": false,
         "type": "histogram",
         "x": {
          "bdata": "igCDAA==",
          "dtype": "i2"
         },
         "xaxis": "x4",
         "y": [
          "Male",
          "Female"
         ],
         "yaxis": "y4"
        },
        {
         "bingroup": "y",
         "histfunc": "sum",
         "hovertemplate": "admitted=Yes<br>Department=E<br>sum of Number (normalized as percent)=%{x}<br>gender=%{y}<extra></extra>",
         "legendgroup": "Yes",
         "marker": {
          "color": "#2ca25f",
          "pattern": {
           "shape": ""
          }
         },
         "name": "Yes",
         "orientation": "h",
         "showlegend": false,
         "type": "histogram",
         "x": {
          "bdata": "NV4=",
          "dtype": "i1"
         },
         "xaxis": "x",
         "y": [
          "Male",
          "Female"
         ],
         "yaxis": "y"
        },
        {
         "bingroup": "y",
         "histfunc": "sum",
         "hovertemplate": "admitted=Yes<br>Department=F<br>sum of Number (normalized as percent)=%{x}<br>gender=%{y}<extra></extra>",
         "legendgroup": "Yes",
         "marker": {
          "color": "#2ca25f",
          "pattern": {
           "shape": ""
          }
         },
         "name": "Yes",
         "orientation": "h",
         "showlegend": false,
         "type": "histogram",
         "x": {
          "bdata": "Fhg=",
          "dtype": "i1"
         },
         "xaxis": "x2",
         "y": [
          "Male",
          "Female"
         ],
         "yaxis": "y2"
        },
        {
         "bingroup": "y",
         "histfunc": "sum",
         "hovertemplate": "admitted=No<br>Department=A<br>sum of Number (normalized as percent)=%{x}<br>gender=%{y}<extra></extra>",
         "legendgroup": "No",
         "marker": {
          "color": "#99d8c9",
          "pattern": {
           "shape": ""
          }
         },
         "name": "No",
         "orientation": "h",
         "showlegend": true,
         "type": "histogram",
         "x": {
          "bdata": "OQETAA==",
          "dtype": "i2"
         },
         "xaxis": "x5",
         "y": [
          "Male",
          "Female"
         ],
         "yaxis": "y5"
        },
        {
         "bingroup": "y",
         "histfunc": "sum",
         "hovertemplate": "admitted=No<br>Department=B<br>sum of Number (normalized as percent)=%{x}<br>gender=%{y}<extra></extra>",
         "legendgroup": "No",
         "marker": {
          "color": "#99d8c9",
          "pattern": {
           "shape": ""
          }
         },
         "name": "No",
         "orientation": "h",
         "showlegend": false,
         "type": "histogram",
         "x": {
          "bdata": "zwAIAA==",
          "dtype": "i2"
         },
         "xaxis": "x6",
         "y": [
          "Male",
          "Female"
         ],
         "yaxis": "y6"
        },
        {
         "bingroup": "y",
         "histfunc": "sum",
         "hovertemplate": "admitted=No<br>Department=C<br>sum of Number (normalized as percent)=%{x}<br>gender=%{y}<extra></extra>",
         "legendgroup": "No",
         "marker": {
          "color": "#99d8c9",
          "pattern": {
           "shape": ""
          }
         },
         "name": "No",
         "orientation": "h",
         "showlegend": false,
         "type": "histogram",
         "x": {
          "bdata": "zQCHAQ==",
          "dtype": "i2"
         },
         "xaxis": "x3",
         "y": [
          "Male",
          "Female"
         ],
         "yaxis": "y3"
        },
        {
         "bingroup": "y",
         "histfunc": "sum",
         "hovertemplate": "admitted=No<br>Department=D<br>sum of Number (normalized as percent)=%{x}<br>gender=%{y}<extra></extra>",
         "legendgroup": "No",
         "marker": {
          "color": "#99d8c9",
          "pattern": {
           "shape": ""
          }
         },
         "name": "No",
         "orientation": "h",
         "showlegend": false,
         "type": "histogram",
         "x": {
          "bdata": "FwH0AA==",
          "dtype": "i2"
         },
         "xaxis": "x4",
         "y": [
          "Male",
          "Female"
         ],
         "yaxis": "y4"
        },
        {
         "bingroup": "y",
         "histfunc": "sum",
         "hovertemplate": "admitted=No<br>Department=E<br>sum of Number (normalized as percent)=%{x}<br>gender=%{y}<extra></extra>",
         "legendgroup": "No",
         "marker": {
          "color": "#99d8c9",
          "pattern": {
           "shape": ""
          }
         },
         "name": "No",
         "orientation": "h",
         "showlegend": false,
         "type": "histogram",
         "x": {
          "bdata": "igArAQ==",
          "dtype": "i2"
         },
         "xaxis": "x",
         "y": [
          "Male",
          "Female"
         ],
         "yaxis": "y"
        },
        {
         "bingroup": "y",
         "histfunc": "sum",
         "hovertemplate": "admitted=No<br>Department=F<br>sum of Number (normalized as percent)=%{x}<br>gender=%{y}<extra></extra>",
         "legendgroup": "No",
         "marker": {
          "color": "#99d8c9",
          "pattern": {
           "shape": ""
          }
         },
         "name": "No",
         "orientation": "h",
         "showlegend": false,
         "type": "histogram",
         "x": {
          "bdata": "XwE9AQ==",
          "dtype": "i2"
         },
         "xaxis": "x2",
         "y": [
          "Male",
          "Female"
         ],
         "yaxis": "y2"
        }
       ],
       "layout": {
        "annotations": [
         {
          "font": {},
          "showarrow": false,
          "text": "E",
          "x": 0.245,
          "xanchor": "center",
          "xref": "paper",
          "y": 0.2866666666666666,
          "yanchor": "bottom",
          "yref": "paper"
         },
         {
          "font": {},
          "showarrow": false,
          "text": "F",
          "x": 0.755,
          "xanchor": "center",
          "xref": "paper",
          "y": 0.2866666666666666,
          "yanchor": "bottom",
          "yref": "paper"
         },
         {
          "font": {},
          "showarrow": false,
          "text": "C",
          "x": 0.245,
          "xanchor": "center",
          "xref": "paper",
          "y": 0.6433333333333333,
          "yanchor": "bottom",
          "yref": "paper"
         },
         {
          "font": {},
          "showarrow": false,
          "text": "D",
          "x": 0.755,
          "xanchor": "center",
          "xref": "paper",
          "y": 0.6433333333333333,
          "yanchor": "bottom",
          "yref": "paper"
         },
         {
          "font": {},
          "showarrow": false,
          "text": "A",
          "x": 0.245,
          "xanchor": "center",
          "xref": "paper",
          "y": 0.9999999999999999,
          "yanchor": "bottom",
          "yref": "paper"
         },
         {
          "font": {},
          "showarrow": false,
          "text": "B",
          "x": 0.755,
          "xanchor": "center",
          "xref": "paper",
          "y": 0.9999999999999999,
          "yanchor": "bottom",
          "yref": "paper"
         }
        ],
        "autosize": false,
        "barmode": "relative",
        "barnorm": "percent",
        "height": 500,
        "legend": {
         "title": {
          "text": "Admitted"
         },
         "tracegroupgap": 0
        },
        "margin": {
         "t": 60
        },
        "template": {
         "data": {
          "bar": [
           {
            "error_x": {
             "color": "#2a3f5f"
            },
            "error_y": {
             "color": "#2a3f5f"
            },
            "marker": {
             "line": {
              "color": "white",
              "width": 0.5
             },
             "pattern": {
              "fillmode": "overlay",
              "size": 10,
              "solidity": 0.2
             }
            },
            "type": "bar"
           }
          ],
          "barpolar": [
           {
            "marker": {
             "line": {
              "color": "white",
              "width": 0.5
             },
             "pattern": {
              "fillmode": "overlay",
              "size": 10,
              "solidity": 0.2
             }
            },
            "type": "barpolar"
           }
          ],
          "carpet": [
           {
            "aaxis": {
             "endlinecolor": "#2a3f5f",
             "gridcolor": "#C8D4E3",
             "linecolor": "#C8D4E3",
             "minorgridcolor": "#C8D4E3",
             "startlinecolor": "#2a3f5f"
            },
            "baxis": {
             "endlinecolor": "#2a3f5f",
             "gridcolor": "#C8D4E3",
             "linecolor": "#C8D4E3",
             "minorgridcolor": "#C8D4E3",
             "startlinecolor": "#2a3f5f"
            },
            "type": "carpet"
           }
          ],
          "choropleth": [
           {
            "colorbar": {
             "outlinewidth": 0,
             "ticks": ""
            },
            "type": "choropleth"
           }
          ],
          "contour": [
           {
            "colorbar": {
             "outlinewidth": 0,
             "ticks": ""
            },
            "colorscale": [
             [
              0,
              "#0d0887"
             ],
             [
              0.1111111111111111,
              "#46039f"
             ],
             [
              0.2222222222222222,
              "#7201a8"
             ],
             [
              0.3333333333333333,
              "#9c179e"
             ],
             [
              0.4444444444444444,
              "#bd3786"
             ],
             [
              0.5555555555555556,
              "#d8576b"
             ],
             [
              0.6666666666666666,
              "#ed7953"
             ],
             [
              0.7777777777777778,
              "#fb9f3a"
             ],
             [
              0.8888888888888888,
              "#fdca26"
             ],
             [
              1,
              "#f0f921"
             ]
            ],
            "type": "contour"
           }
          ],
          "contourcarpet": [
           {
            "colorbar": {
             "outlinewidth": 0,
             "ticks": ""
            },
            "type": "contourcarpet"
           }
          ],
          "heatmap": [
           {
            "colorbar": {
             "outlinewidth": 0,
             "ticks": ""
            },
            "colorscale": [
             [
              0,
              "#0d0887"
             ],
             [
              0.1111111111111111,
              "#46039f"
             ],
             [
              0.2222222222222222,
              "#7201a8"
             ],
             [
              0.3333333333333333,
              "#9c179e"
             ],
             [
              0.4444444444444444,
              "#bd3786"
             ],
             [
              0.5555555555555556,
              "#d8576b"
             ],
             [
              0.6666666666666666,
              "#ed7953"
             ],
             [
              0.7777777777777778,
              "#fb9f3a"
             ],
             [
              0.8888888888888888,
              "#fdca26"
             ],
             [
              1,
              "#f0f921"
             ]
            ],
            "type": "heatmap"
           }
          ],
          "histogram": [
           {
            "marker": {
             "pattern": {
              "fillmode": "overlay",
              "size": 10,
              "solidity": 0.2
             }
            },
            "type": "histogram"
           }
          ],
          "histogram2d": [
           {
            "colorbar": {
             "outlinewidth": 0,
             "ticks": ""
            },
            "colorscale": [
             [
              0,
              "#0d0887"
             ],
             [
              0.1111111111111111,
              "#46039f"
             ],
             [
              0.2222222222222222,
              "#7201a8"
             ],
             [
              0.3333333333333333,
              "#9c179e"
             ],
             [
              0.4444444444444444,
              "#bd3786"
             ],
             [
              0.5555555555555556,
              "#d8576b"
             ],
             [
              0.6666666666666666,
              "#ed7953"
             ],
             [
              0.7777777777777778,
              "#fb9f3a"
             ],
             [
              0.8888888888888888,
              "#fdca26"
             ],
             [
              1,
              "#f0f921"
             ]
            ],
            "type": "histogram2d"
           }
          ],
          "histogram2dcontour": [
           {
            "colorbar": {
             "outlinewidth": 0,
             "ticks": ""
            },
            "colorscale": [
             [
              0,
              "#0d0887"
             ],
             [
              0.1111111111111111,
              "#46039f"
             ],
             [
              0.2222222222222222,
              "#7201a8"
             ],
             [
              0.3333333333333333,
              "#9c179e"
             ],
             [
              0.4444444444444444,
              "#bd3786"
             ],
             [
              0.5555555555555556,
              "#d8576b"
             ],
             [
              0.6666666666666666,
              "#ed7953"
             ],
             [
              0.7777777777777778,
              "#fb9f3a"
             ],
             [
              0.8888888888888888,
              "#fdca26"
             ],
             [
              1,
              "#f0f921"
             ]
            ],
            "type": "histogram2dcontour"
           }
          ],
          "mesh3d": [
           {
            "colorbar": {
             "outlinewidth": 0,
             "ticks": ""
            },
            "type": "mesh3d"
           }
          ],
          "parcoords": [
           {
            "line": {
             "colorbar": {
              "outlinewidth": 0,
              "ticks": ""
             }
            },
            "type": "parcoords"
           }
          ],
          "pie": [
           {
            "automargin": true,
            "type": "pie"
           }
          ],
          "scatter": [
           {
            "fillpattern": {
             "fillmode": "overlay",
             "size": 10,
             "solidity": 0.2
            },
            "type": "scatter"
           }
          ],
          "scatter3d": [
           {
            "line": {
             "colorbar": {
              "outlinewidth": 0,
              "ticks": ""
             }
            },
            "marker": {
             "colorbar": {
              "outlinewidth": 0,
              "ticks": ""
             }
            },
            "type": "scatter3d"
           }
          ],
          "scattercarpet": [
           {
            "marker": {
             "colorbar": {
              "outlinewidth": 0,
              "ticks": ""
             }
            },
            "type": "scattercarpet"
           }
          ],
          "scattergeo": [
           {
            "marker": {
             "colorbar": {
              "outlinewidth": 0,
              "ticks": ""
             }
            },
            "type": "scattergeo"
           }
          ],
          "scattergl": [
           {
            "marker": {
             "colorbar": {
              "outlinewidth": 0,
              "ticks": ""
             }
            },
            "type": "scattergl"
           }
          ],
          "scattermap": [
           {
            "marker": {
             "colorbar": {
              "outlinewidth": 0,
              "ticks": ""
             }
            },
            "type": "scattermap"
           }
          ],
          "scattermapbox": [
           {
            "marker": {
             "colorbar": {
              "outlinewidth": 0,
              "ticks": ""
             }
            },
            "type": "scattermapbox"
           }
          ],
          "scatterpolar": [
           {
            "marker": {
             "colorbar": {
              "outlinewidth": 0,
              "ticks": ""
             }
            },
            "type": "scatterpolar"
           }
          ],
          "scatterpolargl": [
           {
            "marker": {
             "colorbar": {
              "outlinewidth": 0,
              "ticks": ""
             }
            },
            "type": "scatterpolargl"
           }
          ],
          "scatterternary": [
           {
            "marker": {
             "colorbar": {
              "outlinewidth": 0,
              "ticks": ""
             }
            },
            "type": "scatterternary"
           }
          ],
          "surface": [
           {
            "colorbar": {
             "outlinewidth": 0,
             "ticks": ""
            },
            "colorscale": [
             [
              0,
              "#0d0887"
             ],
             [
              0.1111111111111111,
              "#46039f"
             ],
             [
              0.2222222222222222,
              "#7201a8"
             ],
             [
              0.3333333333333333,
              "#9c179e"
             ],
             [
              0.4444444444444444,
              "#bd3786"
             ],
             [
              0.5555555555555556,
              "#d8576b"
             ],
             [
              0.6666666666666666,
              "#ed7953"
             ],
             [
              0.7777777777777778,
              "#fb9f3a"
             ],
             [
              0.8888888888888888,
              "#fdca26"
             ],
             [
              1,
              "#f0f921"
             ]
            ],
            "type": "surface"
           }
          ],
          "table": [
           {
            "cells": {
             "fill": {
              "color": "#EBF0F8"
             },
             "line": {
              "color": "white"
             }
            },
            "header": {
             "fill": {
              "color": "#C8D4E3"
             },
             "line": {
              "color": "white"
             }
            },
            "type": "table"
           }
          ]
         },
         "layout": {
          "annotationdefaults": {
           "arrowcolor": "#2a3f5f",
           "arrowhead": 0,
           "arrowwidth": 1
          },
          "autotypenumbers": "strict",
          "coloraxis": {
           "colorbar": {
            "outlinewidth": 0,
            "ticks": ""
           }
          },
          "colorscale": {
           "diverging": [
            [
             0,
             "#8e0152"
            ],
            [
             0.1,
             "#c51b7d"
            ],
            [
             0.2,
             "#de77ae"
            ],
            [
             0.3,
             "#f1b6da"
            ],
            [
             0.4,
             "#fde0ef"
            ],
            [
             0.5,
             "#f7f7f7"
            ],
            [
             0.6,
             "#e6f5d0"
            ],
            [
             0.7,
             "#b8e186"
            ],
            [
             0.8,
             "#7fbc41"
            ],
            [
             0.9,
             "#4d9221"
            ],
            [
             1,
             "#276419"
            ]
           ],
           "sequential": [
            [
             0,
             "#0d0887"
            ],
            [
             0.1111111111111111,
             "#46039f"
            ],
            [
             0.2222222222222222,
             "#7201a8"
            ],
            [
             0.3333333333333333,
             "#9c179e"
            ],
            [
             0.4444444444444444,
             "#bd3786"
            ],
            [
             0.5555555555555556,
             "#d8576b"
            ],
            [
             0.6666666666666666,
             "#ed7953"
            ],
            [
             0.7777777777777778,
             "#fb9f3a"
            ],
            [
             0.8888888888888888,
             "#fdca26"
            ],
            [
             1,
             "#f0f921"
            ]
           ],
           "sequentialminus": [
            [
             0,
             "#0d0887"
            ],
            [
             0.1111111111111111,
             "#46039f"
            ],
            [
             0.2222222222222222,
             "#7201a8"
            ],
            [
             0.3333333333333333,
             "#9c179e"
            ],
            [
             0.4444444444444444,
             "#bd3786"
            ],
            [
             0.5555555555555556,
             "#d8576b"
            ],
            [
             0.6666666666666666,
             "#ed7953"
            ],
            [
             0.7777777777777778,
             "#fb9f3a"
            ],
            [
             0.8888888888888888,
             "#fdca26"
            ],
            [
             1,
             "#f0f921"
            ]
           ]
          },
          "colorway": [
           "#636efa",
           "#EF553B",
           "#00cc96",
           "#ab63fa",
           "#FFA15A",
           "#19d3f3",
           "#FF6692",
           "#B6E880",
           "#FF97FF",
           "#FECB52"
          ],
          "font": {
           "color": "#2a3f5f"
          },
          "geo": {
           "bgcolor": "white",
           "lakecolor": "white",
           "landcolor": "white",
           "showlakes": true,
           "showland": true,
           "subunitcolor": "#C8D4E3"
          },
          "hoverlabel": {
           "align": "left"
          },
          "hovermode": "closest",
          "mapbox": {
           "style": "light"
          },
          "paper_bgcolor": "white",
          "plot_bgcolor": "white",
          "polar": {
           "angularaxis": {
            "gridcolor": "#EBF0F8",
            "linecolor": "#EBF0F8",
            "ticks": ""
           },
           "bgcolor": "white",
           "radialaxis": {
            "gridcolor": "#EBF0F8",
            "linecolor": "#EBF0F8",
            "ticks": ""
           }
          },
          "scene": {
           "xaxis": {
            "backgroundcolor": "white",
            "gridcolor": "#DFE8F3",
            "gridwidth": 2,
            "linecolor": "#EBF0F8",
            "showbackground": true,
            "ticks": "",
            "zerolinecolor": "#EBF0F8"
           },
           "yaxis": {
            "backgroundcolor": "white",
            "gridcolor": "#DFE8F3",
            "gridwidth": 2,
            "linecolor": "#EBF0F8",
            "showbackground": true,
            "ticks": "",
            "zerolinecolor": "#EBF0F8"
           },
           "zaxis": {
            "backgroundcolor": "white",
            "gridcolor": "#DFE8F3",
            "gridwidth": 2,
            "linecolor": "#EBF0F8",
            "showbackground": true,
            "ticks": "",
            "zerolinecolor": "#EBF0F8"
           }
          },
          "shapedefaults": {
           "line": {
            "color": "#2a3f5f"
           }
          },
          "ternary": {
           "aaxis": {
            "gridcolor": "#DFE8F3",
            "linecolor": "#A2B1C6",
            "ticks": ""
           },
           "baxis": {
            "gridcolor": "#DFE8F3",
            "linecolor": "#A2B1C6",
            "ticks": ""
           },
           "bgcolor": "white",
           "caxis": {
            "gridcolor": "#DFE8F3",
            "linecolor": "#A2B1C6",
            "ticks": ""
           }
          },
          "title": {
           "x": 0.05
          },
          "xaxis": {
           "automargin": true,
           "gridcolor": "#EBF0F8",
           "linecolor": "#EBF0F8",
           "ticks": "",
           "title": {
            "standoff": 15
           },
           "zerolinecolor": "#EBF0F8",
           "zerolinewidth": 2
          },
          "yaxis": {
           "automargin": true,
           "gridcolor": "#EBF0F8",
           "linecolor": "#EBF0F8",
           "ticks": "",
           "title": {
            "standoff": 15
           },
           "zerolinecolor": "#EBF0F8",
           "zerolinewidth": 2
          }
         }
        },
        "title": {
         "text": "Percent male and female applications",
         "x": 0.5
        },
        "width": 800,
        "xaxis": {
         "anchor": "y",
         "domain": [
          0,
          0.49
         ],
         "title": {
          "text": ""
         }
        },
        "xaxis2": {
         "anchor": "y2",
         "domain": [
          0.51,
          1
         ],
         "matches": "x",
         "title": {
          "text": ""
         }
        },
        "xaxis3": {
         "anchor": "y3",
         "domain": [
          0,
          0.49
         ],
         "matches": "x",
         "showticklabels": false,
         "title": {
          "text": ""
         }
        },
        "xaxis4": {
         "anchor": "y4",
         "domain": [
          0.51,
          1
         ],
         "matches": "x",
         "showticklabels": false,
         "title": {
          "text": ""
         }
        },
        "xaxis5": {
         "anchor": "y5",
         "domain": [
          0,
          0.49
         ],
         "matches": "x",
         "showticklabels": false,
         "title": {
          "text": ""
         }
        },
        "xaxis6": {
         "anchor": "y6",
         "domain": [
          0.51,
          1
         ],
         "matches": "x",
         "showticklabels": false,
         "title": {
          "text": ""
         }
        },
        "yaxis": {
         "anchor": "x",
         "domain": [
          0,
          0.2866666666666666
         ],
         "title": {
          "text": "Gender"
         }
        },
        "yaxis2": {
         "anchor": "x2",
         "domain": [
          0,
          0.2866666666666666
         ],
         "matches": "y",
         "showticklabels": false
        },
        "yaxis3": {
         "anchor": "x3",
         "domain": [
          0.35666666666666663,
          0.6433333333333333
         ],
         "matches": "y",
         "title": {
          "text": "gender"
         }
        },
        "yaxis4": {
         "anchor": "x4",
         "domain": [
          0.35666666666666663,
          0.6433333333333333
         ],
         "matches": "y",
         "showticklabels": false
        },
        "yaxis5": {
         "anchor": "x5",
         "domain": [
          0.7133333333333333,
          0.9999999999999999
         ],
         "matches": "y",
         "title": {
          "text": "gender"
         }
        },
        "yaxis6": {
         "anchor": "x6",
         "domain": [
          0.7133333333333333,
          0.9999999999999999
         ],
         "matches": "y",
         "showticklabels": false
        }
       }
      },
      "image/png": "[encoded data removed]"
     },
     "metadata": {},
     "output_type": "display_data"
    }
   ],
   "source": [
    "fig = px.histogram(DF_melt,\n",
    "                   y='gender',\n",
    "                   x='Number',\n",
    "                   barnorm = \"percent\",\n",
    "                   color='admitted',\n",
    "                   facet_col='Department',\n",
    "                   facet_col_wrap=2,\n",
    "                   color_discrete_map = {'No':'#99d8c9','Yes':'#2ca25f'})\n",
    "\n",
    "fig.for_each_annotation(lambda a: a.update(text=a.text.split(\"=\")[1]))\n",
    "fig.update_xaxes(title_text='')\n",
    "\n",
    "fig.update_layout(title='Percent male and female applications',\n",
    "                  title_x=0.5,\n",
    "                  template=\"plotly_white\",\n",
    "                  xaxis_title=\"\",\n",
    "                  yaxis_title=\"Gender\",\n",
    "                  legend_title='Admitted',\n",
    "                  autosize=False,\n",
    "                  width=800,\n",
    "                  height=500)\n",
    "\n",
    "fig.show()"
   ]
  },
  {
   "cell_type": "markdown",
   "id": "a40fab13-19ce-4835-8a0c-145796c99d93",
   "metadata": {},
   "source": [
    "------------------------\n",
    "------------------------\n",
    "\n",
    "## Homework - Exercises\n",
    "\n",
    "** Homework content and data from Data Science in a Box - he-05-legos.Rmd\n",
    "\n",
    "This week we'll do some data gymnastics to refresh and review what we learned over the past few weeks using (**simulated**) data from Lego sales in 2018 for a sample of customers who bought Legos in the US. This is different than the data we used on the Exam!\n",
    "\n",
    "\n",
    "### Data"
   ]
  },
  {
   "cell_type": "code",
   "execution_count": 115,
   "id": "c5775204-ebb3-4e1c-a300-d4985aec01d5",
   "metadata": {},
   "outputs": [
    {
     "data": {
      "text/html": [
       "<div>\n",
       "<style scoped>\n",
       "    .dataframe tbody tr th:only-of-type {\n",
       "        vertical-align: middle;\n",
       "    }\n",
       "\n",
       "    .dataframe tbody tr th {\n",
       "        vertical-align: top;\n",
       "    }\n",
       "\n",
       "    .dataframe thead th {\n",
       "        text-align: right;\n",
       "    }\n",
       "</style>\n",
       "<table border=\"1\" class=\"dataframe\">\n",
       "  <thead>\n",
       "    <tr style=\"text-align: right;\">\n",
       "      <th></th>\n",
       "      <th>first_name</th>\n",
       "      <th>last_name</th>\n",
       "      <th>age</th>\n",
       "      <th>phone_number</th>\n",
       "      <th>set_id</th>\n",
       "      <th>number</th>\n",
       "      <th>theme</th>\n",
       "      <th>subtheme</th>\n",
       "      <th>year</th>\n",
       "      <th>name</th>\n",
       "      <th>pieces</th>\n",
       "      <th>us_price</th>\n",
       "      <th>image_url</th>\n",
       "      <th>quantity</th>\n",
       "    </tr>\n",
       "  </thead>\n",
       "  <tbody>\n",
       "    <tr>\n",
       "      <th>0</th>\n",
       "      <td>Kimberly</td>\n",
       "      <td>Beckstead</td>\n",
       "      <td>24</td>\n",
       "      <td>216-555-2549</td>\n",
       "      <td>24701</td>\n",
       "      <td>76062</td>\n",
       "      <td>DC Comics Super Heroes</td>\n",
       "      <td>Mighty Micros</td>\n",
       "      <td>2018</td>\n",
       "      <td>Robin vs. Bane</td>\n",
       "      <td>77.0</td>\n",
       "      <td>9.99</td>\n",
       "      <td>http://images.brickset.com/sets/images/76062-1...</td>\n",
       "      <td>1</td>\n",
       "    </tr>\n",
       "    <tr>\n",
       "      <th>1</th>\n",
       "      <td>Neel</td>\n",
       "      <td>Garvin</td>\n",
       "      <td>35</td>\n",
       "      <td>819-555-3189</td>\n",
       "      <td>25626</td>\n",
       "      <td>70595</td>\n",
       "      <td>Ninjago</td>\n",
       "      <td>Rise of the Villains</td>\n",
       "      <td>2018</td>\n",
       "      <td>Ultra Stealth Raider</td>\n",
       "      <td>1093.0</td>\n",
       "      <td>119.99</td>\n",
       "      <td>http://images.brickset.com/sets/images/70595-1...</td>\n",
       "      <td>1</td>\n",
       "    </tr>\n",
       "    <tr>\n",
       "      <th>2</th>\n",
       "      <td>Neel</td>\n",
       "      <td>Garvin</td>\n",
       "      <td>35</td>\n",
       "      <td>819-555-3189</td>\n",
       "      <td>24665</td>\n",
       "      <td>21031</td>\n",
       "      <td>Architecture</td>\n",
       "      <td>NaN</td>\n",
       "      <td>2018</td>\n",
       "      <td>Burj Khalifa</td>\n",
       "      <td>333.0</td>\n",
       "      <td>39.99</td>\n",
       "      <td>http://images.brickset.com/sets/images/21031-1...</td>\n",
       "      <td>1</td>\n",
       "    </tr>\n",
       "    <tr>\n",
       "      <th>3</th>\n",
       "      <td>Chelsea</td>\n",
       "      <td>Bouchard</td>\n",
       "      <td>41</td>\n",
       "      <td>NaN</td>\n",
       "      <td>24695</td>\n",
       "      <td>31048</td>\n",
       "      <td>Creator</td>\n",
       "      <td>NaN</td>\n",
       "      <td>2018</td>\n",
       "      <td>Lakeside Lodge</td>\n",
       "      <td>368.0</td>\n",
       "      <td>29.99</td>\n",
       "      <td>http://images.brickset.com/sets/images/31048-1...</td>\n",
       "      <td>1</td>\n",
       "    </tr>\n",
       "    <tr>\n",
       "      <th>4</th>\n",
       "      <td>Chelsea</td>\n",
       "      <td>Bouchard</td>\n",
       "      <td>41</td>\n",
       "      <td>NaN</td>\n",
       "      <td>25626</td>\n",
       "      <td>70595</td>\n",
       "      <td>Ninjago</td>\n",
       "      <td>Rise of the Villains</td>\n",
       "      <td>2018</td>\n",
       "      <td>Ultra Stealth Raider</td>\n",
       "      <td>1093.0</td>\n",
       "      <td>119.99</td>\n",
       "      <td>http://images.brickset.com/sets/images/70595-1...</td>\n",
       "      <td>1</td>\n",
       "    </tr>\n",
       "    <tr>\n",
       "      <th>...</th>\n",
       "      <td>...</td>\n",
       "      <td>...</td>\n",
       "      <td>...</td>\n",
       "      <td>...</td>\n",
       "      <td>...</td>\n",
       "      <td>...</td>\n",
       "      <td>...</td>\n",
       "      <td>...</td>\n",
       "      <td>...</td>\n",
       "      <td>...</td>\n",
       "      <td>...</td>\n",
       "      <td>...</td>\n",
       "      <td>...</td>\n",
       "      <td>...</td>\n",
       "    </tr>\n",
       "    <tr>\n",
       "      <th>615</th>\n",
       "      <td>Talise</td>\n",
       "      <td>Nieukirk</td>\n",
       "      <td>16</td>\n",
       "      <td>801-555-2343</td>\n",
       "      <td>24902</td>\n",
       "      <td>41556</td>\n",
       "      <td>Mixels</td>\n",
       "      <td>Series 7</td>\n",
       "      <td>2018</td>\n",
       "      <td>Tiketz</td>\n",
       "      <td>62.0</td>\n",
       "      <td>4.99</td>\n",
       "      <td>http://images.brickset.com/sets/images/41556-1...</td>\n",
       "      <td>2</td>\n",
       "    </tr>\n",
       "    <tr>\n",
       "      <th>616</th>\n",
       "      <td>Spencer</td>\n",
       "      <td>Morgan</td>\n",
       "      <td>28</td>\n",
       "      <td>784-555-3455</td>\n",
       "      <td>26041</td>\n",
       "      <td>41580</td>\n",
       "      <td>Mixels</td>\n",
       "      <td>Series 9</td>\n",
       "      <td>2018</td>\n",
       "      <td>Myke</td>\n",
       "      <td>63.0</td>\n",
       "      <td>4.99</td>\n",
       "      <td>NaN</td>\n",
       "      <td>2</td>\n",
       "    </tr>\n",
       "    <tr>\n",
       "      <th>617</th>\n",
       "      <td>Spencer</td>\n",
       "      <td>Morgan</td>\n",
       "      <td>28</td>\n",
       "      <td>784-555-3455</td>\n",
       "      <td>26060</td>\n",
       "      <td>5005051</td>\n",
       "      <td>Gear</td>\n",
       "      <td>Digital Media</td>\n",
       "      <td>2018</td>\n",
       "      <td>Friends of Heartlake City Girlz 4 Life</td>\n",
       "      <td>NaN</td>\n",
       "      <td>19.99</td>\n",
       "      <td>NaN</td>\n",
       "      <td>1</td>\n",
       "    </tr>\n",
       "    <tr>\n",
       "      <th>618</th>\n",
       "      <td>Amelia</td>\n",
       "      <td>Hageman</td>\n",
       "      <td>40</td>\n",
       "      <td>336-555-1950</td>\n",
       "      <td>24702</td>\n",
       "      <td>76063</td>\n",
       "      <td>DC Comics Super Heroes</td>\n",
       "      <td>Mighty Micros</td>\n",
       "      <td>2018</td>\n",
       "      <td>The Flash vs. Captain Cold</td>\n",
       "      <td>88.0</td>\n",
       "      <td>9.99</td>\n",
       "      <td>http://images.brickset.com/sets/images/76063-1...</td>\n",
       "      <td>2</td>\n",
       "    </tr>\n",
       "    <tr>\n",
       "      <th>619</th>\n",
       "      <td>Amelia</td>\n",
       "      <td>Hageman</td>\n",
       "      <td>40</td>\n",
       "      <td>336-555-1950</td>\n",
       "      <td>24720</td>\n",
       "      <td>10830</td>\n",
       "      <td>Duplo</td>\n",
       "      <td>NaN</td>\n",
       "      <td>2018</td>\n",
       "      <td>Minnie's Café</td>\n",
       "      <td>27.0</td>\n",
       "      <td>19.99</td>\n",
       "      <td>http://images.brickset.com/sets/images/10830-1...</td>\n",
       "      <td>4</td>\n",
       "    </tr>\n",
       "  </tbody>\n",
       "</table>\n",
       "<p>620 rows × 14 columns</p>\n",
       "</div>"
      ],
      "text/plain": [
       "    first_name  last_name  age  phone_number  set_id   number  \\\n",
       "0     Kimberly  Beckstead   24  216-555-2549   24701    76062   \n",
       "1         Neel     Garvin   35  819-555-3189   25626    70595   \n",
       "2         Neel     Garvin   35  819-555-3189   24665    21031   \n",
       "3      Chelsea   Bouchard   41           NaN   24695    31048   \n",
       "4      Chelsea   Bouchard   41           NaN   25626    70595   \n",
       "..         ...        ...  ...           ...     ...      ...   \n",
       "615     Talise   Nieukirk   16  801-555-2343   24902    41556   \n",
       "616    Spencer     Morgan   28  784-555-3455   26041    41580   \n",
       "617    Spencer     Morgan   28  784-555-3455   26060  5005051   \n",
       "618     Amelia    Hageman   40  336-555-1950   24702    76063   \n",
       "619     Amelia    Hageman   40  336-555-1950   24720    10830   \n",
       "\n",
       "                      theme              subtheme  year  \\\n",
       "0    DC Comics Super Heroes         Mighty Micros  2018   \n",
       "1                   Ninjago  Rise of the Villains  2018   \n",
       "2              Architecture                   NaN  2018   \n",
       "3                   Creator                   NaN  2018   \n",
       "4                   Ninjago  Rise of the Villains  2018   \n",
       "..                      ...                   ...   ...   \n",
       "615                  Mixels              Series 7  2018   \n",
       "616                  Mixels              Series 9  2018   \n",
       "617                    Gear         Digital Media  2018   \n",
       "618  DC Comics Super Heroes         Mighty Micros  2018   \n",
       "619                   Duplo                   NaN  2018   \n",
       "\n",
       "                                       name  pieces  us_price  \\\n",
       "0                            Robin vs. Bane    77.0      9.99   \n",
       "1                      Ultra Stealth Raider  1093.0    119.99   \n",
       "2                              Burj Khalifa   333.0     39.99   \n",
       "3                            Lakeside Lodge   368.0     29.99   \n",
       "4                      Ultra Stealth Raider  1093.0    119.99   \n",
       "..                                      ...     ...       ...   \n",
       "615                                  Tiketz    62.0      4.99   \n",
       "616                                    Myke    63.0      4.99   \n",
       "617  Friends of Heartlake City Girlz 4 Life     NaN     19.99   \n",
       "618              The Flash vs. Captain Cold    88.0      9.99   \n",
       "619                           Minnie's Café    27.0     19.99   \n",
       "\n",
       "                                             image_url  quantity  \n",
       "0    http://images.brickset.com/sets/images/76062-1...         1  \n",
       "1    http://images.brickset.com/sets/images/70595-1...         1  \n",
       "2    http://images.brickset.com/sets/images/21031-1...         1  \n",
       "3    http://images.brickset.com/sets/images/31048-1...         1  \n",
       "4    http://images.brickset.com/sets/images/70595-1...         1  \n",
       "..                                                 ...       ...  \n",
       "615  http://images.brickset.com/sets/images/41556-1...         2  \n",
       "616                                                NaN         2  \n",
       "617                                                NaN         1  \n",
       "618  http://images.brickset.com/sets/images/76063-1...         2  \n",
       "619  http://images.brickset.com/sets/images/10830-1...         4  \n",
       "\n",
       "[620 rows x 14 columns]"
      ]
     },
     "execution_count": 115,
     "metadata": {},
     "output_type": "execute_result"
    }
   ],
   "source": [
    "file_name = 'data/lego-sales.csv'\n",
    "DF = pd.read_csv(file_name)\n",
    "DF"
   ]
  },
  {
   "cell_type": "markdown",
   "id": "b2474002-893e-4c33-8229-d9fb8a3f4b29",
   "metadata": {},
   "source": [
    "### Exercises\n",
    "\n",
    "* Answer the following questions using reproducible Python code.\n",
    "* For each question, state your answer in a sentence, e.g. \"In this sample, the first three common names of purchasers are ...\".\n",
    "* Note that the answers to all questions are within the context of this particular sample of sales, i.e. you shouldn't make inferences about the population of all Lego sales based on this sample.\n",
    "\n",
    "-------------\n",
    "\n",
    "1.  Describe what you see in the data set (variables, observations, etc)\n",
    "\n",
    "2.  What are the three most common first names of purchasers?\n",
    "\n",
    "3.  What are the three most common themes of Lego sets purchased?\n",
    "\n",
    "4.  Among the most common theme of Lego sets purchased, what is the most common subtheme?\n",
    "\n",
    "5.  Create data frames for each of the ages in the following categories: \"18 and under\", \"19 - 25\", \"26 - 35\", \"36 - 50\", \"51 and over\". HINT - use masks and create separate data frames -OR- create a new column with these categorical labels (more advanced).\n",
    "\n",
    "6.  Which age group has purchased the highest number of Lego sets.\n",
    "\n",
    "7.  Which age group has spent the most money on Legos?\n",
    "\n",
    "8.  Which Lego theme has made the most money for Lego? HINT: Simpler than #5, just use a groupby()\n",
    "\n",
    "9.  Which area code has spent the most money on Legos? In the US the area code is the first 3 digits of a phone number. HINT: You will need to split the phone number and get just the first three. You decided what to do about reporting the NaNs.\n",
    "\n",
    "10.  Come up with a question you want to answer using these data, and write it down. Then, create a data visualization that answers the question, and explain how your visualization answers the question."
   ]
  },
  {
   "cell_type": "code",
   "execution_count": 116,
   "id": "776800ff-22b6-48c3-8789-fd8a0a4f948d",
   "metadata": {},
   "outputs": [
    {
     "data": {
      "text/plain": [
       "(620, 14)"
      ]
     },
     "execution_count": 116,
     "metadata": {},
     "output_type": "execute_result"
    }
   ],
   "source": [
    "DF.shape\n",
    "#We see that there is 620 observations and 14 variables in the DataFrame"
   ]
  },
  {
   "cell_type": "code",
   "execution_count": 117,
   "id": "33fc59b4-1b37-4e43-9179-b367132bd956",
   "metadata": {},
   "outputs": [
    {
     "data": {
      "text/plain": [
       "first_name\n",
       "Jackson       13\n",
       "Joseph        11\n",
       "Jacob         11\n",
       "Michael       10\n",
       "Kaitlyn        8\n",
       "              ..\n",
       "Gunnar         1\n",
       "David          1\n",
       "Lawrence       1\n",
       "John'Dunae     1\n",
       "Kimberly       1\n",
       "Name: count, Length: 211, dtype: int64"
      ]
     },
     "execution_count": 117,
     "metadata": {},
     "output_type": "execute_result"
    }
   ],
   "source": [
    "DF['first_name'].value_counts()\n",
    "#Jackson is the most common name"
   ]
  },
  {
   "cell_type": "code",
   "execution_count": 118,
   "id": "0dc4b81e-5b2d-47bf-9d81-8151932a7c2b",
   "metadata": {},
   "outputs": [
    {
     "data": {
      "text/plain": [
       "theme\n",
       "Star Wars                  75\n",
       "Nexo Knights               64\n",
       "Gear                       55\n",
       "Mixels                     55\n",
       "City                       45\n",
       "Friends                    42\n",
       "Ninjago                    38\n",
       "Duplo                      35\n",
       "Bionicle                   34\n",
       "Creator                    25\n",
       "DC Comics Super Heroes     22\n",
       "Elves                      22\n",
       "Marvel Super Heroes        19\n",
       "Dimensions                 18\n",
       "Disney Princess            15\n",
       "The Angry Birds Movie      11\n",
       "Technic                    10\n",
       "Architecture               10\n",
       "Minecraft                   9\n",
       "Advanced Models             4\n",
       "Ghostbusters                3\n",
       "Seasonal                    3\n",
       "Collectable Minifigures     3\n",
       "Ideas                       2\n",
       "Classic                     1\n",
       "Name: count, dtype: int64"
      ]
     },
     "execution_count": 118,
     "metadata": {},
     "output_type": "execute_result"
    }
   ],
   "source": [
    "DF['theme'].value_counts()\n",
    "#Star Wars has the most amount themed lego products"
   ]
  },
  {
   "cell_type": "code",
   "execution_count": 119,
   "id": "7d9081ba-e02a-437e-9a6b-d8b28fdcff8f",
   "metadata": {},
   "outputs": [
    {
     "data": {
      "text/plain": [
       "subtheme\n",
       "The Force Awakens            15\n",
       "Buildable Figures            11\n",
       "Episode V                    10\n",
       "MicroFighters                10\n",
       "Battlefront                   7\n",
       "Original Content              7\n",
       "Episode III                   6\n",
       "Rebels                        3\n",
       "Seasonal                      3\n",
       "Episode IV                    2\n",
       "Ultimate Collector Series     1\n",
       "Name: count, dtype: int64"
      ]
     },
     "execution_count": 119,
     "metadata": {},
     "output_type": "execute_result"
    }
   ],
   "source": [
    "\n",
    "theme = DF['theme'].value_counts().idxmax()\n",
    "\n",
    "DF_theme = DF[DF['theme'] == theme]\n",
    "\n",
    "DF_theme['subtheme'].value_counts()"
   ]
  },
  {
   "cell_type": "code",
   "execution_count": 120,
   "id": "74f44f2a-0cbe-4e7d-9bb9-98221de68d72",
   "metadata": {},
   "outputs": [
    {
     "data": {
      "text/html": [
       "<div>\n",
       "<style scoped>\n",
       "    .dataframe tbody tr th:only-of-type {\n",
       "        vertical-align: middle;\n",
       "    }\n",
       "\n",
       "    .dataframe tbody tr th {\n",
       "        vertical-align: top;\n",
       "    }\n",
       "\n",
       "    .dataframe thead th {\n",
       "        text-align: right;\n",
       "    }\n",
       "</style>\n",
       "<table border=\"1\" class=\"dataframe\">\n",
       "  <thead>\n",
       "    <tr style=\"text-align: right;\">\n",
       "      <th></th>\n",
       "      <th>first_name</th>\n",
       "      <th>last_name</th>\n",
       "      <th>age</th>\n",
       "      <th>phone_number</th>\n",
       "      <th>set_id</th>\n",
       "      <th>number</th>\n",
       "      <th>theme</th>\n",
       "      <th>subtheme</th>\n",
       "      <th>year</th>\n",
       "      <th>name</th>\n",
       "      <th>pieces</th>\n",
       "      <th>us_price</th>\n",
       "      <th>image_url</th>\n",
       "      <th>quantity</th>\n",
       "      <th>age_groups</th>\n",
       "    </tr>\n",
       "  </thead>\n",
       "  <tbody>\n",
       "    <tr>\n",
       "      <th>0</th>\n",
       "      <td>Kimberly</td>\n",
       "      <td>Beckstead</td>\n",
       "      <td>24</td>\n",
       "      <td>216-555-2549</td>\n",
       "      <td>24701</td>\n",
       "      <td>76062</td>\n",
       "      <td>DC Comics Super Heroes</td>\n",
       "      <td>Mighty Micros</td>\n",
       "      <td>2018</td>\n",
       "      <td>Robin vs. Bane</td>\n",
       "      <td>77.0</td>\n",
       "      <td>9.99</td>\n",
       "      <td>http://images.brickset.com/sets/images/76062-1...</td>\n",
       "      <td>1</td>\n",
       "      <td>19-25</td>\n",
       "    </tr>\n",
       "    <tr>\n",
       "      <th>1</th>\n",
       "      <td>Neel</td>\n",
       "      <td>Garvin</td>\n",
       "      <td>35</td>\n",
       "      <td>819-555-3189</td>\n",
       "      <td>25626</td>\n",
       "      <td>70595</td>\n",
       "      <td>Ninjago</td>\n",
       "      <td>Rise of the Villains</td>\n",
       "      <td>2018</td>\n",
       "      <td>Ultra Stealth Raider</td>\n",
       "      <td>1093.0</td>\n",
       "      <td>119.99</td>\n",
       "      <td>http://images.brickset.com/sets/images/70595-1...</td>\n",
       "      <td>1</td>\n",
       "      <td>26-35</td>\n",
       "    </tr>\n",
       "    <tr>\n",
       "      <th>2</th>\n",
       "      <td>Neel</td>\n",
       "      <td>Garvin</td>\n",
       "      <td>35</td>\n",
       "      <td>819-555-3189</td>\n",
       "      <td>24665</td>\n",
       "      <td>21031</td>\n",
       "      <td>Architecture</td>\n",
       "      <td>NaN</td>\n",
       "      <td>2018</td>\n",
       "      <td>Burj Khalifa</td>\n",
       "      <td>333.0</td>\n",
       "      <td>39.99</td>\n",
       "      <td>http://images.brickset.com/sets/images/21031-1...</td>\n",
       "      <td>1</td>\n",
       "      <td>26-35</td>\n",
       "    </tr>\n",
       "    <tr>\n",
       "      <th>3</th>\n",
       "      <td>Chelsea</td>\n",
       "      <td>Bouchard</td>\n",
       "      <td>41</td>\n",
       "      <td>NaN</td>\n",
       "      <td>24695</td>\n",
       "      <td>31048</td>\n",
       "      <td>Creator</td>\n",
       "      <td>NaN</td>\n",
       "      <td>2018</td>\n",
       "      <td>Lakeside Lodge</td>\n",
       "      <td>368.0</td>\n",
       "      <td>29.99</td>\n",
       "      <td>http://images.brickset.com/sets/images/31048-1...</td>\n",
       "      <td>1</td>\n",
       "      <td>36-50</td>\n",
       "    </tr>\n",
       "    <tr>\n",
       "      <th>4</th>\n",
       "      <td>Chelsea</td>\n",
       "      <td>Bouchard</td>\n",
       "      <td>41</td>\n",
       "      <td>NaN</td>\n",
       "      <td>25626</td>\n",
       "      <td>70595</td>\n",
       "      <td>Ninjago</td>\n",
       "      <td>Rise of the Villains</td>\n",
       "      <td>2018</td>\n",
       "      <td>Ultra Stealth Raider</td>\n",
       "      <td>1093.0</td>\n",
       "      <td>119.99</td>\n",
       "      <td>http://images.brickset.com/sets/images/70595-1...</td>\n",
       "      <td>1</td>\n",
       "      <td>36-50</td>\n",
       "    </tr>\n",
       "    <tr>\n",
       "      <th>...</th>\n",
       "      <td>...</td>\n",
       "      <td>...</td>\n",
       "      <td>...</td>\n",
       "      <td>...</td>\n",
       "      <td>...</td>\n",
       "      <td>...</td>\n",
       "      <td>...</td>\n",
       "      <td>...</td>\n",
       "      <td>...</td>\n",
       "      <td>...</td>\n",
       "      <td>...</td>\n",
       "      <td>...</td>\n",
       "      <td>...</td>\n",
       "      <td>...</td>\n",
       "      <td>...</td>\n",
       "    </tr>\n",
       "    <tr>\n",
       "      <th>615</th>\n",
       "      <td>Talise</td>\n",
       "      <td>Nieukirk</td>\n",
       "      <td>16</td>\n",
       "      <td>801-555-2343</td>\n",
       "      <td>24902</td>\n",
       "      <td>41556</td>\n",
       "      <td>Mixels</td>\n",
       "      <td>Series 7</td>\n",
       "      <td>2018</td>\n",
       "      <td>Tiketz</td>\n",
       "      <td>62.0</td>\n",
       "      <td>4.99</td>\n",
       "      <td>http://images.brickset.com/sets/images/41556-1...</td>\n",
       "      <td>2</td>\n",
       "      <td>Under 18</td>\n",
       "    </tr>\n",
       "    <tr>\n",
       "      <th>616</th>\n",
       "      <td>Spencer</td>\n",
       "      <td>Morgan</td>\n",
       "      <td>28</td>\n",
       "      <td>784-555-3455</td>\n",
       "      <td>26041</td>\n",
       "      <td>41580</td>\n",
       "      <td>Mixels</td>\n",
       "      <td>Series 9</td>\n",
       "      <td>2018</td>\n",
       "      <td>Myke</td>\n",
       "      <td>63.0</td>\n",
       "      <td>4.99</td>\n",
       "      <td>NaN</td>\n",
       "      <td>2</td>\n",
       "      <td>26-35</td>\n",
       "    </tr>\n",
       "    <tr>\n",
       "      <th>617</th>\n",
       "      <td>Spencer</td>\n",
       "      <td>Morgan</td>\n",
       "      <td>28</td>\n",
       "      <td>784-555-3455</td>\n",
       "      <td>26060</td>\n",
       "      <td>5005051</td>\n",
       "      <td>Gear</td>\n",
       "      <td>Digital Media</td>\n",
       "      <td>2018</td>\n",
       "      <td>Friends of Heartlake City Girlz 4 Life</td>\n",
       "      <td>NaN</td>\n",
       "      <td>19.99</td>\n",
       "      <td>NaN</td>\n",
       "      <td>1</td>\n",
       "      <td>26-35</td>\n",
       "    </tr>\n",
       "    <tr>\n",
       "      <th>618</th>\n",
       "      <td>Amelia</td>\n",
       "      <td>Hageman</td>\n",
       "      <td>40</td>\n",
       "      <td>336-555-1950</td>\n",
       "      <td>24702</td>\n",
       "      <td>76063</td>\n",
       "      <td>DC Comics Super Heroes</td>\n",
       "      <td>Mighty Micros</td>\n",
       "      <td>2018</td>\n",
       "      <td>The Flash vs. Captain Cold</td>\n",
       "      <td>88.0</td>\n",
       "      <td>9.99</td>\n",
       "      <td>http://images.brickset.com/sets/images/76063-1...</td>\n",
       "      <td>2</td>\n",
       "      <td>36-50</td>\n",
       "    </tr>\n",
       "    <tr>\n",
       "      <th>619</th>\n",
       "      <td>Amelia</td>\n",
       "      <td>Hageman</td>\n",
       "      <td>40</td>\n",
       "      <td>336-555-1950</td>\n",
       "      <td>24720</td>\n",
       "      <td>10830</td>\n",
       "      <td>Duplo</td>\n",
       "      <td>NaN</td>\n",
       "      <td>2018</td>\n",
       "      <td>Minnie's Café</td>\n",
       "      <td>27.0</td>\n",
       "      <td>19.99</td>\n",
       "      <td>http://images.brickset.com/sets/images/10830-1...</td>\n",
       "      <td>4</td>\n",
       "      <td>36-50</td>\n",
       "    </tr>\n",
       "  </tbody>\n",
       "</table>\n",
       "<p>620 rows × 15 columns</p>\n",
       "</div>"
      ],
      "text/plain": [
       "    first_name  last_name  age  phone_number  set_id   number  \\\n",
       "0     Kimberly  Beckstead   24  216-555-2549   24701    76062   \n",
       "1         Neel     Garvin   35  819-555-3189   25626    70595   \n",
       "2         Neel     Garvin   35  819-555-3189   24665    21031   \n",
       "3      Chelsea   Bouchard   41           NaN   24695    31048   \n",
       "4      Chelsea   Bouchard   41           NaN   25626    70595   \n",
       "..         ...        ...  ...           ...     ...      ...   \n",
       "615     Talise   Nieukirk   16  801-555-2343   24902    41556   \n",
       "616    Spencer     Morgan   28  784-555-3455   26041    41580   \n",
       "617    Spencer     Morgan   28  784-555-3455   26060  5005051   \n",
       "618     Amelia    Hageman   40  336-555-1950   24702    76063   \n",
       "619     Amelia    Hageman   40  336-555-1950   24720    10830   \n",
       "\n",
       "                      theme              subtheme  year  \\\n",
       "0    DC Comics Super Heroes         Mighty Micros  2018   \n",
       "1                   Ninjago  Rise of the Villains  2018   \n",
       "2              Architecture                   NaN  2018   \n",
       "3                   Creator                   NaN  2018   \n",
       "4                   Ninjago  Rise of the Villains  2018   \n",
       "..                      ...                   ...   ...   \n",
       "615                  Mixels              Series 7  2018   \n",
       "616                  Mixels              Series 9  2018   \n",
       "617                    Gear         Digital Media  2018   \n",
       "618  DC Comics Super Heroes         Mighty Micros  2018   \n",
       "619                   Duplo                   NaN  2018   \n",
       "\n",
       "                                       name  pieces  us_price  \\\n",
       "0                            Robin vs. Bane    77.0      9.99   \n",
       "1                      Ultra Stealth Raider  1093.0    119.99   \n",
       "2                              Burj Khalifa   333.0     39.99   \n",
       "3                            Lakeside Lodge   368.0     29.99   \n",
       "4                      Ultra Stealth Raider  1093.0    119.99   \n",
       "..                                      ...     ...       ...   \n",
       "615                                  Tiketz    62.0      4.99   \n",
       "616                                    Myke    63.0      4.99   \n",
       "617  Friends of Heartlake City Girlz 4 Life     NaN     19.99   \n",
       "618              The Flash vs. Captain Cold    88.0      9.99   \n",
       "619                           Minnie's Café    27.0     19.99   \n",
       "\n",
       "                                             image_url  quantity age_groups  \n",
       "0    http://images.brickset.com/sets/images/76062-1...         1      19-25  \n",
       "1    http://images.brickset.com/sets/images/70595-1...         1      26-35  \n",
       "2    http://images.brickset.com/sets/images/21031-1...         1      26-35  \n",
       "3    http://images.brickset.com/sets/images/31048-1...         1      36-50  \n",
       "4    http://images.brickset.com/sets/images/70595-1...         1      36-50  \n",
       "..                                                 ...       ...        ...  \n",
       "615  http://images.brickset.com/sets/images/41556-1...         2   Under 18  \n",
       "616                                                NaN         2      26-35  \n",
       "617                                                NaN         1      26-35  \n",
       "618  http://images.brickset.com/sets/images/76063-1...         2      36-50  \n",
       "619  http://images.brickset.com/sets/images/10830-1...         4      36-50  \n",
       "\n",
       "[620 rows x 15 columns]"
      ]
     },
     "execution_count": 120,
     "metadata": {},
     "output_type": "execute_result"
    }
   ],
   "source": [
    "def groupAge(age):\n",
    "    if age <= 18:\n",
    "        return \"Under 18\"\n",
    "    elif age <= 25:\n",
    "        return \"19-25\"\n",
    "    elif age <= 35:\n",
    "        return \"26-35\"\n",
    "    elif age <= 50:\n",
    "        return \"36-50\"\n",
    "    else:\n",
    "        return \"Over 51\"\n",
    "\n",
    "DF['age_groups'] = DF['age'].apply(groupAge)\n",
    "DF"
   ]
  },
  {
   "cell_type": "code",
   "execution_count": 121,
   "id": "0ed485e7-2f59-4676-a906-091e1fb9e9de",
   "metadata": {},
   "outputs": [
    {
     "data": {
      "text/plain": [
       "age_groups\n",
       "36-50       216\n",
       "26-35       183\n",
       "19-25       129\n",
       "Over 51      62\n",
       "Under 18     30\n",
       "Name: count, dtype: int64"
      ]
     },
     "execution_count": 121,
     "metadata": {},
     "output_type": "execute_result"
    }
   ],
   "source": [
    "DF['age_groups'].value_counts()"
   ]
  },
  {
   "cell_type": "code",
   "execution_count": 122,
   "id": "b3085b48-1431-4c8f-800e-1f325ac0c151",
   "metadata": {},
   "outputs": [
    {
     "data": {
      "text/plain": [
       "age_groups\n",
       "36-50       6641.84\n",
       "26-35       5260.17\n",
       "19-25       3629.71\n",
       "Over 51     1832.38\n",
       "Under 18     641.70\n",
       "Name: us_price, dtype: float64"
      ]
     },
     "execution_count": 122,
     "metadata": {},
     "output_type": "execute_result"
    }
   ],
   "source": [
    "DF.groupby('age_groups')['us_price'].sum().sort_values(ascending=False)"
   ]
  },
  {
   "cell_type": "code",
   "execution_count": 123,
   "id": "7ee01c28-f7ee-4fb9-a827-fb1d1a8ccf34",
   "metadata": {},
   "outputs": [
    {
     "data": {
      "text/plain": [
       "theme\n",
       "Star Wars                  2842.25\n",
       "Ninjago                    1649.62\n",
       "Nexo Knights               1569.36\n",
       "City                       1476.55\n",
       "Minecraft                  1439.91\n",
       "Gear                       1056.45\n",
       "Friends                     924.58\n",
       "Duplo                       854.65\n",
       "Elves                       809.78\n",
       "Advanced Models             679.96\n",
       "Bionicle                    549.66\n",
       "Marvel Super Heroes         539.81\n",
       "Technic                     492.90\n",
       "Ghostbusters                469.97\n",
       "DC Comics Super Heroes      450.78\n",
       "Creator                     409.75\n",
       "Architecture                389.90\n",
       "The Angry Birds Movie       375.89\n",
       "Dimensions                  369.82\n",
       "Mixels                      274.45\n",
       "Disney Princess             167.85\n",
       "Ideas                       139.98\n",
       "Classic                      29.99\n",
       "Seasonal                     29.97\n",
       "Collectable Minifigures      11.97\n",
       "Name: us_price, dtype: float64"
      ]
     },
     "execution_count": 123,
     "metadata": {},
     "output_type": "execute_result"
    }
   ],
   "source": [
    "DF.groupby('theme')['us_price'].sum().sort_values(ascending=False)"
   ]
  },
  {
   "cell_type": "code",
   "execution_count": 124,
   "id": "a963af40-de14-4c64-9264-231641b6960b",
   "metadata": {},
   "outputs": [
    {
     "data": {
      "text/plain": [
       "area_code\n",
       "nan    2612.08\n",
       "973     444.94\n",
       "281     434.91\n",
       "956     359.98\n",
       "209     329.95\n",
       "        ...   \n",
       "308       9.99\n",
       "509       9.99\n",
       "325       9.98\n",
       "520       5.99\n",
       "636       4.99\n",
       "Name: us_price, Length: 157, dtype: float64"
      ]
     },
     "execution_count": 124,
     "metadata": {},
     "output_type": "execute_result"
    }
   ],
   "source": [
    "DF['area_code'] = DF['phone_number'].astype(str).str.slice(0, 3)\n",
    "area_spending = DF.groupby('area_code')['us_price'].sum().sort_values(ascending=False)\n",
    "area_spending"
   ]
  },
  {
   "cell_type": "code",
   "execution_count": 139,
   "id": "aa795744-9f42-4001-87ff-f7b140e82ee3",
   "metadata": {},
   "outputs": [
    {
     "data": {
      "application/vnd.plotly.v1+json": {
       "config": {
        "plotlyServerURL": "https://plot.ly"
       },
       "data": [
        {
         "bingroup": "x",
         "hovertemplate": "theme=DC Comics Super Heroes<br>age_groups=%{x}<br>count=%{y}<extra></extra>",
         "legendgroup": "DC Comics Super Heroes",
         "marker": {
          "color": "#636efa",
          "pattern": {
           "shape": ""
          }
         },
         "name": "DC Comics Super Heroes",
         "orientation": "v",
         "showlegend": true,
         "type": "histogram",
         "x": [
          "19-25",
          "19-25",
          "19-25",
          "19-25",
          "36-50",
          "19-25",
          "Under 18",
          "26-35",
          "19-25",
          "19-25",
          "36-50",
          "36-50",
          "26-35",
          "Over 51",
          "36-50",
          "36-50",
          "26-35",
          "36-50",
          "26-35",
          "36-50",
          "36-50",
          "36-50"
         ],
         "xaxis": "x",
         "yaxis": "y"
        },
        {
         "bingroup": "x",
         "hovertemplate": "theme=Ninjago<br>age_groups=%{x}<br>count=%{y}<extra></extra>",
         "legendgroup": "Ninjago",
         "marker": {
          "color": "#EF553B",
          "pattern": {
           "shape": ""
          }
         },
         "name": "Ninjago",
         "orientation": "v",
         "showlegend": true,
         "type": "histogram",
         "x": [
          "26-35",
          "36-50",
          "36-50",
          "36-50",
          "Over 51",
          "Over 51",
          "36-50",
          "Over 51",
          "26-35",
          "19-25",
          "26-35",
          "19-25",
          "19-25",
          "Under 18",
          "36-50",
          "26-35",
          "36-50",
          "26-35",
          "Over 51",
          "Over 51",
          "19-25",
          "36-50",
          "26-35",
          "26-35",
          "26-35",
          "Over 51",
          "19-25",
          "26-35",
          "26-35",
          "Over 51",
          "Over 51",
          "Over 51",
          "26-35",
          "36-50",
          "36-50",
          "36-50",
          "26-35",
          "19-25"
         ],
         "xaxis": "x",
         "yaxis": "y"
        },
        {
         "bingroup": "x",
         "hovertemplate": "theme=Architecture<br>age_groups=%{x}<br>count=%{y}<extra></extra>",
         "legendgroup": "Architecture",
         "marker": {
          "color": "#00cc96",
          "pattern": {
           "shape": ""
          }
         },
         "name": "Architecture",
         "orientation": "v",
         "showlegend": true,
         "type": "histogram",
         "x": [
          "26-35",
          "36-50",
          "36-50",
          "19-25",
          "19-25",
          "19-25",
          "26-35",
          "26-35",
          "Over 51",
          "19-25"
         ],
         "xaxis": "x",
         "yaxis": "y"
        },
        {
         "bingroup": "x",
         "hovertemplate": "theme=Creator<br>age_groups=%{x}<br>count=%{y}<extra></extra>",
         "legendgroup": "Creator",
         "marker": {
          "color": "#ab63fa",
          "pattern": {
           "shape": ""
          }
         },
         "name": "Creator",
         "orientation": "v",
         "showlegend": true,
         "type": "histogram",
         "x": [
          "36-50",
          "36-50",
          "Under 18",
          "19-25",
          "Under 18",
          "19-25",
          "36-50",
          "26-35",
          "26-35",
          "26-35",
          "36-50",
          "26-35",
          "36-50",
          "36-50",
          "26-35",
          "26-35",
          "36-50",
          "26-35",
          "26-35",
          "26-35",
          "19-25",
          "36-50",
          "36-50",
          "19-25",
          "19-25"
         ],
         "xaxis": "x",
         "yaxis": "y"
        },
        {
         "bingroup": "x",
         "hovertemplate": "theme=Duplo<br>age_groups=%{x}<br>count=%{y}<extra></extra>",
         "legendgroup": "Duplo",
         "marker": {
          "color": "#FFA15A",
          "pattern": {
           "shape": ""
          }
         },
         "name": "Duplo",
         "orientation": "v",
         "showlegend": true,
         "type": "histogram",
         "x": [
          "36-50",
          "19-25",
          "19-25",
          "36-50",
          "26-35",
          "36-50",
          "Over 51",
          "19-25",
          "36-50",
          "19-25",
          "26-35",
          "19-25",
          "36-50",
          "36-50",
          "36-50",
          "19-25",
          "19-25",
          "36-50",
          "26-35",
          "19-25",
          "Over 51",
          "36-50",
          "26-35",
          "Over 51",
          "36-50",
          "Under 18",
          "26-35",
          "Over 51",
          "26-35",
          "19-25",
          "36-50",
          "26-35",
          "Over 51",
          "Under 18",
          "36-50"
         ],
         "xaxis": "x",
         "yaxis": "y"
        },
        {
         "bingroup": "x",
         "hovertemplate": "theme=Star Wars<br>age_groups=%{x}<br>count=%{y}<extra></extra>",
         "legendgroup": "Star Wars",
         "marker": {
          "color": "#19d3f3",
          "pattern": {
           "shape": ""
          }
         },
         "name": "Star Wars",
         "orientation": "v",
         "showlegend": true,
         "type": "histogram",
         "x": [
          "19-25",
          "36-50",
          "26-35",
          "26-35",
          "Over 51",
          "19-25",
          "19-25",
          "36-50",
          "26-35",
          "Over 51",
          "36-50",
          "36-50",
          "36-50",
          "19-25",
          "26-35",
          "26-35",
          "36-50",
          "26-35",
          "26-35",
          "26-35",
          "36-50",
          "36-50",
          "Over 51",
          "Over 51",
          "19-25",
          "26-35",
          "26-35",
          "26-35",
          "26-35",
          "19-25",
          "36-50",
          "36-50",
          "36-50",
          "36-50",
          "Under 18",
          "26-35",
          "19-25",
          "19-25",
          "36-50",
          "36-50",
          "36-50",
          "Over 51",
          "36-50",
          "26-35",
          "Over 51",
          "Over 51",
          "19-25",
          "Over 51",
          "36-50",
          "36-50",
          "36-50",
          "Under 18",
          "Over 51",
          "36-50",
          "36-50",
          "19-25",
          "36-50",
          "36-50",
          "36-50",
          "26-35",
          "26-35",
          "36-50",
          "Over 51",
          "Over 51",
          "26-35",
          "26-35",
          "36-50",
          "19-25",
          "26-35",
          "26-35",
          "Over 51",
          "26-35",
          "26-35",
          "26-35",
          "Under 18"
         ],
         "xaxis": "x",
         "yaxis": "y"
        },
        {
         "bingroup": "x",
         "hovertemplate": "theme=Friends<br>age_groups=%{x}<br>count=%{y}<extra></extra>",
         "legendgroup": "Friends",
         "marker": {
          "color": "#FF6692",
          "pattern": {
           "shape": ""
          }
         },
         "name": "Friends",
         "orientation": "v",
         "showlegend": true,
         "type": "histogram",
         "x": [
          "36-50",
          "26-35",
          "Over 51",
          "36-50",
          "19-25",
          "26-35",
          "19-25",
          "19-25",
          "19-25",
          "19-25",
          "19-25",
          "36-50",
          "26-35",
          "36-50",
          "Over 51",
          "26-35",
          "19-25",
          "36-50",
          "36-50",
          "26-35",
          "19-25",
          "19-25",
          "36-50",
          "Over 51",
          "36-50",
          "19-25",
          "26-35",
          "19-25",
          "36-50",
          "26-35",
          "19-25",
          "36-50",
          "26-35",
          "26-35",
          "19-25",
          "36-50",
          "Over 51",
          "Over 51",
          "26-35",
          "26-35",
          "26-35",
          "36-50"
         ],
         "xaxis": "x",
         "yaxis": "y"
        },
        {
         "bingroup": "x",
         "hovertemplate": "theme=Minecraft<br>age_groups=%{x}<br>count=%{y}<extra></extra>",
         "legendgroup": "Minecraft",
         "marker": {
          "color": "#B6E880",
          "pattern": {
           "shape": ""
          }
         },
         "name": "Minecraft",
         "orientation": "v",
         "showlegend": true,
         "type": "histogram",
         "x": [
          "36-50",
          "19-25",
          "Over 51",
          "26-35",
          "36-50",
          "26-35",
          "36-50",
          "36-50",
          "26-35"
         ],
         "xaxis": "x",
         "yaxis": "y"
        },
        {
         "bingroup": "x",
         "hovertemplate": "theme=Nexo Knights<br>age_groups=%{x}<br>count=%{y}<extra></extra>",
         "legendgroup": "Nexo Knights",
         "marker": {
          "color": "#FF97FF",
          "pattern": {
           "shape": ""
          }
         },
         "name": "Nexo Knights",
         "orientation": "v",
         "showlegend": true,
         "type": "histogram",
         "x": [
          "19-25",
          "36-50",
          "Under 18",
          "26-35",
          "19-25",
          "19-25",
          "36-50",
          "19-25",
          "19-25",
          "36-50",
          "Over 51",
          "26-35",
          "19-25",
          "26-35",
          "36-50",
          "26-35",
          "19-25",
          "36-50",
          "19-25",
          "19-25",
          "36-50",
          "36-50",
          "36-50",
          "26-35",
          "Over 51",
          "26-35",
          "19-25",
          "36-50",
          "36-50",
          "36-50",
          "36-50",
          "36-50",
          "26-35",
          "26-35",
          "19-25",
          "36-50",
          "26-35",
          "26-35",
          "26-35",
          "36-50",
          "26-35",
          "36-50",
          "36-50",
          "36-50",
          "36-50",
          "26-35",
          "26-35",
          "36-50",
          "Over 51",
          "19-25",
          "36-50",
          "19-25",
          "19-25",
          "26-35",
          "Over 51",
          "26-35",
          "26-35",
          "Over 51",
          "19-25",
          "26-35",
          "19-25",
          "19-25",
          "26-35",
          "Under 18"
         ],
         "xaxis": "x",
         "yaxis": "y"
        },
        {
         "bingroup": "x",
         "hovertemplate": "theme=Dimensions<br>age_groups=%{x}<br>count=%{y}<extra></extra>",
         "legendgroup": "Dimensions",
         "marker": {
          "color": "#FECB52",
          "pattern": {
           "shape": ""
          }
         },
         "name": "Dimensions",
         "orientation": "v",
         "showlegend": true,
         "type": "histogram",
         "x": [
          "36-50",
          "26-35",
          "Over 51",
          "36-50",
          "19-25",
          "Under 18",
          "36-50",
          "36-50",
          "36-50",
          "19-25",
          "26-35",
          "36-50",
          "Under 18",
          "Over 51",
          "19-25",
          "36-50",
          "Over 51",
          "26-35"
         ],
         "xaxis": "x",
         "yaxis": "y"
        },
        {
         "bingroup": "x",
         "hovertemplate": "theme=City<br>age_groups=%{x}<br>count=%{y}<extra></extra>",
         "legendgroup": "City",
         "marker": {
          "color": "#636efa",
          "pattern": {
           "shape": ""
          }
         },
         "name": "City",
         "orientation": "v",
         "showlegend": true,
         "type": "histogram",
         "x": [
          "36-50",
          "36-50",
          "36-50",
          "Over 51",
          "36-50",
          "36-50",
          "36-50",
          "19-25",
          "26-35",
          "Over 51",
          "26-35",
          "36-50",
          "26-35",
          "Under 18",
          "26-35",
          "26-35",
          "36-50",
          "36-50",
          "36-50",
          "Under 18",
          "Under 18",
          "19-25",
          "36-50",
          "36-50",
          "36-50",
          "Over 51",
          "26-35",
          "36-50",
          "19-25",
          "36-50",
          "19-25",
          "Under 18",
          "26-35",
          "26-35",
          "26-35",
          "36-50",
          "36-50",
          "Over 51",
          "36-50",
          "36-50",
          "19-25",
          "26-35",
          "26-35",
          "19-25",
          "36-50"
         ],
         "xaxis": "x",
         "yaxis": "y"
        },
        {
         "bingroup": "x",
         "hovertemplate": "theme=Mixels<br>age_groups=%{x}<br>count=%{y}<extra></extra>",
         "legendgroup": "Mixels",
         "marker": {
          "color": "#EF553B",
          "pattern": {
           "shape": ""
          }
         },
         "name": "Mixels",
         "orientation": "v",
         "showlegend": true,
         "type": "histogram",
         "x": [
          "36-50",
          "36-50",
          "36-50",
          "36-50",
          "19-25",
          "26-35",
          "Under 18",
          "Under 18",
          "Under 18",
          "26-35",
          "36-50",
          "36-50",
          "36-50",
          "26-35",
          "19-25",
          "26-35",
          "26-35",
          "36-50",
          "36-50",
          "26-35",
          "36-50",
          "26-35",
          "19-25",
          "19-25",
          "19-25",
          "Over 51",
          "19-25",
          "36-50",
          "36-50",
          "26-35",
          "26-35",
          "26-35",
          "36-50",
          "19-25",
          "Over 51",
          "36-50",
          "36-50",
          "36-50",
          "36-50",
          "36-50",
          "Over 51",
          "26-35",
          "26-35",
          "36-50",
          "36-50",
          "Over 51",
          "36-50",
          "26-35",
          "26-35",
          "19-25",
          "26-35",
          "26-35",
          "19-25",
          "Under 18",
          "26-35"
         ],
         "xaxis": "x",
         "yaxis": "y"
        },
        {
         "bingroup": "x",
         "hovertemplate": "theme=Advanced Models<br>age_groups=%{x}<br>count=%{y}<extra></extra>",
         "legendgroup": "Advanced Models",
         "marker": {
          "color": "#00cc96",
          "pattern": {
           "shape": ""
          }
         },
         "name": "Advanced Models",
         "orientation": "v",
         "showlegend": true,
         "type": "histogram",
         "x": [
          "36-50",
          "19-25",
          "36-50",
          "26-35"
         ],
         "xaxis": "x",
         "yaxis": "y"
        },
        {
         "bingroup": "x",
         "hovertemplate": "theme=Gear<br>age_groups=%{x}<br>count=%{y}<extra></extra>",
         "legendgroup": "Gear",
         "marker": {
          "color": "#ab63fa",
          "pattern": {
           "shape": ""
          }
         },
         "name": "Gear",
         "orientation": "v",
         "showlegend": true,
         "type": "histogram",
         "x": [
          "36-50",
          "36-50",
          "36-50",
          "36-50",
          "26-35",
          "19-25",
          "26-35",
          "26-35",
          "26-35",
          "36-50",
          "36-50",
          "Over 51",
          "Over 51",
          "Over 51",
          "Over 51",
          "19-25",
          "26-35",
          "26-35",
          "26-35",
          "26-35",
          "26-35",
          "26-35",
          "36-50",
          "36-50",
          "36-50",
          "36-50",
          "36-50",
          "Over 51",
          "36-50",
          "36-50",
          "19-25",
          "36-50",
          "36-50",
          "26-35",
          "26-35",
          "36-50",
          "36-50",
          "19-25",
          "26-35",
          "36-50",
          "36-50",
          "36-50",
          "Under 18",
          "26-35",
          "19-25",
          "36-50",
          "26-35",
          "Over 51",
          "Over 51",
          "26-35",
          "36-50",
          "26-35",
          "26-35",
          "Under 18",
          "26-35"
         ],
         "xaxis": "x",
         "yaxis": "y"
        },
        {
         "bingroup": "x",
         "hovertemplate": "theme=Elves<br>age_groups=%{x}<br>count=%{y}<extra></extra>",
         "legendgroup": "Elves",
         "marker": {
          "color": "#FFA15A",
          "pattern": {
           "shape": ""
          }
         },
         "name": "Elves",
         "orientation": "v",
         "showlegend": true,
         "type": "histogram",
         "x": [
          "26-35",
          "19-25",
          "36-50",
          "19-25",
          "36-50",
          "26-35",
          "Under 18",
          "19-25",
          "19-25",
          "19-25",
          "36-50",
          "19-25",
          "19-25",
          "36-50",
          "36-50",
          "19-25",
          "26-35",
          "26-35",
          "36-50",
          "26-35",
          "36-50",
          "26-35"
         ],
         "xaxis": "x",
         "yaxis": "y"
        },
        {
         "bingroup": "x",
         "hovertemplate": "theme=Bionicle<br>age_groups=%{x}<br>count=%{y}<extra></extra>",
         "legendgroup": "Bionicle",
         "marker": {
          "color": "#19d3f3",
          "pattern": {
           "shape": ""
          }
         },
         "name": "Bionicle",
         "orientation": "v",
         "showlegend": true,
         "type": "histogram",
         "x": [
          "36-50",
          "19-25",
          "36-50",
          "19-25",
          "26-35",
          "26-35",
          "26-35",
          "26-35",
          "36-50",
          "36-50",
          "36-50",
          "19-25",
          "19-25",
          "Under 18",
          "36-50",
          "19-25",
          "26-35",
          "Over 51",
          "26-35",
          "36-50",
          "19-25",
          "Under 18",
          "26-35",
          "26-35",
          "Under 18",
          "36-50",
          "19-25",
          "19-25",
          "26-35",
          "36-50",
          "36-50",
          "26-35",
          "26-35",
          "19-25"
         ],
         "xaxis": "x",
         "yaxis": "y"
        },
        {
         "bingroup": "x",
         "hovertemplate": "theme=The Angry Birds Movie<br>age_groups=%{x}<br>count=%{y}<extra></extra>",
         "legendgroup": "The Angry Birds Movie",
         "marker": {
          "color": "#FF6692",
          "pattern": {
           "shape": ""
          }
         },
         "name": "The Angry Birds Movie",
         "orientation": "v",
         "showlegend": true,
         "type": "histogram",
         "x": [
          "26-35",
          "19-25",
          "26-35",
          "19-25",
          "36-50",
          "19-25",
          "26-35",
          "36-50",
          "26-35",
          "36-50",
          "36-50"
         ],
         "xaxis": "x",
         "yaxis": "y"
        },
        {
         "bingroup": "x",
         "hovertemplate": "theme=Disney Princess<br>age_groups=%{x}<br>count=%{y}<extra></extra>",
         "legendgroup": "Disney Princess",
         "marker": {
          "color": "#B6E880",
          "pattern": {
           "shape": ""
          }
         },
         "name": "Disney Princess",
         "orientation": "v",
         "showlegend": true,
         "type": "histogram",
         "x": [
          "19-25",
          "Under 18",
          "26-35",
          "Over 51",
          "36-50",
          "26-35",
          "26-35",
          "26-35",
          "36-50",
          "36-50",
          "26-35",
          "36-50",
          "19-25",
          "19-25",
          "26-35"
         ],
         "xaxis": "x",
         "yaxis": "y"
        },
        {
         "bingroup": "x",
         "hovertemplate": "theme=Marvel Super Heroes<br>age_groups=%{x}<br>count=%{y}<extra></extra>",
         "legendgroup": "Marvel Super Heroes",
         "marker": {
          "color": "#FF97FF",
          "pattern": {
           "shape": ""
          }
         },
         "name": "Marvel Super Heroes",
         "orientation": "v",
         "showlegend": true,
         "type": "histogram",
         "x": [
          "19-25",
          "26-35",
          "36-50",
          "36-50",
          "19-25",
          "Over 51",
          "26-35",
          "19-25",
          "36-50",
          "26-35",
          "36-50",
          "36-50",
          "36-50",
          "36-50",
          "19-25",
          "Under 18",
          "26-35",
          "26-35",
          "19-25"
         ],
         "xaxis": "x",
         "yaxis": "y"
        },
        {
         "bingroup": "x",
         "hovertemplate": "theme=Ghostbusters<br>age_groups=%{x}<br>count=%{y}<extra></extra>",
         "legendgroup": "Ghostbusters",
         "marker": {
          "color": "#FECB52",
          "pattern": {
           "shape": ""
          }
         },
         "name": "Ghostbusters",
         "orientation": "v",
         "showlegend": true,
         "type": "histogram",
         "x": [
          "19-25",
          "26-35",
          "36-50"
         ],
         "xaxis": "x",
         "yaxis": "y"
        },
        {
         "bingroup": "x",
         "hovertemplate": "theme=Technic<br>age_groups=%{x}<br>count=%{y}<extra></extra>",
         "legendgroup": "Technic",
         "marker": {
          "color": "#636efa",
          "pattern": {
           "shape": ""
          }
         },
         "name": "Technic",
         "orientation": "v",
         "showlegend": true,
         "type": "histogram",
         "x": [
          "36-50",
          "26-35",
          "36-50",
          "26-35",
          "36-50",
          "26-35",
          "19-25",
          "36-50",
          "36-50",
          "Over 51"
         ],
         "xaxis": "x",
         "yaxis": "y"
        },
        {
         "bingroup": "x",
         "hovertemplate": "theme=Seasonal<br>age_groups=%{x}<br>count=%{y}<extra></extra>",
         "legendgroup": "Seasonal",
         "marker": {
          "color": "#EF553B",
          "pattern": {
           "shape": ""
          }
         },
         "name": "Seasonal",
         "orientation": "v",
         "showlegend": true,
         "type": "histogram",
         "x": [
          "26-35",
          "Under 18",
          "26-35"
         ],
         "xaxis": "x",
         "yaxis": "y"
        },
        {
         "bingroup": "x",
         "hovertemplate": "theme=Collectable Minifigures<br>age_groups=%{x}<br>count=%{y}<extra></extra>",
         "legendgroup": "Collectable Minifigures",
         "marker": {
          "color": "#00cc96",
          "pattern": {
           "shape": ""
          }
         },
         "name": "Collectable Minifigures",
         "orientation": "v",
         "showlegend": true,
         "type": "histogram",
         "x": [
          "26-35",
          "19-25",
          "Over 51"
         ],
         "xaxis": "x",
         "yaxis": "y"
        },
        {
         "bingroup": "x",
         "hovertemplate": "theme=Ideas<br>age_groups=%{x}<br>count=%{y}<extra></extra>",
         "legendgroup": "Ideas",
         "marker": {
          "color": "#ab63fa",
          "pattern": {
           "shape": ""
          }
         },
         "name": "Ideas",
         "orientation": "v",
         "showlegend": true,
         "type": "histogram",
         "x": [
          "26-35",
          "19-25"
         ],
         "xaxis": "x",
         "yaxis": "y"
        },
        {
         "bingroup": "x",
         "hovertemplate": "theme=Classic<br>age_groups=%{x}<br>count=%{y}<extra></extra>",
         "legendgroup": "Classic",
         "marker": {
          "color": "#FFA15A",
          "pattern": {
           "shape": ""
          }
         },
         "name": "Classic",
         "orientation": "v",
         "showlegend": true,
         "type": "histogram",
         "x": [
          "36-50"
         ],
         "xaxis": "x",
         "yaxis": "y"
        }
       ],
       "layout": {
        "autosize": false,
        "barmode": "relative",
        "height": 1000,
        "legend": {
         "title": {
          "text": "Admitted"
         },
         "tracegroupgap": 0
        },
        "margin": {
         "t": 60
        },
        "template": {
         "data": {
          "bar": [
           {
            "error_x": {
             "color": "#2a3f5f"
            },
            "error_y": {
             "color": "#2a3f5f"
            },
            "marker": {
             "line": {
              "color": "white",
              "width": 0.5
             },
             "pattern": {
              "fillmode": "overlay",
              "size": 10,
              "solidity": 0.2
             }
            },
            "type": "bar"
           }
          ],
          "barpolar": [
           {
            "marker": {
             "line": {
              "color": "white",
              "width": 0.5
             },
             "pattern": {
              "fillmode": "overlay",
              "size": 10,
              "solidity": 0.2
             }
            },
            "type": "barpolar"
           }
          ],
          "carpet": [
           {
            "aaxis": {
             "endlinecolor": "#2a3f5f",
             "gridcolor": "#C8D4E3",
             "linecolor": "#C8D4E3",
             "minorgridcolor": "#C8D4E3",
             "startlinecolor": "#2a3f5f"
            },
            "baxis": {
             "endlinecolor": "#2a3f5f",
             "gridcolor": "#C8D4E3",
             "linecolor": "#C8D4E3",
             "minorgridcolor": "#C8D4E3",
             "startlinecolor": "#2a3f5f"
            },
            "type": "carpet"
           }
          ],
          "choropleth": [
           {
            "colorbar": {
             "outlinewidth": 0,
             "ticks": ""
            },
            "type": "choropleth"
           }
          ],
          "contour": [
           {
            "colorbar": {
             "outlinewidth": 0,
             "ticks": ""
            },
            "colorscale": [
             [
              0,
              "#0d0887"
             ],
             [
              0.1111111111111111,
              "#46039f"
             ],
             [
              0.2222222222222222,
              "#7201a8"
             ],
             [
              0.3333333333333333,
              "#9c179e"
             ],
             [
              0.4444444444444444,
              "#bd3786"
             ],
             [
              0.5555555555555556,
              "#d8576b"
             ],
             [
              0.6666666666666666,
              "#ed7953"
             ],
             [
              0.7777777777777778,
              "#fb9f3a"
             ],
             [
              0.8888888888888888,
              "#fdca26"
             ],
             [
              1,
              "#f0f921"
             ]
            ],
            "type": "contour"
           }
          ],
          "contourcarpet": [
           {
            "colorbar": {
             "outlinewidth": 0,
             "ticks": ""
            },
            "type": "contourcarpet"
           }
          ],
          "heatmap": [
           {
            "colorbar": {
             "outlinewidth": 0,
             "ticks": ""
            },
            "colorscale": [
             [
              0,
              "#0d0887"
             ],
             [
              0.1111111111111111,
              "#46039f"
             ],
             [
              0.2222222222222222,
              "#7201a8"
             ],
             [
              0.3333333333333333,
              "#9c179e"
             ],
             [
              0.4444444444444444,
              "#bd3786"
             ],
             [
              0.5555555555555556,
              "#d8576b"
             ],
             [
              0.6666666666666666,
              "#ed7953"
             ],
             [
              0.7777777777777778,
              "#fb9f3a"
             ],
             [
              0.8888888888888888,
              "#fdca26"
             ],
             [
              1,
              "#f0f921"
             ]
            ],
            "type": "heatmap"
           }
          ],
          "histogram": [
           {
            "marker": {
             "pattern": {
              "fillmode": "overlay",
              "size": 10,
              "solidity": 0.2
             }
            },
            "type": "histogram"
           }
          ],
          "histogram2d": [
           {
            "colorbar": {
             "outlinewidth": 0,
             "ticks": ""
            },
            "colorscale": [
             [
              0,
              "#0d0887"
             ],
             [
              0.1111111111111111,
              "#46039f"
             ],
             [
              0.2222222222222222,
              "#7201a8"
             ],
             [
              0.3333333333333333,
              "#9c179e"
             ],
             [
              0.4444444444444444,
              "#bd3786"
             ],
             [
              0.5555555555555556,
              "#d8576b"
             ],
             [
              0.6666666666666666,
              "#ed7953"
             ],
             [
              0.7777777777777778,
              "#fb9f3a"
             ],
             [
              0.8888888888888888,
              "#fdca26"
             ],
             [
              1,
              "#f0f921"
             ]
            ],
            "type": "histogram2d"
           }
          ],
          "histogram2dcontour": [
           {
            "colorbar": {
             "outlinewidth": 0,
             "ticks": ""
            },
            "colorscale": [
             [
              0,
              "#0d0887"
             ],
             [
              0.1111111111111111,
              "#46039f"
             ],
             [
              0.2222222222222222,
              "#7201a8"
             ],
             [
              0.3333333333333333,
              "#9c179e"
             ],
             [
              0.4444444444444444,
              "#bd3786"
             ],
             [
              0.5555555555555556,
              "#d8576b"
             ],
             [
              0.6666666666666666,
              "#ed7953"
             ],
             [
              0.7777777777777778,
              "#fb9f3a"
             ],
             [
              0.8888888888888888,
              "#fdca26"
             ],
             [
              1,
              "#f0f921"
             ]
            ],
            "type": "histogram2dcontour"
           }
          ],
          "mesh3d": [
           {
            "colorbar": {
             "outlinewidth": 0,
             "ticks": ""
            },
            "type": "mesh3d"
           }
          ],
          "parcoords": [
           {
            "line": {
             "colorbar": {
              "outlinewidth": 0,
              "ticks": ""
             }
            },
            "type": "parcoords"
           }
          ],
          "pie": [
           {
            "automargin": true,
            "type": "pie"
           }
          ],
          "scatter": [
           {
            "fillpattern": {
             "fillmode": "overlay",
             "size": 10,
             "solidity": 0.2
            },
            "type": "scatter"
           }
          ],
          "scatter3d": [
           {
            "line": {
             "colorbar": {
              "outlinewidth": 0,
              "ticks": ""
             }
            },
            "marker": {
             "colorbar": {
              "outlinewidth": 0,
              "ticks": ""
             }
            },
            "type": "scatter3d"
           }
          ],
          "scattercarpet": [
           {
            "marker": {
             "colorbar": {
              "outlinewidth": 0,
              "ticks": ""
             }
            },
            "type": "scattercarpet"
           }
          ],
          "scattergeo": [
           {
            "marker": {
             "colorbar": {
              "outlinewidth": 0,
              "ticks": ""
             }
            },
            "type": "scattergeo"
           }
          ],
          "scattergl": [
           {
            "marker": {
             "colorbar": {
              "outlinewidth": 0,
              "ticks": ""
             }
            },
            "type": "scattergl"
           }
          ],
          "scattermap": [
           {
            "marker": {
             "colorbar": {
              "outlinewidth": 0,
              "ticks": ""
             }
            },
            "type": "scattermap"
           }
          ],
          "scattermapbox": [
           {
            "marker": {
             "colorbar": {
              "outlinewidth": 0,
              "ticks": ""
             }
            },
            "type": "scattermapbox"
           }
          ],
          "scatterpolar": [
           {
            "marker": {
             "colorbar": {
              "outlinewidth": 0,
              "ticks": ""
             }
            },
            "type": "scatterpolar"
           }
          ],
          "scatterpolargl": [
           {
            "marker": {
             "colorbar": {
              "outlinewidth": 0,
              "ticks": ""
             }
            },
            "type": "scatterpolargl"
           }
          ],
          "scatterternary": [
           {
            "marker": {
             "colorbar": {
              "outlinewidth": 0,
              "ticks": ""
             }
            },
            "type": "scatterternary"
           }
          ],
          "surface": [
           {
            "colorbar": {
             "outlinewidth": 0,
             "ticks": ""
            },
            "colorscale": [
             [
              0,
              "#0d0887"
             ],
             [
              0.1111111111111111,
              "#46039f"
             ],
             [
              0.2222222222222222,
              "#7201a8"
             ],
             [
              0.3333333333333333,
              "#9c179e"
             ],
             [
              0.4444444444444444,
              "#bd3786"
             ],
             [
              0.5555555555555556,
              "#d8576b"
             ],
             [
              0.6666666666666666,
              "#ed7953"
             ],
             [
              0.7777777777777778,
              "#fb9f3a"
             ],
             [
              0.8888888888888888,
              "#fdca26"
             ],
             [
              1,
              "#f0f921"
             ]
            ],
            "type": "surface"
           }
          ],
          "table": [
           {
            "cells": {
             "fill": {
              "color": "#EBF0F8"
             },
             "line": {
              "color": "white"
             }
            },
            "header": {
             "fill": {
              "color": "#C8D4E3"
             },
             "line": {
              "color": "white"
             }
            },
            "type": "table"
           }
          ]
         },
         "layout": {
          "annotationdefaults": {
           "arrowcolor": "#2a3f5f",
           "arrowhead": 0,
           "arrowwidth": 1
          },
          "autotypenumbers": "strict",
          "coloraxis": {
           "colorbar": {
            "outlinewidth": 0,
            "ticks": ""
           }
          },
          "colorscale": {
           "diverging": [
            [
             0,
             "#8e0152"
            ],
            [
             0.1,
             "#c51b7d"
            ],
            [
             0.2,
             "#de77ae"
            ],
            [
             0.3,
             "#f1b6da"
            ],
            [
             0.4,
             "#fde0ef"
            ],
            [
             0.5,
             "#f7f7f7"
            ],
            [
             0.6,
             "#e6f5d0"
            ],
            [
             0.7,
             "#b8e186"
            ],
            [
             0.8,
             "#7fbc41"
            ],
            [
             0.9,
             "#4d9221"
            ],
            [
             1,
             "#276419"
            ]
           ],
           "sequential": [
            [
             0,
             "#0d0887"
            ],
            [
             0.1111111111111111,
             "#46039f"
            ],
            [
             0.2222222222222222,
             "#7201a8"
            ],
            [
             0.3333333333333333,
             "#9c179e"
            ],
            [
             0.4444444444444444,
             "#bd3786"
            ],
            [
             0.5555555555555556,
             "#d8576b"
            ],
            [
             0.6666666666666666,
             "#ed7953"
            ],
            [
             0.7777777777777778,
             "#fb9f3a"
            ],
            [
             0.8888888888888888,
             "#fdca26"
            ],
            [
             1,
             "#f0f921"
            ]
           ],
           "sequentialminus": [
            [
             0,
             "#0d0887"
            ],
            [
             0.1111111111111111,
             "#46039f"
            ],
            [
             0.2222222222222222,
             "#7201a8"
            ],
            [
             0.3333333333333333,
             "#9c179e"
            ],
            [
             0.4444444444444444,
             "#bd3786"
            ],
            [
             0.5555555555555556,
             "#d8576b"
            ],
            [
             0.6666666666666666,
             "#ed7953"
            ],
            [
             0.7777777777777778,
             "#fb9f3a"
            ],
            [
             0.8888888888888888,
             "#fdca26"
            ],
            [
             1,
             "#f0f921"
            ]
           ]
          },
          "colorway": [
           "#636efa",
           "#EF553B",
           "#00cc96",
           "#ab63fa",
           "#FFA15A",
           "#19d3f3",
           "#FF6692",
           "#B6E880",
           "#FF97FF",
           "#FECB52"
          ],
          "font": {
           "color": "#2a3f5f"
          },
          "geo": {
           "bgcolor": "white",
           "lakecolor": "white",
           "landcolor": "white",
           "showlakes": true,
           "showland": true,
           "subunitcolor": "#C8D4E3"
          },
          "hoverlabel": {
           "align": "left"
          },
          "hovermode": "closest",
          "mapbox": {
           "style": "light"
          },
          "paper_bgcolor": "white",
          "plot_bgcolor": "white",
          "polar": {
           "angularaxis": {
            "gridcolor": "#EBF0F8",
            "linecolor": "#EBF0F8",
            "ticks": ""
           },
           "bgcolor": "white",
           "radialaxis": {
            "gridcolor": "#EBF0F8",
            "linecolor": "#EBF0F8",
            "ticks": ""
           }
          },
          "scene": {
           "xaxis": {
            "backgroundcolor": "white",
            "gridcolor": "#DFE8F3",
            "gridwidth": 2,
            "linecolor": "#EBF0F8",
            "showbackground": true,
            "ticks": "",
            "zerolinecolor": "#EBF0F8"
           },
           "yaxis": {
            "backgroundcolor": "white",
            "gridcolor": "#DFE8F3",
            "gridwidth": 2,
            "linecolor": "#EBF0F8",
            "showbackground": true,
            "ticks": "",
            "zerolinecolor": "#EBF0F8"
           },
           "zaxis": {
            "backgroundcolor": "white",
            "gridcolor": "#DFE8F3",
            "gridwidth": 2,
            "linecolor": "#EBF0F8",
            "showbackground": true,
            "ticks": "",
            "zerolinecolor": "#EBF0F8"
           }
          },
          "shapedefaults": {
           "line": {
            "color": "#2a3f5f"
           }
          },
          "ternary": {
           "aaxis": {
            "gridcolor": "#DFE8F3",
            "linecolor": "#A2B1C6",
            "ticks": ""
           },
           "baxis": {
            "gridcolor": "#DFE8F3",
            "linecolor": "#A2B1C6",
            "ticks": ""
           },
           "bgcolor": "white",
           "caxis": {
            "gridcolor": "#DFE8F3",
            "linecolor": "#A2B1C6",
            "ticks": ""
           }
          },
          "title": {
           "x": 0.05
          },
          "xaxis": {
           "automargin": true,
           "gridcolor": "#EBF0F8",
           "linecolor": "#EBF0F8",
           "ticks": "",
           "title": {
            "standoff": 15
           },
           "zerolinecolor": "#EBF0F8",
           "zerolinewidth": 2
          },
          "yaxis": {
           "automargin": true,
           "gridcolor": "#EBF0F8",
           "linecolor": "#EBF0F8",
           "ticks": "",
           "title": {
            "standoff": 15
           },
           "zerolinecolor": "#EBF0F8",
           "zerolinewidth": 2
          }
         }
        },
        "title": {
         "text": "What themes do each age group get",
         "x": 0.5
        },
        "width": 800,
        "xaxis": {
         "anchor": "y",
         "domain": [
          0,
          1
         ],
         "title": {
          "text": ""
         }
        },
        "yaxis": {
         "anchor": "x",
         "domain": [
          0,
          1
         ],
         "title": {
          "text": "Gender"
         }
        }
       }
      },
      "image/png": "[encoded data removed]"
     },
     "metadata": {},
     "output_type": "display_data"
    }
   ],
   "source": [
    "fig = px.histogram(DF,\n",
    "                   x ='age_groups',\n",
    "                    color = 'theme')\n",
    "fig.update_layout(title='What themes do each age group get',\n",
    "                  title_x=0.5,\n",
    "                  template=\"plotly_white\",\n",
    "                  xaxis_title=\"\",\n",
    "                  yaxis_title=\"Gender\",\n",
    "                  legend_title='Admitted',\n",
    "                  autosize=False,\n",
    "                  width=800,\n",
    "                  height=1000)\n",
    "fig.show()"
   ]
  },
  {
   "cell_type": "markdown",
   "id": "97ce4284-c698-44bc-b9e2-4e8d2988bbaa",
   "metadata": {},
   "source": [
    "## Essay Response\n",
    "\n",
    "Give a brief report on what you are reading and what you have learned so far. If you chose your own articles please insert a link to the articles. If you chose a book, please give the book title and author.\n",
    "\n",
    "1. What drew you to the book/articles\n",
    "2. What have you learned so far.\n",
    "\n",
    "eg. In the first chapter of the book the author talks about..... or My first article discusses..... or I disagree with what the author is saying so far.... or I really like what I am learning about because...."
   ]
  },
  {
   "cell_type": "code",
   "execution_count": null,
   "id": "fa0e691a-8fa9-4e9e-b9cd-5c86881aa29a",
   "metadata": {},
   "outputs": [],
   "source": []
  }
 ],
 "metadata": {
  "kernelspec": {
   "display_name": "Python [conda env:base] *",
   "language": "python",
   "name": "conda-base-py"
  },
  "language_info": {
   "codemirror_mode": {
    "name": "ipython",
    "version": 3
   },
   "file_extension": ".py",
   "mimetype": "text/x-python",
   "name": "python",
   "nbconvert_exporter": "python",
   "pygments_lexer": "ipython3",
   "version": "3.13.5"
  }
 },
 "nbformat": 4,
 "nbformat_minor": 5
}
